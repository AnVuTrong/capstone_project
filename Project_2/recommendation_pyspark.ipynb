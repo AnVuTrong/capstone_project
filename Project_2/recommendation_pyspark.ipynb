{
 "cells": [
  {
   "cell_type": "code",
   "id": "initial_id",
   "metadata": {
    "collapsed": true,
    "ExecuteTime": {
     "end_time": "2024-05-31T08:44:59.342443Z",
     "start_time": "2024-05-31T08:44:59.338547Z"
    }
   },
   "source": [
    "from pyspark import SparkContext, SparkConf\n",
    "from pyspark.sql import SparkSession"
   ],
   "execution_count": 11,
   "outputs": []
  },
  {
   "metadata": {
    "ExecuteTime": {
     "end_time": "2024-05-31T08:44:59.354830Z",
     "start_time": "2024-05-31T08:44:59.345355Z"
    }
   },
   "cell_type": "code",
   "source": [
    "from modules.data_preprocessing import DataPreprocessing\n",
    "from modules.models import ProcessModels\n",
    "from modules.recommendation import Recommendation"
   ],
   "id": "73776151931d6461",
   "execution_count": 12,
   "outputs": []
  },
  {
   "metadata": {
    "ExecuteTime": {
     "end_time": "2024-05-31T08:44:59.429978Z",
     "start_time": "2024-05-31T08:44:59.356547Z"
    }
   },
   "cell_type": "code",
   "source": [
    "SparkContext.setSystemProperty('spark.hadoop.dfs.client.use.datanode.hostname', 'true')\n",
    "conf = (\n",
    "\tSparkConf()\n",
    "\t.setAppName(\"recommendation_app\")\n",
    "\t.set(\"spark.driver.maxResultSize\", \"2g\")\n",
    "\t.set(\"spark.executor.memory\", \"4g\")\n",
    ")\n",
    "sc = SparkContext(conf=conf)\n",
    "spark = SparkSession.builder.config(conf=conf).getOrCreate()"
   ],
   "id": "23bfbb3ebb7cb29e",
   "execution_count": 13,
   "outputs": []
  },
  {
   "metadata": {
    "ExecuteTime": {
     "end_time": "2024-05-31T08:44:59.434809Z",
     "start_time": "2024-05-31T08:44:59.431020Z"
    }
   },
   "cell_type": "code",
   "source": "sc",
   "id": "9f532185b460de9d",
   "execution_count": 14,
   "outputs": []
  },
  {
   "metadata": {
    "ExecuteTime": {
     "end_time": "2024-05-31T08:44:59.443249Z",
     "start_time": "2024-05-31T08:44:59.436482Z"
    }
   },
   "cell_type": "code",
   "source": "spark",
   "id": "ea70ff77b89f1013",
   "execution_count": 15,
   "outputs": []
  },
  {
   "metadata": {
    "ExecuteTime": {
     "end_time": "2024-05-31T08:44:59.455073Z",
     "start_time": "2024-05-31T08:44:59.444049Z"
    }
   },
   "cell_type": "code",
   "source": [
    "# Set checkpoint directory\n",
    "sc.setCheckpointDir(\"checkpoints\")"
   ],
   "id": "b948399fba563405",
   "execution_count": 16,
   "outputs": []
  },
  {
   "metadata": {
    "ExecuteTime": {
     "end_time": "2024-05-31T08:44:59.471696Z",
     "start_time": "2024-05-31T08:44:59.456437Z"
    }
   },
   "cell_type": "code",
   "source": [
    "recommendation = Recommendation(\n",
    "    process_model_module=ProcessModels(DataPreprocessing(), spark=spark),\n",
    ")"
   ],
   "id": "3e4def5d1aa1808b",
   "execution_count": 17,
   "outputs": []
  },
  {
   "metadata": {
    "ExecuteTime": {
     "end_time": "2024-05-31T08:45:00.256813Z",
     "start_time": "2024-05-31T08:44:59.472916Z"
    }
   },
   "cell_type": "code",
   "source": [
    "# Get all unique ReviewerIDs and corresponding ReviewerNames\n",
    "user_ids = DataPreprocessing().get_all_user_ids()\n",
    "user_ids"
   ],
   "id": "cbe2ab76ee810dd5",
   "execution_count": 18,
   "outputs": []
  },
  {
   "metadata": {
    "ExecuteTime": {
     "end_time": "2024-05-31T08:47:15.840957Z",
     "start_time": "2024-05-31T08:45:00.257767Z"
    }
   },
   "cell_type": "code",
   "source": [
    "# Train the model\n",
    "recommendation.pyspark_recommender(\n",
    "    current_user_id=None,  # Not needed for training\n",
    "    num_recommendations=None,  # Not needed for training\n",
    "    mode='training',\n",
    "    model_save_path=\"saved_model/als_model\",\n",
    ")"
   ],
   "id": "c89851996d6e7915",
   "execution_count": 19,
   "outputs": []
  },
  {
   "metadata": {
    "ExecuteTime": {
     "end_time": "2024-05-31T08:47:29.367007Z",
     "start_time": "2024-05-31T08:47:15.842033Z"
    }
   },
   "cell_type": "code",
   "source": [
    "# Predict using the trained model\n",
    "recommendations, user_history = recommendation.pyspark_recommender(\n",
    "    current_user_id='13d4a80599cf4c4f8f4c3b511e25a4d9',  # By pooja s\n",
    "    num_recommendations=10,\n",
    "    mode='predict',\n",
    "    model_save_path=\"saved_model/als_model\"\n",
    ")"
   ],
   "id": "2bfd1c028889ddb1",
   "execution_count": 20,
   "outputs": []
  },
  {
   "metadata": {
    "ExecuteTime": {
     "end_time": "2024-05-31T08:47:29.379343Z",
     "start_time": "2024-05-31T08:47:29.368656Z"
    }
   },
   "cell_type": "code",
   "source": "recommendations",
   "id": "432c887459bd4a59",
   "execution_count": 21,
   "outputs": []
  },
  {
   "metadata": {
    "ExecuteTime": {
     "end_time": "2024-05-31T08:47:29.390339Z",
     "start_time": "2024-05-31T08:47:29.381133Z"
    }
   },
   "cell_type": "code",
   "source": "user_history",
   "id": "93c4e8d590be4d0a",
   "execution_count": 22,
   "outputs": []
  },
  {
   "metadata": {},
   "cell_type": "markdown",
   "source": [
    "## COMMENTS:\n",
    "- About this user, Pooja: She’s a beginner and interested in beginner courses. Topics include Python, basic statistics, and Excel.\n",
    "- The recommendations are mixed with beginner and intermediate courses. The intermediate courses are not suitable for her but show on other users' recommendations as well. Perhaps, the model is biased towards these intermediate courses for some reason. This could be due to the lack of data or the model's hyperparameters.\n",
    "- The recommendations are still strong and relevant to the user's interests. For example, courses that are related to Python, basic statistics, and Excel are still recommended. Such as \"Prompt Engineering for ChatGPT\", \"What is Data Science?\", \"Foundations: Data, Data, Everywhere\", \"What is Data Science?\""
   ],
   "id": "e6d46a1457ad8964"
  },
  {
   "metadata": {
    "ExecuteTime": {
     "end_time": "2024-05-31T08:47:41.451549Z",
     "start_time": "2024-05-31T08:47:29.391501Z"
    }
   },
   "cell_type": "code",
   "source": [
    "# Predict using the trained model\n",
    "recommendations, user_history = recommendation.pyspark_recommender(\n",
    "    current_user_id='03223df4cd824c43b765115fa2b822e7',  # By Mark L\n",
    "    num_recommendations=10,\n",
    "    mode='predict',\n",
    "    model_save_path=\"saved_model/als_model\"\n",
    ")"
   ],
   "id": "b2d61da81b09c037",
   "execution_count": 23,
   "outputs": []
  },
  {
   "metadata": {
    "ExecuteTime": {
     "end_time": "2024-05-31T08:47:41.458790Z",
     "start_time": "2024-05-31T08:47:41.452467Z"
    }
   },
   "cell_type": "code",
   "source": "recommendations",
   "id": "d97a5c90e3bcd7d1",
   "execution_count": 24,
   "outputs": []
  },
  {
   "metadata": {
    "ExecuteTime": {
     "end_time": "2024-05-31T08:47:41.471360Z",
     "start_time": "2024-05-31T08:47:41.459817Z"
    }
   },
   "cell_type": "code",
   "source": "user_history",
   "id": "5c961b4542745dd0",
   "execution_count": 25,
   "outputs": []
  },
  {
   "metadata": {},
   "cell_type": "markdown",
   "source": [
    "## COMMENTS:\n",
    "- About this user, Mark: He's interested in beginner courses, Deep Learning, Machine learning and AI for medical care or Excel.\n",
    "- The recommendations are firmly relevant to the user's interests. For example, courses that are related medical field are recommended. Such as:\n",
    "    - \"Reverse and complement nucleic acid sequences (DNA, RNA) using Python\"\n",
    "    - \"Advanced Clinical Data Science\""
   ],
   "id": "3a598f057f63271f"
  },
  {
   "metadata": {
    "ExecuteTime": {
     "end_time": "2024-05-31T08:47:43.033167Z",
     "start_time": "2024-05-31T08:47:41.472384Z"
    }
   },
   "cell_type": "code",
   "source": [
    "sc.stop()\n",
    "spark.stop()"
   ],
   "id": "85bdfccd830b73d1",
   "execution_count": 26,
   "outputs": []
  }
 ],
 "metadata": {
  "kernelspec": {
   "display_name": "Python 3",
   "language": "python",
   "name": "python3"
  },
  "language_info": {
   "codemirror_mode": {
    "name": "ipython",
    "version": 2
   },
   "file_extension": ".py",
   "mimetype": "text/x-python",
   "name": "python",
   "nbconvert_exporter": "python",
   "pygments_lexer": "ipython2",
   "version": "2.7.6"
  }
 },
 "nbformat": 4,
 "nbformat_minor": 5
}
