{
 "cells": [
  {
   "cell_type": "code",
   "id": "initial_id",
   "metadata": {
    "collapsed": true,
    "ExecuteTime": {
     "end_time": "2024-05-29T16:36:26.554458Z",
     "start_time": "2024-05-29T16:36:26.315920Z"
    }
   },
   "source": "import pandas as pd",
   "execution_count": 1,
   "outputs": []
  },
  {
   "metadata": {
    "ExecuteTime": {
     "end_time": "2024-05-29T16:36:27.246467Z",
     "start_time": "2024-05-29T16:36:26.555815Z"
    }
   },
   "cell_type": "code",
   "source": [
    "df_courses = pd.read_csv('../data/courses.csv')\n",
    "df_reviews = pd.read_csv('../data/reviews.csv')"
   ],
   "id": "5e2d68a06e344eba",
   "execution_count": 2,
   "outputs": []
  },
  {
   "metadata": {
    "ExecuteTime": {
     "end_time": "2024-05-29T16:36:27.257013Z",
     "start_time": "2024-05-29T16:36:27.247678Z"
    }
   },
   "cell_type": "code",
   "source": "df_courses",
   "id": "446409f497a4377c",
   "execution_count": 3,
   "outputs": []
  },
  {
   "metadata": {
    "ExecuteTime": {
     "end_time": "2024-05-29T16:36:27.261547Z",
     "start_time": "2024-05-29T16:36:27.258316Z"
    }
   },
   "cell_type": "code",
   "source": "df_courses.columns",
   "id": "a517af9298d86c7",
   "execution_count": 4,
   "outputs": []
  },
  {
   "metadata": {
    "ExecuteTime": {
     "end_time": "2024-05-29T16:36:27.266368Z",
     "start_time": "2024-05-29T16:36:27.262429Z"
    }
   },
   "cell_type": "code",
   "source": "df_reviews.columns",
   "id": "6fd67ced611d7a84",
   "execution_count": 5,
   "outputs": []
  },
  {
   "metadata": {
    "ExecuteTime": {
     "end_time": "2024-05-29T16:36:27.273240Z",
     "start_time": "2024-05-29T16:36:27.267333Z"
    }
   },
   "cell_type": "code",
   "source": "df_reviews",
   "id": "4066e731a18eabda",
   "execution_count": 6,
   "outputs": []
  },
  {
   "metadata": {
    "ExecuteTime": {
     "end_time": "2024-05-29T16:36:27.276368Z",
     "start_time": "2024-05-29T16:36:27.274093Z"
    }
   },
   "cell_type": "code",
   "source": [
    "print(df_courses.shape)\n",
    "print(df_reviews.shape)"
   ],
   "id": "bcac93fa9326de5",
   "execution_count": 7,
   "outputs": []
  },
  {
   "metadata": {
    "ExecuteTime": {
     "end_time": "2024-05-29T16:36:27.282801Z",
     "start_time": "2024-05-29T16:36:27.277182Z"
    }
   },
   "cell_type": "code",
   "source": "df_courses.info()",
   "id": "ac66e695e3886787",
   "execution_count": 8,
   "outputs": []
  },
  {
   "metadata": {
    "ExecuteTime": {
     "end_time": "2024-05-29T16:36:27.322841Z",
     "start_time": "2024-05-29T16:36:27.283873Z"
    }
   },
   "cell_type": "code",
   "source": "df_reviews.info()",
   "id": "9f7c7b40569aa289",
   "execution_count": 9,
   "outputs": []
  },
  {
   "metadata": {
    "ExecuteTime": {
     "end_time": "2024-05-29T16:36:27.332086Z",
     "start_time": "2024-05-29T16:36:27.324247Z"
    }
   },
   "cell_type": "code",
   "source": "df_courses.describe()",
   "id": "9aae3107f64f9b13",
   "execution_count": 10,
   "outputs": []
  },
  {
   "metadata": {
    "ExecuteTime": {
     "end_time": "2024-05-29T16:36:27.341934Z",
     "start_time": "2024-05-29T16:36:27.333106Z"
    }
   },
   "cell_type": "code",
   "source": "df_reviews.describe()",
   "id": "210a574f6829a1e0",
   "execution_count": 11,
   "outputs": []
  },
  {
   "metadata": {
    "ExecuteTime": {
     "end_time": "2024-05-29T16:36:27.346757Z",
     "start_time": "2024-05-29T16:36:27.342944Z"
    }
   },
   "cell_type": "code",
   "source": "df_courses.isnull().sum()",
   "id": "42f61904d0f671e4",
   "execution_count": 12,
   "outputs": []
  },
  {
   "metadata": {
    "ExecuteTime": {
     "end_time": "2024-05-29T16:36:27.378741Z",
     "start_time": "2024-05-29T16:36:27.347645Z"
    }
   },
   "cell_type": "code",
   "source": "df_reviews.isnull().sum()",
   "id": "4a02bf29ae41b7d9",
   "execution_count": 13,
   "outputs": []
  },
  {
   "metadata": {
    "ExecuteTime": {
     "end_time": "2024-05-29T16:36:27.384720Z",
     "start_time": "2024-05-29T16:36:27.379782Z"
    }
   },
   "cell_type": "code",
   "source": "df_courses.nunique()",
   "id": "216757fbe7e66b35",
   "execution_count": 14,
   "outputs": []
  },
  {
   "metadata": {
    "ExecuteTime": {
     "end_time": "2024-05-29T16:36:27.488651Z",
     "start_time": "2024-05-29T16:36:27.386018Z"
    }
   },
   "cell_type": "code",
   "source": "df_reviews.nunique()",
   "id": "4086e104217b23fb",
   "execution_count": 15,
   "outputs": []
  }
 ],
 "metadata": {
  "kernelspec": {
   "display_name": "Python 3",
   "language": "python",
   "name": "python3"
  },
  "language_info": {
   "codemirror_mode": {
    "name": "ipython",
    "version": 2
   },
   "file_extension": ".py",
   "mimetype": "text/x-python",
   "name": "python",
   "nbconvert_exporter": "python",
   "pygments_lexer": "ipython2",
   "version": "2.7.6"
  }
 },
 "nbformat": 4,
 "nbformat_minor": 5
}
