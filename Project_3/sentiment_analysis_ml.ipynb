{
 "cells": [
  {
   "metadata": {},
   "cell_type": "markdown",
   "source": [
    "---\n",
    "### Traditional Machine Learning\n",
    "We will build and train multiple machine learning models using scikit-learn and pyspark to test, which is the best. We will use the following models:\n",
    "- Logistic Regression\n",
    "- Naive Bayes\n",
    "- XGBoost\n",
    "- Support Vector Machine\n",
    "- Gradient boosting\n",
    "- Ada Boost"
   ],
   "id": "54cebcf879126d3f"
  },
  {
   "metadata": {
    "ExecuteTime": {
     "end_time": "2024-06-08T20:07:22.646894Z",
     "start_time": "2024-06-08T20:07:21.688365Z"
    }
   },
   "cell_type": "code",
   "source": [
    "import torch\n",
    "\n",
    "def get_default_device():\n",
    "    \"\"\"Pick GPU if available, else CPU\"\"\"\n",
    "    if torch.cuda.is_available():\n",
    "        print(f'Using device: {torch.cuda.get_device_name(0)}')\n",
    "        return torch.device('cuda')\n",
    "    elif torch.backends.mps.is_available():\n",
    "        print('Using device: Apple ARM GPU')\n",
    "        return torch.device('mps')\n",
    "    else:\n",
    "        print('Using device: CPU')\n",
    "        return torch.device('cpu')\n",
    "    \n",
    "# Set the device\n",
    "device = get_default_device()\n",
    "print(f'Using device: {device}')"
   ],
   "id": "cb1db9c68d0ad564",
   "outputs": [
    {
     "name": "stdout",
     "output_type": "stream",
     "text": [
      "Using device: NVIDIA GeForce RTX 3060\n",
      "Using device: cuda\n"
     ]
    }
   ],
   "execution_count": 1
  },
  {
   "metadata": {
    "ExecuteTime": {
     "end_time": "2024-06-08T20:07:24.059894Z",
     "start_time": "2024-06-08T20:07:22.648242Z"
    }
   },
   "cell_type": "code",
   "source": [
    "from modules.data_preprocessing import DataPreprocessing\n",
    "from modules.sentiment_analysis import SentimentAnalysis"
   ],
   "id": "9864003d607b5dd",
   "outputs": [
    {
     "name": "stderr",
     "output_type": "stream",
     "text": [
      "Intel(R) Extension for Scikit-learn* enabled (https://github.com/intel/scikit-learn-intelex)\n",
      "Intel(R) Extension for Scikit-learn* enabled (https://github.com/intel/scikit-learn-intelex)\n"
     ]
    }
   ],
   "execution_count": 2
  },
  {
   "metadata": {},
   "cell_type": "markdown",
   "source": [
    "---\n",
    "\n",
    "## Data Preprocessing\n",
    "\n",
    "---"
   ],
   "id": "aafbecfc7a8a54ea"
  },
  {
   "cell_type": "code",
   "id": "initial_id",
   "metadata": {
    "collapsed": true,
    "ExecuteTime": {
     "end_time": "2024-06-08T20:07:24.270399Z",
     "start_time": "2024-06-08T20:07:24.061615Z"
    }
   },
   "source": [
    "data_preprocessing = DataPreprocessing(\n",
    "\tdata_path_1='data/1_Restaurants.csv',\n",
    "\tdata_path_2='data/2_Reviews.csv',\n",
    "\tpreprocessed_data_path='data/preprocessed_data.csv',\n",
    "\tready_data_path='data/ready_data.csv'\n",
    ")"
   ],
   "outputs": [],
   "execution_count": 3
  },
  {
   "metadata": {
    "ExecuteTime": {
     "end_time": "2024-06-08T20:07:24.810565Z",
     "start_time": "2024-06-08T20:07:24.271507Z"
    }
   },
   "cell_type": "code",
   "source": "df = data_preprocessing.data_preparation()",
   "id": "5f2a7ef38282c446",
   "outputs": [],
   "execution_count": 4
  },
  {
   "metadata": {
    "ExecuteTime": {
     "end_time": "2024-06-08T20:07:24.818746Z",
     "start_time": "2024-06-08T20:07:24.811496Z"
    }
   },
   "cell_type": "code",
   "source": [
    "# Pandas save to csv produce NaN values, so we will remove them\n",
    "df = df[df['Comment'].notna()]"
   ],
   "id": "178c4635abf3b906",
   "outputs": [],
   "execution_count": 5
  },
  {
   "metadata": {
    "ExecuteTime": {
     "end_time": "2024-06-08T20:07:24.829998Z",
     "start_time": "2024-06-08T20:07:24.819650Z"
    }
   },
   "cell_type": "code",
   "source": "df.isnull().sum()",
   "id": "934f83139d8afc34",
   "outputs": [
    {
     "data": {
      "text/plain": [
       "ID                  0\n",
       "User                0\n",
       "ReviewTime          0\n",
       "Rating              0\n",
       "Comment             0\n",
       "IDRestaurant        0\n",
       "Restaurant          0\n",
       "Address             0\n",
       "OpeningTime     17970\n",
       "District            0\n",
       "ReviewCount         0\n",
       "ClosingTime     17970\n",
       "MaxPrice            0\n",
       "MinPrice            0\n",
       "dtype: int64"
      ]
     },
     "execution_count": 6,
     "metadata": {},
     "output_type": "execute_result"
    }
   ],
   "execution_count": 6
  },
  {
   "metadata": {
    "ExecuteTime": {
     "end_time": "2024-06-08T20:07:24.841830Z",
     "start_time": "2024-06-08T20:07:24.830987Z"
    }
   },
   "cell_type": "code",
   "source": "df",
   "id": "d7557a67edf8d452",
   "outputs": [
    {
     "data": {
      "text/plain": [
       "          ID           User           ReviewTime  Rating  \\\n",
       "0          1        PHAN LE  2023-12-20 21:13:00     5.2   \n",
       "1          2           Thúy  2023-09-25 15:43:00     5.0   \n",
       "2          3    Quyên Quyên  2023-06-24 11:11:00     5.0   \n",
       "3          4    Phương Thảo  2022-12-22 14:58:00     1.0   \n",
       "4          5   Quỳnh Nguyễn  2022-09-23 22:40:00     4.2   \n",
       "...      ...            ...                  ...     ...   \n",
       "28649  29955     Trannuhamy  2020-10-26 12:16:00     7.0   \n",
       "28650  29956         Phương  2021-06-01 15:34:00    10.0   \n",
       "28651  29957             Tú  2021-01-31 14:29:00     3.4   \n",
       "28652  29958  Hoàng Hậu Mai  2020-10-27 18:06:00     7.6   \n",
       "28653  29959      ThoA Thai  2021-10-19 16:27:00    10.0   \n",
       "\n",
       "                                                 Comment  IDRestaurant  \\\n",
       "0                     gà chiên còn sống tanh khủng_khiếp             1   \n",
       "1                                  đã ăn_quả rồi ăn_ok ạ             1   \n",
       "2                                            đã thử ngon             1   \n",
       "3      tệ mua mang về cho 1 gói tương_ớt xin thêm khô...             1   \n",
       "4      21 h302 đứa nhỏ kêu đói sau 1 hồi bình_loạn ch...             1   \n",
       "...                                                  ...           ...   \n",
       "28649  đặt bún_thái này trong chương_trình của coca t...          1595   \n",
       "28650  bánh ngon nóng giao hàng nhanh giá phải_chăng ...          1609   \n",
       "28651  phục_vụ tệ pizza_xúc xích gấp đôi phô mái khôn...          1609   \n",
       "28652  đang thèm gà rán thì lướt trúng ngày kết_hợp g...          1609   \n",
       "28653  đây bún_chả ngon nhất sài_gòn mình từng ăn mắm...          1612   \n",
       "\n",
       "                                              Restaurant  \\\n",
       "0                      Gà Rán & Burger McDonald's Đa Kao   \n",
       "1                      Gà Rán & Burger McDonald's Đa Kao   \n",
       "2                      Gà Rán & Burger McDonald's Đa Kao   \n",
       "3                      Gà Rán & Burger McDonald's Đa Kao   \n",
       "4                      Gà Rán & Burger McDonald's Đa Kao   \n",
       "...                                                  ...   \n",
       "28649       Tiên Tiên - Bún Thái Cay - Tân Chánh Hiệp 16   \n",
       "28650  3 Râu - Gà Rán, Pizza & Trà Sữa - 107 Nguyễn V...   \n",
       "28651  3 Râu - Gà Rán, Pizza & Trà Sữa - 107 Nguyễn V...   \n",
       "28652  3 Râu - Gà Rán, Pizza & Trà Sữa - 107 Nguyễn V...   \n",
       "28653            Đàm Trang - Bún Chả - Tân Chánh Hiệp 10   \n",
       "\n",
       "                                                 Address OpeningTime District  \\\n",
       "0               2 - 6 Bis Điện Biên Phủ, Quận 1, TP. HCM       00:00   Quận 1   \n",
       "1               2 - 6 Bis Điện Biên Phủ, Quận 1, TP. HCM       00:00   Quận 1   \n",
       "2               2 - 6 Bis Điện Biên Phủ, Quận 1, TP. HCM       00:00   Quận 1   \n",
       "3               2 - 6 Bis Điện Biên Phủ, Quận 1, TP. HCM       00:00   Quận 1   \n",
       "4               2 - 6 Bis Điện Biên Phủ, Quận 1, TP. HCM       00:00   Quận 1   \n",
       "...                                                  ...         ...      ...   \n",
       "28649  52/4A Tân Chánh Hiệp 16, P. Tân Chánh Hiệp (Đầ...       06:00  Quận 12   \n",
       "28650  107 Nguyễn Văn Quá, P. Đông Hưng Thuận, Quận 1...       09:00  Quận 12   \n",
       "28651  107 Nguyễn Văn Quá, P. Đông Hưng Thuận, Quận 1...       09:00  Quận 12   \n",
       "28652  107 Nguyễn Văn Quá, P. Đông Hưng Thuận, Quận 1...       09:00  Quận 12   \n",
       "28653  27 Tân Chánh Hiệp 10, P. Tân Chánh Hiệp, Quận ...         NaN  Quận 12   \n",
       "\n",
       "       ReviewCount ClosingTime  MaxPrice  MinPrice  \n",
       "0              100       23:59  200000.0   50000.0  \n",
       "1              100       23:59  200000.0   50000.0  \n",
       "2              100       23:59  200000.0   50000.0  \n",
       "3              100       23:59  200000.0   50000.0  \n",
       "4              100       23:59  200000.0   50000.0  \n",
       "...            ...         ...       ...       ...  \n",
       "28649            1       23:30  200000.0   25000.0  \n",
       "28650            3       23:59  120000.0   12000.0  \n",
       "28651            3       23:59  120000.0   12000.0  \n",
       "28652            3       23:59  120000.0   12000.0  \n",
       "28653            1         NaN       0.0       0.0  \n",
       "\n",
       "[28654 rows x 14 columns]"
      ],
      "text/html": [
       "<div>\n",
       "<style scoped>\n",
       "    .dataframe tbody tr th:only-of-type {\n",
       "        vertical-align: middle;\n",
       "    }\n",
       "\n",
       "    .dataframe tbody tr th {\n",
       "        vertical-align: top;\n",
       "    }\n",
       "\n",
       "    .dataframe thead th {\n",
       "        text-align: right;\n",
       "    }\n",
       "</style>\n",
       "<table border=\"1\" class=\"dataframe\">\n",
       "  <thead>\n",
       "    <tr style=\"text-align: right;\">\n",
       "      <th></th>\n",
       "      <th>ID</th>\n",
       "      <th>User</th>\n",
       "      <th>ReviewTime</th>\n",
       "      <th>Rating</th>\n",
       "      <th>Comment</th>\n",
       "      <th>IDRestaurant</th>\n",
       "      <th>Restaurant</th>\n",
       "      <th>Address</th>\n",
       "      <th>OpeningTime</th>\n",
       "      <th>District</th>\n",
       "      <th>ReviewCount</th>\n",
       "      <th>ClosingTime</th>\n",
       "      <th>MaxPrice</th>\n",
       "      <th>MinPrice</th>\n",
       "    </tr>\n",
       "  </thead>\n",
       "  <tbody>\n",
       "    <tr>\n",
       "      <th>0</th>\n",
       "      <td>1</td>\n",
       "      <td>PHAN LE</td>\n",
       "      <td>2023-12-20 21:13:00</td>\n",
       "      <td>5.2</td>\n",
       "      <td>gà chiên còn sống tanh khủng_khiếp</td>\n",
       "      <td>1</td>\n",
       "      <td>Gà Rán &amp; Burger McDonald's Đa Kao</td>\n",
       "      <td>2 - 6 Bis Điện Biên Phủ, Quận 1, TP. HCM</td>\n",
       "      <td>00:00</td>\n",
       "      <td>Quận 1</td>\n",
       "      <td>100</td>\n",
       "      <td>23:59</td>\n",
       "      <td>200000.0</td>\n",
       "      <td>50000.0</td>\n",
       "    </tr>\n",
       "    <tr>\n",
       "      <th>1</th>\n",
       "      <td>2</td>\n",
       "      <td>Thúy</td>\n",
       "      <td>2023-09-25 15:43:00</td>\n",
       "      <td>5.0</td>\n",
       "      <td>đã ăn_quả rồi ăn_ok ạ</td>\n",
       "      <td>1</td>\n",
       "      <td>Gà Rán &amp; Burger McDonald's Đa Kao</td>\n",
       "      <td>2 - 6 Bis Điện Biên Phủ, Quận 1, TP. HCM</td>\n",
       "      <td>00:00</td>\n",
       "      <td>Quận 1</td>\n",
       "      <td>100</td>\n",
       "      <td>23:59</td>\n",
       "      <td>200000.0</td>\n",
       "      <td>50000.0</td>\n",
       "    </tr>\n",
       "    <tr>\n",
       "      <th>2</th>\n",
       "      <td>3</td>\n",
       "      <td>Quyên Quyên</td>\n",
       "      <td>2023-06-24 11:11:00</td>\n",
       "      <td>5.0</td>\n",
       "      <td>đã thử ngon</td>\n",
       "      <td>1</td>\n",
       "      <td>Gà Rán &amp; Burger McDonald's Đa Kao</td>\n",
       "      <td>2 - 6 Bis Điện Biên Phủ, Quận 1, TP. HCM</td>\n",
       "      <td>00:00</td>\n",
       "      <td>Quận 1</td>\n",
       "      <td>100</td>\n",
       "      <td>23:59</td>\n",
       "      <td>200000.0</td>\n",
       "      <td>50000.0</td>\n",
       "    </tr>\n",
       "    <tr>\n",
       "      <th>3</th>\n",
       "      <td>4</td>\n",
       "      <td>Phương Thảo</td>\n",
       "      <td>2022-12-22 14:58:00</td>\n",
       "      <td>1.0</td>\n",
       "      <td>tệ mua mang về cho 1 gói tương_ớt xin thêm khô...</td>\n",
       "      <td>1</td>\n",
       "      <td>Gà Rán &amp; Burger McDonald's Đa Kao</td>\n",
       "      <td>2 - 6 Bis Điện Biên Phủ, Quận 1, TP. HCM</td>\n",
       "      <td>00:00</td>\n",
       "      <td>Quận 1</td>\n",
       "      <td>100</td>\n",
       "      <td>23:59</td>\n",
       "      <td>200000.0</td>\n",
       "      <td>50000.0</td>\n",
       "    </tr>\n",
       "    <tr>\n",
       "      <th>4</th>\n",
       "      <td>5</td>\n",
       "      <td>Quỳnh Nguyễn</td>\n",
       "      <td>2022-09-23 22:40:00</td>\n",
       "      <td>4.2</td>\n",
       "      <td>21 h302 đứa nhỏ kêu đói sau 1 hồi bình_loạn ch...</td>\n",
       "      <td>1</td>\n",
       "      <td>Gà Rán &amp; Burger McDonald's Đa Kao</td>\n",
       "      <td>2 - 6 Bis Điện Biên Phủ, Quận 1, TP. HCM</td>\n",
       "      <td>00:00</td>\n",
       "      <td>Quận 1</td>\n",
       "      <td>100</td>\n",
       "      <td>23:59</td>\n",
       "      <td>200000.0</td>\n",
       "      <td>50000.0</td>\n",
       "    </tr>\n",
       "    <tr>\n",
       "      <th>...</th>\n",
       "      <td>...</td>\n",
       "      <td>...</td>\n",
       "      <td>...</td>\n",
       "      <td>...</td>\n",
       "      <td>...</td>\n",
       "      <td>...</td>\n",
       "      <td>...</td>\n",
       "      <td>...</td>\n",
       "      <td>...</td>\n",
       "      <td>...</td>\n",
       "      <td>...</td>\n",
       "      <td>...</td>\n",
       "      <td>...</td>\n",
       "      <td>...</td>\n",
       "    </tr>\n",
       "    <tr>\n",
       "      <th>28649</th>\n",
       "      <td>29955</td>\n",
       "      <td>Trannuhamy</td>\n",
       "      <td>2020-10-26 12:16:00</td>\n",
       "      <td>7.0</td>\n",
       "      <td>đặt bún_thái này trong chương_trình của coca t...</td>\n",
       "      <td>1595</td>\n",
       "      <td>Tiên Tiên - Bún Thái Cay - Tân Chánh Hiệp 16</td>\n",
       "      <td>52/4A Tân Chánh Hiệp 16, P. Tân Chánh Hiệp (Đầ...</td>\n",
       "      <td>06:00</td>\n",
       "      <td>Quận 12</td>\n",
       "      <td>1</td>\n",
       "      <td>23:30</td>\n",
       "      <td>200000.0</td>\n",
       "      <td>25000.0</td>\n",
       "    </tr>\n",
       "    <tr>\n",
       "      <th>28650</th>\n",
       "      <td>29956</td>\n",
       "      <td>Phương</td>\n",
       "      <td>2021-06-01 15:34:00</td>\n",
       "      <td>10.0</td>\n",
       "      <td>bánh ngon nóng giao hàng nhanh giá phải_chăng ...</td>\n",
       "      <td>1609</td>\n",
       "      <td>3 Râu - Gà Rán, Pizza &amp; Trà Sữa - 107 Nguyễn V...</td>\n",
       "      <td>107 Nguyễn Văn Quá, P. Đông Hưng Thuận, Quận 1...</td>\n",
       "      <td>09:00</td>\n",
       "      <td>Quận 12</td>\n",
       "      <td>3</td>\n",
       "      <td>23:59</td>\n",
       "      <td>120000.0</td>\n",
       "      <td>12000.0</td>\n",
       "    </tr>\n",
       "    <tr>\n",
       "      <th>28651</th>\n",
       "      <td>29957</td>\n",
       "      <td>Tú</td>\n",
       "      <td>2021-01-31 14:29:00</td>\n",
       "      <td>3.4</td>\n",
       "      <td>phục_vụ tệ pizza_xúc xích gấp đôi phô mái khôn...</td>\n",
       "      <td>1609</td>\n",
       "      <td>3 Râu - Gà Rán, Pizza &amp; Trà Sữa - 107 Nguyễn V...</td>\n",
       "      <td>107 Nguyễn Văn Quá, P. Đông Hưng Thuận, Quận 1...</td>\n",
       "      <td>09:00</td>\n",
       "      <td>Quận 12</td>\n",
       "      <td>3</td>\n",
       "      <td>23:59</td>\n",
       "      <td>120000.0</td>\n",
       "      <td>12000.0</td>\n",
       "    </tr>\n",
       "    <tr>\n",
       "      <th>28652</th>\n",
       "      <td>29958</td>\n",
       "      <td>Hoàng Hậu Mai</td>\n",
       "      <td>2020-10-27 18:06:00</td>\n",
       "      <td>7.6</td>\n",
       "      <td>đang thèm gà rán thì lướt trúng ngày kết_hợp g...</td>\n",
       "      <td>1609</td>\n",
       "      <td>3 Râu - Gà Rán, Pizza &amp; Trà Sữa - 107 Nguyễn V...</td>\n",
       "      <td>107 Nguyễn Văn Quá, P. Đông Hưng Thuận, Quận 1...</td>\n",
       "      <td>09:00</td>\n",
       "      <td>Quận 12</td>\n",
       "      <td>3</td>\n",
       "      <td>23:59</td>\n",
       "      <td>120000.0</td>\n",
       "      <td>12000.0</td>\n",
       "    </tr>\n",
       "    <tr>\n",
       "      <th>28653</th>\n",
       "      <td>29959</td>\n",
       "      <td>ThoA Thai</td>\n",
       "      <td>2021-10-19 16:27:00</td>\n",
       "      <td>10.0</td>\n",
       "      <td>đây bún_chả ngon nhất sài_gòn mình từng ăn mắm...</td>\n",
       "      <td>1612</td>\n",
       "      <td>Đàm Trang - Bún Chả - Tân Chánh Hiệp 10</td>\n",
       "      <td>27 Tân Chánh Hiệp 10, P. Tân Chánh Hiệp, Quận ...</td>\n",
       "      <td>NaN</td>\n",
       "      <td>Quận 12</td>\n",
       "      <td>1</td>\n",
       "      <td>NaN</td>\n",
       "      <td>0.0</td>\n",
       "      <td>0.0</td>\n",
       "    </tr>\n",
       "  </tbody>\n",
       "</table>\n",
       "<p>28654 rows × 14 columns</p>\n",
       "</div>"
      ]
     },
     "execution_count": 7,
     "metadata": {},
     "output_type": "execute_result"
    }
   ],
   "execution_count": 7
  },
  {
   "metadata": {},
   "cell_type": "markdown",
   "source": [
    "---\n",
    "\n",
    "## Traditional Machine Learning\n",
    "\n",
    "---"
   ],
   "id": "6c156aa9b58867b1"
  },
  {
   "metadata": {
    "ExecuteTime": {
     "end_time": "2024-06-08T20:07:24.899111Z",
     "start_time": "2024-06-08T20:07:24.842690Z"
    }
   },
   "cell_type": "code",
   "source": "sentiment_analysis = SentimentAnalysis()",
   "id": "7d3bf1de0b23229e",
   "outputs": [],
   "execution_count": 8
  },
  {
   "metadata": {
    "ExecuteTime": {
     "end_time": "2024-06-08T20:07:31.034346Z",
     "start_time": "2024-06-08T20:07:24.899901Z"
    }
   },
   "cell_type": "code",
   "source": [
    "traditional_ml_report = sentiment_analysis.train_traditional_ml(df)\n",
    "traditional_ml_report"
   ],
   "id": "ff96666709595623",
   "outputs": [
    {
     "name": "stderr",
     "output_type": "stream",
     "text": [
      "100%|██████████| 28654/28654 [00:00<00:00, 2566818.74it/s]\n",
      " 17%|█▋        | 1/6 [00:00<00:00,  9.74it/s]"
     ]
    },
    {
     "name": "stdout",
     "output_type": "stream",
     "text": [
      "Model logistic_regression already trained. Loading...\n",
      "Model naive_bayes already trained. Loading...\n"
     ]
    },
    {
     "name": "stderr",
     "output_type": "stream",
     "text": [
      " 50%|█████     | 3/6 [00:00<00:00,  7.71it/s]"
     ]
    },
    {
     "name": "stdout",
     "output_type": "stream",
     "text": [
      "Model xgboost already trained. Loading...\n",
      "Model svm already trained. Loading...\n"
     ]
    },
    {
     "name": "stderr",
     "output_type": "stream",
     "text": [
      " 83%|████████▎ | 5/6 [00:01<00:00,  2.35it/s]"
     ]
    },
    {
     "name": "stdout",
     "output_type": "stream",
     "text": [
      "Model gradient_boosting already trained. Loading...\n",
      "Model ada_boost already trained. Loading...\n"
     ]
    },
    {
     "name": "stderr",
     "output_type": "stream",
     "text": [
      "100%|██████████| 6/6 [00:01<00:00,  3.08it/s]\n"
     ]
    },
    {
     "data": {
      "text/plain": [
       "                 model  accuracy  precision    recall  f1_score  \\\n",
       "0  logistic_regression  0.603385   0.618440  0.603385  0.591845   \n",
       "1          naive_bayes  0.655034   0.663282  0.655034  0.651356   \n",
       "2              xgboost  0.664980   0.664053  0.664980  0.663871   \n",
       "3                  svm  0.687489   0.687518  0.687489  0.687454   \n",
       "4    gradient_boosting  0.636189   0.636517  0.636189  0.634386   \n",
       "5            ada_boost  0.600244   0.601280  0.600244  0.595754   \n",
       "\n",
       "                                    confusion_matrix  \\\n",
       "0  [[738, 41, 107], [475, 1024, 976], [184, 490, ...   \n",
       "1  [[759, 115, 12], [275, 1703, 497], [120, 958, ...   \n",
       "2  [[667, 160, 59], [215, 1493, 767], [71, 648, 1...   \n",
       "3  [[685, 162, 39], [151, 1600, 724], [38, 677, 1...   \n",
       "4  [[662, 129, 95], [260, 1396, 819], [125, 657, ...   \n",
       "5  [[669, 137, 80], [316, 1205, 954], [157, 647, ...   \n",
       "\n",
       "                               classification_report  \n",
       "0  {'0': {'precision': 0.5282748747315676, 'recal...  \n",
       "1  {'0': {'precision': 0.6577123050259965, 'recal...  \n",
       "2  {'0': {'precision': 0.6998950682056663, 'recal...  \n",
       "3  {'0': {'precision': 0.7837528604118993, 'recal...  \n",
       "4  {'0': {'precision': 0.6322827125119389, 'recal...  \n",
       "5  {'0': {'precision': 0.5858143607705779, 'recal...  "
      ],
      "text/html": [
       "<div>\n",
       "<style scoped>\n",
       "    .dataframe tbody tr th:only-of-type {\n",
       "        vertical-align: middle;\n",
       "    }\n",
       "\n",
       "    .dataframe tbody tr th {\n",
       "        vertical-align: top;\n",
       "    }\n",
       "\n",
       "    .dataframe thead th {\n",
       "        text-align: right;\n",
       "    }\n",
       "</style>\n",
       "<table border=\"1\" class=\"dataframe\">\n",
       "  <thead>\n",
       "    <tr style=\"text-align: right;\">\n",
       "      <th></th>\n",
       "      <th>model</th>\n",
       "      <th>accuracy</th>\n",
       "      <th>precision</th>\n",
       "      <th>recall</th>\n",
       "      <th>f1_score</th>\n",
       "      <th>confusion_matrix</th>\n",
       "      <th>classification_report</th>\n",
       "    </tr>\n",
       "  </thead>\n",
       "  <tbody>\n",
       "    <tr>\n",
       "      <th>0</th>\n",
       "      <td>logistic_regression</td>\n",
       "      <td>0.603385</td>\n",
       "      <td>0.618440</td>\n",
       "      <td>0.603385</td>\n",
       "      <td>0.591845</td>\n",
       "      <td>[[738, 41, 107], [475, 1024, 976], [184, 490, ...</td>\n",
       "      <td>{'0': {'precision': 0.5282748747315676, 'recal...</td>\n",
       "    </tr>\n",
       "    <tr>\n",
       "      <th>1</th>\n",
       "      <td>naive_bayes</td>\n",
       "      <td>0.655034</td>\n",
       "      <td>0.663282</td>\n",
       "      <td>0.655034</td>\n",
       "      <td>0.651356</td>\n",
       "      <td>[[759, 115, 12], [275, 1703, 497], [120, 958, ...</td>\n",
       "      <td>{'0': {'precision': 0.6577123050259965, 'recal...</td>\n",
       "    </tr>\n",
       "    <tr>\n",
       "      <th>2</th>\n",
       "      <td>xgboost</td>\n",
       "      <td>0.664980</td>\n",
       "      <td>0.664053</td>\n",
       "      <td>0.664980</td>\n",
       "      <td>0.663871</td>\n",
       "      <td>[[667, 160, 59], [215, 1493, 767], [71, 648, 1...</td>\n",
       "      <td>{'0': {'precision': 0.6998950682056663, 'recal...</td>\n",
       "    </tr>\n",
       "    <tr>\n",
       "      <th>3</th>\n",
       "      <td>svm</td>\n",
       "      <td>0.687489</td>\n",
       "      <td>0.687518</td>\n",
       "      <td>0.687489</td>\n",
       "      <td>0.687454</td>\n",
       "      <td>[[685, 162, 39], [151, 1600, 724], [38, 677, 1...</td>\n",
       "      <td>{'0': {'precision': 0.7837528604118993, 'recal...</td>\n",
       "    </tr>\n",
       "    <tr>\n",
       "      <th>4</th>\n",
       "      <td>gradient_boosting</td>\n",
       "      <td>0.636189</td>\n",
       "      <td>0.636517</td>\n",
       "      <td>0.636189</td>\n",
       "      <td>0.634386</td>\n",
       "      <td>[[662, 129, 95], [260, 1396, 819], [125, 657, ...</td>\n",
       "      <td>{'0': {'precision': 0.6322827125119389, 'recal...</td>\n",
       "    </tr>\n",
       "    <tr>\n",
       "      <th>5</th>\n",
       "      <td>ada_boost</td>\n",
       "      <td>0.600244</td>\n",
       "      <td>0.601280</td>\n",
       "      <td>0.600244</td>\n",
       "      <td>0.595754</td>\n",
       "      <td>[[669, 137, 80], [316, 1205, 954], [157, 647, ...</td>\n",
       "      <td>{'0': {'precision': 0.5858143607705779, 'recal...</td>\n",
       "    </tr>\n",
       "  </tbody>\n",
       "</table>\n",
       "</div>"
      ]
     },
     "execution_count": 9,
     "metadata": {},
     "output_type": "execute_result"
    }
   ],
   "execution_count": 9
  },
  {
   "metadata": {
    "ExecuteTime": {
     "end_time": "2024-06-08T20:07:31.038131Z",
     "start_time": "2024-06-08T20:07:31.035726Z"
    }
   },
   "cell_type": "code",
   "source": "cm = traditional_ml_report[traditional_ml_report['model'] == 'logistic_regression']['confusion_matrix'].values[0]",
   "id": "25c7856761c76de3",
   "outputs": [],
   "execution_count": 10
  },
  {
   "metadata": {
    "ExecuteTime": {
     "end_time": "2024-06-08T20:07:31.664343Z",
     "start_time": "2024-06-08T20:07:31.039010Z"
    }
   },
   "cell_type": "code",
   "source": [
    "models = traditional_ml_report['model'].unique()\n",
    "\n",
    "for model in models:\n",
    "    cm = traditional_ml_report[traditional_ml_report['model'] == model]['confusion_matrix'].values[0]\n",
    "    sentiment_analysis.plot_confusion_matrix(cm, model)"
   ],
   "id": "cb7d305d1202932b",
   "outputs": [
    {
     "data": {
      "text/plain": [
       "<Figure size 1000x700 with 2 Axes>"
      ],
      "image/png": "[encoded data removed]"
     },
     "metadata": {},
     "output_type": "display_data"
    },
    {
     "data": {
      "text/plain": [
       "<Figure size 1000x700 with 2 Axes>"
      ],
      "image/png": "[encoded data removed]"
     },
     "metadata": {},
     "output_type": "display_data"
    },
    {
     "data": {
      "text/plain": [
       "<Figure size 1000x700 with 2 Axes>"
      ],
      "image/png": "[encoded data removed]"
     },
     "metadata": {},
     "output_type": "display_data"
    },
    {
     "data": {
      "text/plain": [
       "<Figure size 1000x700 with 2 Axes>"
      ],
      "image/png": "[encoded data removed]"
     },
     "metadata": {},
     "output_type": "display_data"
    },
    {
     "data": {
      "text/plain": [
       "<Figure size 1000x700 with 2 Axes>"
      ],
      "image/png": "[encoded data removed]"
     },
     "metadata": {},
     "output_type": "display_data"
    },
    {
     "data": {
      "text/plain": [
       "<Figure size 1000x700 with 2 Axes>"
      ],
      "image/png": "[encoded data removed]"
     },
     "metadata": {},
     "output_type": "display_data"
    }
   ],
   "execution_count": 11
  },
  {
   "metadata": {
    "ExecuteTime": {
     "end_time": "2024-06-08T20:07:32.303231Z",
     "start_time": "2024-06-08T20:07:31.665392Z"
    }
   },
   "cell_type": "code",
   "source": [
    "test = sentiment_analysis.predict_traditional_ml(['Món ăn dở ẹt, đắt nữa mà chán chê, không bao giờ quay lại nữa'])\n",
    "test"
   ],
   "id": "3feeb38405ef2660",
   "outputs": [
    {
     "name": "stdout",
     "output_type": "stream",
     "text": [
      "Replacing English words in the 'Comment' column...\n"
     ]
    },
    {
     "name": "stderr",
     "output_type": "stream",
     "text": [
      "100%|██████████| 1/1 [00:00<00:00, 1848.53it/s]\n"
     ]
    },
    {
     "name": "stdout",
     "output_type": "stream",
     "text": [
      "Replacing emojis in the 'Comment' column...\n"
     ]
    },
    {
     "name": "stderr",
     "output_type": "stream",
     "text": [
      "100%|██████████| 1/1 [00:00<00:00, 3771.86it/s]\n"
     ]
    },
    {
     "name": "stdout",
     "output_type": "stream",
     "text": [
      "Replacing teencode in the 'Comment' column...\n"
     ]
    },
    {
     "name": "stderr",
     "output_type": "stream",
     "text": [
      "100%|██████████| 1/1 [00:00<00:00, 7384.34it/s]\n"
     ]
    },
    {
     "name": "stdout",
     "output_type": "stream",
     "text": [
      "Removing weird characters from the 'Comment' column...\n"
     ]
    },
    {
     "name": "stderr",
     "output_type": "stream",
     "text": [
      "100%|██████████| 1/1 [00:00<00:00, 8612.53it/s]\n"
     ]
    },
    {
     "name": "stdout",
     "output_type": "stream",
     "text": [
      "Correcting wrong words in the 'Comment' column...\n"
     ]
    },
    {
     "name": "stderr",
     "output_type": "stream",
     "text": [
      "  0%|          | 0/1 [00:00<?, ?it/s]/mnt/e/Work/Coding/CSC/10_do_an_tot_nghiep/LDS0_K294_Online_VuTrongAn/Project_3/modules/VietnameseOcrCorrection/tool/predictor.py:39: UserWarning: Creating a tensor from a list of numpy.ndarrays is extremely slow. Please consider converting the list to a single numpy.ndarray with numpy.array() before converting to a tensor. (Triggered internally at ../torch/csrc/utils/tensor_new.cpp:261.)\n",
      "  return torch.LongTensor(src_text).to(self.device)\n",
      "100%|██████████| 1/1 [00:00<00:00,  5.96it/s]\n"
     ]
    },
    {
     "name": "stdout",
     "output_type": "stream",
     "text": [
      "Tokenizing the 'Comment' column...\n"
     ]
    },
    {
     "name": "stderr",
     "output_type": "stream",
     "text": [
      "100%|██████████| 1/1 [00:00<00:00, 10.20it/s]\n"
     ]
    },
    {
     "name": "stdout",
     "output_type": "stream",
     "text": [
      "Removing stopwords from the 'Comment' column...\n"
     ]
    },
    {
     "name": "stderr",
     "output_type": "stream",
     "text": [
      "100%|██████████| 1/1 [00:00<00:00, 4815.50it/s]\n"
     ]
    },
    {
     "name": "stdout",
     "output_type": "stream",
     "text": [
      "Removing punctuation from the 'Comment' column...\n"
     ]
    },
    {
     "name": "stderr",
     "output_type": "stream",
     "text": [
      "100%|██████████| 1/1 [00:00<00:00, 4604.07it/s]\n"
     ]
    },
    {
     "name": "stdout",
     "output_type": "stream",
     "text": [
      "Vietnamese text column handled successfully.\n",
      "['món ăn dở_ẹt đắt nữa chán_chê không bao_giờ quay lại nữa']\n"
     ]
    },
    {
     "name": "stderr",
     "output_type": "stream",
     "text": [
      "100%|██████████| 6/6 [00:00<00:00, 22.72it/s]\n",
      "100%|██████████| 6/6 [00:00<00:00, 63389.98it/s]\n"
     ]
    },
    {
     "data": {
      "text/plain": [
       "                 model prediction\n",
       "0  logistic_regression   negative\n",
       "1          naive_bayes   negative\n",
       "2              xgboost   negative\n",
       "3                  svm    neutral\n",
       "4    gradient_boosting   negative\n",
       "5            ada_boost   negative"
      ],
      "text/html": [
       "<div>\n",
       "<style scoped>\n",
       "    .dataframe tbody tr th:only-of-type {\n",
       "        vertical-align: middle;\n",
       "    }\n",
       "\n",
       "    .dataframe tbody tr th {\n",
       "        vertical-align: top;\n",
       "    }\n",
       "\n",
       "    .dataframe thead th {\n",
       "        text-align: right;\n",
       "    }\n",
       "</style>\n",
       "<table border=\"1\" class=\"dataframe\">\n",
       "  <thead>\n",
       "    <tr style=\"text-align: right;\">\n",
       "      <th></th>\n",
       "      <th>model</th>\n",
       "      <th>prediction</th>\n",
       "    </tr>\n",
       "  </thead>\n",
       "  <tbody>\n",
       "    <tr>\n",
       "      <th>0</th>\n",
       "      <td>logistic_regression</td>\n",
       "      <td>negative</td>\n",
       "    </tr>\n",
       "    <tr>\n",
       "      <th>1</th>\n",
       "      <td>naive_bayes</td>\n",
       "      <td>negative</td>\n",
       "    </tr>\n",
       "    <tr>\n",
       "      <th>2</th>\n",
       "      <td>xgboost</td>\n",
       "      <td>negative</td>\n",
       "    </tr>\n",
       "    <tr>\n",
       "      <th>3</th>\n",
       "      <td>svm</td>\n",
       "      <td>neutral</td>\n",
       "    </tr>\n",
       "    <tr>\n",
       "      <th>4</th>\n",
       "      <td>gradient_boosting</td>\n",
       "      <td>negative</td>\n",
       "    </tr>\n",
       "    <tr>\n",
       "      <th>5</th>\n",
       "      <td>ada_boost</td>\n",
       "      <td>negative</td>\n",
       "    </tr>\n",
       "  </tbody>\n",
       "</table>\n",
       "</div>"
      ]
     },
     "execution_count": 12,
     "metadata": {},
     "output_type": "execute_result"
    }
   ],
   "execution_count": 12
  },
  {
   "metadata": {
    "ExecuteTime": {
     "end_time": "2024-06-08T20:07:32.715442Z",
     "start_time": "2024-06-08T20:07:32.304394Z"
    }
   },
   "cell_type": "code",
   "source": [
    "test = sentiment_analysis.predict_traditional_ml(['Quá ngon, giá cả hợp lý, nhân viên thân thiện, sẽ quay lại'])\n",
    "test"
   ],
   "id": "f929f1efaa29dec8",
   "outputs": [
    {
     "name": "stdout",
     "output_type": "stream",
     "text": [
      "Replacing English words in the 'Comment' column...\n"
     ]
    },
    {
     "name": "stderr",
     "output_type": "stream",
     "text": [
      "100%|██████████| 1/1 [00:00<00:00, 3404.47it/s]\n"
     ]
    },
    {
     "name": "stdout",
     "output_type": "stream",
     "text": [
      "Replacing emojis in the 'Comment' column...\n"
     ]
    },
    {
     "name": "stderr",
     "output_type": "stream",
     "text": [
      "100%|██████████| 1/1 [00:00<00:00, 2968.37it/s]\n"
     ]
    },
    {
     "name": "stdout",
     "output_type": "stream",
     "text": [
      "Replacing teencode in the 'Comment' column...\n"
     ]
    },
    {
     "name": "stderr",
     "output_type": "stream",
     "text": [
      "100%|██████████| 1/1 [00:00<00:00, 8004.40it/s]\n"
     ]
    },
    {
     "name": "stdout",
     "output_type": "stream",
     "text": [
      "Removing weird characters from the 'Comment' column...\n"
     ]
    },
    {
     "name": "stderr",
     "output_type": "stream",
     "text": [
      "100%|██████████| 1/1 [00:00<00:00, 8355.19it/s]\n"
     ]
    },
    {
     "name": "stdout",
     "output_type": "stream",
     "text": [
      "Correcting wrong words in the 'Comment' column...\n"
     ]
    },
    {
     "name": "stderr",
     "output_type": "stream",
     "text": [
      "100%|██████████| 1/1 [00:00<00:00, 11.71it/s]\n"
     ]
    },
    {
     "name": "stdout",
     "output_type": "stream",
     "text": [
      "Tokenizing the 'Comment' column...\n"
     ]
    },
    {
     "name": "stderr",
     "output_type": "stream",
     "text": [
      "100%|██████████| 1/1 [00:00<00:00, 959.79it/s]\n"
     ]
    },
    {
     "name": "stdout",
     "output_type": "stream",
     "text": [
      "Removing stopwords from the 'Comment' column...\n"
     ]
    },
    {
     "name": "stderr",
     "output_type": "stream",
     "text": [
      "100%|██████████| 1/1 [00:00<00:00, 6502.80it/s]\n"
     ]
    },
    {
     "name": "stdout",
     "output_type": "stream",
     "text": [
      "Removing punctuation from the 'Comment' column...\n"
     ]
    },
    {
     "name": "stderr",
     "output_type": "stream",
     "text": [
      "100%|██████████| 1/1 [00:00<00:00, 5426.01it/s]\n"
     ]
    },
    {
     "name": "stdout",
     "output_type": "stream",
     "text": [
      "Vietnamese text column handled successfully.\n",
      "['ngon giá_cả hợp_lý nhân_viên thân_thiện sẽ quay lại']\n"
     ]
    },
    {
     "name": "stderr",
     "output_type": "stream",
     "text": [
      "100%|██████████| 6/6 [00:00<00:00, 25.69it/s]\n",
      "100%|██████████| 6/6 [00:00<00:00, 71902.35it/s]\n"
     ]
    },
    {
     "data": {
      "text/plain": [
       "                 model prediction\n",
       "0  logistic_regression   positive\n",
       "1          naive_bayes   positive\n",
       "2              xgboost   positive\n",
       "3                  svm   positive\n",
       "4    gradient_boosting   positive\n",
       "5            ada_boost   positive"
      ],
      "text/html": [
       "<div>\n",
       "<style scoped>\n",
       "    .dataframe tbody tr th:only-of-type {\n",
       "        vertical-align: middle;\n",
       "    }\n",
       "\n",
       "    .dataframe tbody tr th {\n",
       "        vertical-align: top;\n",
       "    }\n",
       "\n",
       "    .dataframe thead th {\n",
       "        text-align: right;\n",
       "    }\n",
       "</style>\n",
       "<table border=\"1\" class=\"dataframe\">\n",
       "  <thead>\n",
       "    <tr style=\"text-align: right;\">\n",
       "      <th></th>\n",
       "      <th>model</th>\n",
       "      <th>prediction</th>\n",
       "    </tr>\n",
       "  </thead>\n",
       "  <tbody>\n",
       "    <tr>\n",
       "      <th>0</th>\n",
       "      <td>logistic_regression</td>\n",
       "      <td>positive</td>\n",
       "    </tr>\n",
       "    <tr>\n",
       "      <th>1</th>\n",
       "      <td>naive_bayes</td>\n",
       "      <td>positive</td>\n",
       "    </tr>\n",
       "    <tr>\n",
       "      <th>2</th>\n",
       "      <td>xgboost</td>\n",
       "      <td>positive</td>\n",
       "    </tr>\n",
       "    <tr>\n",
       "      <th>3</th>\n",
       "      <td>svm</td>\n",
       "      <td>positive</td>\n",
       "    </tr>\n",
       "    <tr>\n",
       "      <th>4</th>\n",
       "      <td>gradient_boosting</td>\n",
       "      <td>positive</td>\n",
       "    </tr>\n",
       "    <tr>\n",
       "      <th>5</th>\n",
       "      <td>ada_boost</td>\n",
       "      <td>positive</td>\n",
       "    </tr>\n",
       "  </tbody>\n",
       "</table>\n",
       "</div>"
      ]
     },
     "execution_count": 13,
     "metadata": {},
     "output_type": "execute_result"
    }
   ],
   "execution_count": 13
  },
  {
   "metadata": {
    "ExecuteTime": {
     "end_time": "2024-06-08T20:07:33.107781Z",
     "start_time": "2024-06-08T20:07:32.716385Z"
    }
   },
   "cell_type": "code",
   "source": [
    "test = sentiment_analysis.predict_traditional_ml(['Món ăn bình thường, không thích nhân viên cho lắm, bác bảo vệ quất tiền xe 500k, không bao giờ quay lại'])\n",
    "test"
   ],
   "id": "5bdbcc963f56b9af",
   "outputs": [
    {
     "name": "stdout",
     "output_type": "stream",
     "text": [
      "Replacing English words in the 'Comment' column...\n"
     ]
    },
    {
     "name": "stderr",
     "output_type": "stream",
     "text": [
      "100%|██████████| 1/1 [00:00<00:00, 3968.12it/s]\n"
     ]
    },
    {
     "name": "stdout",
     "output_type": "stream",
     "text": [
      "Replacing emojis in the 'Comment' column...\n"
     ]
    },
    {
     "name": "stderr",
     "output_type": "stream",
     "text": [
      "100%|██████████| 1/1 [00:00<00:00, 2861.05it/s]\n"
     ]
    },
    {
     "name": "stdout",
     "output_type": "stream",
     "text": [
      "Replacing teencode in the 'Comment' column...\n"
     ]
    },
    {
     "name": "stderr",
     "output_type": "stream",
     "text": [
      "100%|██████████| 1/1 [00:00<00:00, 5377.31it/s]\n"
     ]
    },
    {
     "name": "stdout",
     "output_type": "stream",
     "text": [
      "Removing weird characters from the 'Comment' column...\n"
     ]
    },
    {
     "name": "stderr",
     "output_type": "stream",
     "text": [
      "100%|██████████| 1/1 [00:00<00:00, 7639.90it/s]\n"
     ]
    },
    {
     "name": "stdout",
     "output_type": "stream",
     "text": [
      "Correcting wrong words in the 'Comment' column...\n"
     ]
    },
    {
     "name": "stderr",
     "output_type": "stream",
     "text": [
      "100%|██████████| 1/1 [00:00<00:00, 10.39it/s]\n"
     ]
    },
    {
     "name": "stdout",
     "output_type": "stream",
     "text": [
      "Tokenizing the 'Comment' column...\n"
     ]
    },
    {
     "name": "stderr",
     "output_type": "stream",
     "text": [
      "100%|██████████| 1/1 [00:00<00:00, 720.79it/s]\n"
     ]
    },
    {
     "name": "stdout",
     "output_type": "stream",
     "text": [
      "Removing stopwords from the 'Comment' column...\n"
     ]
    },
    {
     "name": "stderr",
     "output_type": "stream",
     "text": [
      "100%|██████████| 1/1 [00:00<00:00, 7738.57it/s]\n"
     ]
    },
    {
     "name": "stdout",
     "output_type": "stream",
     "text": [
      "Removing punctuation from the 'Comment' column...\n"
     ]
    },
    {
     "name": "stderr",
     "output_type": "stream",
     "text": [
      "100%|██████████| 1/1 [00:00<00:00, 6990.51it/s]\n"
     ]
    },
    {
     "name": "stdout",
     "output_type": "stream",
     "text": [
      "Vietnamese text column handled successfully.\n",
      "['món ăn bình_thường không thích nhân_viên cho lắm bác bảo_vệ quất tiền xe 500 k không bao_giờ quay lại']\n"
     ]
    },
    {
     "name": "stderr",
     "output_type": "stream",
     "text": [
      "100%|██████████| 6/6 [00:00<00:00, 29.02it/s]\n",
      "100%|██████████| 6/6 [00:00<00:00, 132451.71it/s]\n"
     ]
    },
    {
     "data": {
      "text/plain": [
       "                 model prediction\n",
       "0  logistic_regression   negative\n",
       "1          naive_bayes   negative\n",
       "2              xgboost   negative\n",
       "3                  svm    neutral\n",
       "4    gradient_boosting   negative\n",
       "5            ada_boost   negative"
      ],
      "text/html": [
       "<div>\n",
       "<style scoped>\n",
       "    .dataframe tbody tr th:only-of-type {\n",
       "        vertical-align: middle;\n",
       "    }\n",
       "\n",
       "    .dataframe tbody tr th {\n",
       "        vertical-align: top;\n",
       "    }\n",
       "\n",
       "    .dataframe thead th {\n",
       "        text-align: right;\n",
       "    }\n",
       "</style>\n",
       "<table border=\"1\" class=\"dataframe\">\n",
       "  <thead>\n",
       "    <tr style=\"text-align: right;\">\n",
       "      <th></th>\n",
       "      <th>model</th>\n",
       "      <th>prediction</th>\n",
       "    </tr>\n",
       "  </thead>\n",
       "  <tbody>\n",
       "    <tr>\n",
       "      <th>0</th>\n",
       "      <td>logistic_regression</td>\n",
       "      <td>negative</td>\n",
       "    </tr>\n",
       "    <tr>\n",
       "      <th>1</th>\n",
       "      <td>naive_bayes</td>\n",
       "      <td>negative</td>\n",
       "    </tr>\n",
       "    <tr>\n",
       "      <th>2</th>\n",
       "      <td>xgboost</td>\n",
       "      <td>negative</td>\n",
       "    </tr>\n",
       "    <tr>\n",
       "      <th>3</th>\n",
       "      <td>svm</td>\n",
       "      <td>neutral</td>\n",
       "    </tr>\n",
       "    <tr>\n",
       "      <th>4</th>\n",
       "      <td>gradient_boosting</td>\n",
       "      <td>negative</td>\n",
       "    </tr>\n",
       "    <tr>\n",
       "      <th>5</th>\n",
       "      <td>ada_boost</td>\n",
       "      <td>negative</td>\n",
       "    </tr>\n",
       "  </tbody>\n",
       "</table>\n",
       "</div>"
      ]
     },
     "execution_count": 14,
     "metadata": {},
     "output_type": "execute_result"
    }
   ],
   "execution_count": 14
  },
  {
   "metadata": {
    "ExecuteTime": {
     "end_time": "2024-06-08T20:07:33.508866Z",
     "start_time": "2024-06-08T20:07:33.108738Z"
    }
   },
   "cell_type": "code",
   "source": [
    "test = sentiment_analysis.predict_traditional_ml(['Cơm gà xối mỡ vệ sinh, giá rẻ, phuục vụ tốt, sẽ quay lại'])\n",
    "test"
   ],
   "id": "4e4a7dd06b417c5c",
   "outputs": [
    {
     "name": "stdout",
     "output_type": "stream",
     "text": [
      "Replacing English words in the 'Comment' column...\n"
     ]
    },
    {
     "name": "stderr",
     "output_type": "stream",
     "text": [
      "100%|██████████| 1/1 [00:00<00:00, 6069.90it/s]\n"
     ]
    },
    {
     "name": "stdout",
     "output_type": "stream",
     "text": [
      "Replacing emojis in the 'Comment' column...\n"
     ]
    },
    {
     "name": "stderr",
     "output_type": "stream",
     "text": [
      "100%|██████████| 1/1 [00:00<00:00, 3934.62it/s]\n"
     ]
    },
    {
     "name": "stdout",
     "output_type": "stream",
     "text": [
      "Replacing teencode in the 'Comment' column...\n"
     ]
    },
    {
     "name": "stderr",
     "output_type": "stream",
     "text": [
      "100%|██████████| 1/1 [00:00<00:00, 7626.01it/s]\n"
     ]
    },
    {
     "name": "stdout",
     "output_type": "stream",
     "text": [
      "Removing weird characters from the 'Comment' column...\n"
     ]
    },
    {
     "name": "stderr",
     "output_type": "stream",
     "text": [
      "100%|██████████| 1/1 [00:00<00:00, 8388.61it/s]\n"
     ]
    },
    {
     "name": "stdout",
     "output_type": "stream",
     "text": [
      "Correcting wrong words in the 'Comment' column...\n"
     ]
    },
    {
     "name": "stderr",
     "output_type": "stream",
     "text": [
      "100%|██████████| 1/1 [00:00<00:00, 16.64it/s]\n"
     ]
    },
    {
     "name": "stdout",
     "output_type": "stream",
     "text": [
      "Tokenizing the 'Comment' column...\n"
     ]
    },
    {
     "name": "stderr",
     "output_type": "stream",
     "text": [
      "100%|██████████| 1/1 [00:00<00:00, 790.48it/s]\n"
     ]
    },
    {
     "name": "stdout",
     "output_type": "stream",
     "text": [
      "Removing stopwords from the 'Comment' column...\n"
     ]
    },
    {
     "name": "stderr",
     "output_type": "stream",
     "text": [
      "100%|██████████| 1/1 [00:00<00:00, 3869.28it/s]\n"
     ]
    },
    {
     "name": "stdout",
     "output_type": "stream",
     "text": [
      "Removing punctuation from the 'Comment' column...\n"
     ]
    },
    {
     "name": "stderr",
     "output_type": "stream",
     "text": [
      "100%|██████████| 1/1 [00:00<00:00, 4021.38it/s]\n"
     ]
    },
    {
     "name": "stdout",
     "output_type": "stream",
     "text": [
      "Vietnamese text column handled successfully.\n",
      "['cơm gà xối mỡ vệ_sinh giá rẻ phuục vụ tốt sẽ quay lại']\n"
     ]
    },
    {
     "name": "stderr",
     "output_type": "stream",
     "text": [
      "100%|██████████| 6/6 [00:00<00:00, 23.91it/s]\n",
      "100%|██████████| 6/6 [00:00<00:00, 131072.00it/s]\n"
     ]
    },
    {
     "data": {
      "text/plain": [
       "                 model prediction\n",
       "0  logistic_regression   positive\n",
       "1          naive_bayes   negative\n",
       "2              xgboost   positive\n",
       "3                  svm    neutral\n",
       "4    gradient_boosting   positive\n",
       "5            ada_boost   positive"
      ],
      "text/html": [
       "<div>\n",
       "<style scoped>\n",
       "    .dataframe tbody tr th:only-of-type {\n",
       "        vertical-align: middle;\n",
       "    }\n",
       "\n",
       "    .dataframe tbody tr th {\n",
       "        vertical-align: top;\n",
       "    }\n",
       "\n",
       "    .dataframe thead th {\n",
       "        text-align: right;\n",
       "    }\n",
       "</style>\n",
       "<table border=\"1\" class=\"dataframe\">\n",
       "  <thead>\n",
       "    <tr style=\"text-align: right;\">\n",
       "      <th></th>\n",
       "      <th>model</th>\n",
       "      <th>prediction</th>\n",
       "    </tr>\n",
       "  </thead>\n",
       "  <tbody>\n",
       "    <tr>\n",
       "      <th>0</th>\n",
       "      <td>logistic_regression</td>\n",
       "      <td>positive</td>\n",
       "    </tr>\n",
       "    <tr>\n",
       "      <th>1</th>\n",
       "      <td>naive_bayes</td>\n",
       "      <td>negative</td>\n",
       "    </tr>\n",
       "    <tr>\n",
       "      <th>2</th>\n",
       "      <td>xgboost</td>\n",
       "      <td>positive</td>\n",
       "    </tr>\n",
       "    <tr>\n",
       "      <th>3</th>\n",
       "      <td>svm</td>\n",
       "      <td>neutral</td>\n",
       "    </tr>\n",
       "    <tr>\n",
       "      <th>4</th>\n",
       "      <td>gradient_boosting</td>\n",
       "      <td>positive</td>\n",
       "    </tr>\n",
       "    <tr>\n",
       "      <th>5</th>\n",
       "      <td>ada_boost</td>\n",
       "      <td>positive</td>\n",
       "    </tr>\n",
       "  </tbody>\n",
       "</table>\n",
       "</div>"
      ]
     },
     "execution_count": 15,
     "metadata": {},
     "output_type": "execute_result"
    }
   ],
   "execution_count": 15
  },
  {
   "metadata": {
    "ExecuteTime": {
     "end_time": "2024-06-08T20:07:33.921020Z",
     "start_time": "2024-06-08T20:07:33.509748Z"
    }
   },
   "cell_type": "code",
   "source": [
    "test = sentiment_analysis.predict_traditional_ml(['đồ ăn bình thường, tất cả đều bình thường'])\n",
    "test"
   ],
   "id": "1d81b41c44c7df69",
   "outputs": [
    {
     "name": "stdout",
     "output_type": "stream",
     "text": [
      "Replacing English words in the 'Comment' column...\n"
     ]
    },
    {
     "name": "stderr",
     "output_type": "stream",
     "text": [
      "100%|██████████| 1/1 [00:00<00:00, 5924.16it/s]\n"
     ]
    },
    {
     "name": "stdout",
     "output_type": "stream",
     "text": [
      "Replacing emojis in the 'Comment' column...\n"
     ]
    },
    {
     "name": "stderr",
     "output_type": "stream",
     "text": [
      "100%|██████████| 1/1 [00:00<00:00, 4152.78it/s]\n"
     ]
    },
    {
     "name": "stdout",
     "output_type": "stream",
     "text": [
      "Replacing teencode in the 'Comment' column...\n"
     ]
    },
    {
     "name": "stderr",
     "output_type": "stream",
     "text": [
      "100%|██████████| 1/1 [00:00<00:00, 7796.10it/s]\n"
     ]
    },
    {
     "name": "stdout",
     "output_type": "stream",
     "text": [
      "Removing weird characters from the 'Comment' column...\n"
     ]
    },
    {
     "name": "stderr",
     "output_type": "stream",
     "text": [
      "100%|██████████| 1/1 [00:00<00:00, 7037.42it/s]\n"
     ]
    },
    {
     "name": "stdout",
     "output_type": "stream",
     "text": [
      "Correcting wrong words in the 'Comment' column...\n"
     ]
    },
    {
     "name": "stderr",
     "output_type": "stream",
     "text": [
      "100%|██████████| 1/1 [00:00<00:00, 12.83it/s]\n"
     ]
    },
    {
     "name": "stdout",
     "output_type": "stream",
     "text": [
      "Tokenizing the 'Comment' column...\n"
     ]
    },
    {
     "name": "stderr",
     "output_type": "stream",
     "text": [
      "100%|██████████| 1/1 [00:00<00:00, 1540.32it/s]\n"
     ]
    },
    {
     "name": "stdout",
     "output_type": "stream",
     "text": [
      "Removing stopwords from the 'Comment' column...\n"
     ]
    },
    {
     "name": "stderr",
     "output_type": "stream",
     "text": [
      "100%|██████████| 1/1 [00:00<00:00, 7738.57it/s]\n"
     ]
    },
    {
     "name": "stdout",
     "output_type": "stream",
     "text": [
      "Removing punctuation from the 'Comment' column...\n"
     ]
    },
    {
     "name": "stderr",
     "output_type": "stream",
     "text": [
      "100%|██████████| 1/1 [00:00<00:00, 3647.22it/s]\n"
     ]
    },
    {
     "name": "stdout",
     "output_type": "stream",
     "text": [
      "Vietnamese text column handled successfully.\n",
      "['đồ_ăn bình_thường tất_cả đều bình_thường']\n"
     ]
    },
    {
     "name": "stderr",
     "output_type": "stream",
     "text": [
      "100%|██████████| 6/6 [00:00<00:00, 29.72it/s]\n",
      "100%|██████████| 6/6 [00:00<00:00, 144631.17it/s]\n"
     ]
    },
    {
     "data": {
      "text/plain": [
       "                 model prediction\n",
       "0  logistic_regression   positive\n",
       "1          naive_bayes   negative\n",
       "2              xgboost    neutral\n",
       "3                  svm   positive\n",
       "4    gradient_boosting   positive\n",
       "5            ada_boost   positive"
      ],
      "text/html": [
       "<div>\n",
       "<style scoped>\n",
       "    .dataframe tbody tr th:only-of-type {\n",
       "        vertical-align: middle;\n",
       "    }\n",
       "\n",
       "    .dataframe tbody tr th {\n",
       "        vertical-align: top;\n",
       "    }\n",
       "\n",
       "    .dataframe thead th {\n",
       "        text-align: right;\n",
       "    }\n",
       "</style>\n",
       "<table border=\"1\" class=\"dataframe\">\n",
       "  <thead>\n",
       "    <tr style=\"text-align: right;\">\n",
       "      <th></th>\n",
       "      <th>model</th>\n",
       "      <th>prediction</th>\n",
       "    </tr>\n",
       "  </thead>\n",
       "  <tbody>\n",
       "    <tr>\n",
       "      <th>0</th>\n",
       "      <td>logistic_regression</td>\n",
       "      <td>positive</td>\n",
       "    </tr>\n",
       "    <tr>\n",
       "      <th>1</th>\n",
       "      <td>naive_bayes</td>\n",
       "      <td>negative</td>\n",
       "    </tr>\n",
       "    <tr>\n",
       "      <th>2</th>\n",
       "      <td>xgboost</td>\n",
       "      <td>neutral</td>\n",
       "    </tr>\n",
       "    <tr>\n",
       "      <th>3</th>\n",
       "      <td>svm</td>\n",
       "      <td>positive</td>\n",
       "    </tr>\n",
       "    <tr>\n",
       "      <th>4</th>\n",
       "      <td>gradient_boosting</td>\n",
       "      <td>positive</td>\n",
       "    </tr>\n",
       "    <tr>\n",
       "      <th>5</th>\n",
       "      <td>ada_boost</td>\n",
       "      <td>positive</td>\n",
       "    </tr>\n",
       "  </tbody>\n",
       "</table>\n",
       "</div>"
      ]
     },
     "execution_count": 16,
     "metadata": {},
     "output_type": "execute_result"
    }
   ],
   "execution_count": 16
  }
 ],
 "metadata": {
  "kernelspec": {
   "display_name": "Python 3",
   "language": "python",
   "name": "python3"
  },
  "language_info": {
   "codemirror_mode": {
    "name": "ipython",
    "version": 2
   },
   "file_extension": ".py",
   "mimetype": "text/x-python",
   "name": "python",
   "nbconvert_exporter": "python",
   "pygments_lexer": "ipython2",
   "version": "2.7.6"
  }
 },
 "nbformat": 4,
 "nbformat_minor": 5
}
