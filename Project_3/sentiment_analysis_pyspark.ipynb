{
 "cells": [
  {
   "metadata": {},
   "cell_type": "markdown",
   "source": [
    "### PySpark Machine Learning\n",
    "We will build and train multiple machine learning models using pyspark to test, which is the best. We will use the following models:\n",
    "- Logistic Regression\n",
    "- LinearSVC\n",
    "- Naive Bayes\n",
    "- GBTClassifier\n",
    "- RandomForestClassifier\n",
    "- FMClassifier\n",
    "- OneVsRest"
   ],
   "id": "54cebcf879126d3f"
  },
  {
   "metadata": {
    "ExecuteTime": {
     "end_time": "2024-06-08T19:59:26.792908Z",
     "start_time": "2024-06-08T19:59:24.390720Z"
    }
   },
   "cell_type": "code",
   "source": [
    "import pandas as pd\n",
    "from pyspark.sql import SparkSession\n",
    "from Project_3.modules.sentiment_analysis import SentimentAnalysis"
   ],
   "id": "9864003d607b5dd",
   "outputs": [
    {
     "name": "stderr",
     "output_type": "stream",
     "text": [
      "Intel(R) Extension for Scikit-learn* enabled (https://github.com/intel/scikit-learn-intelex)\n",
      "Intel(R) Extension for Scikit-learn* enabled (https://github.com/intel/scikit-learn-intelex)\n"
     ]
    }
   ],
   "execution_count": 1
  },
  {
   "metadata": {
    "ExecuteTime": {
     "end_time": "2024-06-08T19:59:29.708491Z",
     "start_time": "2024-06-08T19:59:26.794243Z"
    }
   },
   "cell_type": "code",
   "source": [
    "spark = SparkSession.builder \\\n",
    "\t\t.appName(\"SentimentAnalysis\") \\\n",
    "\t\t.config(\"spark.driver.memory\", \"32g\") \\\n",
    "\t\t.config(\"spark.executor.memory\", \"32g\") \\\n",
    "\t\t.getOrCreate()\n",
    "sentiment_analysis = SentimentAnalysis(spark)"
   ],
   "id": "5ff9d23c658b673",
   "outputs": [
    {
     "name": "stderr",
     "output_type": "stream",
     "text": [
      "bash: warning: setlocale: LC_ALL: cannot change locale (en_US.UTF-8)\n",
      "bash: warning: setlocale: LC_ALL: cannot change locale (en_US.UTF-8)\n",
      "24/06/09 02:59:27 WARN Utils: Your hostname, TRONGAN-PC resolves to a loopback address: 127.0.1.1; using 172.30.116.6 instead (on interface eth0)\n",
      "24/06/09 02:59:27 WARN Utils: Set SPARK_LOCAL_IP if you need to bind to another address\n",
      "Setting default log level to \"WARN\".\n",
      "To adjust logging level use sc.setLogLevel(newLevel). For SparkR, use setLogLevel(newLevel).\n",
      "24/06/09 02:59:28 WARN NativeCodeLoader: Unable to load native-hadoop library for your platform... using builtin-java classes where applicable\n"
     ]
    }
   ],
   "execution_count": 2
  },
  {
   "metadata": {
    "ExecuteTime": {
     "end_time": "2024-06-08T19:59:30.184926Z",
     "start_time": "2024-06-08T19:59:29.709728Z"
    }
   },
   "cell_type": "code",
   "source": [
    "df = pd.read_csv(\"data/ready_data.csv\")\n",
    "df = df[df['Comment'].notna()]\n",
    "df"
   ],
   "id": "96d5c319dfc0f205",
   "outputs": [
    {
     "data": {
      "text/plain": [
       "          ID           User           ReviewTime  Rating  \\\n",
       "0          1        PHAN LE  2023-12-20 21:13:00     5.2   \n",
       "1          2           Thúy  2023-09-25 15:43:00     5.0   \n",
       "2          3    Quyên Quyên  2023-06-24 11:11:00     5.0   \n",
       "3          4    Phương Thảo  2022-12-22 14:58:00     1.0   \n",
       "4          5   Quỳnh Nguyễn  2022-09-23 22:40:00     4.2   \n",
       "...      ...            ...                  ...     ...   \n",
       "28649  29955     Trannuhamy  2020-10-26 12:16:00     7.0   \n",
       "28650  29956         Phương  2021-06-01 15:34:00    10.0   \n",
       "28651  29957             Tú  2021-01-31 14:29:00     3.4   \n",
       "28652  29958  Hoàng Hậu Mai  2020-10-27 18:06:00     7.6   \n",
       "28653  29959      ThoA Thai  2021-10-19 16:27:00    10.0   \n",
       "\n",
       "                                                 Comment  IDRestaurant  \\\n",
       "0                     gà chiên còn sống tanh khủng_khiếp             1   \n",
       "1                                  đã ăn_quả rồi ăn_ok ạ             1   \n",
       "2                                            đã thử ngon             1   \n",
       "3      tệ mua mang về cho 1 gói tương_ớt xin thêm khô...             1   \n",
       "4      21 h302 đứa nhỏ kêu đói sau 1 hồi bình_loạn ch...             1   \n",
       "...                                                  ...           ...   \n",
       "28649  đặt bún_thái này trong chương_trình của coca t...          1595   \n",
       "28650  bánh ngon nóng giao hàng nhanh giá phải_chăng ...          1609   \n",
       "28651  phục_vụ tệ pizza_xúc xích gấp đôi phô mái khôn...          1609   \n",
       "28652  đang thèm gà rán thì lướt trúng ngày kết_hợp g...          1609   \n",
       "28653  đây bún_chả ngon nhất sài_gòn mình từng ăn mắm...          1612   \n",
       "\n",
       "                                              Restaurant  \\\n",
       "0                      Gà Rán & Burger McDonald's Đa Kao   \n",
       "1                      Gà Rán & Burger McDonald's Đa Kao   \n",
       "2                      Gà Rán & Burger McDonald's Đa Kao   \n",
       "3                      Gà Rán & Burger McDonald's Đa Kao   \n",
       "4                      Gà Rán & Burger McDonald's Đa Kao   \n",
       "...                                                  ...   \n",
       "28649       Tiên Tiên - Bún Thái Cay - Tân Chánh Hiệp 16   \n",
       "28650  3 Râu - Gà Rán, Pizza & Trà Sữa - 107 Nguyễn V...   \n",
       "28651  3 Râu - Gà Rán, Pizza & Trà Sữa - 107 Nguyễn V...   \n",
       "28652  3 Râu - Gà Rán, Pizza & Trà Sữa - 107 Nguyễn V...   \n",
       "28653            Đàm Trang - Bún Chả - Tân Chánh Hiệp 10   \n",
       "\n",
       "                                                 Address OpeningTime District  \\\n",
       "0               2 - 6 Bis Điện Biên Phủ, Quận 1, TP. HCM       00:00   Quận 1   \n",
       "1               2 - 6 Bis Điện Biên Phủ, Quận 1, TP. HCM       00:00   Quận 1   \n",
       "2               2 - 6 Bis Điện Biên Phủ, Quận 1, TP. HCM       00:00   Quận 1   \n",
       "3               2 - 6 Bis Điện Biên Phủ, Quận 1, TP. HCM       00:00   Quận 1   \n",
       "4               2 - 6 Bis Điện Biên Phủ, Quận 1, TP. HCM       00:00   Quận 1   \n",
       "...                                                  ...         ...      ...   \n",
       "28649  52/4A Tân Chánh Hiệp 16, P. Tân Chánh Hiệp (Đầ...       06:00  Quận 12   \n",
       "28650  107 Nguyễn Văn Quá, P. Đông Hưng Thuận, Quận 1...       09:00  Quận 12   \n",
       "28651  107 Nguyễn Văn Quá, P. Đông Hưng Thuận, Quận 1...       09:00  Quận 12   \n",
       "28652  107 Nguyễn Văn Quá, P. Đông Hưng Thuận, Quận 1...       09:00  Quận 12   \n",
       "28653  27 Tân Chánh Hiệp 10, P. Tân Chánh Hiệp, Quận ...         NaN  Quận 12   \n",
       "\n",
       "       ReviewCount ClosingTime  MaxPrice  MinPrice  \n",
       "0              100       23:59  200000.0   50000.0  \n",
       "1              100       23:59  200000.0   50000.0  \n",
       "2              100       23:59  200000.0   50000.0  \n",
       "3              100       23:59  200000.0   50000.0  \n",
       "4              100       23:59  200000.0   50000.0  \n",
       "...            ...         ...       ...       ...  \n",
       "28649            1       23:30  200000.0   25000.0  \n",
       "28650            3       23:59  120000.0   12000.0  \n",
       "28651            3       23:59  120000.0   12000.0  \n",
       "28652            3       23:59  120000.0   12000.0  \n",
       "28653            1         NaN       0.0       0.0  \n",
       "\n",
       "[28654 rows x 14 columns]"
      ],
      "text/html": [
       "<div>\n",
       "<style scoped>\n",
       "    .dataframe tbody tr th:only-of-type {\n",
       "        vertical-align: middle;\n",
       "    }\n",
       "\n",
       "    .dataframe tbody tr th {\n",
       "        vertical-align: top;\n",
       "    }\n",
       "\n",
       "    .dataframe thead th {\n",
       "        text-align: right;\n",
       "    }\n",
       "</style>\n",
       "<table border=\"1\" class=\"dataframe\">\n",
       "  <thead>\n",
       "    <tr style=\"text-align: right;\">\n",
       "      <th></th>\n",
       "      <th>ID</th>\n",
       "      <th>User</th>\n",
       "      <th>ReviewTime</th>\n",
       "      <th>Rating</th>\n",
       "      <th>Comment</th>\n",
       "      <th>IDRestaurant</th>\n",
       "      <th>Restaurant</th>\n",
       "      <th>Address</th>\n",
       "      <th>OpeningTime</th>\n",
       "      <th>District</th>\n",
       "      <th>ReviewCount</th>\n",
       "      <th>ClosingTime</th>\n",
       "      <th>MaxPrice</th>\n",
       "      <th>MinPrice</th>\n",
       "    </tr>\n",
       "  </thead>\n",
       "  <tbody>\n",
       "    <tr>\n",
       "      <th>0</th>\n",
       "      <td>1</td>\n",
       "      <td>PHAN LE</td>\n",
       "      <td>2023-12-20 21:13:00</td>\n",
       "      <td>5.2</td>\n",
       "      <td>gà chiên còn sống tanh khủng_khiếp</td>\n",
       "      <td>1</td>\n",
       "      <td>Gà Rán &amp; Burger McDonald's Đa Kao</td>\n",
       "      <td>2 - 6 Bis Điện Biên Phủ, Quận 1, TP. HCM</td>\n",
       "      <td>00:00</td>\n",
       "      <td>Quận 1</td>\n",
       "      <td>100</td>\n",
       "      <td>23:59</td>\n",
       "      <td>200000.0</td>\n",
       "      <td>50000.0</td>\n",
       "    </tr>\n",
       "    <tr>\n",
       "      <th>1</th>\n",
       "      <td>2</td>\n",
       "      <td>Thúy</td>\n",
       "      <td>2023-09-25 15:43:00</td>\n",
       "      <td>5.0</td>\n",
       "      <td>đã ăn_quả rồi ăn_ok ạ</td>\n",
       "      <td>1</td>\n",
       "      <td>Gà Rán &amp; Burger McDonald's Đa Kao</td>\n",
       "      <td>2 - 6 Bis Điện Biên Phủ, Quận 1, TP. HCM</td>\n",
       "      <td>00:00</td>\n",
       "      <td>Quận 1</td>\n",
       "      <td>100</td>\n",
       "      <td>23:59</td>\n",
       "      <td>200000.0</td>\n",
       "      <td>50000.0</td>\n",
       "    </tr>\n",
       "    <tr>\n",
       "      <th>2</th>\n",
       "      <td>3</td>\n",
       "      <td>Quyên Quyên</td>\n",
       "      <td>2023-06-24 11:11:00</td>\n",
       "      <td>5.0</td>\n",
       "      <td>đã thử ngon</td>\n",
       "      <td>1</td>\n",
       "      <td>Gà Rán &amp; Burger McDonald's Đa Kao</td>\n",
       "      <td>2 - 6 Bis Điện Biên Phủ, Quận 1, TP. HCM</td>\n",
       "      <td>00:00</td>\n",
       "      <td>Quận 1</td>\n",
       "      <td>100</td>\n",
       "      <td>23:59</td>\n",
       "      <td>200000.0</td>\n",
       "      <td>50000.0</td>\n",
       "    </tr>\n",
       "    <tr>\n",
       "      <th>3</th>\n",
       "      <td>4</td>\n",
       "      <td>Phương Thảo</td>\n",
       "      <td>2022-12-22 14:58:00</td>\n",
       "      <td>1.0</td>\n",
       "      <td>tệ mua mang về cho 1 gói tương_ớt xin thêm khô...</td>\n",
       "      <td>1</td>\n",
       "      <td>Gà Rán &amp; Burger McDonald's Đa Kao</td>\n",
       "      <td>2 - 6 Bis Điện Biên Phủ, Quận 1, TP. HCM</td>\n",
       "      <td>00:00</td>\n",
       "      <td>Quận 1</td>\n",
       "      <td>100</td>\n",
       "      <td>23:59</td>\n",
       "      <td>200000.0</td>\n",
       "      <td>50000.0</td>\n",
       "    </tr>\n",
       "    <tr>\n",
       "      <th>4</th>\n",
       "      <td>5</td>\n",
       "      <td>Quỳnh Nguyễn</td>\n",
       "      <td>2022-09-23 22:40:00</td>\n",
       "      <td>4.2</td>\n",
       "      <td>21 h302 đứa nhỏ kêu đói sau 1 hồi bình_loạn ch...</td>\n",
       "      <td>1</td>\n",
       "      <td>Gà Rán &amp; Burger McDonald's Đa Kao</td>\n",
       "      <td>2 - 6 Bis Điện Biên Phủ, Quận 1, TP. HCM</td>\n",
       "      <td>00:00</td>\n",
       "      <td>Quận 1</td>\n",
       "      <td>100</td>\n",
       "      <td>23:59</td>\n",
       "      <td>200000.0</td>\n",
       "      <td>50000.0</td>\n",
       "    </tr>\n",
       "    <tr>\n",
       "      <th>...</th>\n",
       "      <td>...</td>\n",
       "      <td>...</td>\n",
       "      <td>...</td>\n",
       "      <td>...</td>\n",
       "      <td>...</td>\n",
       "      <td>...</td>\n",
       "      <td>...</td>\n",
       "      <td>...</td>\n",
       "      <td>...</td>\n",
       "      <td>...</td>\n",
       "      <td>...</td>\n",
       "      <td>...</td>\n",
       "      <td>...</td>\n",
       "      <td>...</td>\n",
       "    </tr>\n",
       "    <tr>\n",
       "      <th>28649</th>\n",
       "      <td>29955</td>\n",
       "      <td>Trannuhamy</td>\n",
       "      <td>2020-10-26 12:16:00</td>\n",
       "      <td>7.0</td>\n",
       "      <td>đặt bún_thái này trong chương_trình của coca t...</td>\n",
       "      <td>1595</td>\n",
       "      <td>Tiên Tiên - Bún Thái Cay - Tân Chánh Hiệp 16</td>\n",
       "      <td>52/4A Tân Chánh Hiệp 16, P. Tân Chánh Hiệp (Đầ...</td>\n",
       "      <td>06:00</td>\n",
       "      <td>Quận 12</td>\n",
       "      <td>1</td>\n",
       "      <td>23:30</td>\n",
       "      <td>200000.0</td>\n",
       "      <td>25000.0</td>\n",
       "    </tr>\n",
       "    <tr>\n",
       "      <th>28650</th>\n",
       "      <td>29956</td>\n",
       "      <td>Phương</td>\n",
       "      <td>2021-06-01 15:34:00</td>\n",
       "      <td>10.0</td>\n",
       "      <td>bánh ngon nóng giao hàng nhanh giá phải_chăng ...</td>\n",
       "      <td>1609</td>\n",
       "      <td>3 Râu - Gà Rán, Pizza &amp; Trà Sữa - 107 Nguyễn V...</td>\n",
       "      <td>107 Nguyễn Văn Quá, P. Đông Hưng Thuận, Quận 1...</td>\n",
       "      <td>09:00</td>\n",
       "      <td>Quận 12</td>\n",
       "      <td>3</td>\n",
       "      <td>23:59</td>\n",
       "      <td>120000.0</td>\n",
       "      <td>12000.0</td>\n",
       "    </tr>\n",
       "    <tr>\n",
       "      <th>28651</th>\n",
       "      <td>29957</td>\n",
       "      <td>Tú</td>\n",
       "      <td>2021-01-31 14:29:00</td>\n",
       "      <td>3.4</td>\n",
       "      <td>phục_vụ tệ pizza_xúc xích gấp đôi phô mái khôn...</td>\n",
       "      <td>1609</td>\n",
       "      <td>3 Râu - Gà Rán, Pizza &amp; Trà Sữa - 107 Nguyễn V...</td>\n",
       "      <td>107 Nguyễn Văn Quá, P. Đông Hưng Thuận, Quận 1...</td>\n",
       "      <td>09:00</td>\n",
       "      <td>Quận 12</td>\n",
       "      <td>3</td>\n",
       "      <td>23:59</td>\n",
       "      <td>120000.0</td>\n",
       "      <td>12000.0</td>\n",
       "    </tr>\n",
       "    <tr>\n",
       "      <th>28652</th>\n",
       "      <td>29958</td>\n",
       "      <td>Hoàng Hậu Mai</td>\n",
       "      <td>2020-10-27 18:06:00</td>\n",
       "      <td>7.6</td>\n",
       "      <td>đang thèm gà rán thì lướt trúng ngày kết_hợp g...</td>\n",
       "      <td>1609</td>\n",
       "      <td>3 Râu - Gà Rán, Pizza &amp; Trà Sữa - 107 Nguyễn V...</td>\n",
       "      <td>107 Nguyễn Văn Quá, P. Đông Hưng Thuận, Quận 1...</td>\n",
       "      <td>09:00</td>\n",
       "      <td>Quận 12</td>\n",
       "      <td>3</td>\n",
       "      <td>23:59</td>\n",
       "      <td>120000.0</td>\n",
       "      <td>12000.0</td>\n",
       "    </tr>\n",
       "    <tr>\n",
       "      <th>28653</th>\n",
       "      <td>29959</td>\n",
       "      <td>ThoA Thai</td>\n",
       "      <td>2021-10-19 16:27:00</td>\n",
       "      <td>10.0</td>\n",
       "      <td>đây bún_chả ngon nhất sài_gòn mình từng ăn mắm...</td>\n",
       "      <td>1612</td>\n",
       "      <td>Đàm Trang - Bún Chả - Tân Chánh Hiệp 10</td>\n",
       "      <td>27 Tân Chánh Hiệp 10, P. Tân Chánh Hiệp, Quận ...</td>\n",
       "      <td>NaN</td>\n",
       "      <td>Quận 12</td>\n",
       "      <td>1</td>\n",
       "      <td>NaN</td>\n",
       "      <td>0.0</td>\n",
       "      <td>0.0</td>\n",
       "    </tr>\n",
       "  </tbody>\n",
       "</table>\n",
       "<p>28654 rows × 14 columns</p>\n",
       "</div>"
      ]
     },
     "execution_count": 3,
     "metadata": {},
     "output_type": "execute_result"
    }
   ],
   "execution_count": 3
  },
  {
   "metadata": {
    "ExecuteTime": {
     "end_time": "2024-06-08T20:00:27.971083Z",
     "start_time": "2024-06-08T19:59:30.186260Z"
    }
   },
   "cell_type": "code",
   "source": [
    "try:\n",
    "\treports = sentiment_analysis.train_pyspark_ml(df)\n",
    "except Exception as e:\n",
    "\treports = None\n",
    "\tprint(e)\n",
    "\tprint(\"Closing Spark session...\")\n",
    "\tspark.stop()"
   ],
   "id": "76b8daad1f295d8d",
   "outputs": [
    {
     "name": "stderr",
     "output_type": "stream",
     "text": [
      "24/06/09 02:59:40 WARN TaskSetManager: Stage 9 contains a task of very large size (1235 KiB). The maximum recommended task size is 1000 KiB.\n",
      "24/06/09 02:59:42 WARN DAGScheduler: Broadcasting large task binary with size 1663.6 KiB\n",
      "24/06/09 02:59:42 WARN DAGScheduler: Broadcasting large task binary with size 1658.4 KiB\n"
     ]
    },
    {
     "name": "stdout",
     "output_type": "stream",
     "text": [
      "+--------------------+-----+--------------------+--------------------+--------------------+\n",
      "|             Comment|label|               words|            c_vector|            features|\n",
      "+--------------------+-----+--------------------+--------------------+--------------------+\n",
      "|gà chiên còn sống...|  1.0|[gà, chiên, còn, ...|(57948,[22,26,115...|(57948,[22,26,115...|\n",
      "|đã ăn_quả rồi ăn_...|  1.0|[đã, ăn_quả, rồi,...|(57948,[29,52,364...|(57948,[29,52,364...|\n",
      "|         đã thử ngon|  1.0|     [đã, thử, ngon]|(57948,[5,52,68],...|(57948,[5,52,68],...|\n",
      "|tệ mua mang về ch...|  0.0|[tệ, mua, mang, v...|(57948,[1,2,3,7,8...|(57948,[1,2,3,7,8...|\n",
      "|21 h302 đứa nhỏ k...|  0.0|[21, h302, đứa, n...|(57948,[0,1,2,7,1...|(57948,[0,1,2,7,1...|\n",
      "|này khuyến_mại mu...|  1.0|[này, khuyến_mại,...|(57948,[3,7,13,19...|(57948,[3,7,13,19...|\n",
      "|thể lâu lắm rồi t...|  0.0|[thể, lâu, lắm, r...|(57948,[1,2,3,6,7...|(57948,[1,2,3,6,7...|\n",
      "|đây lần đầu bạn 4...|  2.0|[đây, lần, đầu, b...|(57948,[0,1,2,3,6...|(57948,[0,1,2,3,6...|\n",
      "|đất giao kết_hợp ...|  0.0|[đất, giao, kết_h...|(57948,[1,3,9,14,...|(57948,[1,3,9,14,...|\n",
      "|hích phần cơm mc ...|  1.0|[hích, phần, cơm,...|(57948,[1,2,5,6,9...|(57948,[1,2,5,6,9...|\n",
      "|mình tới đây vào ...|  0.0|[mình, tới, đây, ...|(57948,[0,1,2,3,1...|(57948,[0,1,2,3,1...|\n",
      "|sáng nay 1952021 ...|  0.0|[sáng, nay, 19520...|(57948,[1,3,4,6,9...|(57948,[1,3,4,6,9...|\n",
      "|giao thiếu gà khi...|  0.0|[giao, thiếu, gà,...|(57948,[3,18,22,3...|(57948,[3,18,22,3...|\n",
      "|mình với đứa bạn ...|  1.0|[mình, với, đứa, ...|(57948,[0,1,2,4,7...|(57948,[0,1,2,4,7...|\n",
      "|ăn tại_chỗ không ...|  0.0|[ăn, tại_chỗ, khô...|(57948,[1,2,4,17,...|(57948,[1,2,4,17,...|\n",
      "|càng ngày chất_lư...|  1.0|[càng, ngày, chất...|(57948,[1,5,14,18...|(57948,[1,5,14,18...|\n",
      "|đặt phần 3 miếng ...|  0.0|[đặt, phần, 3, mi...|(57948,[1,17,20,3...|(57948,[1,17,20,3...|\n",
      "|ai mua drive xuyê...|  0.0|[ai, mua, drive, ...|(57948,[0,1,15,17...|(57948,[0,1,15,17...|\n",
      "|thương_hiệu thức_...|  2.0|[thương_hiệu, thứ...|(57948,[0,1,2,3,4...|(57948,[0,1,2,3,4...|\n",
      "|đặt gà không cay ...|  0.0|[đặt, gà, không, ...|(57948,[1,22,37,5...|(57948,[1,22,37,5...|\n",
      "+--------------------+-----+--------------------+--------------------+--------------------+\n",
      "only showing top 20 rows\n",
      "\n",
      "+-----+--------------------+\n",
      "|label|            features|\n",
      "+-----+--------------------+\n",
      "|  1.0|(57948,[22,26,115...|\n",
      "|  1.0|(57948,[29,52,364...|\n",
      "|  1.0|(57948,[5,52,68],...|\n",
      "|  0.0|(57948,[1,2,3,7,8...|\n",
      "|  0.0|(57948,[0,1,2,7,1...|\n",
      "|  1.0|(57948,[3,7,13,19...|\n",
      "|  0.0|(57948,[1,2,3,6,7...|\n",
      "|  2.0|(57948,[0,1,2,3,6...|\n",
      "|  0.0|(57948,[1,3,9,14,...|\n",
      "|  1.0|(57948,[1,2,5,6,9...|\n",
      "|  0.0|(57948,[0,1,2,3,1...|\n",
      "|  0.0|(57948,[1,3,4,6,9...|\n",
      "|  0.0|(57948,[3,18,22,3...|\n",
      "|  1.0|(57948,[0,1,2,4,7...|\n",
      "|  0.0|(57948,[1,2,4,17,...|\n",
      "|  1.0|(57948,[1,5,14,18...|\n",
      "|  0.0|(57948,[1,17,20,3...|\n",
      "|  0.0|(57948,[0,1,15,17...|\n",
      "|  2.0|(57948,[0,1,2,3,4...|\n",
      "|  0.0|(57948,[1,22,37,5...|\n",
      "+-----+--------------------+\n",
      "only showing top 20 rows\n",
      "\n"
     ]
    },
    {
     "name": "stderr",
     "output_type": "stream",
     "text": [
      "  0%|          | 0/4 [00:00<?, ?it/s]"
     ]
    },
    {
     "name": "stdout",
     "output_type": "stream",
     "text": [
      "Loading model: logistic_regression\n"
     ]
    },
    {
     "name": "stderr",
     "output_type": "stream",
     "text": [
      "24/06/09 02:59:44 WARN DAGScheduler: Broadcasting large task binary with size 1664.2 KiB\n",
      "24/06/09 02:59:45 WARN DAGScheduler: Broadcasting large task binary with size 1671.8 KiB\n",
      "24/06/09 02:59:46 WARN DAGScheduler: Broadcasting large task binary with size 3.0 MiB\n",
      "24/06/09 02:59:48 WARN DAGScheduler: Broadcasting large task binary with size 1664.2 KiB\n",
      "24/06/09 02:59:48 WARN DAGScheduler: Broadcasting large task binary with size 1668.5 KiB\n",
      "24/06/09 02:59:51 WARN DAGScheduler: Broadcasting large task binary with size 1664.2 KiB\n",
      "24/06/09 02:59:51 WARN DAGScheduler: Broadcasting large task binary with size 1674.5 KiB\n",
      "24/06/09 02:59:52 WARN DAGScheduler: Broadcasting large task binary with size 1409.8 KiB\n",
      " 25%|██▌       | 1/4 [00:11<00:35, 11.79s/it]                                   "
     ]
    },
    {
     "name": "stdout",
     "output_type": "stream",
     "text": [
      "Loading model: naive_bayes\n"
     ]
    },
    {
     "name": "stderr",
     "output_type": "stream",
     "text": [
      "24/06/09 02:59:55 WARN DAGScheduler: Broadcasting large task binary with size 1664.2 KiB\n",
      "24/06/09 02:59:56 WARN DAGScheduler: Broadcasting large task binary with size 1671.8 KiB\n",
      "24/06/09 02:59:56 WARN DAGScheduler: Broadcasting large task binary with size 3.0 MiB\n",
      "24/06/09 02:59:57 WARN DAGScheduler: Broadcasting large task binary with size 1664.2 KiB\n",
      "24/06/09 02:59:57 WARN DAGScheduler: Broadcasting large task binary with size 1668.5 KiB\n",
      "24/06/09 03:00:00 WARN DAGScheduler: Broadcasting large task binary with size 1664.2 KiB\n",
      "24/06/09 03:00:01 WARN DAGScheduler: Broadcasting large task binary with size 1674.5 KiB\n",
      "24/06/09 03:00:01 WARN DAGScheduler: Broadcasting large task binary with size 1405.6 KiB\n",
      " 50%|█████     | 2/4 [00:20<00:20, 10.15s/it]                                   "
     ]
    },
    {
     "name": "stdout",
     "output_type": "stream",
     "text": [
      "Loading model: random_forest\n"
     ]
    },
    {
     "name": "stderr",
     "output_type": "stream",
     "text": [
      "WARNING: An illegal reflective access operation has occurred\n",
      "WARNING: Illegal reflective access by org.apache.spark.util.SizeEstimator$ (file:/home/anvutrong/miniconda3/envs/wsl_env/lib/python3.11/site-packages/pyspark/jars/spark-core_2.12-3.5.1.jar) to field java.math.BigInteger.mag\n",
      "WARNING: Please consider reporting this to the maintainers of org.apache.spark.util.SizeEstimator$\n",
      "WARNING: Use --illegal-access=warn to enable warnings of further illegal reflective access operations\n",
      "WARNING: All illegal access operations will be denied in a future release\n",
      "24/06/09 03:00:06 WARN DAGScheduler: Broadcasting large task binary with size 1664.2 KiB\n",
      "24/06/09 03:00:06 WARN DAGScheduler: Broadcasting large task binary with size 1671.8 KiB\n",
      "24/06/09 03:00:07 WARN DAGScheduler: Broadcasting large task binary with size 6.7 MiB\n",
      "24/06/09 03:00:10 WARN DAGScheduler: Broadcasting large task binary with size 1664.2 KiB\n",
      "24/06/09 03:00:10 WARN DAGScheduler: Broadcasting large task binary with size 1668.5 KiB\n",
      "24/06/09 03:00:13 WARN DAGScheduler: Broadcasting large task binary with size 1664.2 KiB\n",
      "24/06/09 03:00:13 WARN DAGScheduler: Broadcasting large task binary with size 1674.5 KiB\n",
      "24/06/09 03:00:14 WARN DAGScheduler: Broadcasting large task binary with size 5.1 MiB\n",
      " 75%|███████▌  | 3/4 [00:36<00:12, 12.53s/it]                                   "
     ]
    },
    {
     "name": "stdout",
     "output_type": "stream",
     "text": [
      "Loading model: decision_tree\n"
     ]
    },
    {
     "name": "stderr",
     "output_type": "stream",
     "text": [
      "24/06/09 03:00:19 WARN DAGScheduler: Broadcasting large task binary with size 1664.2 KiB\n",
      "24/06/09 03:00:20 WARN DAGScheduler: Broadcasting large task binary with size 1671.8 KiB\n",
      "24/06/09 03:00:21 WARN DAGScheduler: Broadcasting large task binary with size 1761.3 KiB\n",
      "24/06/09 03:00:21 WARN DAGScheduler: Broadcasting large task binary with size 1664.2 KiB\n",
      "24/06/09 03:00:22 WARN DAGScheduler: Broadcasting large task binary with size 1668.5 KiB\n",
      "24/06/09 03:00:24 WARN DAGScheduler: Broadcasting large task binary with size 1664.2 KiB\n",
      "24/06/09 03:00:25 WARN DAGScheduler: Broadcasting large task binary with size 1674.5 KiB\n",
      "100%|██████████| 4/4 [00:45<00:00, 11.26s/it]                                   \n"
     ]
    }
   ],
   "execution_count": 4
  },
  {
   "metadata": {
    "ExecuteTime": {
     "end_time": "2024-06-08T20:00:27.979649Z",
     "start_time": "2024-06-08T20:00:27.972093Z"
    }
   },
   "cell_type": "code",
   "source": "reports",
   "id": "9635e7516544461",
   "outputs": [
    {
     "data": {
      "text/plain": [
       "                 model  accuracy  precision    recall  f1_score  \\\n",
       "0  logistic_regression  0.494670   0.385647  0.374484  0.379044   \n",
       "1          naive_bayes  0.515646   0.373070  0.383597  0.377186   \n",
       "2        random_forest  0.550550   0.348955  0.416437  0.379710   \n",
       "3        decision_tree  0.618466   0.384793  0.383081  0.382538   \n",
       "\n",
       "                                    confusion_matrix  \n",
       "0  [[199, 398, 350], [483, 1053, 891], [514, 1002...  \n",
       "1  [[111, 443, 393], [288, 1145, 994], [317, 1150...  \n",
       "2  [[0, 486, 461], [2, 1213, 1212], [3, 1230, 1209]]  \n",
       "3  [[178, 347, 422], [402, 889, 1136], [413, 868,...  "
      ],
      "text/html": [
       "<div>\n",
       "<style scoped>\n",
       "    .dataframe tbody tr th:only-of-type {\n",
       "        vertical-align: middle;\n",
       "    }\n",
       "\n",
       "    .dataframe tbody tr th {\n",
       "        vertical-align: top;\n",
       "    }\n",
       "\n",
       "    .dataframe thead th {\n",
       "        text-align: right;\n",
       "    }\n",
       "</style>\n",
       "<table border=\"1\" class=\"dataframe\">\n",
       "  <thead>\n",
       "    <tr style=\"text-align: right;\">\n",
       "      <th></th>\n",
       "      <th>model</th>\n",
       "      <th>accuracy</th>\n",
       "      <th>precision</th>\n",
       "      <th>recall</th>\n",
       "      <th>f1_score</th>\n",
       "      <th>confusion_matrix</th>\n",
       "    </tr>\n",
       "  </thead>\n",
       "  <tbody>\n",
       "    <tr>\n",
       "      <th>0</th>\n",
       "      <td>logistic_regression</td>\n",
       "      <td>0.494670</td>\n",
       "      <td>0.385647</td>\n",
       "      <td>0.374484</td>\n",
       "      <td>0.379044</td>\n",
       "      <td>[[199, 398, 350], [483, 1053, 891], [514, 1002...</td>\n",
       "    </tr>\n",
       "    <tr>\n",
       "      <th>1</th>\n",
       "      <td>naive_bayes</td>\n",
       "      <td>0.515646</td>\n",
       "      <td>0.373070</td>\n",
       "      <td>0.383597</td>\n",
       "      <td>0.377186</td>\n",
       "      <td>[[111, 443, 393], [288, 1145, 994], [317, 1150...</td>\n",
       "    </tr>\n",
       "    <tr>\n",
       "      <th>2</th>\n",
       "      <td>random_forest</td>\n",
       "      <td>0.550550</td>\n",
       "      <td>0.348955</td>\n",
       "      <td>0.416437</td>\n",
       "      <td>0.379710</td>\n",
       "      <td>[[0, 486, 461], [2, 1213, 1212], [3, 1230, 1209]]</td>\n",
       "    </tr>\n",
       "    <tr>\n",
       "      <th>3</th>\n",
       "      <td>decision_tree</td>\n",
       "      <td>0.618466</td>\n",
       "      <td>0.384793</td>\n",
       "      <td>0.383081</td>\n",
       "      <td>0.382538</td>\n",
       "      <td>[[178, 347, 422], [402, 889, 1136], [413, 868,...</td>\n",
       "    </tr>\n",
       "  </tbody>\n",
       "</table>\n",
       "</div>"
      ]
     },
     "execution_count": 5,
     "metadata": {},
     "output_type": "execute_result"
    }
   ],
   "execution_count": 5
  },
  {
   "metadata": {
    "ExecuteTime": {
     "end_time": "2024-06-08T20:00:28.488194Z",
     "start_time": "2024-06-08T20:00:27.981331Z"
    }
   },
   "cell_type": "code",
   "source": [
    "models = reports['model'].unique().tolist()\n",
    "\n",
    "for model in models:\n",
    "\tcm = reports[reports['model'] == model]['confusion_matrix'].values[0].tolist()\n",
    "\tsentiment_analysis.plot_confusion_matrix(cm, model)"
   ],
   "id": "6c203033db66b1d8",
   "outputs": [
    {
     "data": {
      "text/plain": [
       "<Figure size 1000x700 with 2 Axes>"
      ],
      "image/png": "[encoded data removed]"
     },
     "metadata": {},
     "output_type": "display_data"
    },
    {
     "data": {
      "text/plain": [
       "<Figure size 1000x700 with 2 Axes>"
      ],
      "image/png": "[encoded data removed]"
     },
     "metadata": {},
     "output_type": "display_data"
    },
    {
     "data": {
      "text/plain": [
       "<Figure size 1000x700 with 2 Axes>"
      ],
      "image/png": "[encoded data removed]"
     },
     "metadata": {},
     "output_type": "display_data"
    },
    {
     "data": {
      "text/plain": [
       "<Figure size 1000x700 with 2 Axes>"
      ],
      "image/png": "[encoded data removed]"
     },
     "metadata": {},
     "output_type": "display_data"
    }
   ],
   "execution_count": 6
  },
  {
   "metadata": {
    "ExecuteTime": {
     "end_time": "2024-06-08T20:00:36.850155Z",
     "start_time": "2024-06-08T20:00:28.489237Z"
    }
   },
   "cell_type": "code",
   "source": [
    "test = sentiment_analysis.predict_pyspark_ml([\"đồ ăn chỗ này rất ngon\"])\n",
    "test"
   ],
   "id": "43aa5e8794b50c39",
   "outputs": [
    {
     "name": "stdout",
     "output_type": "stream",
     "text": [
      "Replacing English words in the 'Comment' column...\n"
     ]
    },
    {
     "name": "stderr",
     "output_type": "stream",
     "text": [
      "100%|██████████| 1/1 [00:00<00:00, 4429.04it/s]\n"
     ]
    },
    {
     "name": "stdout",
     "output_type": "stream",
     "text": [
      "Replacing emojis in the 'Comment' column...\n"
     ]
    },
    {
     "name": "stderr",
     "output_type": "stream",
     "text": [
      "100%|██████████| 1/1 [00:00<00:00, 4120.14it/s]\n"
     ]
    },
    {
     "name": "stdout",
     "output_type": "stream",
     "text": [
      "Replacing teencode in the 'Comment' column...\n"
     ]
    },
    {
     "name": "stderr",
     "output_type": "stream",
     "text": [
      "100%|██████████| 1/1 [00:00<00:00, 6678.83it/s]\n"
     ]
    },
    {
     "name": "stdout",
     "output_type": "stream",
     "text": [
      "Removing weird characters from the 'Comment' column...\n"
     ]
    },
    {
     "name": "stderr",
     "output_type": "stream",
     "text": [
      "100%|██████████| 1/1 [00:00<00:00, 6626.07it/s]\n"
     ]
    },
    {
     "name": "stdout",
     "output_type": "stream",
     "text": [
      "Correcting wrong words in the 'Comment' column...\n"
     ]
    },
    {
     "name": "stderr",
     "output_type": "stream",
     "text": [
      "  0%|          | 0/1 [00:00<?, ?it/s]/mnt/e/Work/Coding/CSC/10_do_an_tot_nghiep/LDS0_K294_Online_VuTrongAn/Project_3/modules/VietnameseOcrCorrection/tool/predictor.py:39: UserWarning: Creating a tensor from a list of numpy.ndarrays is extremely slow. Please consider converting the list to a single numpy.ndarray with numpy.array() before converting to a tensor. (Triggered internally at ../torch/csrc/utils/tensor_new.cpp:261.)\n",
      "  return torch.LongTensor(src_text).to(self.device)\n",
      "100%|██████████| 1/1 [00:00<00:00,  6.40it/s]\n"
     ]
    },
    {
     "name": "stdout",
     "output_type": "stream",
     "text": [
      "Tokenizing the 'Comment' column...\n"
     ]
    },
    {
     "name": "stderr",
     "output_type": "stream",
     "text": [
      "100%|██████████| 1/1 [00:00<00:00, 10.29it/s]\n"
     ]
    },
    {
     "name": "stdout",
     "output_type": "stream",
     "text": [
      "Removing stopwords from the 'Comment' column...\n"
     ]
    },
    {
     "name": "stderr",
     "output_type": "stream",
     "text": [
      "100%|██████████| 1/1 [00:00<00:00, 5216.80it/s]\n"
     ]
    },
    {
     "name": "stdout",
     "output_type": "stream",
     "text": [
      "Removing punctuation from the 'Comment' column...\n"
     ]
    },
    {
     "name": "stderr",
     "output_type": "stream",
     "text": [
      "100%|██████████| 1/1 [00:00<00:00, 4702.13it/s]\n"
     ]
    },
    {
     "name": "stdout",
     "output_type": "stream",
     "text": [
      "Vietnamese text column handled successfully.\n",
      "['đồ_ăn chỗ này ngon']\n"
     ]
    },
    {
     "name": "stderr",
     "output_type": "stream",
     "text": [
      "24/06/09 03:00:31 WARN DAGScheduler: Broadcasting large task binary with size 3.0 MiB\n",
      "24/06/09 03:00:32 WARN DAGScheduler: Broadcasting large task binary with size 3.0 MiB\n",
      "24/06/09 03:00:35 WARN DAGScheduler: Broadcasting large task binary with size 6.6 MiB\n",
      "24/06/09 03:00:36 WARN DAGScheduler: Broadcasting large task binary with size 1731.8 KiB\n",
      "100%|██████████| 4/4 [00:00<00:00, 88301.14it/s]\n"
     ]
    },
    {
     "data": {
      "text/plain": [
       "                 model prediction\n",
       "0  logistic_regression    neutral\n",
       "1          naive_bayes   positive\n",
       "2        random_forest   positive\n",
       "3        decision_tree   positive"
      ],
      "text/html": [
       "<div>\n",
       "<style scoped>\n",
       "    .dataframe tbody tr th:only-of-type {\n",
       "        vertical-align: middle;\n",
       "    }\n",
       "\n",
       "    .dataframe tbody tr th {\n",
       "        vertical-align: top;\n",
       "    }\n",
       "\n",
       "    .dataframe thead th {\n",
       "        text-align: right;\n",
       "    }\n",
       "</style>\n",
       "<table border=\"1\" class=\"dataframe\">\n",
       "  <thead>\n",
       "    <tr style=\"text-align: right;\">\n",
       "      <th></th>\n",
       "      <th>model</th>\n",
       "      <th>prediction</th>\n",
       "    </tr>\n",
       "  </thead>\n",
       "  <tbody>\n",
       "    <tr>\n",
       "      <th>0</th>\n",
       "      <td>logistic_regression</td>\n",
       "      <td>neutral</td>\n",
       "    </tr>\n",
       "    <tr>\n",
       "      <th>1</th>\n",
       "      <td>naive_bayes</td>\n",
       "      <td>positive</td>\n",
       "    </tr>\n",
       "    <tr>\n",
       "      <th>2</th>\n",
       "      <td>random_forest</td>\n",
       "      <td>positive</td>\n",
       "    </tr>\n",
       "    <tr>\n",
       "      <th>3</th>\n",
       "      <td>decision_tree</td>\n",
       "      <td>positive</td>\n",
       "    </tr>\n",
       "  </tbody>\n",
       "</table>\n",
       "</div>"
      ]
     },
     "execution_count": 7,
     "metadata": {},
     "output_type": "execute_result"
    }
   ],
   "execution_count": 7
  },
  {
   "metadata": {
    "ExecuteTime": {
     "end_time": "2024-06-08T20:00:45.120512Z",
     "start_time": "2024-06-08T20:00:36.851114Z"
    }
   },
   "cell_type": "code",
   "source": [
    "test = sentiment_analysis.predict_pyspark_ml([\"quán này dở ẹt chả có gì hấp dẫn\"])\n",
    "test"
   ],
   "id": "b28486081e2d237f",
   "outputs": [
    {
     "name": "stdout",
     "output_type": "stream",
     "text": [
      "Replacing English words in the 'Comment' column...\n"
     ]
    },
    {
     "name": "stderr",
     "output_type": "stream",
     "text": [
      "100%|██████████| 1/1 [00:00<00:00, 4599.02it/s]\n"
     ]
    },
    {
     "name": "stdout",
     "output_type": "stream",
     "text": [
      "Replacing emojis in the 'Comment' column...\n"
     ]
    },
    {
     "name": "stderr",
     "output_type": "stream",
     "text": [
      "100%|██████████| 1/1 [00:00<00:00, 3945.72it/s]\n"
     ]
    },
    {
     "name": "stdout",
     "output_type": "stream",
     "text": [
      "Replacing teencode in the 'Comment' column...\n"
     ]
    },
    {
     "name": "stderr",
     "output_type": "stream",
     "text": [
      "100%|██████████| 1/1 [00:00<00:00, 5165.40it/s]\n"
     ]
    },
    {
     "name": "stdout",
     "output_type": "stream",
     "text": [
      "Removing weird characters from the 'Comment' column...\n"
     ]
    },
    {
     "name": "stderr",
     "output_type": "stream",
     "text": [
      "100%|██████████| 1/1 [00:00<00:00, 5940.94it/s]\n"
     ]
    },
    {
     "name": "stdout",
     "output_type": "stream",
     "text": [
      "Correcting wrong words in the 'Comment' column...\n"
     ]
    },
    {
     "name": "stderr",
     "output_type": "stream",
     "text": [
      "100%|██████████| 1/1 [00:00<00:00,  8.90it/s]\n"
     ]
    },
    {
     "name": "stdout",
     "output_type": "stream",
     "text": [
      "Tokenizing the 'Comment' column...\n"
     ]
    },
    {
     "name": "stderr",
     "output_type": "stream",
     "text": [
      "100%|██████████| 1/1 [00:00<00:00, 1325.21it/s]\n"
     ]
    },
    {
     "name": "stdout",
     "output_type": "stream",
     "text": [
      "Removing stopwords from the 'Comment' column...\n"
     ]
    },
    {
     "name": "stderr",
     "output_type": "stream",
     "text": [
      "100%|██████████| 1/1 [00:00<00:00, 7133.17it/s]\n"
     ]
    },
    {
     "name": "stdout",
     "output_type": "stream",
     "text": [
      "Removing punctuation from the 'Comment' column...\n"
     ]
    },
    {
     "name": "stderr",
     "output_type": "stream",
     "text": [
      "100%|██████████| 1/1 [00:00<00:00, 4660.34it/s]\n"
     ]
    },
    {
     "name": "stdout",
     "output_type": "stream",
     "text": [
      "Vietnamese text column handled successfully.\n",
      "['này dở_ết chả gì hấp_dẫn']\n"
     ]
    },
    {
     "name": "stderr",
     "output_type": "stream",
     "text": [
      "24/06/09 03:00:39 WARN DAGScheduler: Broadcasting large task binary with size 3.0 MiB\n",
      "24/06/09 03:00:40 WARN DAGScheduler: Broadcasting large task binary with size 3.0 MiB\n",
      "24/06/09 03:00:43 WARN DAGScheduler: Broadcasting large task binary with size 6.6 MiB\n",
      "24/06/09 03:00:44 WARN DAGScheduler: Broadcasting large task binary with size 1731.8 KiB\n",
      "100%|██████████| 4/4 [00:00<00:00, 59493.67it/s]\n"
     ]
    },
    {
     "data": {
      "text/plain": [
       "                 model prediction\n",
       "0  logistic_regression    neutral\n",
       "1          naive_bayes   negative\n",
       "2        random_forest   positive\n",
       "3        decision_tree   positive"
      ],
      "text/html": [
       "<div>\n",
       "<style scoped>\n",
       "    .dataframe tbody tr th:only-of-type {\n",
       "        vertical-align: middle;\n",
       "    }\n",
       "\n",
       "    .dataframe tbody tr th {\n",
       "        vertical-align: top;\n",
       "    }\n",
       "\n",
       "    .dataframe thead th {\n",
       "        text-align: right;\n",
       "    }\n",
       "</style>\n",
       "<table border=\"1\" class=\"dataframe\">\n",
       "  <thead>\n",
       "    <tr style=\"text-align: right;\">\n",
       "      <th></th>\n",
       "      <th>model</th>\n",
       "      <th>prediction</th>\n",
       "    </tr>\n",
       "  </thead>\n",
       "  <tbody>\n",
       "    <tr>\n",
       "      <th>0</th>\n",
       "      <td>logistic_regression</td>\n",
       "      <td>neutral</td>\n",
       "    </tr>\n",
       "    <tr>\n",
       "      <th>1</th>\n",
       "      <td>naive_bayes</td>\n",
       "      <td>negative</td>\n",
       "    </tr>\n",
       "    <tr>\n",
       "      <th>2</th>\n",
       "      <td>random_forest</td>\n",
       "      <td>positive</td>\n",
       "    </tr>\n",
       "    <tr>\n",
       "      <th>3</th>\n",
       "      <td>decision_tree</td>\n",
       "      <td>positive</td>\n",
       "    </tr>\n",
       "  </tbody>\n",
       "</table>\n",
       "</div>"
      ]
     },
     "execution_count": 8,
     "metadata": {},
     "output_type": "execute_result"
    }
   ],
   "execution_count": 8
  },
  {
   "metadata": {
    "ExecuteTime": {
     "end_time": "2024-06-08T20:02:37.671473Z",
     "start_time": "2024-06-08T20:02:29.737213Z"
    }
   },
   "cell_type": "code",
   "source": [
    "test = sentiment_analysis.predict_pyspark_ml([\"quán này rất tệ, bảo vệ thu tiền 500k/một xe đạp, không bảo vệ thì bị đánh, chủ quán tự nhận xét quán mình trên trời nhưng rồi vừa tiếp khách vừa chửi khách, xong vào bếp nấu luôn. Vào đây ăn mà cảm giác như vào địa ngục\"])\n",
    "test"
   ],
   "id": "cc16da628266cc5a",
   "outputs": [
    {
     "name": "stdout",
     "output_type": "stream",
     "text": [
      "Replacing English words in the 'Comment' column...\n"
     ]
    },
    {
     "name": "stderr",
     "output_type": "stream",
     "text": [
      "100%|██████████| 1/1 [00:00<00:00, 2991.66it/s]\n"
     ]
    },
    {
     "name": "stdout",
     "output_type": "stream",
     "text": [
      "Replacing emojis in the 'Comment' column...\n"
     ]
    },
    {
     "name": "stderr",
     "output_type": "stream",
     "text": [
      "100%|██████████| 1/1 [00:00<00:00, 1936.43it/s]\n"
     ]
    },
    {
     "name": "stdout",
     "output_type": "stream",
     "text": [
      "Replacing teencode in the 'Comment' column...\n"
     ]
    },
    {
     "name": "stderr",
     "output_type": "stream",
     "text": [
      "100%|██████████| 1/1 [00:00<00:00, 6452.78it/s]\n"
     ]
    },
    {
     "name": "stdout",
     "output_type": "stream",
     "text": [
      "Removing weird characters from the 'Comment' column...\n"
     ]
    },
    {
     "name": "stderr",
     "output_type": "stream",
     "text": [
      "100%|██████████| 1/1 [00:00<00:00, 5419.00it/s]\n"
     ]
    },
    {
     "name": "stdout",
     "output_type": "stream",
     "text": [
      "Correcting wrong words in the 'Comment' column...\n"
     ]
    },
    {
     "name": "stderr",
     "output_type": "stream",
     "text": [
      "100%|██████████| 1/1 [00:00<00:00,  5.93it/s]\n"
     ]
    },
    {
     "name": "stdout",
     "output_type": "stream",
     "text": [
      "Tokenizing the 'Comment' column...\n"
     ]
    },
    {
     "name": "stderr",
     "output_type": "stream",
     "text": [
      "100%|██████████| 1/1 [00:00<00:00, 339.37it/s]\n"
     ]
    },
    {
     "name": "stdout",
     "output_type": "stream",
     "text": [
      "Removing stopwords from the 'Comment' column...\n"
     ]
    },
    {
     "name": "stderr",
     "output_type": "stream",
     "text": [
      "100%|██████████| 1/1 [00:00<00:00, 3041.55it/s]\n"
     ]
    },
    {
     "name": "stdout",
     "output_type": "stream",
     "text": [
      "Removing punctuation from the 'Comment' column...\n"
     ]
    },
    {
     "name": "stderr",
     "output_type": "stream",
     "text": [
      "100%|██████████| 1/1 [00:00<00:00, 3751.61it/s]"
     ]
    },
    {
     "name": "stdout",
     "output_type": "stream",
     "text": [
      "Vietnamese text column handled successfully.\n",
      "['này tệ bảo_vệ thu tiền 500 k một xe_đạp không bảo_vệ thì bị đánh_chủ tự nhận_xét mình trên trời nhưng rồi vừa tiếp khách vừa chửi khách xong vào bếp nấu luôn vào đây ăn cảm_giác như vào địa_ngục']\n"
     ]
    },
    {
     "name": "stderr",
     "output_type": "stream",
     "text": [
      "\n",
      "24/06/09 03:02:32 WARN DAGScheduler: Broadcasting large task binary with size 3.0 MiB\n",
      "24/06/09 03:02:33 WARN DAGScheduler: Broadcasting large task binary with size 3.0 MiB\n",
      "24/06/09 03:02:36 WARN DAGScheduler: Broadcasting large task binary with size 6.6 MiB\n",
      "24/06/09 03:02:37 WARN DAGScheduler: Broadcasting large task binary with size 1731.8 KiB\n",
      "100%|██████████| 4/4 [00:00<00:00, 73908.44it/s]\n"
     ]
    },
    {
     "data": {
      "text/plain": [
       "                 model prediction\n",
       "0  logistic_regression   negative\n",
       "1          naive_bayes   negative\n",
       "2        random_forest    neutral\n",
       "3        decision_tree   negative"
      ],
      "text/html": [
       "<div>\n",
       "<style scoped>\n",
       "    .dataframe tbody tr th:only-of-type {\n",
       "        vertical-align: middle;\n",
       "    }\n",
       "\n",
       "    .dataframe tbody tr th {\n",
       "        vertical-align: top;\n",
       "    }\n",
       "\n",
       "    .dataframe thead th {\n",
       "        text-align: right;\n",
       "    }\n",
       "</style>\n",
       "<table border=\"1\" class=\"dataframe\">\n",
       "  <thead>\n",
       "    <tr style=\"text-align: right;\">\n",
       "      <th></th>\n",
       "      <th>model</th>\n",
       "      <th>prediction</th>\n",
       "    </tr>\n",
       "  </thead>\n",
       "  <tbody>\n",
       "    <tr>\n",
       "      <th>0</th>\n",
       "      <td>logistic_regression</td>\n",
       "      <td>negative</td>\n",
       "    </tr>\n",
       "    <tr>\n",
       "      <th>1</th>\n",
       "      <td>naive_bayes</td>\n",
       "      <td>negative</td>\n",
       "    </tr>\n",
       "    <tr>\n",
       "      <th>2</th>\n",
       "      <td>random_forest</td>\n",
       "      <td>neutral</td>\n",
       "    </tr>\n",
       "    <tr>\n",
       "      <th>3</th>\n",
       "      <td>decision_tree</td>\n",
       "      <td>negative</td>\n",
       "    </tr>\n",
       "  </tbody>\n",
       "</table>\n",
       "</div>"
      ]
     },
     "execution_count": 11,
     "metadata": {},
     "output_type": "execute_result"
    }
   ],
   "execution_count": 11
  },
  {
   "metadata": {
    "ExecuteTime": {
     "end_time": "2024-06-08T20:00:45.123483Z",
     "start_time": "2024-06-08T20:00:45.121515Z"
    }
   },
   "cell_type": "code",
   "source": "# spark.stop()",
   "id": "45decba40a64e667",
   "outputs": [],
   "execution_count": 9
  }
 ],
 "metadata": {
  "kernelspec": {
   "display_name": "Python 3",
   "language": "python",
   "name": "python3"
  },
  "language_info": {
   "codemirror_mode": {
    "name": "ipython",
    "version": 2
   },
   "file_extension": ".py",
   "mimetype": "text/x-python",
   "name": "python",
   "nbconvert_exporter": "python",
   "pygments_lexer": "ipython2",
   "version": "2.7.6"
  }
 },
 "nbformat": 4,
 "nbformat_minor": 5
}
