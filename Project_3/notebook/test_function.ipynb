{
 "cells": [
  {
   "cell_type": "code",
   "id": "initial_id",
   "metadata": {
    "collapsed": true,
    "ExecuteTime": {
     "end_time": "2024-06-07T12:03:34.965228Z",
     "start_time": "2024-06-07T12:03:32.279446Z"
    }
   },
   "source": [
    "from Project_3.modules.data_preprocessing import DataPreprocessing\n",
    "from Project_3.modules.sentiment_analysis import SentimentAnalysis\n",
    "from Project_3.modules.VietnameseOcrCorrection.tool.predictor import Predictor"
   ],
   "outputs": [],
   "execution_count": 1
  },
  {
   "metadata": {
    "ExecuteTime": {
     "end_time": "2024-06-07T12:03:35.482148Z",
     "start_time": "2024-06-07T12:03:34.966855Z"
    }
   },
   "cell_type": "code",
   "source": [
    "predictor = Predictor(\n",
    "\t\t\tdevice='cuda',\n",
    "\t\t\tmodel_type='seq2seq',\n",
    "\t\t\tweight_path='modules/VietnameseOcrCorrection/weights/seq2seq_0.pth',\n",
    "\t\t)\n",
    "out = predictor.predict('ngon quá')\n",
    "out"
   ],
   "id": "df82eb15042ebba2",
   "outputs": [
    {
     "name": "stderr",
     "output_type": "stream",
     "text": [
      "/mnt/e/Work/Coding/CSC/10_do_an_tot_nghiep/LDS0_K294_Online_VuTrongAn/Project_3/modules/VietnameseOcrCorrection/tool/predictor.py:39: UserWarning: Creating a tensor from a list of numpy.ndarrays is extremely slow. Please consider converting the list to a single numpy.ndarray with numpy.array() before converting to a tensor. (Triggered internally at ../torch/csrc/utils/tensor_new.cpp:261.)\n",
      "  return torch.LongTensor(src_text).to(self.device)\n"
     ]
    },
    {
     "data": {
      "text/plain": [
       "'ngon quá'"
      ]
     },
     "execution_count": 2,
     "metadata": {},
     "output_type": "execute_result"
    }
   ],
   "execution_count": 2
  },
  {
   "metadata": {
    "ExecuteTime": {
     "end_time": "2024-06-07T12:03:35.561561Z",
     "start_time": "2024-06-07T12:03:35.483036Z"
    }
   },
   "cell_type": "code",
   "source": [
    "data_preprocessing = DataPreprocessing(\n",
    "\tdata_path_1='data/1_Restaurants.csv',\n",
    "\tdata_path_2='data/2_Reviews.csv',\n",
    "\tpreprocessed_data_path = 'data/preprocessed_data.csv',\n",
    "\tready_data_path = 'data/ready_data.csv',\n",
    ")"
   ],
   "id": "de15fea3a7305d2d",
   "outputs": [],
   "execution_count": 3
  },
  {
   "metadata": {
    "ExecuteTime": {
     "end_time": "2024-06-07T12:03:36.500014Z",
     "start_time": "2024-06-07T12:03:35.562931Z"
    }
   },
   "cell_type": "code",
   "source": [
    "df = data_preprocessing.preprocess_data_shopee_food()\n",
    "df"
   ],
   "id": "9d5225af8f12490b",
   "outputs": [
    {
     "data": {
      "text/plain": [
       "          ID           User          ReviewTime  Rating  \\\n",
       "0          1        PHAN LE 2023-12-20 21:13:00     5.2   \n",
       "1          2           Thúy 2023-09-25 15:43:00     5.0   \n",
       "2          3    Quyên Quyên 2023-06-24 11:11:00     5.0   \n",
       "3          4    Phương Thảo 2022-12-22 14:58:00     1.0   \n",
       "4          5   Quỳnh Nguyễn 2022-09-23 22:40:00     4.2   \n",
       "...      ...            ...                 ...     ...   \n",
       "29954  29955     Trannuhamy 2020-10-26 12:16:00     7.0   \n",
       "29955  29956         Phương 2021-06-01 15:34:00    10.0   \n",
       "29956  29957             Tú 2021-01-31 14:29:00     3.4   \n",
       "29957  29958  Hoàng Hậu Mai 2020-10-27 18:06:00     7.6   \n",
       "29958  29959      ThoA Thai 2021-10-19 16:27:00    10.0   \n",
       "\n",
       "                                                 Comment  IDRestaurant  \\\n",
       "0               Gà chiên còn sống, rất tanh. Khủng khiép             1   \n",
       "1                                 Đã ăn qua rồi, ăn ok ạ             1   \n",
       "2                                        Đã thư rất ngon             1   \n",
       "3      Tệ .. mua mang về cho 1 gói tương ớt. Và xin t...             1   \n",
       "4      21h30...2 đứa nhỏ kêu đói, sau 1 hồi bình loạn...             1   \n",
       "...                                                  ...           ...   \n",
       "29954  Đặt quán bún thái này trong chương trình của c...          1595   \n",
       "29955  Bánh ngon, nóng.\\nGiao hàng nhanh.\\nGiá phải c...          1609   \n",
       "29956  Phục vụ quá tệ\\nPizza xúc xích double phô mai ...          1609   \n",
       "29957  Đang thèm gà rán thì lướt trúng ngay combo gà ...          1609   \n",
       "29958  Đây là quán bún chả ngon nhất ở Sài Gòn mà mìn...          1612   \n",
       "\n",
       "                                              Restaurant  \\\n",
       "0                      Gà Rán & Burger McDonald's Đa Kao   \n",
       "1                      Gà Rán & Burger McDonald's Đa Kao   \n",
       "2                      Gà Rán & Burger McDonald's Đa Kao   \n",
       "3                      Gà Rán & Burger McDonald's Đa Kao   \n",
       "4                      Gà Rán & Burger McDonald's Đa Kao   \n",
       "...                                                  ...   \n",
       "29954       Tiên Tiên - Bún Thái Cay - Tân Chánh Hiệp 16   \n",
       "29955  3 Râu - Gà Rán, Pizza & Trà Sữa - 107 Nguyễn V...   \n",
       "29956  3 Râu - Gà Rán, Pizza & Trà Sữa - 107 Nguyễn V...   \n",
       "29957  3 Râu - Gà Rán, Pizza & Trà Sữa - 107 Nguyễn V...   \n",
       "29958            Đàm Trang - Bún Chả - Tân Chánh Hiệp 10   \n",
       "\n",
       "                                                 Address OpeningTime District  \\\n",
       "0               2 - 6 Bis Điện Biên Phủ, Quận 1, TP. HCM       00:00   Quận 1   \n",
       "1               2 - 6 Bis Điện Biên Phủ, Quận 1, TP. HCM       00:00   Quận 1   \n",
       "2               2 - 6 Bis Điện Biên Phủ, Quận 1, TP. HCM       00:00   Quận 1   \n",
       "3               2 - 6 Bis Điện Biên Phủ, Quận 1, TP. HCM       00:00   Quận 1   \n",
       "4               2 - 6 Bis Điện Biên Phủ, Quận 1, TP. HCM       00:00   Quận 1   \n",
       "...                                                  ...         ...      ...   \n",
       "29954  52/4A Tân Chánh Hiệp 16, P. Tân Chánh Hiệp (Đầ...       06:00  Quận 12   \n",
       "29955  107 Nguyễn Văn Quá, P. Đông Hưng Thuận, Quận 1...       09:00  Quận 12   \n",
       "29956  107 Nguyễn Văn Quá, P. Đông Hưng Thuận, Quận 1...       09:00  Quận 12   \n",
       "29957  107 Nguyễn Văn Quá, P. Đông Hưng Thuận, Quận 1...       09:00  Quận 12   \n",
       "29958  27 Tân Chánh Hiệp 10, P. Tân Chánh Hiệp, Quận ...         NaN  Quận 12   \n",
       "\n",
       "       ReviewCount ClosingTime  MaxPrice  MinPrice  \n",
       "0              100       23:59  200000.0   50000.0  \n",
       "1              100       23:59  200000.0   50000.0  \n",
       "2              100       23:59  200000.0   50000.0  \n",
       "3              100       23:59  200000.0   50000.0  \n",
       "4              100       23:59  200000.0   50000.0  \n",
       "...            ...         ...       ...       ...  \n",
       "29954            1       23:30  200000.0   25000.0  \n",
       "29955            3       23:59  120000.0   12000.0  \n",
       "29956            3       23:59  120000.0   12000.0  \n",
       "29957            3       23:59  120000.0   12000.0  \n",
       "29958            1         NaN       0.0       0.0  \n",
       "\n",
       "[29540 rows x 14 columns]"
      ],
      "text/html": [
       "<div>\n",
       "<style scoped>\n",
       "    .dataframe tbody tr th:only-of-type {\n",
       "        vertical-align: middle;\n",
       "    }\n",
       "\n",
       "    .dataframe tbody tr th {\n",
       "        vertical-align: top;\n",
       "    }\n",
       "\n",
       "    .dataframe thead th {\n",
       "        text-align: right;\n",
       "    }\n",
       "</style>\n",
       "<table border=\"1\" class=\"dataframe\">\n",
       "  <thead>\n",
       "    <tr style=\"text-align: right;\">\n",
       "      <th></th>\n",
       "      <th>ID</th>\n",
       "      <th>User</th>\n",
       "      <th>ReviewTime</th>\n",
       "      <th>Rating</th>\n",
       "      <th>Comment</th>\n",
       "      <th>IDRestaurant</th>\n",
       "      <th>Restaurant</th>\n",
       "      <th>Address</th>\n",
       "      <th>OpeningTime</th>\n",
       "      <th>District</th>\n",
       "      <th>ReviewCount</th>\n",
       "      <th>ClosingTime</th>\n",
       "      <th>MaxPrice</th>\n",
       "      <th>MinPrice</th>\n",
       "    </tr>\n",
       "  </thead>\n",
       "  <tbody>\n",
       "    <tr>\n",
       "      <th>0</th>\n",
       "      <td>1</td>\n",
       "      <td>PHAN LE</td>\n",
       "      <td>2023-12-20 21:13:00</td>\n",
       "      <td>5.2</td>\n",
       "      <td>Gà chiên còn sống, rất tanh. Khủng khiép</td>\n",
       "      <td>1</td>\n",
       "      <td>Gà Rán &amp; Burger McDonald's Đa Kao</td>\n",
       "      <td>2 - 6 Bis Điện Biên Phủ, Quận 1, TP. HCM</td>\n",
       "      <td>00:00</td>\n",
       "      <td>Quận 1</td>\n",
       "      <td>100</td>\n",
       "      <td>23:59</td>\n",
       "      <td>200000.0</td>\n",
       "      <td>50000.0</td>\n",
       "    </tr>\n",
       "    <tr>\n",
       "      <th>1</th>\n",
       "      <td>2</td>\n",
       "      <td>Thúy</td>\n",
       "      <td>2023-09-25 15:43:00</td>\n",
       "      <td>5.0</td>\n",
       "      <td>Đã ăn qua rồi, ăn ok ạ</td>\n",
       "      <td>1</td>\n",
       "      <td>Gà Rán &amp; Burger McDonald's Đa Kao</td>\n",
       "      <td>2 - 6 Bis Điện Biên Phủ, Quận 1, TP. HCM</td>\n",
       "      <td>00:00</td>\n",
       "      <td>Quận 1</td>\n",
       "      <td>100</td>\n",
       "      <td>23:59</td>\n",
       "      <td>200000.0</td>\n",
       "      <td>50000.0</td>\n",
       "    </tr>\n",
       "    <tr>\n",
       "      <th>2</th>\n",
       "      <td>3</td>\n",
       "      <td>Quyên Quyên</td>\n",
       "      <td>2023-06-24 11:11:00</td>\n",
       "      <td>5.0</td>\n",
       "      <td>Đã thư rất ngon</td>\n",
       "      <td>1</td>\n",
       "      <td>Gà Rán &amp; Burger McDonald's Đa Kao</td>\n",
       "      <td>2 - 6 Bis Điện Biên Phủ, Quận 1, TP. HCM</td>\n",
       "      <td>00:00</td>\n",
       "      <td>Quận 1</td>\n",
       "      <td>100</td>\n",
       "      <td>23:59</td>\n",
       "      <td>200000.0</td>\n",
       "      <td>50000.0</td>\n",
       "    </tr>\n",
       "    <tr>\n",
       "      <th>3</th>\n",
       "      <td>4</td>\n",
       "      <td>Phương Thảo</td>\n",
       "      <td>2022-12-22 14:58:00</td>\n",
       "      <td>1.0</td>\n",
       "      <td>Tệ .. mua mang về cho 1 gói tương ớt. Và xin t...</td>\n",
       "      <td>1</td>\n",
       "      <td>Gà Rán &amp; Burger McDonald's Đa Kao</td>\n",
       "      <td>2 - 6 Bis Điện Biên Phủ, Quận 1, TP. HCM</td>\n",
       "      <td>00:00</td>\n",
       "      <td>Quận 1</td>\n",
       "      <td>100</td>\n",
       "      <td>23:59</td>\n",
       "      <td>200000.0</td>\n",
       "      <td>50000.0</td>\n",
       "    </tr>\n",
       "    <tr>\n",
       "      <th>4</th>\n",
       "      <td>5</td>\n",
       "      <td>Quỳnh Nguyễn</td>\n",
       "      <td>2022-09-23 22:40:00</td>\n",
       "      <td>4.2</td>\n",
       "      <td>21h30...2 đứa nhỏ kêu đói, sau 1 hồi bình loạn...</td>\n",
       "      <td>1</td>\n",
       "      <td>Gà Rán &amp; Burger McDonald's Đa Kao</td>\n",
       "      <td>2 - 6 Bis Điện Biên Phủ, Quận 1, TP. HCM</td>\n",
       "      <td>00:00</td>\n",
       "      <td>Quận 1</td>\n",
       "      <td>100</td>\n",
       "      <td>23:59</td>\n",
       "      <td>200000.0</td>\n",
       "      <td>50000.0</td>\n",
       "    </tr>\n",
       "    <tr>\n",
       "      <th>...</th>\n",
       "      <td>...</td>\n",
       "      <td>...</td>\n",
       "      <td>...</td>\n",
       "      <td>...</td>\n",
       "      <td>...</td>\n",
       "      <td>...</td>\n",
       "      <td>...</td>\n",
       "      <td>...</td>\n",
       "      <td>...</td>\n",
       "      <td>...</td>\n",
       "      <td>...</td>\n",
       "      <td>...</td>\n",
       "      <td>...</td>\n",
       "      <td>...</td>\n",
       "    </tr>\n",
       "    <tr>\n",
       "      <th>29954</th>\n",
       "      <td>29955</td>\n",
       "      <td>Trannuhamy</td>\n",
       "      <td>2020-10-26 12:16:00</td>\n",
       "      <td>7.0</td>\n",
       "      <td>Đặt quán bún thái này trong chương trình của c...</td>\n",
       "      <td>1595</td>\n",
       "      <td>Tiên Tiên - Bún Thái Cay - Tân Chánh Hiệp 16</td>\n",
       "      <td>52/4A Tân Chánh Hiệp 16, P. Tân Chánh Hiệp (Đầ...</td>\n",
       "      <td>06:00</td>\n",
       "      <td>Quận 12</td>\n",
       "      <td>1</td>\n",
       "      <td>23:30</td>\n",
       "      <td>200000.0</td>\n",
       "      <td>25000.0</td>\n",
       "    </tr>\n",
       "    <tr>\n",
       "      <th>29955</th>\n",
       "      <td>29956</td>\n",
       "      <td>Phương</td>\n",
       "      <td>2021-06-01 15:34:00</td>\n",
       "      <td>10.0</td>\n",
       "      <td>Bánh ngon, nóng.\\nGiao hàng nhanh.\\nGiá phải c...</td>\n",
       "      <td>1609</td>\n",
       "      <td>3 Râu - Gà Rán, Pizza &amp; Trà Sữa - 107 Nguyễn V...</td>\n",
       "      <td>107 Nguyễn Văn Quá, P. Đông Hưng Thuận, Quận 1...</td>\n",
       "      <td>09:00</td>\n",
       "      <td>Quận 12</td>\n",
       "      <td>3</td>\n",
       "      <td>23:59</td>\n",
       "      <td>120000.0</td>\n",
       "      <td>12000.0</td>\n",
       "    </tr>\n",
       "    <tr>\n",
       "      <th>29956</th>\n",
       "      <td>29957</td>\n",
       "      <td>Tú</td>\n",
       "      <td>2021-01-31 14:29:00</td>\n",
       "      <td>3.4</td>\n",
       "      <td>Phục vụ quá tệ\\nPizza xúc xích double phô mai ...</td>\n",
       "      <td>1609</td>\n",
       "      <td>3 Râu - Gà Rán, Pizza &amp; Trà Sữa - 107 Nguyễn V...</td>\n",
       "      <td>107 Nguyễn Văn Quá, P. Đông Hưng Thuận, Quận 1...</td>\n",
       "      <td>09:00</td>\n",
       "      <td>Quận 12</td>\n",
       "      <td>3</td>\n",
       "      <td>23:59</td>\n",
       "      <td>120000.0</td>\n",
       "      <td>12000.0</td>\n",
       "    </tr>\n",
       "    <tr>\n",
       "      <th>29957</th>\n",
       "      <td>29958</td>\n",
       "      <td>Hoàng Hậu Mai</td>\n",
       "      <td>2020-10-27 18:06:00</td>\n",
       "      <td>7.6</td>\n",
       "      <td>Đang thèm gà rán thì lướt trúng ngay combo gà ...</td>\n",
       "      <td>1609</td>\n",
       "      <td>3 Râu - Gà Rán, Pizza &amp; Trà Sữa - 107 Nguyễn V...</td>\n",
       "      <td>107 Nguyễn Văn Quá, P. Đông Hưng Thuận, Quận 1...</td>\n",
       "      <td>09:00</td>\n",
       "      <td>Quận 12</td>\n",
       "      <td>3</td>\n",
       "      <td>23:59</td>\n",
       "      <td>120000.0</td>\n",
       "      <td>12000.0</td>\n",
       "    </tr>\n",
       "    <tr>\n",
       "      <th>29958</th>\n",
       "      <td>29959</td>\n",
       "      <td>ThoA Thai</td>\n",
       "      <td>2021-10-19 16:27:00</td>\n",
       "      <td>10.0</td>\n",
       "      <td>Đây là quán bún chả ngon nhất ở Sài Gòn mà mìn...</td>\n",
       "      <td>1612</td>\n",
       "      <td>Đàm Trang - Bún Chả - Tân Chánh Hiệp 10</td>\n",
       "      <td>27 Tân Chánh Hiệp 10, P. Tân Chánh Hiệp, Quận ...</td>\n",
       "      <td>NaN</td>\n",
       "      <td>Quận 12</td>\n",
       "      <td>1</td>\n",
       "      <td>NaN</td>\n",
       "      <td>0.0</td>\n",
       "      <td>0.0</td>\n",
       "    </tr>\n",
       "  </tbody>\n",
       "</table>\n",
       "<p>29540 rows × 14 columns</p>\n",
       "</div>"
      ]
     },
     "execution_count": 4,
     "metadata": {},
     "output_type": "execute_result"
    }
   ],
   "execution_count": 4
  },
  {
   "metadata": {
    "ExecuteTime": {
     "end_time": "2024-06-07T12:03:36.511667Z",
     "start_time": "2024-06-07T12:03:36.501561Z"
    }
   },
   "cell_type": "code",
   "source": [
    "# Check for null value in Comment\n",
    "df.isnull().sum()"
   ],
   "id": "908fda9b80391913",
   "outputs": [
    {
     "data": {
      "text/plain": [
       "ID                  0\n",
       "User                0\n",
       "ReviewTime          0\n",
       "Rating              0\n",
       "Comment             0\n",
       "IDRestaurant        0\n",
       "Restaurant          0\n",
       "Address             0\n",
       "OpeningTime     18370\n",
       "District            0\n",
       "ReviewCount         0\n",
       "ClosingTime     18370\n",
       "MaxPrice            0\n",
       "MinPrice            0\n",
       "dtype: int64"
      ]
     },
     "execution_count": 5,
     "metadata": {},
     "output_type": "execute_result"
    }
   ],
   "execution_count": 5
  },
  {
   "metadata": {
    "ExecuteTime": {
     "end_time": "2024-06-07T12:03:36.519160Z",
     "start_time": "2024-06-07T12:03:36.513099Z"
    }
   },
   "cell_type": "code",
   "source": [
    "print(data_preprocessing.emoji_dict)\n",
    "# print(data_preprocessing.teen_dict)\n",
    "# print(data_preprocessing.english_dict)\n",
    "# print(data_preprocessing.wrong_lst)\n",
    "# print(data_preprocessing.stopwords_lst)"
   ],
   "id": "139801bea1f05829",
   "outputs": [
    {
     "name": "stdout",
     "output_type": "stream",
     "text": [
      "{'🥇': 'Huy chương hạng nhất', '🥈': 'Huy chương hạng 2', '🥉': 'Huy chương hạng 3', '🆎': 'Nút AB (nhóm máu)', '🏧': 'Ký hiệu ATM', '🅰️': 'Một nút (nhóm máu)', '🇦🇫': 'Afghanistan', '🇦🇱': 'Albania', '🇩🇿': 'Algeria', '🇦🇸': 'Samoa thuộc Mỹ', '🇦🇩': 'Andorra', '🇦🇴': 'Angola', '🇦🇮': 'Anguilla', '🇦🇶': 'Nam Cực', '🇦🇬': 'Antigua & Barbuda', '♒': 'Bảo Bình', '🇦🇷': 'Argentina', '♈': 'Bạch Dương', '🇦🇲': 'Armenia', '🇦🇼': 'Aruba', '🇦🇨': 'Đảo Thăng Thiên', '🇦🇺': 'Úc', '🇦🇹': 'Áo', '🇦🇿': 'Azerbaijan', '🔙': 'Mũi tên TRỞ LẠI', '🅱️': 'Nút B (nhóm máu)', '🇧🇸': 'Bahama', '🇧🇭': 'Bahrain', '🇧🇩': 'Bangladesh', '🇧🇧': 'Barbados', '🇧🇾': 'Belarus', '🇧🇪': 'Bỉ', '🇧🇿': 'Belize', '🇧🇯': 'Bénin', '🇧🇲': 'Bermuda', '🇧🇹': 'Bhutan', '🇧🇴': 'Bolivia', '🇧🇦': 'Bosnia & Herzegovina', '🇧🇼': 'Botswana', '🇧🇻': 'Đảo Bouvet', '🇧🇷': 'Brazil', '🇮🇴': 'Lãnh thổ Ấn Độ Dương thuộc Anh', '🇻🇬': 'Quần đảo Virgin thuộc Anh', '🇧🇳': 'Brunei', '🇧🇬': 'Bulgaria', '🇧🇫': 'Burkina Faso', '🇧🇮': 'Burundi', '🆑': 'Nút CL', '🆒': 'Nút COOL', '🇰🇭': 'Campuchia', '🇨🇲': 'Cameron', '🇨🇦': 'Canada', '🇮🇨': 'Quần đảo Canary', '♋': 'Cự Giải', '🇨🇻': 'Cape Verde', '♑': 'Ma Kết', '🇧🇶': 'Caribbean Hà Lan', '🇰🇾': 'Quần đảo Cayman', '🇨🇫': 'Cộng hòa Trung Phi', '🇪🇦': 'Ceuta & Melilla', '🇹🇩': 'Chad', '🇨🇱': 'Chilê', '🇨🇳': 'Trung Quốc', '🇨🇽': 'Đảo Giáng sinh', '🎄': 'Cây Giáng sinh', '🇨🇵': 'Đảo Clipperton', '🇨🇨': 'Quần đảo Cocos (Keeling)', '🇨🇴': 'Colombia', '🇰🇲': 'Comoros', '🇨🇬': 'Congo-Brazzaville', '🇨🇩': 'Congo-Kinshasa', '🇨🇰': 'Quần đảo Cook', '🇨🇷': 'Costa Rica', '🇭🇷': 'Croatia', '🇨🇺': 'Cuba', '🇨🇼': 'Curacao', '🇨🇾': 'Síp', '🇨🇿': 'Séc', '🇨🇮': \"Côte d'Ivoire\", '🇩🇰': 'Đan Mạch', '🇩🇬': 'Diego Garcia', '🇩🇯': 'Djibouti', '🇩🇲': 'Dominica', '🇩🇴': 'Cộng hòa Dominica', '🔚': 'END mũi tên', '🇪🇨': 'Ecuador', '🇪🇬': 'Ai Cập', '🇸🇻': 'El Salvador', '🇬🇶': 'Guinea Xích Đạo', '🇪🇷': 'Eritrea', '🇪🇪': 'Estonia', '🇸🇿': 'Eswatini', '🇪🇹': 'Ethiopia', '🇪🇺': 'Liên minh Châu Âu', '🆓': 'Nút MIỄN PHÍ', '🇫🇰': 'Quần đảo Falkland', '🇫🇴': 'Quần đảo Faroe', '🇫🇯': 'Fiji', '🇫🇮': 'Phần Lan', '🇫🇷': 'Pháp', '🇬🇫': 'Guiana thuộc Pháp', '🇵🇫': 'Polynesia thuộc Pháp', '🇹🇫': 'Lãnh thổ phía Nam nước Pháp', '🇬🇦': 'Gabon', '🇬🇲': 'Gambia', '♊': 'Song Tử', '🇬🇪': 'Georgia', '🇩🇪': 'Đức', '🇬🇭': 'Ghana', '🇬🇮': 'Gibraltar', '🇬🇷': 'Hy Lạp', '🇬🇱': 'Greenland', '🇬🇩': 'Grenada', '🇬🇵': 'Guadeloupe', '🇬🇺': 'Guam', '🇬🇹': 'Guatemala', '🇬🇬': 'Guernsey', '🇬🇳': 'Guinea', '🇬🇼': 'Guinea-Bissau', '🇬🇾': 'Guyana', '🇭🇹': 'Haiti', '🇭🇲': 'Quần đảo Heard & McDonald', '🇭🇳': 'Honduras', '🇭🇰': 'Hồng Kông, Trung Quốc', '🇭🇺': 'Hungary', '🆔': 'Nút ID', '🇮🇸': 'Iceland', '🇮🇳': 'Ấn Độ', '🇮🇩': 'Indonesia', '🇮🇷': 'Iran', '🇮🇶': 'Iraq', '🇮🇪': 'Ireland', '🇮🇲': 'Đảo Man', '🇮🇱': 'Israel', '🇮🇹': 'Ý', '🇯🇲': 'Jamaica', '🇯🇵': 'Nhật Bản', '🉑': 'Nút được chấp nhận bằng tiếng Nhật', '🈸': 'Nút ứng dụng tiếng Nhật', '🉐': 'Nút mặc cả của Nhật Bản', '🏯': 'Lâu đài Nhật Bản', '㊗️': 'Nút chúc mừng tiếng Nhật', '🈹': 'Nút giảm giá tiếng Nhật', '🎎': 'Búp bê Nhật Bản', '🈚': 'Nút miễn phí tiếng Nhật', '🈁': 'Nút tiếng Nhật ở đây', '🈷️': 'Nút số tiền hàng tháng của Nhật Bản', '🈵': 'Nút tiếng Nhật không còn chỗ trống', '🈶': 'Nút tiếng Nhật không miễn phí', '🈺': 'Nút mở cửa kinh doanh bằng tiếng Nhật', '🈴': 'Nút đỗ điểm tiếng Nhật', '🏣': 'Bưu điện Nhật Bản', '🈲': 'Nút cấm tiếng Nhật', '🈯': 'Nút dành riêng tiếng Nhật', '㊙️': 'Nút bí mật tiếng Nhật', '🈂️': 'Nút tính phí dịch vụ tiếng Nhật', '🔰': 'Ký hiệu tiếng Nhật dành cho người mới bắt đầu', '🈳': 'Nút tuyển dụng tiếng Nhật', '🇯🇪': 'Jersey', '🇯🇴': 'Jordan', '🇰🇿': 'Kazakhstan', '🇰🇪': 'Kenya', '🇰🇮': 'Kiribati', '🇽🇰': 'Kosovo', '🇰🇼': 'Kuwait', '🇰🇬': 'Kyrgyzstan', '🇱🇦': 'Lào', '🇱🇻': 'Latvia', '🇱🇧': 'Lebanon', '♌': 'Leo', '🇱🇸': 'Lesotho', '🇱🇷': 'Liberia', '♎': 'Thiên Bình', '🇱🇾': 'Libya', '🇱🇮': 'Liechtenstein', '🇱🇹': 'Litva', '🇱🇺': 'Luxembourg', '🇲🇴': 'Đặc khu Macao Trung Quốc', '🇲🇬': 'Madagascar', '🇲🇼': 'Malawi', '🇲🇾': 'Malaysia', '🇲🇻': 'Maldives', '🇲🇱': 'Mali', '🇲🇹': 'Malta', '🇲🇭': 'Quần đảo Marshall', '🇲🇶': 'Martinique', '🇲🇷': 'Mauritania', '🇲🇺': 'Mauritius', '🇾🇹': 'Mayotte', '🇲🇽': 'Mexico', '🇫🇲': 'Micronesia', '🇲🇩': 'Moldova', '🇲🇨': 'Monaco', '🇲🇳': 'Mông Cổ', '🇲🇪': 'Montenegro', '🇲🇸': 'Montserrat', '🇲🇦': 'Ma-rốc', '🇲🇿': 'Mozambique', '🤶': 'Bà. Ông già Noel', '🤶🏿': 'Bà. Màu da tối của Claus', '🤶🏻': 'Bà. Màu da sáng của Claus', '🤶🏾': 'Bà. Màu da tối trung bình của Claus', '🤶🏼': 'Bà. Màu da sáng trung bình của Claus', '🤶🏽': 'Bà. Màu da trung bình của Claus', '🇲🇲': 'Myanmar (Miến Điện)', '🆕': 'Nút MỚI', '🆖': 'NG nút', '🇳🇦': 'Namibia', '🇳🇷': 'Nauru', '🇳🇵': 'Nepal', '🇳🇱': 'Hà Lan', '🇳🇨': 'New Caledonia', '🇳🇿': 'New Zealand', '🇳🇮': 'Nicaragua', '🇳🇪': 'Niger', '🇳🇬': 'Nigeria', '🇳🇺': 'Niue', '🇳🇫': 'Đảo Norfolk', '🇰🇵': 'Bắc Triều Tiên', '🇲🇰': 'Bắc Macedonia', '🇲🇵': 'Quần đảo Bắc Mariana', '🇳🇴': 'Na Uy', '🆗': 'Nút OK', '👌': 'Được rồi tay', '👌🏿': 'OK tay màu da tối', '👌🏻': 'OK, màu da sáng của tay', '👌🏾': 'OK tay màu da tối trung bình', '👌🏼': 'OK tay màu da sáng trung bình', '👌🏽': 'OK tay màu da trung bình', '🔛': 'BẬT! mũi tên', '🅾️': 'Nút O (nhóm máu)', '🇴🇲': 'Oman', '⛎': 'Ophiuchus', '🅿️': 'Nút P', '🇵🇰': 'Pakistan', '🇵🇼': 'Palau', '🇵🇸': 'Lãnh thổ của Palestine', '🇵🇦': 'Panama', '🇵🇬': 'Papua New Guinea', '🇵🇾': 'Paraguay', '🇵🇪': 'Peru', '🇵🇭': 'Philippines', '♓': 'Song Ngư', '🇵🇳': 'Quần đảo Pitcairn', '🇵🇱': 'Ba Lan', '🇵🇹': 'Bồ Đào Nha', '🇵🇷': 'Puerto Rico', '🇶🇦': 'Qatar', '🇷🇴': 'Romania', '🇷🇺': 'Nga', '🇷🇼': 'Rwanda', '🇷🇪': 'Réunion', '🔜': 'Mũi tên SỚM', '🆘': 'Nút SOS', '♐': 'Nhân Mã', '🇼🇸': 'Samoa', '🇸🇲': 'San Marino', '🎅': 'Ông già Noel', '🎅🏿': 'Màu da tối của ông già Noel', '🎅🏻': 'Màu da sáng của ông già Noel', '🎅🏾': 'Màu da tối trung bình của ông già Noel', '🎅🏼': 'Màu da sáng trung bình của ông già Noel', '🎅🏽': 'Màu da trung bình của ông già Noel', '🇸🇦': 'Ả Rập Saudi', '♏': 'Bọ Cạp', '🏴 ۠۠ ҠҠҠҠ': 'Scotland', '🇸🇳': 'Senegal', '🇷🇸': 'Serbia', '🇸🇨': 'Seychelles', '🇸🇱': 'Sierra Leone', '🇸🇬': 'Singapo', '🇸🇽': 'Sint Maarten', '🇸🇰': 'Slovakia', '🇸🇮': 'Slovenia', '🇸🇧': 'Quần đảo Solomon', '🇸🇴': 'Somalia', '🇿🇦': 'Nam Phi', '🇬🇸': 'Quần đảo Nam Georgia và Nam Sandwich', '🇰🇷': 'Hàn Quốc', '🇸🇸': 'Nam Sudan', '🇪🇸': 'Tây Ban Nha', '🇱🇰': 'Sri Lanka', '🇧🇱': 'St. Barthélemy', '🇸🇭': 'St. Helena', '🇰🇳': 'St. Kitts & Nevis', '🇱🇨': 'St. Lucia', '🇲🇫': 'St. Martin', '🇵🇲': 'St. Pierre & Miquelon', '🇻🇨': 'St. Vincent & Grenadines', '🗽': 'Tượng Nữ thần Tự do', '🇸🇩': 'Sudan', '🇸🇷': 'Suriname', '🇸🇯': 'Svalbard & Jan Mayen', '🇸🇪': 'Thụy Điển', '🇨🇭': 'Thụy Sĩ', '🇸🇾': 'Syria', '🇸🇹': 'São Tomé & Príncipe', '🦖': 'T-Rex', '🔝': 'Mũi tên HÀNG ĐẦU', '🇹🇼': 'Đài Loan', '🇹🇯': 'Tajikistan', '🇹🇿': 'Tanzania', '♉': 'Kim Ngưu', '🇹🇭': 'Thái Lan', '🇹🇱': 'Timor-Leste', '🇹🇬': 'Togo', '🇹🇰': 'Tokelau', '🗼': 'Tháp Tokyo', '🇹🇴': 'Tonga', '🇹🇹': 'Trinidad và Tobago', '🇹🇦': 'Tristan da Cunha', '🇹🇳': 'Tunisia', '🇹🇲': 'Turkmenistan', '🇹🇨': 'Quần đảo Thổ Nhĩ Kỳ và Caicos', '🇹🇻': 'Tuvalu', '🇹🇷': 'Türkiye', '🇺🇲': 'Các hòn đảo xa xôi của Hoa Kỳ', '🇻🇮': 'Quần đảo Virgin thuộc Hoa Kỳ', '🆙': 'LÊN! cái nút', '🇺🇬': 'Uganda', '🇺🇦': 'Ukraina', '🇦🇪': 'Các tiểu vương quốc Ả Rập thống nhất', '🇬🇧': 'Vương quốc Anh', '🇺🇳': 'Liên Hiệp Quốc', '🇺🇸': 'Hoa Kỳ', '🇺🇾': 'Uruguay', '🇺🇿': 'Uzbekistan', '🆚': 'Nút VS', '🇻🇺': 'Vanuatu', '🇻🇦': 'Thành phố Vatican', '🇻🇪': 'Venezuela', '🇻🇳': 'Việt Nam', '♍': 'Xử Nữ', '🏴 ۠۠ ҠҠҠ۠': 'Wales', '🇼🇫': 'Wallis & Futuna', '🇪🇭': 'Tây Sahara', '🇾🇪': 'Yêmen', '💤': 'ZZZ', '🇿🇲': 'Zambia', '🇿🇼': 'Zimbabwe', '🧮': 'bàn tính', '🪗': 'accordion', '🩹': 'băng dính', '🎟️': 'vé vào cửa', '🚡': 'đường xe điện trên không', '✈️': 'máy bay', '🛬': 'máy bay đến', '🛫': 'máy bay khởi hành', '⏰': 'đồng hồ báo thức', '⚗️': 'alembic', '👽': 'alien', '👾': 'quái vật ngoài hành tinh', '🚑': 'xe cứu thương', '🏈': 'bóng đá Mỹ', '🏺': 'amphora', '🫀': 'tim giải phẫu', '⚓': 'neo', '💢': 'biểu tượng tức giận', '😠': 'mặt giận dữ', '👿': 'mặt tức giận có sừng', '😧': 'mặt đau khổ', '🐜': 'ant', '📶': 'thanh ăng-ten', '😰': 'mặt lo lắng toát mồ hôi', '🚛': 'xe tải có khớp nối', '🧑 \\u200d 🎨': 'artist', '🧑🏿\\u200d 🎨': 'nghệ sĩ màu da tối', '🧑🏻 \\u200d 🎨': 'nghệ sĩ màu da sáng', '🧑🏾 \\u200d 🎨': 'màu da tối trung bình của nghệ sĩ', '🧑🏼 \\u200d 🎨': 'màu da sáng trung bình của nghệ sĩ', '🧑🏽 \\u200d 🎨': 'màu da trung bình của nghệ sĩ', '🎨': 'bảng nghệ sĩ', '😲': 'mặt kinh ngạc', '🧑 \\u200d 🚀': 'phi hành gia', '🧑🏿\\u200d 🚀': 'màu da tối của phi hành gia', '🧑🏻 \\u200d 🚀': 'màu da sáng của phi hành gia', '🧑🏾 \\u200d 🚀': 'màu da tối trung bình của phi hành gia', '🧑🏼 \\u200d 🚀': 'màu da sáng trung bình của phi hành gia', '🧑🏽 \\u200d 🚀': 'màu da trung bình của phi hành gia', '⚛️': 'ký hiệu nguyên tử', '🛺': 'xe kéo tự động', '🚗': 'ô tô', '🥑': 'quả bơ', '🪓': 'ax', '👶': 'baby', '👼': 'thiên thần bé nhỏ', '👼🏿': 'màu da tối của thiên thần bé', '👼🏻': 'màu da sáng của thiên thần bé', '👼🏾': 'màu da tối trung bình của thiên thần bé', '👼🏼': 'màu da sáng trung bình của thiên thần bé', '👼🏽': 'màu da trung bình của thiên thần bé', '🍼': 'bình sữa cho bé', '🐤': 'gà con', '👶🏿': 'màu da tối của em bé', '👶🏻': 'màu da sáng trẻ em', '👶🏾': 'màu da tối trung bình của bé', '👶🏼': 'màu da sáng trung bình của bé', '👶🏽': 'màu da trung bình của bé', '🚼': 'biểu tượng em bé', '👇': 'ngón trỏ trái chỉ xuống', '👇🏿': 'ngón trỏ trái chỉ xuống màu da tối', '👇🏻': 'ngón trỏ trái chỉ xuống màu da sáng', '👇🏾': 'ngón trỏ trái chỉ xuống màu da tối trung bình', '👇🏼': 'ngón trỏ trái chỉ xuống màu da sáng trung bình', '👇🏽': 'ngón trỏ trái chỉ xuống màu da trung bình', '👈': 'ngón trỏ trái chỉ sang trái', '👈🏿': 'ngón trỏ trái chỉ sang trái màu da tối', '👈🏻': 'ngón trỏ trái chỉ sang trái màu da sáng', '👈🏾': 'ngón trỏ trái chỉ sang trái màu da tối trung bình', '👈🏼': 'ngón trỏ trái chỉ sang trái màu da sáng trung bình', '👈🏽': 'ngón trỏ trái chỉ sang trái màu da trung bình', '👉': 'ngón tay trái chỉ sang phải', '👉🏿': 'ngón trỏ trái chỉ sang phải màu da tối', '👉🏻': 'ngón trỏ trái chỉ vào màu da sáng bên phải', '👉🏾': 'ngón trỏ trái chỉ sang phải màu da tối trung bình', '👉🏼': 'ngón trỏ trái chỉ sang phải màu da sáng trung bình', '👉🏽': 'ngón trỏ trái chỉ sang phải màu da trung bình', '👆': 'ngón trỏ trái tay hướng lên trên', '👆🏿': 'ngón trỏ trái chỉ lên màu da tối', '👆🏻': 'ngón tay trái chỉ lên màu da sáng', '👆🏾': 'ngón trỏ trái chỉ lên màu da tối trung bình', '👆🏼': 'ngón trỏ trái chỉ lên màu da sáng trung bình', '👆🏽': 'ngón trỏ trái chỉ lên màu da trung bình', '🎒': 'ba lô', '🥓': 'thịt xông khói', '🦡': 'badger', '🏸': 'cầu lông', '🥯': 'bagel', '🛄': 'nhận hành lý', '🥖': 'bánh mì baguette', '⚖️': 'cân cân', '🩰': 'giày múa ba lê', '🎈': 'balloon', '🗳️': 'thùng phiếu có lá phiếu', '🍌': 'banana', '🪕': 'banjo', '🏦': 'ngân hàng', '📊': 'biểu đồ thanh', '💈': 'thợ cắt tóc', '⚾': 'bóng chày', '🧺': 'basket', '🏀': 'bóng rổ', '🦇': 'bat', '🛁': 'bồn tắm', '🔋': 'pin', '🏖️': 'bãi biển có ô', '😁': 'mặt rạng rỡ mắt cười', '🫘': 'bean', '🐻': 'bear', '💓': 'tim đập', '🦫': 'hải ly', '🛏️': 'giường', '🍺': 'cốc bia', '🪲': 'con bọ', '🔔': 'bell', '🫑': 'ớt chuông', '🔕': 'chuông có dấu gạch chéo', '🛎️': 'bellhop bell', '🍱': 'hộp bento', '🧃': 'hộp đồ uống', '🚲': 'xe đạp', '👙': 'bikini', '🧢': 'giới hạn hóa đơn', '☣️': 'nguy hiểm sinh học', '🐦': 'chim', '🎂': 'bánh sinh nhật', '🦬': 'bison', '🫦': 'cắn môi', '🐦 \\u200d ⬛': 'chim đen', '🐈 \\u200d ⬛': 'mèo đen', '⚫': 'vòng tròn màu đen', '🏴': 'cờ đen', '🖤': 'tim đen', '⬛': 'hình vuông lớn màu đen', '◾': 'hình vuông vừa nhỏ màu đen', '◼️': 'hình vuông màu đen vừa', '✒️': 'ngòi đen', '▪️': 'hình vuông nhỏ màu đen', '🔲': 'nút vuông màu đen', '🌼': 'hoa', '🐡': 'blowfish', '📘': 'sách xanh', '🔵': 'vòng tròn màu xanh', '💙': 'trái tim xanh', '🟦': 'hình vuông màu xanh', '🫐': 'quả việt quất', '🐗': 'heo rừng', '💣': 'bom', '🦴': 'xương', '🔖': 'đánh dấu', '📑': 'tab đánh dấu', '📚': 'sách', '🪃': 'boomerang', '🍾': 'chai có nút chai kêu', '💐': 'bó hoa', '🏹': 'cung và mũi tên', '🥣': 'bát kèm thìa', '🎳': 'bowling', '🥊': 'găng tay đấm bốc', '👦': 'boy', '👦🏿': 'màu da tối của cậu bé', '👦🏻': 'màu da sáng của con trai', '👦🏾': 'màu da tối trung bình của bé trai', '👦🏼': 'màu da sáng trung bình của con trai', '👦🏽': 'màu da trung bình của con trai', '🧠': 'brain', '🍞': 'bánh mì', '🤱': 'cho con bú', '🤱🏿': 'đang cho con bú màu da tối', '🤱🏻': 'màu da sáng đang cho con bú', '🤱🏾': 'cho con bú màu da tối trung bình', '🤱🏼': 'cho con bú màu da sáng trung bình', '🤱🏽': 'cho con bú màu da trung bình', '🧱': 'gạch', '🌉': 'cầu vào ban đêm', '💼': 'cặp', '🩲': 'tóm tắt', '🔆': 'nút sáng', '🥦': 'bông cải xanh', '⛓️ \\u200d ✔️': 'đứt dây chuyền', '💔': 'trái tim tan vỡ', '🧹': 'chổi', '🟤': 'vòng tròn màu nâu', '🤎': 'trái tim nâu', '🍄 \\u200d 🟫': 'nấm nâu', '🟫': 'hình vuông màu nâu', '🧋': 'trà bong bóng', '🫧': 'bubble', '🪣': 'bucket', '🐛': 'bug', '🏗️': 'xây dựng công trình', '🚅': 'tàu cao tốc', '🎯': 'bullseye', '🌯': 'burrito', '🚌': 'xe buýt', '🚏': 'trạm xe buýt', '👤': 'bóng bán thân', '👥': 'bóng bán thân', '🧈': 'bơ', '🦋': 'bướm', '🌵': 'cactus', '📅': 'lịch', '🤙': 'gọi tay cho tôi', '🤙🏿': 'gọi tay tôi màu da tối', '🤙🏻': 'tay gọi tôi màu da sáng', '🤙🏾': 'tay gọi tôi màu da tối trung bình', '🤙🏼': 'tay gọi tôi màu da sáng trung bình', '🤙🏽': 'tay gọi tôi màu da trung bình', '🐪': 'lạc đà', '📷': 'máy ảnh', '📸': 'máy ảnh có đèn flash', '🏕️': 'cắm trại', '🕯️': 'candle', '🍬': 'candy', '🥫': 'đồ hộp', '🛶': 'ca nô', '🗃️': 'hộp đựng thẻ', '📇': 'mục lục thẻ', '🗂️': 'bộ chia chỉ số thẻ', '🎠': 'ngựa đu quay', '🎏': 'cá chép truyền phát', '🪚': 'máy cưa mộc', '🥕': 'carrot', '🏰': 'lâu đài', '🐈': 'cat', '🐱': 'mặt mèo', '😹': 'mèo mừng rơi nước mắt', '😼': 'mèo cười gượng', '⛓️': 'chains', '🪑': 'ghế', '📉': 'biểu đồ giảm dần', '📈': 'biểu đồ tăng dần', '💹': 'biểu đồ tăng theo đồng Yên', '️': 'hộp kiểm có dấu kiểm', '✔️': 'shamrock', '✅': 'nút đánh dấu', '🧀': 'viên phô mai', '🏁': 'cờ ca rô', '🍒': 'anh đào', '✨': 'lấp lánh', '♟️': 'con cờ vua', '🌰': 'hạt dẻ', '🐔': 'gà', '🧒': 'con', '🧒🏿': 'màu da tối của trẻ em', '🧒🏻': 'màu da sáng của trẻ em', '🧒🏾': 'màu da tối trung bình của trẻ em', '🧒🏼': 'màu da sáng trung bình của trẻ em', '🧒🏽': 'màu da trung bình của trẻ em', '🚸': 'trẻ em băng qua', '🐿️': 'chipmunk', '🍫': 'thanh sô cô la', '🥢': 'đũa', '⛪': 'nhà thờ', '🚬': 'thuốc lá', '🎦': 'điện ảnh', 'Ⓜ️': 'khoanh tròn M', '🎪': 'lều xiếc', '🏙️': 'cảnh quan thành phố', '🌆': 'cảnh thành phố lúc chạng vạng', '🗜️': 'clamp', '🎬': 'clapper board', '👏': 'vỗ tay', '👏🏿': 'vỗ tay màu da tối', '👏🏻': 'vỗ tay màu da sáng', '👏🏾': 'vỗ tay màu da tối trung bình', '👏🏼': 'vỗ tay màu da sáng trung bình', '👏🏽': 'vỗ tay màu da trung bình', '🏛️': 'tòa nhà cổ điển', '🍻': 'tiếng cốc bia kêu leng keng', '🥂': 'lắc kính', '📋': 'clipboard', '🔃': 'mũi tên dọc theo chiều kim đồng hồ', '📕': 'sách đóng', '📪': 'hộp thư đã đóng với lá cờ được hạ xuống', '📫': 'hộp thư đã đóng và treo cờ', '🌂': 'đóng ô', '☁️': 'cloud', '🌩️': 'mây có tia chớp', '⛈️': 'mây có sấm chớp và mưa', '🌧️': 'mây có mưa', '🌨️': 'mây có tuyết', '🤡': 'mặt hề', '♣️': 'bộ đồ câu lạc bộ', '👝': 'túi ly hợp', '🧥': 'áo khoác', '🪳': 'gián', '🍸': 'ly cocktail', '🥥': 'dừa', '⚰️': 'quan tài', '🪙': 'coin', '🥶': 'mặt lạnh lùng', '💥': 'va chạm', '☄️': 'sao chổi', '🧭': 'la bàn', '💽': 'đĩa máy tính', '🖱️': 'chuột máy tính', '🎊': 'quả bóng hoa giấy', '😖': 'mặt bối rối', '😕': 'mặt bối rối', '🚧': 'xây dựng', '👷': 'công nhân xây dựng', '👷🏿': 'công nhân xây dựng màu da tối', '👷🏻': 'công nhân xây dựng màu da sáng', '👷🏾': 'công nhân xây dựng màu da tối trung bình', '👷🏼': 'công nhân xây dựng màu da sáng trung bình', '👷🏽': 'công nhân xây dựng màu da trung bình', '🎛️': 'núm điều khiển', '🏪': 'cửa hàng tiện lợi', '🧑 \\u200d 🍳': 'cook', '🧑🏿\\u200d 🍳': 'cook tông màu da tối', '🧑🏻 \\u200d 🍳': 'nấu da sáng', '🧑🏾 \\u200d 🍳': 'nấu da tối trung bình', '🧑🏼 \\u200d 🍳': 'nấu da sáng trung bình', '🧑🏽 \\u200d 🍳': 'nấu da trung bình', '🍚': 'cơm chín', '🍪': 'cookie', '🍳': 'nấu ăn', '©️': 'bản quyền', '🪸': 'san hô', '🛋️': 'ghế và đèn', '🔄': 'nút mũi tên ngược chiều kim đồng hồ', '💑': 'cặp đôi có trái tim', '💑🏿': 'cặp đôi có màu da tối hình trái tim', '💑🏻': 'cặp đôi có màu da sáng trái tim', '👨 \\u200d ❤️ 👨': 'cặp đôi có trái tim đàn ông đàn ông', '👨🏿 \\u200d ❤️ \\u200d 👨🏿': 'cặp đôi có trái tim đàn ông đàn ông màu da tối', '👨🏿 \\u200d ❤️ \\u200d 👨🏻': 'cặp đôi với trái tim người đàn ông màu da tối tông màu da sáng', '👨🏿 \\u200d ❤️ \\u200d 👨🏾': 'cặp đôi với trái tim người đàn ông màu da tối màu da tối trung bình', '👨🏿 \\u200d ❤️ \\u200d 👨🏼': 'cặp đôi với trái tim người đàn ông màu da tối màu da sáng trung bình', '👨🏿 \\u200d ❤️ \\u200d 👨🏽': 'cặp đôi với trái tim người đàn ông màu da tối màu da trung bình', '👨🏻 \\u200d ❤️ \\u200d 👨🏻': 'cặp đôi có trái tim đàn ông đàn ông màu da sáng', '👨🏻 \\u200d ❤️ \\u200d 👨🏿': 'cặp đôi với trái tim người đàn ông màu da sáng tông màu da tối', '👨🏻 \\u200d ❤️ \\u200d 👨🏾': 'cặp đôi với trái tim người đàn ông màu da sáng màu da tối trung bình', '👨🏻 \\u200d ❤️ \\u200d 👨🏼': 'cặp đôi với trái tim người đàn ông màu da sáng màu da sáng trung bình', '👨🏻 \\u200d ❤️ \\u200d 👨🏽': 'cặp đôi với trái tim người đàn ông màu da sáng màu da trung bình', '👨🏾 \\u200d ❤️ \\u200d 👨🏾': 'cặp đôi có trái tim đàn ông đàn ông màu da tối trung bình', '👨🏾 \\u200d ❤️ \\u200d 👨🏿': 'cặp đôi với trái tim người đàn ông màu da tối trung bình tông màu da tối', '👨🏾 \\u200d ❤️ \\u200d 👨🏻': 'cặp đôi với trái tim người đàn ông màu da tối trung bình màu da sáng', '👨🏾 \\u200d ❤️ \\u200d 👨🏼': 'cặp đôi với trái tim người đàn ông màu da tối trung bình màu da sáng trung bình', '👨🏾 \\u200d ❤️ \\u200d 👨🏽': 'cặp đôi có trái tim người đàn ông màu da tối trung bình màu da trung bình', '👨🏼 \\u200d ❤️ \\u200d 👨🏼': 'cặp đôi với trái tim người đàn ông màu da sáng trung bình', '👨🏼 \\u200d ❤️ \\u200d 👨🏿': 'cặp đôi với trái tim người đàn ông màu da sáng trung bình tông màu da tối', '👨🏼 \\u200d ❤️ \\u200d 👨🏻': 'cặp đôi với trái tim người đàn ông màu da sáng trung bình màu da sáng', '👨🏼 \\u200d ❤️ \\u200d 👨🏾': 'cặp đôi với trái tim người đàn ông màu da sáng trung bình màu da tối trung bình', '👨🏼 \\u200d ❤️ \\u200d 👨🏽': 'cặp đôi với trái tim người đàn ông màu da sáng trung bình màu da trung bình', '👨🏽 \\u200d ❤️ \\u200d 👨🏽': 'cặp đôi với trái tim người đàn ông người đàn ông màu da trung bình', '👨🏽 \\u200d ❤️ \\u200d 👨🏿': 'cặp đôi với trái tim người đàn ông màu da trung bình tông màu da tối', '👨🏽 \\u200d ❤️ \\u200d 👨🏻': 'cặp đôi với trái tim người đàn ông màu da trung bình tông màu da sáng', '👨🏽 \\u200d ❤️ \\u200d 👨🏾': 'cặp đôi với trái tim người đàn ông màu da trung bình màu da tối trung bình', '👨🏽 \\u200d ❤️ \\u200d 👨🏼': 'cặp đôi với trái tim người đàn ông màu da trung bình màu da sáng trung bình', '💑🏾': 'cặp đôi có trái tim màu da tối trung bình', '💑🏼': 'cặp đôi có màu da sáng trung bình', '💑🏽': 'cặp đôi có màu da trung bình', '🧑🏿 \\u200d ❤️ \\u200d 🧑🏻': 'cặp đôi có trái tim người màu da tối màu da sáng', '🧑🏿 \\u200d ❤️ \\u200d 🧑🏾': 'cặp đôi có trái tim người màu da tối màu da tối trung bình', '🧑🏿 \\u200d ❤️ \\u200d 🧑🏼': 'cặp đôi có trái tim người màu da tối màu da sáng trung bình', '🧑🏿 \\u200d ❤️ \\u200d 🧑🏽': 'cặp đôi có trái tim người màu da tối màu da trung bình', '🧑🏻 \\u200d ❤️ \\u200d 🧑🏿': 'cặp đôi có trái tim người màu da sáng tông màu da tối', '🧑🏻 \\u200d ❤️ \\u200d 🧑🏾': 'cặp đôi có trái tim người màu da sáng màu da tối trung bình', '🧑🏻 \\u200d ❤️ \\u200d 🧑🏼': 'cặp đôi có trái tim người màu da sáng màu da sáng trung bình', '🧑🏻 \\u200d ❤️ \\u200d 🧑🏽': 'cặp đôi có trái tim người màu da sáng tông màu da trung bình', '🧑🏾 \\u200d ❤️ \\u200d 🧑🏿': 'cặp đôi có trái tim người màu da tối trung bình tông màu da tối', '🧑🏾 \\u200d ❤️ \\u200d 🧑🏻': 'cặp đôi có trái tim người màu da tối trung bình màu da sáng', '🧑🏾 \\u200d ❤️ \\u200d 🧑🏼': 'cặp đôi với trái tim người màu da tối trung bình màu da sáng trung bình', '🧑🏾 \\u200d ❤️ \\u200d 🧑🏽': 'cặp đôi có trái tim người màu da tối trung bình màu da trung bình', '🧑🏼 \\u200d ❤️ \\u200d 🧑🏿': 'cặp đôi có trái tim người người màu da sáng trung bình tông màu da tối', '🧑🏼 \\u200d ❤️ \\u200d 🧑🏻': 'cặp đôi với trái tim người màu da sáng trung bình màu da sáng', '🧑🏼 \\u200d ❤️ \\u200d 🧑🏾': 'cặp đôi với trái tim người màu da sáng trung bình màu da tối trung bình', '🧑🏼 \\u200d ❤️ \\u200d 🧑🏽': 'cặp đôi có trái tim người người màu da sáng trung bình màu da trung bình', '🧑🏽 \\u200d ❤️ \\u200d 🧑🏿': 'cặp đôi có trái tim người màu da trung bình tông màu da tối', '🧑🏽 \\u200d ❤️ \\u200d 🧑🏻': 'cặp đôi có trái tim người màu da trung bình tông màu da sáng', '🧑🏽 \\u200d ❤️ \\u200d 🧑🏾': 'cặp đôi có trái tim người màu da trung bình màu da tối trung bình', '🧑🏽 \\u200d ❤️ \\u200d 🧑🏼': 'cặp đôi có trái tim người màu da trung bình màu da sáng trung bình', '👩\\u200d ❤️\\u200d 👨': 'cặp đôi có trái tim đàn bà đàn ông', '👩🏿 \\u200d ❤️ \\u200d 👨🏿': 'cặp đôi có trái tim phụ nữ đàn ông màu da tối', '👩🏿 \\u200d ❤️ \\u200d 👨🏻': 'cặp đôi có trái tim phụ nữ đàn ông tông da tối tông da sáng', '👩🏿 \\u200d ❤️ \\u200d 👨🏾': 'cặp đôi có trái tim phụ nữ đàn ông màu da tối màu da tối trung bình', '👩🏿 \\u200d ❤️ \\u200d 👨🏼': 'cặp đôi có trái tim phụ nữ đàn ông màu da tối màu da sáng trung bình', '👩🏿 \\u200d ❤️ \\u200d 👨🏽': 'cặp đôi có trái tim phụ nữ đàn ông màu da tối màu da trung bình', '👩🏻 \\u200d ❤️ \\u200d 👨🏻': 'cặp đôi có trái tim, phụ nữ, đàn ông màu da sáng', '👩🏻 \\u200d ❤️ \\u200d 👨🏿': 'cặp đôi có trái tim phụ nữ đàn ông màu da sáng tông màu da tối', '👩🏻 \\u200d ❤️ \\u200d 👨🏾': 'cặp đôi có trái tim phụ nữ đàn ông màu da sáng màu da tối trung bình', '👩🏻 \\u200d ❤️ \\u200d 👨🏼': 'cặp đôi có trái tim phụ nữ đàn ông màu da sáng màu da sáng trung bình', '👩🏻 \\u200d ❤️ \\u200d 👨🏽': 'cặp đôi có trái tim phụ nữ đàn ông màu da sáng tông màu da trung bình', '👩🏾 \\u200d ❤️ \\u200d 👨🏾': 'cặp đôi có trái tim phụ nữ đàn ông màu da tối trung bình', '👩🏾 \\u200d ❤️ \\u200d 👨🏿': 'cặp đôi có trái tim phụ nữ đàn ông màu da tối trung bình tông màu da tối', '👩🏾 \\u200d ❤️ \\u200d 👨🏻': 'cặp đôi có trái tim phụ nữ đàn ông màu da tối trung bình tông da sáng', '👩🏾 \\u200d ❤️ \\u200d 👨🏼': 'cặp đôi có trái tim phụ nữ đàn ông màu da tối trung bình màu da sáng trung bình', '👩🏾 \\u200d ❤️ \\u200d 👨🏽': 'cặp đôi có trái tim phụ nữ đàn ông màu da tối trung bình màu da trung bình', '👩🏼 \\u200d ❤️ \\u200d 👨🏼': 'cặp đôi có trái tim phụ nữ đàn ông màu da sáng trung bình', '👩🏼 \\u200d ❤️ \\u200d 👨🏿': 'cặp đôi có trái tim phụ nữ đàn ông màu da sáng trung bình tông màu da tối', '👩🏼 \\u200d ❤️ \\u200d 👨🏻': 'cặp đôi có trái tim phụ nữ đàn ông màu da sáng trung bình tông da sáng', '👩🏼 \\u200d ❤️ \\u200d 👨🏾': 'cặp đôi có trái tim phụ nữ đàn ông màu da sáng trung bình màu da tối trung bình', '👩🏼 \\u200d ❤️ \\u200d 👨🏽': 'cặp đôi có trái tim phụ nữ đàn ông màu da sáng trung bình màu da trung bình', '👩🏽 \\u200d ❤️ \\u200d 👨🏽': 'cặp đôi có trái tim, phụ nữ, đàn ông, màu da trung bình', '👩🏽 \\u200d ❤️ \\u200d 👨🏿': 'cặp đôi có trái tim phụ nữ đàn ông màu da trung bình tông màu da tối', '👩🏽 \\u200d ❤️ \\u200d 👨🏻': 'cặp đôi có trái tim phụ nữ đàn ông màu da trung bình tông da sáng', '👩🏽 \\u200d ❤️ \\u200d 👨🏾': 'cặp đôi có trái tim phụ nữ đàn ông màu da trung bình màu da tối trung bình', '👩🏽 \\u200d ❤️ \\u200d 👨🏼': 'cặp đôi có trái tim phụ nữ đàn ông màu da trung bình màu da sáng trung bình', '👩\\u200d ❤️\\u200d 👩': 'cặp đôi có trái tim người phụ nữ người phụ nữ', '👩🏿 \\u200d ❤️ \\u200d 👩🏿': 'cặp đôi có trái tim người phụ nữ người phụ nữ màu da tối', '👩🏿 \\u200d ❤️ \\u200d 👩🏻': 'cặp đôi có trái tim người phụ nữ người phụ nữ tông da tối tông da sáng', '👩🏿 \\u200d ❤️ \\u200d 👩🏾': 'cặp đôi có trái tim người phụ nữ người phụ nữ màu da tối tông màu da tối trung bình', '👩🏿 \\u200d ❤️ \\u200d 👩🏼': 'cặp đôi có trái tim người phụ nữ người phụ nữ màu da tối màu da sáng trung bình', '👩🏿 \\u200d ❤️ \\u200d 👩🏽': 'cặp đôi có trái tim người phụ nữ người phụ nữ màu da tối màu da trung bình', '👩🏻 \\u200d ❤️ \\u200d 👩🏻': 'cặp đôi có trái tim người phụ nữ người phụ nữ màu da sáng', '👩🏻 \\u200d ❤️ \\u200d 👩🏿': 'cặp đôi có trái tim người phụ nữ người phụ nữ màu da sáng tông màu da tối', '👩🏻 \\u200d ❤️ \\u200d 👩🏾': 'cặp đôi có trái tim người phụ nữ người phụ nữ màu da sáng màu da tối trung bình', '👩🏻 \\u200d ❤️ \\u200d 👩🏼': 'cặp đôi có trái tim người phụ nữ người phụ nữ màu da sáng màu da sáng trung bình', '👩🏻 \\u200d ❤️ \\u200d 👩🏽': 'cặp đôi có trái tim người phụ nữ người phụ nữ màu da sáng màu da trung bình', '👩🏾 \\u200d ❤️ \\u200d 👩🏾': 'cặp đôi có trái tim người phụ nữ người phụ nữ màu da tối trung bình', '👩🏾 \\u200d ❤️ \\u200d 👩🏿': 'cặp đôi có trái tim người phụ nữ người phụ nữ màu da tối trung bình tông màu da tối', '👩🏾 \\u200d ❤️ \\u200d 👩🏻': 'cặp đôi có trái tim người phụ nữ người phụ nữ màu da tối trung bình màu da sáng', '👩🏾 \\u200d ❤️ \\u200d 👩🏼': 'cặp đôi có trái tim người phụ nữ người phụ nữ màu da tối trung bình màu da sáng trung bình', '👩🏾 \\u200d ❤️ \\u200d 👩🏽': 'cặp đôi có trái tim người phụ nữ người phụ nữ màu da tối trung bình màu da trung bình', '👩🏼 \\u200d ❤️ \\u200d 👩🏼': 'cặp đôi với trái tim người phụ nữ người phụ nữ màu da sáng trung bình', '👩🏼 \\u200d ❤️ \\u200d 👩🏿': 'cặp đôi có trái tim người phụ nữ người phụ nữ màu da sáng trung bình tông màu da tối', '👩🏼 \\u200d ❤️ \\u200d 👩🏻': 'cặp đôi với trái tim người phụ nữ người phụ nữ màu da sáng trung bình tông màu da sáng', '👩🏼 \\u200d ❤️ \\u200d 👩🏾': 'cặp đôi có trái tim người phụ nữ người phụ nữ màu da sáng trung bình màu da tối trung bình', '👩🏼 \\u200d ❤️ \\u200d 👩🏽': 'cặp đôi có trái tim người phụ nữ người phụ nữ màu da sáng trung bình màu da trung bình', '👩🏽 \\u200d ❤️ \\u200d 👩🏽': 'cặp đôi có trái tim người phụ nữ người phụ nữ màu da trung bình', '👩🏽 \\u200d ❤️ \\u200d 👩🏿': 'cặp đôi có trái tim người phụ nữ người phụ nữ màu da trung bình tông màu da tối', '👩🏽 \\u200d ❤️ \\u200d 👩🏻': 'cặp đôi có trái tim người phụ nữ người phụ nữ màu da trung bình tông màu da sáng', '👩🏽 \\u200d ❤️ \\u200d 👩🏾': 'cặp đôi có trái tim người phụ nữ người phụ nữ màu da trung bình màu da tối trung bình', '👩🏽 \\u200d ❤️ \\u200d 👩🏼': 'cặp đôi với trái tim người phụ nữ người phụ nữ màu da trung bình màu da sáng trung bình', '🐄': 'bò', '🐮': 'mặt bò', '🤠': 'mặt mũ cao bồi', '🦀': 'cua', '🖍️': 'crayon', '💳': 'thẻ tín dụng', '🌙': 'trăng lưỡi liềm', '🦗': 'cricket', '🏏': 'trò chơi cricket', '🐊': 'cá sấu', '🥐': 'bánh sừng bò', '❌': 'dấu chéo', '❎': 'nút dấu chéo', '🤞': 'bắt chéo ngón tay', '🤞🏿': 'bắt chéo ngón tay màu da tối', '🤞🏻': 'bắt chéo ngón tay màu da sáng', '🤞🏾': 'bắt chéo ngón tay màu da tối trung bình', '🤞🏼': 'khoanh tay màu da sáng trung bình', '🤞🏽': 'bắt chéo ngón tay màu da trung bình', '🎌': 'cờ chéo', '⚔️': 'bắt chéo kiếm', '👑': 'crown', '🩼': 'nạng', '😿': 'mèo khóc', '😢': 'mặt khóc', '🔮': 'quả cầu pha lê', '🥒': 'dưa chuột', '🥤': 'cốc có ống hút', '🧁': 'cake', '🥌': 'đá uốn tóc', '➰': 'vòng xoăn', '💱': 'đổi tiền tệ', '🍛': 'cơm cà ri', '🍮': 'custard', '🛃': 'hải quan', '🥩': 'cắt thịt', '🌀': 'cyclone', '🗡️': 'dagger', '🍡': 'dango', '💨': 'vội chạy đi', '🧏 \\u200d♂️': 'điếc', '🧏🏿\\u200d♂️': 'người đàn ông khiếm thính màu da tối', '🧏🏻 \\u200d♂️': 'người điếc màu da sáng', '🧏🏾 \\u200d♂️': 'người điếc màu da tối trung bình', '🧏🏼 \\u200d♂️': 'người khiếm thính màu da sáng trung bình', '🧏🏽 \\u200d♂️': 'người đàn ông khiếm thính màu da trung bình', '🧏': 'người điếc', '🧏🏿': 'người điếc màu da tối', '🧏🏻': 'người khiếm thính màu da sáng', '🧏🏾': 'người điếc màu da tối trung bình', '🧏🏼': 'người điếc màu da sáng trung bình', '🧏🏽': 'người điếc màu da trung bình', '🧏 \\u200d♀️': 'người phụ nữ điếc', '🧏🏿\\u200d♀️': 'người phụ nữ khiếm thính màu da tối', '🧏🏻 \\u200d♀️': 'người phụ nữ khiếm thính màu da sáng', '🧏🏾 \\u200d♀️': 'người phụ nữ khiếm thính màu da tối trung bình', '🧏🏼 \\u200d♀️': 'người phụ nữ khiếm thính màu da sáng trung bình', '🧏🏽 \\u200d♀️': 'người phụ nữ khiếm thính màu da trung bình', '🌳': 'cây rụng lá', '🦌': 'deer', '🚚': 'xe tải giao hàng', '🏬': 'cửa hàng bách hóa', '🏚️': 'ngôi nhà bỏ hoang', '🏜️': 'sa mạc', '🏝️': 'đảo hoang', '🖥️': 'máy tính để bàn', '🕵️': 'thám tử', '🕵🏿': 'màu da tối của thám tử', '🕵🏻': 'màu da sáng thám tử', '🕵🏾': 'màu da tối trung bình của thám tử', '🕵🏼': 'màu da sáng trung bình của thám tử', '🕵🏽': 'màu da trung bình của thám tử', '♦️': 'bộ đồ kim cương', '💠': 'kim cương có chấm', '🔅': 'nút mờ', '😞': 'mặt thất vọng', '🥸': 'khuôn mặt cải trang', '➗': 'chia', '🤿': 'mặt nạ lặn', '🪔': 'diya lamp', '💫': 'chóng mặt', '🧬': 'dna', '🦤': 'dodo', '🐕': 'dog', '🐶': 'mặt chó', '💵': 'tiền đô la', '🐬': 'dolphin', '\\U0001facf': 'con lừa', '🚪': 'cửa', '🫥': 'mặt đường chấm', '🔯': 'ngôi sao sáu cánh có chấm', '➿': 'vòng xoăn đôi', '‼️': 'dấu chấm than kép', '🍩': 'bánh rán', '🕊️': 'dove', '↙️': 'mũi tên xuống bên trái', '↘️': 'mũi tên xuống bên phải', '⬇️': 'mũi tên xuống', '😓': 'mặt ủ rũ, toát mồ hôi', '🔽': 'nút xuống', '🐉': 'dragon', '🐲': 'mặt rồng', '👗': 'dress', '🤤': 'mặt chảy dãi', '🩸': 'giọt máu', '💧': 'droplet', '🥁': 'drum', '🦆': 'vịt', '🥟': 'bánh bao', '📀': 'dvd', '📧': 'e-mail', '🦅': 'đại bàng', '👂': 'tai', '👂🏿': 'tai màu da tối', '👂🏻': 'màu da sáng tai', '👂🏾': 'tai màu da tối trung bình', '👂🏼': 'tai màu da sáng trung bình', '👂🏽': 'tai màu da trung bình', '🌽': 'bắp ngô', '🦻': 'tai với máy trợ thính', '🦻🏿': 'tai đeo máy trợ thính màu da tối', '🦻🏻': 'tai đeo máy trợ thính màu da sáng', '🦻🏾': 'tai đeo máy trợ thính màu da tối trung bình', '🦻🏼': 'tai đeo máy trợ thính màu da sáng trung bình', '🦻🏽': 'tai đeo máy trợ thính màu da trung bình', '🥚': 'trứng', '🍆': 'cà tím', '✴️': 'ngôi sao tám cánh', '✳️': 'dấu hoa thị tám cánh', '🕣': 'tám giờ ba mươi', '🕗': 'tám giờ', '⏏️': 'nút đẩy', '🔌': 'cắm điện', '🐘': 'voi', '🛗': 'thang máy', '🕦': 'mười một giờ ba mươi', '🕚': 'mười một giờ', '🧝': 'elf', '🧝🏿': 'màu da tối của elf', '🧝🏻': 'màu da sáng của elf', '🧝🏾': 'màu da tối trung bình của elf', '🧝🏼': 'màu da sáng trung bình của elf', '🧝🏽': 'màu da trung bình của elf', '🪹': 'tổ trống', '😡': 'mặt giận dữ', '✉️': 'phong bì', '📩': 'phong bì có mũi tên', '💶': 'tiền giấy euro', '🌲': 'cây thường xanh', '🐑': 'ewew', '⁉️': 'dấu hỏi chấm than', '🤯': 'đầu nổ tung', '😑': 'mặt vô cảm', '👁️': 'eye', '👁️ \\u200d 🗨️': 'mắt trong bong bóng lời thoại', '👀': 'eyes', '😘': 'mặt hôn gió', '😮 \\u200d 💨': 'mặt thở ra', '🥹': 'mặt kìm nước mắt', '😶 \\u200d 🌫️': 'mặt trên mây', '😋': 'face thưởng thức đồ ăn', '😱': 'mặt hét lên sợ hãi', '🤮': 'mặt nôn', '😵': 'mặt có mắt lác', '🫤': 'mặt có miệng chéo', '🤭': 'mặt lấy tay che miệng', '🤕': 'mặt đeo băng đầu', '😷': 'mặt đeo khẩu trang y tế', '🧐': 'mặt đeo kính một mắt', '🫢': 'mặt mở mắt và đưa tay che miệng', '😮': 'mặt há miệng', '🫣': 'mặt có mắt nhìn trộm', '🤨': 'mặt nhướn mày', '🙄': 'mặt với đôi mắt trợn ngược', '😵 \\u200d 💫': 'khuôn mặt với đôi mắt xoắn ốc', '😤': 'mặt có hơi nước từ mũi', '🤬': 'mặt có biểu tượng trên miệng', '😂': 'mặt rưng rưng nước mắt sung sướng', '🤒': 'mặt có nhiệt kế', '😛': 'mặt lè lưỡi', '😶': 'mặt không miệng', '🏭': 'nhà máy', '🧑 \\u200d 🏭': 'công nhân nhà máy', '🧑🏿\\u200d 🏭': 'công nhân nhà máy màu da tối', '🧑🏻 \\u200d 🏭': 'công nhân nhà máy màu da sáng', '🧑🏾 \\u200d 🏭': 'công nhân nhà máy màu da tối trung bình', '🧑🏼 \\u200d 🏭': 'công nhân nhà máy màu da sáng trung bình', '🧑🏽 \\u200d 🏭': 'công nhân nhà máy màu da trung bình', '🧚': 'fairy', '🧚🏿': 'màu da tối như thần tiên', '🧚🏻': 'màu da sáng như thần tiên', '🧚🏾': 'màu da tối trung bình như thần tiên', '🧚🏼': 'màu da sáng trung bình như thần tiên', '🧚🏽': 'màu da trung bình như thiên thần', '🧆': 'falafel', '🍂': 'lá rơi', '👪': 'gia đình', '🧑 \\u200d 🧑 \\u200d 🧒': 'gia đình người lớn trẻ em', '🧑 \\u200d 🧑 \\u200d 🧒 \\u200d 🧒': 'gia đình người lớn trẻ em người lớn', '🧑 \\u200d 🧒': 'gia đình người lớn con cái', '🧑 \\u200d 🧒 \\u200d 🧒': 'gia đình người lớn trẻ em', '👨 \\u200d 👦': 'người đàn ông của gia đình chàng trai', '👨 \\u200d 👦 \\u200d 👦': 'người đàn ông của gia đình chàng trai chàng trai', '👨\\u200d 👧': 'người đàn ông của gia đình cô gái', '👨 \\u200d 👧 \\u200d 👦': 'người đàn ông của gia đình cô gái chàng trai', '👨 \\u200d 👧 \\u200d 👧': 'gia đình đàn ông cô gái cô gái', '👨 \\u200d 👨 \\u200d 👦': 'người đàn ông của gia đình người đàn ông chàng trai', '👨 \\u200d 👨 \\u200d 👦 \\u200d 👦': 'người đàn ông của gia đình đàn ông chàng trai chàng trai', '👨 \\u200d 👨 \\u200d 👧': 'người đàn ông của gia đình người đàn ông cô gái', '👨 \\u200d 👨 \\u200d 👧 \\u200d 👦': 'gia đình đàn ông đàn ông cô gái chàng trai', '👨 \\u200d 👨 \\u200d 👧 \\u200d 👧': 'gia đình đàn ông đàn ông cô gái cô gái', '👨 \\u200d 👩 \\u200d 👦': 'gia đình đàn ông đàn bà con trai', '👨 \\u200d 👩 \\u200d 👦 \\u200d 👦': 'gia đình đàn ông đàn bà đàn ông con trai', '👨 \\u200d 👩 \\u200d 👧': 'gia đình đàn ông đàn bà cô gái', '👨 \\u200d 👩 \\u200d 👧 \\u200d 👦': 'gia đình đàn ông đàn bà đàn bà con trai', '👨 \\u200d 👩 \\u200d 👧 \\u200d 👧': 'gia đình đàn ông đàn bà đàn bà gái gái', '👩 \\u200d 👦': 'người phụ nữ của gia đình chàng trai', '👩 \\u200d 👦 \\u200d 👦': 'gia đình đàn bà con trai con trai', '👩\\u200d 👧': 'người phụ nữ của gia đình cô gái', '👩 \\u200d 👧 \\u200d 👦': 'gia đình đàn bà gái trai', '👩 \\u200d 👧 \\u200d 👧': 'phụ nữ gia đình cô gái cô gái', '👩 \\u200d 👩 \\u200d 👦': 'gia đình đàn bà đàn bà con trai', '👩 \\u200d 👩 \\u200d 👦 \\u200d 👦': 'gia đình đàn bà đàn bà đàn ông con trai', '👩 \\u200d 👩 \\u200d 👧': 'người phụ nữ trong gia đình người phụ nữ cô gái', '👩 \\u200d 👩 \\u200d 👧 \\u200d 👦': 'gia đình đàn bà đàn bà đàn bà con trai', '👩 \\u200d 👩 \\u200d 👧 \\u200d 👧': 'gia đình phụ nữ phụ nữ cô gái cô gái', '🧑 \\u200d 🌾': 'farmer', '🧑🏿\\u200d 🌾': 'nông dân màu da tối', '🧑🏻 \\u200d 🌾': 'màu da sáng của nông dân', '🧑🏾 \\u200d 🌾': 'màu da tối trung bình của nông dân', '🧑🏼 \\u200d 🌾': 'màu da sáng trung bình của nông dân', '🧑🏽 \\u200d 🌾': 'màu da trung bình của nông dân', '⏩': 'nút tua nhanh', '⏬': 'nút xuống nhanh', '⏪': 'nút đảo ngược nhanh', '⏫': 'nút tăng nhanh', '📠': 'máy fax', '😨': 'mặt sợ hãi', '🪶': 'lông', '♀️': 'dấu hiệu nữ', '🎡': 'vòng đu quay', '⛴️': 'phà', '🏑': 'khúc côn cầu trên sân', '🗄️': 'tủ hồ sơ', '📁': 'thư mục tập tin', '🎞️': 'khung phim', '📽️': 'máy chiếu phim', '🔥': 'fire', '🚒': 'xe cứu hỏa', '🧯': 'bình chữa cháy', '🧨': 'pháo', '🧑 \\u200d 🚒': 'lính cứu hỏa', '🧑🏿\\u200d 🚒': 'màu da tối của lính cứu hỏa', '🧑🏻 \\u200d 🚒': 'màu da sáng của lính cứu hỏa', '🧑🏾 \\u200d 🚒': 'màu da tối trung bình của lính cứu hỏa', '🧑🏼 \\u200d 🚒': 'màu da sáng trung bình của lính cứu hỏa', '🧑🏽 \\u200d 🚒': 'màu da trung bình của lính cứu hỏa', '🎆': 'pháo hoa', '🌓': 'tháng Giêng', '🌛': 'mặt trăng khuyết đầu tiên', '🐟': 'fish', '🍥': 'bánh cá xoáy', '🎣': 'cần câu cá', '🕠': 'năm giờ ba mươi', '🕔': 'năm giờ', '⛳': 'cờ vào lỗ', '🦩': 'hồng hạc', '🔦': 'đèn pin', '🥿': 'giày bệt', '🫓': 'bánh mì dẹt', '⚜️': 'fleur-de-lis', '💪': 'bắp tay gập lại', '💪🏿': 'bắp tay gập lại màu da tối', '💪🏻': 'bắp tay gập lại màu da sáng', '💪🏾': 'bắp tay gập lại màu da tối trung bình', '💪🏼': 'bắp tay gập lại màu da sáng trung bình', '💪🏽': 'bắp tay gập lại màu da trung bình', '💾': 'đĩa mềm', '🎴': 'bài hoa', '😳': 'mặt đỏ bừng', '\\U0001fa88': 'flute', '🪰': 'fly', '🥏': 'đĩa bay', '🛸': 'đĩa bay', '🌫️': 'sương mù', '🌁': 'sương mù', '🙏': 'khoanh tay', '🙏🏿': 'khoanh tay màu da tối', '🙏🏻': 'khoanh tay màu da sáng', '🙏🏾': 'khoanh tay màu da tối trung bình', '🙏🏼': 'chắp tay màu da sáng trung bình', '🙏🏽': 'chắp tay màu da trung bình', '\\U0001faad': 'quạt cầm tay', '🫕': 'fondue', '🦶': 'chân', '🦶🏿': 'màu da tối ở bàn chân', '🦶🏻': 'màu da sáng ở chân', '🦶🏾': 'màu da tối trung bình ở bàn chân', '🦶🏼': 'màu da sáng trung bình ở chân', '🦶🏽': 'màu da chân trung bình', '👣': 'footprint', '🍴': 'nĩa và dao', '🍽️': 'dao nĩa kèm đĩa', '🥠': 'bánh quy may mắn', '⛲': 'đài phun nước', '🖋️': 'bút máy', '🕟': 'bốn giờ ba mươi', '🕓': 'bốn giờ', '🦊': 'cáo', '🖼️': 'đóng khung ảnh', '🍟': 'khoai tây chiên', '🍤': 'tôm chiên', '🐸': 'Ếch', '🐥': 'gà con quay mặt về phía trước', '☹️': 'mặt cau mày', '😦': 'mặt cau mày há miệng', '⛽': 'bơm nhiên liệu', '🌕': 'trăng tròn', '🌝': 'mặt trăng tròn', '⚱️': 'bình đựng tang lễ', '🎲': 'game die', '🧄': 'tỏi', '⚙️': 'gear', '💎': 'đá quý', '🧞': 'genie', '👻': 'ghost', '\\U0001fada': 'rễ gừng', '🦒': 'hươu cao cổ', '👧': 'girl', '👧🏿': 'màu da tối của cô gái', '👧🏻': 'màu da sáng của cô gái', '👧🏾': 'màu da tối trung bình của cô gái', '👧🏼': 'màu da sáng trung bình của cô gái', '👧🏽': 'cô gái màu da trung bình', '🥛': 'ly sữa', '👓': 'kính', '🌎': 'quả địa cầu hiển thị Châu Mỹ', '🌏': 'quả địa cầu hiển thị Châu Á-Úc', '🌍': 'quả địa cầu hiển thị Châu Âu-Châu Phi', '🌐': 'quả địa cầu có kinh tuyến', '🧤': 'găng tay', '🌟': 'ngôi sao phát sáng', '🥅': 'lưới khung thành', '🐐': 'goat', '👺': 'goblin', '🥽': 'kính', '\\U0001fabf': 'goose', '🦍': 'gorilla', '🎓': 'mũ tốt nghiệp', '🍇': 'nho', '🍏': 'táo xanh', '📗': 'sách xanh', '🟢': 'vòng tròn xanh', '💚': 'trái tim xanh', '🥗': 'salad xanh', '🟩': 'hình vuông màu xanh lá cây', '\\U0001fa76': 'trái tim xám', '😬': 'mặt nhăn nhó', '😺': 'mèo cười toe toét', '😸': 'mèo cười toe toét với đôi mắt biết cười', '😀': 'mặt cười toe toét', '😃': 'mặt cười toe toét với đôi mắt to', '😄': 'mặt cười toe toét với đôi mắt biết cười', '😅': 'mặt cười toe toét mồ hôi', '😆': 'mặt cười nhăn nhở', '💗': 'trái tim đang lớn dần', '💂': 'guard', '💂🏿': 'bảo vệ màu da tối', '💂🏻': 'bảo vệ màu da sáng', '💂🏾': 'bảo vệ màu da tối trung bình', '💂🏼': 'bảo vệ màu da sáng trung bình', '💂🏽': 'bảo vệ màu da trung bình', '🦮': 'chó dẫn đường', '🎸': 'guitar', '\\U0001faae': 'chọn tóc', '🍔': 'hamburger', '🔨': 'hammer', '⚒️': 'búa và cuốc', '🛠️': 'búa và cờ lê', '🪬': 'hamsa', '🐹': 'hamster', '🖐️': 'bàn tay xòe ngón', '🖐🏿': 'bàn tay dang rộng các ngón màu da tối', '🖐🏻': 'tay xòe ngón tay màu da sáng', '🖐🏾': 'bàn tay xòe các ngón màu da tối trung bình', '🖐🏼': 'bàn tay xòe các ngón màu da sáng trung bình', '🖐🏽': 'bàn tay xòe các ngón màu da trung bình', '🫰': 'tay đan chéo ngón trỏ và ngón cái', '🫰 🏿': 'tay với ngón trỏ và ngón cái bắt chéo nhau màu da tối', '🫰 🏻': 'tay với ngón trỏ và ngón cái bắt chéo nhau màu da sáng', '🫰 🏾': 'tay có ngón trỏ và ngón cái bắt chéo nhau màu da tối trung bình', '🫰 🏼': 'tay với ngón trỏ và ngón cái bắt chéo nhau màu da sáng trung bình', '🫰 🏽': 'tay với ngón trỏ và ngón cái bắt chéo nhau màu da trung bình', '👜': 'túi xách', '🤝': 'bắt tay', '🤝🏿': 'bắt tay màu da tối', '🫱 🏿\\u200d 🫲 🏻': 'bắt tay màu da tối tông màu da sáng', '🫱 🏿\\u200d 🫲 🏾': 'bắt tay màu da tối tông màu da tối trung bình', '🫱 🏿 \\u200d 🫲 🏼': 'bắt tay màu da tối màu da sáng trung bình', '🫱 🏿 \\u200d 🫲 🏽': 'bắt tay màu da tối tông màu da trung bình', '🤝🏻': 'bắt tay màu da sáng', '🫱 🏻 \\u200d 🫲 🏿': 'bắt tay màu da sáng tông màu da tối', '🫱 🏻 \\u200d 🫲 🏾': 'bắt tay màu da sáng tông màu da tối trung bình', '🫱 🏻 \\u200d 🫲 🏼': 'cái bắt tay màu da sáng tông màu da sáng trung bình', '🫱 🏻 \\u200d 🫲 🏽': 'bắt tay màu da sáng tông màu da trung bình', '🤝🏾': 'bắt tay màu da tối trung bình', '🫱 🏾 \\u200d 🫲 🏿': 'bắt tay tông màu da tối trung bình tông màu da tối', '🫱 🏾 \\u200d 🫲 🏻': 'bắt tay màu da tối trung bình tông màu da sáng', '🫱 🏾 \\u200d 🫲 🏼': 'bắt tay màu da tối trung bình màu da sáng trung bình', '🫱 🏾 \\u200d 🫲 🏽': 'bắt tay màu da tối trung bình màu da trung bình', '🤝🏼': 'bắt tay màu da sáng trung bình', '🫱 🏼 \\u200d 🫲 🏿': 'bắt tay màu da sáng trung bình tông màu da tối', '🫱 🏼 \\u200d 🫲 🏻': 'bắt tay màu da sáng trung bình tông màu da sáng', '🫱 🏼 \\u200d 🫲 🏾': 'bắt tay màu da sáng trung bình màu da tối trung bình', '🫱 🏼 \\u200d 🫲 🏽': 'bắt tay màu da sáng trung bình tông màu da trung bình', '🤝🏽': 'bắt tay màu da trung bình', '🫱 🏽 \\u200d 🫲 🏿': 'bắt tay màu da trung bình tông màu da tối', '🫱 🏽 \\u200d 🫲 🏻': 'bắt tay màu da trung bình tông màu da sáng', '🫱 🏽 \\u200d 🫲 🏾': 'bắt tay màu da trung bình tông màu da tối trung bình', '🫱 🏽 \\u200d 🫲 🏼': 'cái bắt tay màu da trung bình màu da sáng trung bình', '🐣': 'gà con mới nở', '🙂 \\u200d↔️': 'đầu lắc ngang', '🙂 \\u200d↕️': 'lắc đầu theo chiều dọc', '🎧': 'tai nghe', '🪦': 'headstone', '🧑 \\u200d ⚕️': 'nhân viên y tế', '🧑🏿 \\u200d ⚕️': 'màu da tối của nhân viên y tế', '🧑🏻 \\u200d ⚕️': 'màu da sáng của nhân viên y tế', '🧑🏾 \\u200d ⚕️': 'màu da tối trung bình của nhân viên y tế', '🧑🏼 \\u200d ⚕️': 'màu da sáng trung bình của nhân viên y tế', '🧑🏽 \\u200d ⚕️': 'màu da trung bình của nhân viên y tế', '🙉': 'khỉ không nghe điều ác', '💟': 'trang trí trái tim', '❣️': 'cảm thán trái tim', '🫶': 'bàn tay trái tim', '🫶 🏿': 'bàn tay trái tim màu da tối', '🫶 🏻': 'bàn tay trái tim màu da sáng', '🫶 🏾': 'bàn tay trái tim màu da tối trung bình', '🫶 🏼': 'bàn tay trái tim màu da sáng trung bình', '🫶 🏽': 'tay trái tim màu da trung bình', '❤️ \\u200d 🔥': 'trái tim rực lửa', '♥️': 'nút phát', '💘': 'trái tim có mũi tên', '💝': 'trái tim với dải ruy băng', '💲': 'ký hiệu đô la nặng', '🟰': 'nặng ký hiệu bằng', '🦔': 'hedgehog', '🚁': 'máy bay trực thăng', '🌿': 'thảo mộc', '🌺': 'hibiscus', '👠': 'giày cao gót', '🚄': 'tàu cao tốc', '⚡': 'điện áp cao', '🥾': 'giày đi bộ đường dài', '🛕': 'ngôi đền Hindu', '🦛': 'hà mã', '🕳️': 'hole', '⭕': 'vòng tròn màu đỏ rỗng', '🍯': 'nồi mật ong', '🐝': 'ong ong', '🪝': 'hook', '🚥': 'đèn giao thông nằm ngang', '🐎': 'ngựa', '🐴': 'mặt ngựa', '🏇': 'đua ngựa', '🏇🏿': 'đua ngựa màu da tối', '🏇🏻': 'đua ngựa màu da sáng', '🏇🏾': 'đua ngựa màu da tối trung bình', '🏇🏼': 'đua ngựa màu da sáng trung bình', '🏇🏽': 'đua ngựa màu da trung bình', '🏥': 'bệnh viện', '☕': 'đồ uống nóng', '🌭': 'hot dog', '🥵': 'mặt nóng', '🌶️': 'ớt cay', '♨️': 'suối nước nóng', '🏨': 'khách sạn', '⌛': 'đồng hồ cát xong', '⏳': 'đồng hồ cát chưa xong', '🏠': 'house', '🏡': 'nhà có vườn', '🏘️': 'house', '💯': 'trăm điểm', '😯': 'mặt im lặng', '🛖': 'hut', '\\U0001fabb': 'lục bình', '🧊': 'ice', '🍨': 'kem', '🏒': 'khúc côn cầu trên băng', '⛸️': 'trượt băng', '🪪': 'chứng minh nhân dân', '📥': 'khay hộp thư đến', '📨': 'phong bì đến', '🫵': 'index chỉ vào người xem', '🫵 🏿': 'chỉ số chỉ vào người xem tông màu da tối', '🫵 🏻': 'chỉ tay vào người xem màu da sáng', '🫵 🏾': 'chỉ tay về phía người xem tông màu da tối trung bình', '🫵 🏼': 'chỉ tay về phía người xem màu da sáng trung bình', '🫵 🏽': 'chỉ tay vào người xem màu da trung bình', '☝️': 'chỉ số hướng lên', '☝ 🏿': 'chỉ số hướng lên màu da tối', '☝ 🏻': 'chỉ số hướng lên màu da sáng', '☝ 🏾': 'chỉ số hướng lên màu da tối trung bình', '☝ 🏼': 'chỉ số hướng lên màu da sáng trung bình', '☝ 🏽': 'chỉ số hướng lên màu da trung bình', '♾️': 'infinity', 'ℹ️': 'thông tin', '🔤': 'nhập chữ cái Latinh', '🔡': 'nhập chữ Latinh thường', '🔠': 'nhập chữ hoa Latinh', '🔢': 'nhập số', '🔣': 'nhập ký hiệu', '🎃': 'jack-o-lantern', '🫙': 'jar', '👖': 'quần jean', '\\U0001fabc': 'sứa', '🃏': 'joker', '🕹️': 'cần điều khiển', '🧑\\u200d ⚖️': 'thẩm phán', '🧑🏿\\u200d ⚖️': 'đánh giá màu da tối', '🧑🏻 \\u200d ⚖️': 'đánh giá màu da sáng', '🧑🏾 \\u200d ⚖️': 'đánh giá màu da tối trung bình', '🧑🏼 \\u200d ⚖️': 'đánh giá màu da sáng trung bình', '🧑🏽 \\u200d ⚖️': 'đánh giá màu da trung bình', '🕋': 'kaaba', '🦘': 'kangaroo', '🔑': 'key', '⌨️': 'bàn phím', '#️ ⃣': 'keycap #', '*️ ⃣': 'mũ phím *', '0️ ⃣': 'mũ phím 0', '1️ ⃣': 'mũ phím 1', '🔟': 'keycap 10', '2️ ⃣': 'mũ phím 2', '3️ ⃣': 'keycap 3', '4️ ⃣': 'keycap 4', '5️ ⃣': 'mũ phím 5', '6️ ⃣': 'keycap 6', '7️ ⃣': 'keycap 7', '8️ ⃣': 'keycap 8', '9️ ⃣': 'keycap 9', '\\U0001faaf': 'khanda', '🛴': 'kick scooter', '👘': 'kimono', '💏': 'hôn', '💏🏿': 'hôn màu da tối', '💏🏻': 'kiss màu da sáng', '👨\\u200d ❤️ \\u200d 💋 \\u200d 👨': 'hôn người đàn ông', '👨🏿 \\u200d ❤️ \\u200d 💋 \\u200d 👨🏿': 'kiss man man màu da tối', '👨🏿 \\u200d ❤️ \\u200d 💋 \\u200d 👨🏻': 'kiss man man tông da tối tông da sáng', '👨🏿 \\u200d ❤️ \\u200d 💋 \\u200d 👨🏾': 'kiss man man tông màu da tối tông màu da tối trung bình', '👨🏿 \\u200d ❤️ \\u200d 💋 \\u200d 👨🏼': 'kiss man man màu da tối màu da sáng trung bình', '👨🏿 \\u200d ❤️ \\u200d 💋 \\u200d 👨🏽': 'kiss man man tông màu da tối tông màu da trung bình', '👨🏻\\u200d ❤️ \\u200d 💋 \\u200d 👨🏻': 'kiss man man màu da sáng', '👨🏻 \\u200d ❤️ \\u200d 💋 \\u200d 👨🏿': 'kiss man man tông da sáng tông da tối', '👨🏻 \\u200d ❤️ \\u200d 💋 \\u200d 👨🏾': 'kiss man man màu da sáng tông da tối trung bình', '👨🏻 \\u200d ❤️ \\u200d 💋 \\u200d 👨🏼': 'kiss man man màu da sáng tông da sáng trung bình', '👨🏻 \\u200d ❤️ \\u200d 💋 \\u200d 👨🏽': 'kiss man man màu da sáng tông màu da trung bình', '👨🏾 \\u200d ❤️ \\u200d 💋 \\u200d 👨🏾': 'kiss man man màu da tối trung bình', '👨🏾 \\u200d ❤️ \\u200d 💋 \\u200d 👨🏿': 'kiss man man tông màu da tối trung bình tông màu da tối', '👨🏾 \\u200d ❤️ \\u200d 💋 \\u200d 👨🏻': 'kiss man man tông da tối trung bình tông da sáng', '👨🏾 \\u200d ❤️ \\u200d 💋 \\u200d 👨🏼': 'kiss man man màu da tối trung bình màu da sáng trung bình', '👨🏾 \\u200d ❤️ \\u200d 💋 \\u200d 👨🏽': 'kiss man man màu da tối trung bình màu da trung bình', '👨🏼 \\u200d ❤️ \\u200d 💋 \\u200d 👨🏼': 'kiss man man màu da sáng trung bình', '👨🏼 \\u200d ❤️ \\u200d 💋 \\u200d 👨🏿': 'kiss man man màu da sáng trung bình tông màu da tối', '👨🏼 \\u200d ❤️ \\u200d 💋 \\u200d 👨🏻': 'kiss man man màu da sáng trung bình tông da sáng', '👨🏼 \\u200d ❤️ \\u200d 💋 \\u200d 👨🏾': 'kiss man man màu da sáng trung bình màu da tối trung bình', '👨🏼 \\u200d ❤️ \\u200d 💋 \\u200d 👨🏽': 'kiss man man màu da sáng trung bình màu da trung bình', '👨🏽 \\u200d ❤️ \\u200d 💋 \\u200d 👨🏽': 'kiss man man màu da trung bình', '👨🏽 \\u200d ❤️ \\u200d 💋 \\u200d 👨🏿': 'kiss man man tông màu da trung bình tông màu da tối', '👨🏽 \\u200d ❤️ \\u200d 💋 \\u200d 👨🏻': 'kiss man man màu da trung bình tông da sáng', '👨🏽 \\u200d ❤️ \\u200d 💋 \\u200d 👨🏾': 'kiss man man màu da trung bình màu da tối trung bình', '👨🏽 \\u200d ❤️ \\u200d 💋 \\u200d 👨🏼': 'kiss man man màu da trung bình màu da sáng trung bình', '💋': 'dấu hôn', '💏🏾': 'hôn màu da tối trung bình', '💏🏼': 'hôn màu da sáng trung bình', '💏🏽': 'hôn màu da trung bình', '🧑🏿 \\u200d ❤️ \\u200d 💋 \\u200d 🧑🏻': 'kiss người màu da tối màu da sáng', '🧑🏿 \\u200d ❤️ \\u200d 💋 \\u200d 🧑🏾': 'người hôn người màu da tối màu da tối trung bình', '🧑🏿 \\u200d ❤️ \\u200d 💋 \\u200d 🧑🏼': 'người hôn người màu da tối màu da sáng trung bình', '🧑🏿 \\u200d ❤️ \\u200d 💋 \\u200d 🧑🏽': 'kiss người màu da tối màu da trung bình', '🧑🏻 \\u200d ❤️ \\u200d 💋 \\u200d 🧑🏿': 'kiss người nước da sáng tông da tối', '🧑🏻 \\u200d ❤️ \\u200d 💋 \\u200d 🧑🏾': 'người thích hôn người màu da sáng tông màu da tối trung bình', '🧑🏻 \\u200d ❤️ \\u200d 💋 \\u200d 🧑🏼': 'người thích hôn người màu da sáng màu da sáng trung bình', '🧑🏻 \\u200d ❤️ \\u200d 💋 \\u200d 🧑🏽': 'người hôn người màu da sáng tông màu da trung bình', '🧑🏾 \\u200d ❤️ \\u200d 💋 \\u200d 🧑🏿': 'người hôn người nước da tối trung bình nước da tối', '🧑🏾 \\u200d ❤️ \\u200d 💋 \\u200d 🧑🏻': 'người thích hôn người màu da tối trung bình màu da sáng', '🧑🏾 \\u200d ❤️ \\u200d 💋 \\u200d 🧑🏼': 'người hôn người màu da tối trung bìnhmàu da sáng trung bình', '🧑🏾 \\u200d ❤️ \\u200d 💋 \\u200d 🧑🏽': 'người hôn người màu da tối trung bình màu da trung bình', '🧑🏼 \\u200d ❤️ \\u200d 💋 \\u200d 🧑🏿': 'người hôn người màu da sáng trung bình tông màu da tối', '🧑🏼 \\u200d ❤️ \\u200d 💋 \\u200d 🧑🏻': 'người hôn người màu da sáng trung bình màu da sáng', '🧑🏼 \\u200d ❤️ \\u200d 💋 \\u200d 🧑🏾': 'người hôn người màu da sáng trung bình màu da tối trung bình', '🧑🏼 \\u200d ❤️ \\u200d 💋 \\u200d 🧑🏽': 'người hôn người màu da sáng trung bình màu da trung bình', '🧑🏽 \\u200d ❤️ \\u200d 💋 \\u200d 🧑🏿': 'kiss người người màu da trung bình tông màu da tối', '🧑🏽 \\u200d ❤️ \\u200d 💋 \\u200d 🧑🏻': 'người thích hôn người màu da trung bình tông da sáng', '🧑🏽 \\u200d ❤️ \\u200d 💋 \\u200d 🧑🏾': 'người hôn người màu da trung bình màu da tối trung bình', '🧑🏽 \\u200d ❤️ \\u200d 💋 \\u200d 🧑🏼': 'người hôn người màu da trung bình màu da sáng trung bình', '👩\\u200d ❤️ \\u200d 💋 \\u200d 👨': 'hôn người phụ nữ người đàn ông', '👩🏿 \\u200d ❤️ \\u200d 💋 \\u200d 👨🏿': 'kiss người phụ nữ người đàn ông màu da tối', '👩🏿 \\u200d ❤️ \\u200d 💋 \\u200d 👨🏻': 'hôn phụ nữ đàn ông tông da tối tông da sáng', '👩🏿 \\u200d ❤️ \\u200d 💋 \\u200d 👨🏾': 'kiss woman man tone da tối tông da tối trung bình', '👩🏿 \\u200d ❤️ \\u200d 💋 \\u200d 👨🏼': 'kiss woman man tone da tối tông da sáng trung bình', '👩🏿 \\u200d ❤️ \\u200d 💋 \\u200d 👨🏽': 'kiss woman man tone da tối tông da trung bình', '👩🏻 \\u200d ❤️ \\u200d 💋 \\u200d 👨🏻': 'nụ hôn phụ nữ đàn ông màu da sáng', '👩🏻 \\u200d ❤️ \\u200d 💋 \\u200d 👨🏿': 'kiss woman man tone da sáng tông da tối', '👩🏻 \\u200d ❤️ \\u200d 💋 \\u200d 👨🏾': 'kiss woman man màu da sáng tông da tối trung bình', '👩🏻 \\u200d ❤️ \\u200d 💋 \\u200d 👨🏼': 'kiss woman man tone da sáng tông da sáng trung bình', '👩🏻 \\u200d ❤️ \\u200d 💋 \\u200d 👨🏽': 'kiss woman man tone da sáng tông da trung bình', '👩🏾 \\u200d ❤️ \\u200d 💋 \\u200d 👨🏾': 'kiss woman man màu da tối trung bình', '👩🏾 \\u200d ❤️ \\u200d 💋 \\u200d 👨🏿': 'kiss woman man tông màu da tối trung bình tông màu da tối', '👩🏾 \\u200d ❤️ \\u200d 💋 \\u200d 👨🏻': 'kiss woman man tông da tối trung bình tông da sáng', '👩🏾 \\u200d ❤️ \\u200d 💋 \\u200d 👨🏼': 'kiss woman man màu da tối trung bìnhmàu da sáng trung bình', '👩🏾 \\u200d ❤️ \\u200d 💋 \\u200d 👨🏽': 'kiss woman man màu da tối trung bình màu da trung bình', '👩🏼 \\u200d ❤️ \\u200d 💋 \\u200d 👨🏼': 'hôn phụ nữ đàn ông màu da sáng trung bình', '👩🏼 \\u200d ❤️ \\u200d 💋 \\u200d 👨🏿': 'kiss woman man tone da sáng trung bình tông da tối', '👩🏼 \\u200d ❤️ \\u200d 💋 \\u200d 👨🏻': 'kiss woman man tông da sáng trung bình tông da sáng', '👩🏼 \\u200d ❤️ \\u200d 💋 \\u200d 👨🏾': 'kiss woman man màu da sáng trung bình màu da tối trung bình', '👩🏼 \\u200d ❤️ \\u200d 💋 \\u200d 👨🏽': 'kiss woman man màu da sáng trung bình màu da trung bình', '👩🏽 \\u200d ❤️ \\u200d 💋 \\u200d 👨🏽': 'hôn phụ nữ đàn ông màu da trung bình', '👩🏽 \\u200d ❤️ \\u200d 💋 \\u200d 👨🏿': 'kiss woman man tone da trung bình tông da tối', '👩🏽 \\u200d ❤️ \\u200d 💋 \\u200d 👨🏻': 'kiss woman man tone da trung bình tông da sáng', '👩🏽 \\u200d ❤️ \\u200d 💋 \\u200d 👨🏾': 'kiss woman man tone da trung bình tông da tối trung bình', '👩🏽 \\u200d ❤️ \\u200d 💋 \\u200d 👨🏼': 'nụ hôn phụ nữ đàn ông màu da trung bình màu da sáng trung bình', '👩 \\u200d ❤️ \\u200d 💋 \\u200d 👩': 'hôn người phụ nữ người phụ nữ', '👩🏿 \\u200d ❤️ \\u200d 💋 \\u200d 👩🏿': 'kiss woman woman woman tông màu da tối', '👩🏿 \\u200d ❤️ \\u200d 💋 \\u200d 👩🏻': 'kiss woman woman woman tông da tối tông da sáng', '👩🏿 \\u200d ❤️ \\u200d 💋 \\u200d 👩🏾': 'kiss woman woman woman tone da tối tông da tối trung bình', '👩🏿 \\u200d ❤️ \\u200d 💋 \\u200d 👩🏼': 'kiss woman woman woman tông da tối tông da sáng trung bình', '👩🏿 \\u200d ❤️ \\u200d 💋 \\u200d 👩🏽': 'nụ hôn người phụ nữ người phụ nữ màu da tối màu da trung bình', '👩🏻\\u200d ❤️ \\u200d 💋 \\u200d 👩🏻': 'kiss woman woman woman màu da sáng', '👩🏻 \\u200d ❤️ \\u200d 💋 \\u200d 👩🏿': 'kiss woman woman nước da sáng tông da tối', '👩🏻 \\u200d ❤️ \\u200d 💋 \\u200d 👩🏾': 'kiss woman woman màu da sáng tông da tối trung bình', '👩🏻 \\u200d ❤️ \\u200d 💋 \\u200d 👩🏼': 'kiss woman woman màu da sáng màu da sáng trung bình', '👩🏻 \\u200d ❤️ \\u200d 💋 \\u200d 👩🏽': 'kiss woman woman woman màu da sáng tông da trung bình', '👩🏾 \\u200d ❤️ \\u200d 💋 \\u200d 👩🏾': 'kiss woman woman woman màu da tối trung bình', '👩🏾 \\u200d ❤️ \\u200d 💋 \\u200d 👩🏿': 'kiss woman woman nước da tối trung bình nước da tối', '👩🏾 \\u200d ❤️ \\u200d 💋 \\u200d 👩🏻': 'kiss woman woman woman tông màu da tối trung bình tông da sáng', '👩🏾 \\u200d ❤️ \\u200d 💋 \\u200d 👩🏼': 'nụ hôn phụ nữ phụ nữ màu da tối trung bình màu da sáng trung bình', '👩🏾 \\u200d ❤️ \\u200d 💋 \\u200d 👩🏽': 'kiss woman woman woman tông màu da tối trung bình tông da trung bình', '👩🏼 \\u200d ❤️ \\u200d 💋 \\u200d 👩🏼': 'nụ hôn phụ nữ phụ nữ màu da sáng trung bình', '👩🏼 \\u200d ❤️ \\u200d 💋 \\u200d 👩🏿': 'kiss woman woman woman tông màu da sáng trung bình tông da tối', '👩🏼 \\u200d ❤️ \\u200d 💋 \\u200d 👩🏻': 'kiss woman woman woman tông da sáng trung bình tông da sáng', '👩🏼 \\u200d ❤️ \\u200d 💋 \\u200d 👩🏾': 'kiss woman woman màu da sáng trung bình màu da tối trung bình', '👩🏼 \\u200d ❤️ \\u200d 💋 \\u200d 👩🏽': 'nụ hôn phụ nữ phụ nữ màu da sáng trung bình màu da trung bình', '👩🏽 \\u200d ❤️ \\u200d 💋 \\u200d 👩🏽': 'kiss woman woman woman màu da trung bình', '👩🏽 \\u200d ❤️ \\u200d 💋 \\u200d 👩🏿': 'kiss woman woman tone da trung bình tone da tối', '👩🏽 \\u200d ❤️ \\u200d 💋 \\u200d 👩🏻': 'kiss woman woman woman tông da trung bình tông da sáng', '👩🏽 \\u200d ❤️ \\u200d 💋 \\u200d 👩🏾': 'kiss woman woman tone da trung bình tông da tối trung bình', '👩🏽 \\u200d ❤️ \\u200d 💋 \\u200d 👩🏼': 'nụ hôn phụ nữ phụ nữ màu da trung bình màu da sáng trung bình', '😽': 'hôn mèo', '😗': 'mặt hôn', '😚': 'mặt hôn và nhắm mắt', '😙': 'mặt hôn với mắt cười', '🔪': 'dao bếp', '🪁': 'diều', '🥝': 'quả kiwi', '🪢': 'nút', '🐨': 'koala', '🥼': 'áo khoác phòng thí nghiệm', '🏷️': 'label', '🥍': 'lacrosse', '🪜': 'thang', '🐞': 'bọ cánh cứng', '💻': 'máy tính xách tay', '🔷': 'viên kim cương lớn màu xanh', '🔶': 'viên kim cương lớn màu cam', '🌗': 'tháng tư cuối tuần', '🌜': 'khuôn mặt trăng khuyết cuối tuần', '⏮️': 'nút bài hát cuối cùng', '✝️': 'chữ thập Latin', '🍃': 'lá rung rinh trong gió', '🥬': 'lá xanh', '📒': 'sổ cái', '🤛': 'nắm đấm hướng sang trái', '🤛🏿': 'nắm tay quay mặt trái màu da tối', '🤛🏻': 'màu da sáng của nắm tay hướng về bên trái', '🤛🏾': 'nắm đấm hướng về bên trái màu da tối trung bình', '🤛🏼': 'nắm đấm hướng về bên trái màu da sáng trung bình', '🤛🏽': 'nắm đấm hướng về bên trái màu da trung bình', '↔️': 'mũi tên trái-phải', '⬅️': 'mũi tên trái', '↪️': 'mũi tên trái cong sang phải', '🛅': 'hành lý để lại', '🗨️': 'bong bóng lời thoại bên trái', '🫲': 'tay trái', '🫲 🏿': 'tay trái màu da tối', '🫲 🏻': 'tay trái màu da sáng', '🫲 🏾': 'màu da tối trung bình của tay trái', '🫲 🏼': 'màu da sáng trung bình của tay trái', '🫲 🏽': 'tay trái màu da trung bình', '\\U0001faf7': 'đẩy tay sang trái', '\\U0001faf7 🏿': 'tay đẩy sang trái màu da tối', '\\U0001faf7 🏻': 'tay đẩy sang trái màu da sáng', '\\U0001faf7 🏾': 'tay đẩy sang trái màu da tối trung bình', '\\U0001faf7 🏼': 'tay đẩy sang trái màu da sáng trung bình', '\\U0001faf7 🏽': 'tay đẩy sang trái màu da trung bình', '🦵': 'leg', '🦵🏿': 'màu da tối ở chân', '🦵🏻': 'màu da sáng ở chân', '🦵🏾': 'màu da tối trung bình ở chân', '🦵🏼': 'màu da sáng trung bình ở chân', '🦵🏽': 'màu da trung bình ở chân', '🍋': 'chanh', '🐆': 'báo', '🎚️': 'thanh trượt cấp độ', '\\U0001fa75': 'trái tim màu xanh nhạt', '💡': 'bóng đèn', '🚈': 'đường sắt nhẹ', '🍋 \\u200d 🟩': 'lime', '🔗': 'link', '🖇️': 'kẹp giấy được liên kết', '🦁': 'sư tử', '💄': 'son môi', '🚮': 'ký hiệu rác trong thùng rác', '🦎': 'thằn lằn', '🦙': 'llama', '🦞': 'tôm hùm', '🔒': 'bị khóa', '🔐': 'khóa bằng chìa khóa', '🔏': 'khóa bằng bút', '🚂': 'đầu máy', '🍭': 'kẹo', '🪘': 'trống dài', '🧴': 'chai kem dưỡng da', '🪷': 'sen', '😭': 'mặt khóc to', '📢': 'loa', '🤟': 'cử chỉ yêu bạn', '🤟🏿': 'cử chỉ yêu em màu da tối', '🤟🏻': 'cử chỉ yêu em màu da sáng', '🤟🏾': 'cử chỉ yêu em màu da tối trung bình', '🤟🏼': 'cử chỉ yêu em màu da sáng trung bình', '🤟🏽': 'cử chỉ yêu em màu da trung bình', '🏩': 'khách sạn tình yêu', '💌': 'thư tình', '🪫': 'pin yếu', '🧳': 'hành lý', '🫁': 'phổi', '🤥': 'mặt nói dối', '🧙': 'mage', '🧙🏿': 'màu da tối của pháp sư', '🧙🏻': 'màu da sáng của pháp sư', '🧙🏾': 'màu da tối trung bình của pháp sư', '🧙🏼': 'màu da sáng trung bình của pháp sư', '🧙🏽': 'mage màu da trung bình', '🪄': 'cây đũa thần', '🧲': 'nam châm', '🔍': 'kính lúp nghiêng sang trái', '🔎': 'kính lúp nghiêng sang phải', '🀄': 'mạt chược rồng đỏ', '♂️': 'dấu hiệu nam', '🦣': 'mammoth', '👨': 'người đàn ông', '👨\\u200d 🎨': 'man artist', '👨🏿\\u200d 🎨': 'nghệ sĩ nam màu da tối', '👨🏻 \\u200d 🎨': 'nghệ sĩ nam màu da sáng', '👨🏾 \\u200d 🎨': 'nghệ sĩ nam màu da tối trung bình', '👨🏼 \\u200d 🎨': 'nghệ sĩ nam màu da sáng trung bình', '👨🏽 \\u200d 🎨': 'nghệ sĩ nam màu da trung bình', '👨\\u200d 🚀': 'man phi hành gia', '👨🏿\\u200d 🚀': 'nam phi hành gia màu da tối', '👨🏻 \\u200d 🚀': 'màu da sáng của phi hành gia nam', '👨🏾 \\u200d 🚀': 'nam phi hành gia màu da tối trung bình', '👨🏼 \\u200d 🚀': 'màu da sáng trung bình của phi hành gia nam', '👨🏽 \\u200d 🚀': 'màu da trung bình của phi hành gia nam', '👨\\u200d 🦲': 'người đàn ông hói', '🧔 \\u200d♂️': 'man râu', '🚴 \\u200d♂️': 'người đàn ông đạp xe', '🚴🏿\\u200d♂️': 'người đàn ông đi xe đạp màu da tối', '🚴🏻 \\u200d♂️': 'người đàn ông đi xe đạp màu da sáng', '🚴🏾 \\u200d♂️': 'người đàn ông đi xe đạp màu da tối trung bình', '🚴🏼 \\u200d♂️': 'người đàn ông đi xe đạp màu da sáng trung bình', '🚴🏽 \\u200d♂️': 'người đàn ông đi xe đạp màu da trung bình', '👱 \\u200d♂️': 'người đàn ông tóc vàng', '⛹️ \\u200d♂️': 'người đàn ông nảy bóng', '⛹ 🏿\\u200d♂️': 'người đàn ông chơi bóng màu da tối', '⛹ 🏻 \\u200d♂️': 'người đàn ông chơi bóng màu da sáng', '⛹ 🏾 \\u200d♂️': 'người đàn ông chơi bóng màu da tối trung bình', '⛹ 🏼 \\u200d♂️': 'người đàn ông chơi bóng màu da sáng trung bình', '⛹ 🏽 \\u200d♂️': 'người đàn ông chơi bóng màu da trung bình', '🙇 \\u200d♂️': 'người đàn ông cúi đầu', '🙇🏿 \\u200d♂️': 'người đàn ông cúi đầu màu da tối', '🙇🏻 \\u200d♂️': 'người đàn ông cúi đầu màu da sáng', '🙇🏾 \\u200d♂️': 'người đàn ông cúi đầu màu da tối trung bình', '🙇🏼 \\u200d♂️': 'người đàn ông cúi đầu màu da sáng trung bình', '🙇🏽 \\u200d♂️': 'người đàn ông cúi đầu màu da trung bình', '🤸 \\u200d♂️': 'người đàn ông nhào lộn', '🤸🏿\\u200d♂️': 'người đàn ông nhào lộn màu da tối', '🤸🏻 \\u200d♂️': 'người đàn ông nhào lộn màu da sáng', '🤸🏾 \\u200d♂️': 'người đàn ông nhào lộn màu da tối trung bình', '🤸🏼 \\u200d♂️': 'người đàn ông nhào lộn màu da sáng trung bình', '🤸🏽 \\u200d♂️': 'người đàn ông nhào lộn màu da trung bình', '🧗 \\u200d♂️': 'người đàn ông leo núi', '🧗🏿\\u200d♂️': 'người đàn ông leo núi màu da tối', '🧗🏻 \\u200d♂️': 'người đàn ông đang leo núi màu da sáng', '🧗🏾 \\u200d♂️': 'người đàn ông leo núi màu da tối trung bình', '🧗🏼 \\u200d♂️': 'người đàn ông leo núi màu da sáng trung bình', '🧗🏽 \\u200d♂️': 'người đàn ông leo núi màu da trung bình', '👷 \\u200d♂️': 'công nhân xây dựng nam', '👷🏿 \\u200d♂️': 'công nhân xây dựng nam màu da tối', '👷🏻 \\u200d♂️': 'công nhân xây dựng nam màu da sáng', '👷🏾 \\u200d♂️': 'công nhân xây dựng nam màu da tối trung bình', '👷🏼 \\u200d♂️': 'công nhân xây dựng nam màu da sáng trung bình', '👷🏽 \\u200d♂️': 'công nhân xây dựng nam màu da trung bình', '👨\\u200d 🍳': 'nam đầu bếp', '👨🏿\\u200d 🍳': 'người đàn ông nấu ăn màu da tối', '👨🏻 \\u200d 🍳': 'người đàn ông đầu bếp màu da sáng', '👨🏾 \\u200d 🍳': 'người đàn ông nấu ăn màu da tối trung bình', '👨🏼 \\u200d 🍳': 'người đàn ông nấu ăn màu da sáng trung bình', '👨🏽 \\u200d 🍳': 'người đàn ông nấu ăn màu da trung bình', '👨\\u200d 🦱': 'người đàn ông tóc xoăn', '🕺': 'người đàn ông nhảy múa', '🕺🏿': 'người đàn ông nhảy múa màu da tối', '🕺🏻': 'người đàn ông khiêu vũ màu da sáng', '🕺🏾': 'người đàn ông khiêu vũ màu da tối trung bình', '🕺🏼': 'người đàn ông khiêu vũ màu da sáng trung bình', '🕺🏽': 'người đàn ông nhảy múa màu da trung bình', '👨🏿': 'màu da tối của nam giới', '👨🏿\\u200d 🦲': 'người đàn ông da tối màu hói', '🧔🏿\\u200d♂️': 'người đàn ông da tối có râu', '👱🏿 \\u200d♂️': 'đàn ông da tối tóc vàng', '👨🏿\\u200d 🦱': 'người đàn ông da tối tóc xoăn', '👨🏿\\u200d 🦰': 'người đàn ông da sẫm màu tóc đỏ', '👨🏿\\u200d 🦳': 'đàn ông da tối tóc trắng', '🕵️ \\u200d♂️': 'man thám tử', '🕵🏿\\u200d♂️': 'nam thám tử màu da tối', '🕵🏻 \\u200d♂️': 'thám tử nam màu da sáng', '🕵🏾 \\u200d♂️': 'nam thám tử màu da tối trung bình', '🕵🏼 \\u200d♂️': 'thám tử nam màu da sáng trung bình', '🕵🏽 \\u200d♂️': 'thám tử nam màu da trung bình', '🧝 \\u200d♂️': 'man elf', '🧝🏿\\u200d♂️': 'màu da tối của yêu tinh nam', '🧝🏻 \\u200d♂️': 'màu da sáng của yêu tinh nam', '🧝🏾 \\u200d♂️': 'màu da tối trung bình của người đàn ông yêu tinh', '🧝🏼 \\u200d♂️': 'màu da sáng trung bình của nam yêu tinh', '🧝🏽 \\u200d♂️': 'màu da trung bình của nam yêu tinh', '🤦 \\u200d♂️': 'người đàn ông lấy tay che mặt', '🤦🏿\\u200d♂️': 'người đàn ông lấy tay che mặt màu da tối', '🤦🏻 \\u200d♂️': 'người đàn ông lấy tay che mặt màu da sáng', '🤦🏾 \\u200d♂️': 'người đàn ông che mặt màu da tối trung bình', '🤦🏼 \\u200d♂️': 'người đàn ông che mặt màu da sáng trung bình', '🤦🏽 \\u200d♂️': 'người đàn ông lấy tay che mặt màu da trung bình', '👨 \\u200d 🏭': 'nam công nhân nhà máy', '👨🏿 \\u200d 🏭': 'công nhân nhà máy nam màu da tối', '👨🏻 \\u200d 🏭': 'công nhân nhà máy nam màu da sáng', '👨🏾 \\u200d 🏭': 'công nhân nhà máy nam màu da tối trung bình', '👨🏼 \\u200d 🏭': 'công nhân nhà máy nam màu da sáng trung bình', '👨🏽 \\u200d 🏭': 'công nhân nhà máy nam màu da trung bình', '🧚\\u200d♂️': 'man tiên', '🧚🏿\\u200d♂️': 'người đàn ông thần tiên màu da tối', '🧚🏻\\u200d♂️': 'nam thần tiên màu da sáng', '🧚🏾 \\u200d♂️': 'man tiên màu da tối trung bình', '🧚🏼 \\u200d♂️': 'nam thần tiên màu da sáng trung bình', '🧚🏽 \\u200d♂️': 'người đàn ông thần tiên màu da trung bình', '👨 \\u200d 🌾': 'man nông dân', '👨🏿\\u200d 🌾': 'người đàn ông nông dân màu da tối', '👨🏻 \\u200d 🌾': 'nông dân nam màu da sáng', '👨🏾 \\u200d 🌾': 'nông dân nam màu da tối trung bình', '👨🏼 \\u200d 🌾': 'màu da sáng trung bình của nông dân nam', '👨🏽 \\u200d 🌾': 'nông dân nam màu da trung bình', '👨\\u200d 🍼': 'người đàn ông cho em bé ăn', '👨🏿\\u200d 🍼': 'người đàn ông đang cho em bé ăn màu da tối', '👨🏻 \\u200d 🍼': 'người đàn ông đang cho em bé ăn màu da sáng', '👨🏾 \\u200d 🍼': 'người đàn ông đang cho em bé ăn màu da tối trung bình', '👨🏼 \\u200d 🍼': 'người đàn ông đang cho em bé ăn màu da sáng trung bình', '👨🏽 \\u200d 🍼': 'người đàn ông đang cho em bé ăn màu da trung bình', '👨 \\u200d 🚒': 'người lính cứu hỏa', '👨🏿\\u200d 🚒': 'người đàn ông lính cứu hỏa màu da tối', '👨🏻 \\u200d 🚒': 'người đàn ông lính cứu hỏa màu da sáng', '👨🏾 \\u200d 🚒': 'nam lính cứu hỏa màu da tối trung bình', '👨🏼 \\u200d 🚒': 'màu da sáng trung bình của lính cứu hỏa nam', '👨🏽 \\u200d 🚒': 'đàn ông lính cứu hỏa màu da trung bình', '🙍 \\u200d♂️': 'người đàn ông cau mày', '🙍🏿\\u200d♂️': 'người đàn ông cau mày màu da tối', '🙍🏻 \\u200d♂️': 'người đàn ông cau mày màu da sáng', '🙍🏾 \\u200d♂️': 'người đàn ông cau mày màu da tối trung bình', '🙍🏼 \\u200d♂️': 'người đàn ông cau mày màu da sáng trung bình', '🙍🏽 \\u200d♂️': 'người đàn ông cau mày màu da trung bình', '🧞 \\u200d♂️': 'man thần đèn', '🙅 \\u200d♂️': 'người đàn ông ra hiệu KHÔNG', '🙅🏿 \\u200d♂️': 'người đàn ông ra hiệu KHÔNG màu da tối', '🙅🏻 \\u200d♂️': 'người đàn ông ra hiệu KHÔNG màu da sáng', '🙅🏾 \\u200d♂️': 'người đàn ông ra hiệu KHÔNG màu da tối trung bình', '🙅🏼 \\u200d♂️': 'người đàn ông ra hiệu KHÔNG màu da sáng trung bình', '🙅🏽 \\u200d♂️': 'người đàn ông ra hiệu KHÔNG màu da trung bình', '🙆 \\u200d♂️': 'người đàn ông ra hiệu đồng ý', '🙆🏿 \\u200d♂️': 'người đàn ông ra hiệu đồng ý màu da tối', '🙆🏻 \\u200d♂️': 'người đàn ông ra hiệu đồng ý màu da sáng', '🙆🏾 \\u200d♂️': 'người đàn ông ra hiệu đồng ý màu da tối trung bình', '🙆🏼 \\u200d♂️': 'người đàn ông ra hiệu đồng ý màu da sáng trung bình', '🙆🏽 \\u200d♂️': 'người đàn ông ra hiệu đồng ý màu da trung bình', '💇 \\u200d♂️': 'người đàn ông đang cắt tóc', '💇🏿 \\u200d♂️': 'người đàn ông cắt tóc tông màu da tối', '💇🏻 \\u200d♂️': 'người đàn ông cắt tóc màu da sáng', '💇🏾 \\u200d♂️': 'người đàn ông cắt tóc màu da tối trung bình', '💇🏼 \\u200d♂️': 'người đàn ông được cắt tóc màu da sáng trung bình', '💇🏽 \\u200d♂️': 'người đàn ông được cắt tóc màu da trung bình', '💆 \\u200d♂️': 'người đàn ông đang được mát-xa', '💆🏿 \\u200d♂️': 'người đàn ông được mát-xa màu da tối', '💆🏻 \\u200d♂️': 'người đàn ông được mát-xa màu da sáng', '💆🏾 \\u200d♂️': 'người đàn ông được mát-xa màu da tối trung bình', '💆🏼 \\u200d♂️': 'người đàn ông được mát-xa màu da sáng trung bình', '💆🏽 \\u200d♂️': 'người đàn ông được mát-xa màu da trung bình', '🏌️ \\u200d♂️': 'người đàn ông chơi gôn', '🏌🏿\\u200d♂️': 'người đàn ông chơi gôn màu da tối', '🏌🏻 \\u200d♂️': 'người đàn ông chơi gôn màu da sáng', '🏌🏾 \\u200d♂️': 'người đàn ông chơi gôn màu da tối trung bình', '🏌🏼 \\u200d♂️': 'người đàn ông chơi gôn màu da sáng trung bình', '🏌🏽 \\u200d♂️': 'người đàn ông chơi gôn màu da trung bình', '💂 \\u200d♂️': 'man bảo vệ', '💂🏿\\u200d♂️': 'người đàn ông bảo vệ màu da tối', '💂🏻 \\u200d♂️': 'người đàn ông bảo vệ màu da sáng', '💂🏾 \\u200d♂️': 'người đàn ông bảo vệ màu da tối trung bình', '💂🏼 \\u200d♂️': 'người đàn ông bảo vệ màu da sáng trung bình', '💂🏽 \\u200d♂️': 'người đàn ông bảo vệ màu da trung bình', '👨\\u200d ⚕️': 'nhân viên y tế nam', '👨🏿 \\u200d ⚕️': 'nhân viên y tế nam màu da tối', '👨🏻 \\u200d ⚕️': 'màu da sáng của nhân viên y tế nam', '👨🏾 \\u200d ⚕️': 'màu da tối trung bình của nhân viên y tế nam', '👨🏼 \\u200d ⚕️': 'màu da sáng trung bình của nhân viên y tế nam', '👨🏽 \\u200d ⚕️': 'màu da trung bình của nhân viên y tế nam', '🧘\\u200d♂️': 'người đàn ông ngồi kiết già', '🧘🏿\\u200d♂️': 'người đàn ông ngồi kiết già màu da tối', '🧘🏻 \\u200d♂️': 'người đàn ông ngồi kiết già màu da sáng', '🧘🏾 \\u200d♂️': 'người đàn ông ngồi kiết già màu da tối trung bình', '🧘🏼 \\u200d♂️': 'người đàn ông ngồi kiết già màu da sáng trung bình', '🧘🏽 \\u200d♂️': 'người đàn ông ngồi kiết già màu da trung bình', '👨\\u200d 🦽': 'người đàn ông ngồi trên xe lăn tay', '👨🏿 \\u200d 🦽': 'người đàn ông ngồi trên xe lăn tay màu da tối', '👨\\u200d 🦽 \\u200d ➡️': 'người đàn ông ngồi trên xe lăn quay mặt về phía bên phải', '👨🏿 \\u200d 🦽 \\u200d ➡️': 'người đàn ông ngồi trên xe lăn tay quay mặt về phía bên phải màu da tối', '👨🏻 \\u200d 🦽 \\u200d ➡️': 'người đàn ông ngồi trên xe lăn tay quay mặt về phía bên phải màu da sáng', '👨🏾 \\u200d 🦽 \\u200d ➡️': 'người đàn ông ngồi trên xe lăn tay quay mặt về bên phải màu da tối trung bình', '👨🏼 \\u200d 🦽 \\u200d ➡️': 'người đàn ông ngồi trên xe lăn quay mặt về phía bên phải màu da sáng trung bình', '👨🏽 \\u200d 🦽 \\u200d ➡️': 'người đàn ông ngồi trên xe lăn quay mặt về phía bên phải màu da trung bình', '👨🏻 \\u200d 🦽': 'người đàn ông ngồi trên xe lăn tay màu da sáng', '👨🏾 \\u200d 🦽': 'người đàn ông ngồi trên xe lăn tay màu da tối trung bình', '👨🏼 \\u200d 🦽': 'người đàn ông ngồi trên xe lăn tay màu da sáng trung bình', '👨🏽 \\u200d 🦽': 'người đàn ông ngồi trên xe lăn tay màu da trung bình', '👨\\u200d 🦼': 'người đàn ông ngồi trên xe lăn có động cơ', '👨🏿\\u200d 🦼': 'người đàn ông ngồi trên xe lăn có động cơ màu da tối', '👨\\u200d 🦼 \\u200d ➡️': 'người đàn ông ngồi trên xe lăn có động cơ quay mặt về phía bên phải', '👨🏿 \\u200d 🦼 \\u200d ➡️': 'người đàn ông ngồi trên xe lăn có động cơ quay mặt về phía bên phải màu da tối', '👨🏻 \\u200d 🦼 \\u200d ➡️': 'người đàn ông ngồi trên xe lăn có động cơ quay mặt về phía bên phải màu da sáng', '👨🏾 \\u200d 🦼 \\u200d ➡️': 'người đàn ông ngồi trên xe lăn có động cơ quay mặt về phía bên phải màu da tối trung bình', '👨🏼 \\u200d 🦼 \\u200d ➡️': 'người đàn ông ngồi trên xe lăn có động cơ quay mặt về phía bên phải màu da sáng trung bình', '👨🏽 \\u200d 🦼 \\u200d ➡️': 'người đàn ông ngồi trên xe lăn có động cơ quay mặt về phía màu da trung bình bên phải', '👨🏻 \\u200d 🦼': 'người đàn ông ngồi trên xe lăn có động cơ màu da sáng', '👨🏾 \\u200d 🦼': 'người đàn ông ngồi trên xe lăn có động cơ màu da tối trung bình', '👨🏼 \\u200d 🦼': 'người đàn ông ngồi trên xe lăn có động cơ màu da sáng trung bình', '👨🏽 \\u200d 🦼': 'người đàn ông ngồi trên xe lăn có động cơ màu da trung bình', '🧖 \\u200d♂️': 'người đàn ông trong phòng ướt át', '🧖🏿\\u200d♂️': 'người đàn ông trong phòng xông hơi màu da tối', '🧖🏻 \\u200d♂️': 'người đàn ông trong phòng xông hơi màu da sáng', '🧖🏾 \\u200d♂️': 'người đàn ông trong phòng xông hơi màu da tối trung bình', '🧖🏼 \\u200d♂️': 'người đàn ông trong phòng xông hơi màu da sáng trung bình', '🧖🏽 \\u200d♂️': 'người đàn ông trong phòng xông hơi màu da trung bình', '🤵 \\u200d♂️': 'người đàn ông mặc tuxedo', '🤵🏿\\u200d♂️': 'người đàn ông mặc tuxedo màu da tối', '🤵🏻 \\u200d♂️': 'người đàn ông mặc tuxedo màu da sáng', '🤵🏾 \\u200d♂️': 'người đàn ông mặc tuxedo màu da tối trung bình', '🤵🏼 \\u200d♂️': 'người đàn ông mặc tuxedo màu da sáng trung bình', '🤵🏽 \\u200d♂️': 'người đàn ông mặc tuxedo màu da trung bình', '👨\\u200d ⚖️': 'man thẩm phán', '👨🏿\\u200d ⚖️': 'người đàn ông đánh giá màu da tối', '👨🏻\\u200d ⚖️': 'người đàn ông đánh giá màu da sáng', '👨🏾 \\u200d ⚖️': 'người đàn ông đánh giá màu da tối trung bình', '👨🏼 \\u200d ⚖️': 'người đàn ông đánh giá màu da sáng trung bình', '👨🏽 \\u200d ⚖️': 'người đàn ông đánh giá màu da trung bình', '🤹 \\u200d♂️': 'người đàn ông tung hứng', '🤹🏿\\u200d♂️': 'người đàn ông tung hứng màu da tối', '🤹🏻 \\u200d♂️': 'người đàn ông tung hứng màu da sáng', '🤹🏾 \\u200d♂️': 'người đàn ông tung hứng màu da tối trung bình', '🤹🏼 \\u200d♂️': 'người đàn ông tung hứng màu da sáng trung bình', '🤹🏽 \\u200d♂️': 'người đàn ông tung hứng màu da trung bình', '🧎 \\u200d♂️': 'người đàn ông quỳ', '🧎🏿\\u200d♂️': 'người đàn ông quỳ màu da tối', '🧎 \\u200d♂️\\u200d ➡️': 'người đàn ông quỳ hướng về phía bên phải', '🧎🏿 \\u200d♂️\\u200d ➡️': 'người đàn ông quỳ quay mặt về phía bên phải màu da tối', '🧎🏻 \\u200d♂️\\u200d ➡️': 'người đàn ông quỳ quay mặt về phía màu da sáng bên phải', '🧎🏾 \\u200d♂️\\u200d ➡️': 'người đàn ông quỳ hướng mặt về phía bên phải màu da tối trung bình', '🧎🏼 \\u200d♂️\\u200d ➡️': 'người đàn ông quỳ hướng mặt về phía bên phải màu da sáng trung bình', '🧎🏽 \\u200d♂️\\u200d ➡️': 'người đàn ông quỳ hướng mặt về màu da trung bình bên phải', '🧎🏻 \\u200d♂️': 'người đàn ông quỳ màu da sáng', '🧎🏾 \\u200d♂️': 'người đàn ông quỳ màu da tối trung bình', '🧎🏼 \\u200d♂️': 'người đàn ông quỳ màu da sáng trung bình', '🧎🏽 \\u200d♂️': 'người đàn ông quỳ màu da trung bình', '🏋️ \\u200d♂️': 'người đàn ông nâng tạ', '🏋🏿 \\u200d♂️': 'người đàn ông nâng tạ màu da tối', '🏋🏻 \\u200d♂️': 'người đàn ông cử tạ màu da sáng', '🏋🏾 \\u200d♂️': 'người đàn ông nâng tạ màu da tối trung bình', '🏋🏼 \\u200d♂️': 'người đàn ông nâng tạ màu da sáng trung bình', '🏋🏽 \\u200d♂️': 'người đàn ông nâng tạ màu da trung bình', '👨🏻': 'màu da sáng của nam giới', '👨🏻 \\u200d 🦲': 'đàn ông màu da sáng hói', '🧔🏻 \\u200d♂️': 'người đàn ông màu da sáng có râu', '👱🏻 \\u200d♂️': 'đàn ông da sáng tóc vàng', '👨🏻 \\u200d 🦱': 'nam da sáng tóc xoăn', '👨🏻 \\u200d 🦰': 'đàn ông da sáng tóc đỏ', '👨🏻 \\u200d 🦳': 'đàn ông màu da sáng tóc trắng', '🧙 \\u200d♂️': 'man pháp sư', '🧙🏿\\u200d♂️': 'man pháp sư màu da tối', '🧙🏻\\u200d♂️': 'man pháp sư màu da sáng', '🧙🏾 \\u200d♂️': 'man pháp sư màu da tối trung bình', '🧙🏼 \\u200d♂️': 'man pháp sư màu da sáng trung bình', '🧙🏽 \\u200d♂️': 'pháp sư nam màu da trung bình', '👨\\u200d 🔧': 'thợ cơ khí', '👨🏿\\u200d 🔧': 'thợ máy nam màu da tối', '👨🏻 \\u200d 🔧': 'nam thợ cơ khí màu da sáng', '👨🏾 \\u200d 🔧': 'thợ máy nam màu da tối trung bình', '👨🏼 \\u200d 🔧': 'màu da sáng trung bình của thợ cơ khí nam', '👨🏽 \\u200d 🔧': 'màu da trung bình của thợ cơ khí nam', '👨🏾': 'màu da tối trung bình của nam giới', '👨🏾 \\u200d 🦲': 'người đàn ông màu da tối trung bình hói', '🧔🏾 \\u200d♂️': 'người đàn ông có râu màu da tối trung bình', '👱🏾 \\u200d♂️': 'đàn ông da tối trung bình tóc vàng', '👨🏾 \\u200d 🦱': 'đàn ông tóc xoăn màu da tối trung bình', '👨🏾 \\u200d 🦰': 'đàn ông da tối trung bình tóc đỏ', '👨🏾 \\u200d 🦳': 'đàn ông da tối trung bình tóc trắng', '👨🏼': 'màu da sáng trung bình của nam giới', '👨🏼 \\u200d 🦲': 'đàn ông màu da sáng trung bình hói', '🧔🏼 \\u200d♂️': 'đàn ông màu da sáng trung bình râu', '👱🏼 \\u200d♂️': 'đàn ông da sáng trung bình tóc vàng', '👨🏼 \\u200d 🦱': 'nam tóc xoăn màu da sáng trung bình', '👨🏼 \\u200d 🦰': 'đàn ông màu da sáng trung bình tóc đỏ', '👨🏼 \\u200d 🦳': 'đàn ông da sáng trung bình tóc trắng', '👨🏽': 'đàn ông màu da trung bình', '👨🏽 \\u200d 🦲': 'đàn ông màu da trung bình hói', '🧔🏽 \\u200d♂️': 'đàn ông màu da trung bình râu', '👱🏽 \\u200d♂️': 'đàn ông màu da trung bình tóc vàng', '👨🏽 \\u200d 🦱': 'đàn ông tóc xoăn màu da trung bình', '👨🏽 \\u200d 🦰': 'đàn ông màu da trung bình tóc đỏ', '👨🏽 \\u200d 🦳': 'đàn ông màu da trung bình tóc trắng', '🚵 \\u200d♂️': 'người đàn ông đạp xe leo núi', '🚵🏿\\u200d♂️': 'người đàn ông đi xe đạp leo núi màu da tối', '🚵🏻 \\u200d♂️': 'người đàn ông đi xe đạp leo núi màu da sáng', '🚵🏾 \\u200d♂️': 'người đàn ông đi xe đạp leo núi màu da tối trung bình', '🚵🏼 \\u200d♂️': 'người đàn ông đi xe đạp leo núi màu da sáng trung bình', '🚵🏽 \\u200d♂️': 'người đàn ông đi xe đạp leo núi màu da trung bình', '👨\\u200d 💼': 'người đàn ông nhân viên văn phòng', '👨🏿\\u200d 💼': 'nhân viên văn phòng nam màu da tối', '👨🏻 \\u200d 💼': 'nhân viên văn phòng nam màu da sáng', '👨🏾 \\u200d 💼': 'nam nhân viên văn phòng màu da tối trung bình', '👨🏼 \\u200d 💼': 'nhân viên văn phòng nam màu da sáng trung bình', '👨🏽 \\u200d 💼': 'nam nhân viên văn phòng màu da trung bình', '👨\\u200d ✈️': 'man phi công', '👨🏿 \\u200d ✈️': 'man phi công màu da tối', '👨🏻 \\u200d ✈️': 'nam phi công màu da sáng', '👨🏾 \\u200d ✈️': 'man phi công màu da tối trung bình', '👨🏼 \\u200d ✈️': 'man phi công màu da sáng trung bình', '👨🏽 \\u200d ✈️': 'man phi công màu da trung bình', '🤾 \\u200d♂️': 'người đàn ông chơi bóng ném', '🤾🏿 \\u200d♂️': 'người đàn ông chơi bóng ném màu da tối', '🤾🏻 \\u200d♂️': 'người đàn ông chơi bóng ném màu da sáng', '🤾🏾 \\u200d♂️': 'người đàn ông chơi bóng ném màu da tối trung bình', '🤾🏼 \\u200d♂️': 'người đàn ông chơi bóng ném màu da sáng trung bình', '🤾🏽 \\u200d♂️': 'người đàn ông chơi bóng ném màu da trung bình', '🤽 \\u200d♂️': 'người đàn ông chơi bóng nước', '🤽🏿\\u200d♂️': 'người đàn ông chơi bóng nước màu da tối', '🤽🏻 \\u200d♂️': 'người đàn ông chơi bóng nước màu da sáng', '🤽🏾 \\u200d♂️': 'người đàn ông chơi bóng nước màu da tối trung bình', '🤽🏼 \\u200d♂️': 'người đàn ông chơi bóng nước màu da sáng trung bình', '🤽🏽 \\u200d♂️': 'người đàn ông chơi bóng nước màu da trung bình', '👮 \\u200d♂️': 'man cảnh sát', '👮🏿 \\u200d♂️': 'nam cảnh sát màu da tối', '👮🏻 \\u200d♂️': 'nhân viên cảnh sát nam màu da sáng', '👮🏾 \\u200d♂️': 'nam cảnh sát màu da tối trung bình', '👮🏼 \\u200d♂️': 'nam cảnh sát màu da sáng trung bình', '👮🏽 \\u200d♂️': 'nam cảnh sát màu da trung bình', '🙎 \\u200d♂️': 'người đàn ông bĩu môi', '🙎🏿\\u200d♂️': 'người đàn ông bĩu môi màu da tối', '🙎🏻 \\u200d♂️': 'người đàn ông bĩu môi màu da sáng', '🙎🏾 \\u200d♂️': 'người đàn ông bĩu môi màu da tối trung bình', '🙎🏼 \\u200d♂️': 'người đàn ông bĩu môi màu da sáng trung bình', '🙎🏽 \\u200d♂️': 'người đàn ông bĩu môi màu da trung bình', '🙋 \\u200d♂️': 'người đàn ông giơ tay', '🙋🏿\\u200d♂️': 'người đàn ông giơ tay màu da tối', '🙋🏻 \\u200d♂️': 'người đàn ông giơ tay màu da sáng', '🙋🏾 \\u200d♂️': 'người đàn ông giơ tay màu da tối trung bình', '🙋🏼 \\u200d♂️': 'người đàn ông giơ tay màu da sáng trung bình', '🙋🏽 \\u200d♂️': 'người đàn ông giơ tay màu da trung bình', '👨\\u200d 🦰': 'người đàn ông tóc đỏ', '🚣 \\u200d♂️': 'người đàn ông chèo thuyền', '🚣🏿\\u200d♂️': 'người đàn ông chèo thuyền màu da tối', '🚣🏻 \\u200d♂️': 'người đàn ông chèo thuyền màu da sáng', '🚣🏾 \\u200d♂️': 'người đàn ông chèo thuyền màu da tối trung bình', '🚣🏼 \\u200d♂️': 'người đàn ông chèo thuyền màu da sáng trung bình', '🚣🏽 \\u200d♂️': 'người đàn ông chèo thuyền màu da trung bình', '🏃 \\u200d♂️': 'người đàn ông chạy', '🏃🏿\\u200d♂️': 'người đàn ông chạy màu da tối', '🏃 \\u200d♂️\\u200d ➡️': 'người đàn ông chạy hướng về phía bên phải', '🏃🏿 \\u200d♂️\\u200d ➡️': 'người đàn ông chạy quay mặt về phía bên phải màu da tối', '🏃🏻 \\u200d♂️\\u200d ➡️': 'người đàn ông đang chạy đối diện với màu da sáng bên phải', '🏃🏾 \\u200d♂️\\u200d ➡️': 'người đàn ông chạy quay mặt về phía bên phải màu da tối trung bình', '🏃🏼 \\u200d♂️\\u200d ➡️': 'người đàn ông đang chạy quay mặt về phía bên phải màu da sáng trung bình', '🏃🏽 \\u200d♂️\\u200d ➡️': 'người đàn ông đang chạy quay mặt về phía bên phải màu da trung bình', '🏃🏻 \\u200d♂️': 'người đàn ông đang chạy màu da sáng', '🏃🏾 \\u200d♂️': 'người đàn ông đang chạy màu da tối trung bình', '🏃🏼 \\u200d♂️': 'người đàn ông đang chạy màu da sáng trung bình', '🏃🏽 \\u200d♂️': 'người đàn ông đang chạy màu da trung bình', '👨\\u200d 🔬': 'nhà khoa học nam', '👨🏿 \\u200d 🔬': 'nhà khoa học nam màu da tối', '👨🏻 \\u200d 🔬': 'nhà khoa học nam màu da sáng', '👨🏾 \\u200d 🔬': 'nhà khoa học nam màu da tối trung bình', '👨🏼 \\u200d 🔬': 'nhà khoa học nam màu da sáng trung bình', '👨🏽 \\u200d 🔬': 'nhà khoa học nam màu da trung bình', '🤷 \\u200d♂️': 'người đàn ông nhún vai', '🤷🏿 \\u200d♂️': 'người đàn ông nhún vai màu da tối', '🤷🏻\\u200d♂️': 'người đàn ông nhún vai màu da sáng', '🤷🏾 \\u200d♂️': 'người đàn ông nhún vai màu da tối trung bình', '🤷🏼 \\u200d♂️': 'người đàn ông nhún vai màu da sáng trung bình', '🤷🏽 \\u200d♂️': 'người đàn ông nhún vai màu da trung bình', '👨\\u200d 🎤': 'man Singer', '👨🏿\\u200d 🎤': 'nam ca sĩ màu da tối', '👨🏻\\u200d 🎤': 'nam ca sĩ màu da sáng', '👨🏾 \\u200d 🎤': 'ca sĩ nam màu da tối trung bình', '👨🏼 \\u200d 🎤': 'ca sĩ nam màu da sáng trung bình', '👨🏽 \\u200d 🎤': 'ca sĩ nam màu da trung bình', '🧍 \\u200d♂️': 'người đàn ông đứng', '🧍🏿\\u200d♂️': 'người đàn ông đứng màu da tối', '🧍🏻 \\u200d♂️': 'người đàn ông đứng màu da sáng', '🧍🏾 \\u200d♂️': 'người đàn ông đứng màu da tối trung bình', '🧍🏼 \\u200d♂️': 'người đàn ông đứng màu da sáng trung bình', '🧍🏽 \\u200d♂️': 'người đàn ông đứng màu da trung bình', '👨\\u200d 🎓': 'nam sinh', '👨🏿\\u200d 🎓': 'học sinh nam màu da tối', '👨🏻 \\u200d 🎓': 'học sinh nam màu da sáng', '👨🏾 \\u200d 🎓': 'sinh viên nam màu da tối trung bình', '👨🏼 \\u200d 🎓': 'sinh viên nam màu da sáng trung bình', '👨🏽 \\u200d 🎓': 'học sinh nam màu da trung bình', '🦸 \\u200d♂️': 'man siêu anh hùng', '🦸🏿\\u200d♂️': 'nam siêu anh hùng màu da tối', '🦸🏻 \\u200d♂️': 'màu da sáng của siêu anh hùng nam', '🦸🏾 \\u200d♂️': 'man siêu anh hùng màu da tối trung bình', '🦸🏼 \\u200d♂️': 'màu da sáng trung bình của siêu anh hùng nam', '🦸🏽 \\u200d♂️': 'màu da trung bình của siêu anh hùng nam', '🦹 \\u200d♂️': 'người đàn ông giám sát', '🦹🏿\\u200d♂️': 'người đàn ông siêu phản diện màu da tối', '🦹🏻 \\u200d♂️': 'man supervillain màu da sáng', '🦹🏾 \\u200d♂️': 'người đàn ông siêu phản diện màu da tối trung bình', '🦹🏼 \\u200d♂️': 'nam giám sát màu da sáng trung bình', '🦹🏽 \\u200d♂️': 'người đàn ông siêu phản diện màu da trung bình', '🏄 \\u200d♂️': 'người đàn ông lướt sóng', '🏄🏿\\u200d♂️': 'người đàn ông lướt sóng màu da tối', '🏄🏻 \\u200d♂️': 'người đàn ông lướt sóng màu da sáng', '🏄🏾 \\u200d♂️': 'người đàn ông lướt sóng màu da tối trung bình', '🏄🏼 \\u200d♂️': 'người đàn ông lướt sóng màu da sáng trung bình', '🏄🏽 \\u200d♂️': 'người đàn ông lướt sóng màu da trung bình', '🏊 \\u200d♂️': 'người đàn ông đang bơi', '🏊🏿\\u200d♂️': 'người đàn ông đang bơi màu da tối', '🏊🏻 \\u200d♂️': 'người đàn ông đang bơi màu da sáng', '🏊🏾 \\u200d♂️': 'người đàn ông đang bơi màu da tối trung bình', '🏊🏼 \\u200d♂️': 'người đàn ông đang bơi màu da sáng trung bình', '🏊🏽 \\u200d♂️': 'người đàn ông đang bơi màu da trung bình', '👨\\u200d 🏫': 'man giáo viên', '👨🏿\\u200d 🏫': 'người đàn ông giáo viên màu da tối', '👨🏻 \\u200d 🏫': 'giáo viên nam màu da sáng', '👨🏾 \\u200d 🏫': 'giáo viên nam màu da tối trung bình', '👨🏼 \\u200d 🏫': 'giáo viên nam màu da sáng trung bình', '👨🏽 \\u200d 🏫': 'giáo viên nam màu da trung bình', '👨\\u200d 💻': 'man techologist', '👨🏿\\u200d 💻': 'nam kỹ thuật viên công nghệ màu da tối', '👨🏻 \\u200d 💻': 'người đàn ông công nghệ màu da sáng', '👨🏾 \\u200d 💻': 'nhà công nghệ nam màu da tối trung bình', '👨🏼 \\u200d 💻': 'nhà công nghệ nam màu da sáng trung bình', '👨🏽 \\u200d 💻': 'nam kỹ sư công nghệ màu da trung bình', '💁 \\u200d♂️': 'người đàn ông chìa tay', '💁🏿 \\u200d♂️': 'người đàn ông giơ tay màu da tối', '💁🏻 \\u200d♂️': 'người đàn ông ra tay màu da sáng', '💁🏾 \\u200d♂️': 'người đàn ông ra tay màu da tối trung bình', '💁🏼 \\u200d♂️': 'người đàn ông ra tay màu da sáng trung bình', '💁🏽 \\u200d♂️': 'người đàn ông ra tay màu da trung bình', '🧛 \\u200d♂️': 'man ma cà rồng', '🧛🏿\\u200d♂️': 'màu da tối của ma cà rồng nam', '🧛🏻 \\u200d♂️': 'màu da sáng của ma cà rồng nam', '🧛🏾 \\u200d♂️': 'ma cà rồng nam màu da tối trung bình', '🧛🏼 \\u200d♂️': 'màu da sáng trung bình của ma cà rồng nam', '🧛🏽 \\u200d♂️': 'màu da trung bình của ma cà rồng nam', '🚶 \\u200d♂️': 'người đàn ông đi bộ', '🚶🏿\\u200d♂️': 'người đàn ông đi bộ màu da tối', '🚶 \\u200d♂️\\u200d ➡️': 'người đàn ông đi hướng về phía bên phải', '🚶🏿 \\u200d♂️\\u200d ➡️': 'người đàn ông đi bộ quay mặt về phía bên phải màu da tối', '🚶🏻 \\u200d♂️\\u200d ➡️': 'người đàn ông đi bộ quay mặt về phía màu da sáng bên phải', '🚶🏾 \\u200d♂️\\u200d ➡️': 'người đàn ông đi bộ quay mặt về phía bên phải màu da tối trung bình', '🚶🏼 \\u200d♂️\\u200d ➡️': 'người đàn ông đi bộ quay mặt về phía bên phải màu da sáng trung bình', '🚶🏽 \\u200d♂️\\u200d ➡️': 'người đàn ông đi bộ quay mặt về phía bên phải màu da trung bình', '🚶🏻 \\u200d♂️': 'người đàn ông đi bộ màu da sáng', '🚶🏾 \\u200d♂️': 'người đàn ông đi bộ màu da tối trung bình', '🚶🏼 \\u200d♂️': 'người đàn ông đi bộ màu da sáng trung bình', '🚶🏽 \\u200d♂️': 'người đàn ông đi bộ màu da trung bình', '👳 \\u200d♂️': 'người đàn ông đội khăn xếp', '👳🏿 \\u200d♂️': 'người đàn ông đội khăn xếp tông màu da tối', '👳🏻 \\u200d♂️': 'người đàn ông đội khăn xếp màu da sáng', '👳🏾 \\u200d♂️': 'người đàn ông đội khăn xếp màu da tối trung bình', '👳🏼 \\u200d♂️': 'người đàn ông đội khăn xếp màu da sáng trung bình', '👳🏽 \\u200d♂️': 'người đàn ông đội khăn xếp màu da trung bình', '👨\\u200d 🦳': 'người đàn ông tóc trắng', '👰 \\u200d♂️': 'người đàn ông đeo mạng che mặt', '👰🏿 \\u200d♂️': 'người đàn ông đeo mạng che mặt màu da tối', '👰🏻 \\u200d♂️': 'người đàn ông đeo mạng che mặt màu da sáng', '👰🏾 \\u200d♂️': 'người đàn ông đeo mạng che mặt màu da tối trung bình', '👰🏼 \\u200d♂️': 'người đàn ông đeo mạng che mặt màu da sáng trung bình', '👰🏽 \\u200d♂️': 'người đàn ông đeo mạng che mặt màu da trung bình', '👨 \\u200d 🦯': 'người đàn ông cầm gậy trắng', '👨🏿\\u200d 🦯': 'người đàn ông với cây gậy trắng màu da tối', '👨\\u200d 🦯 \\u200d ➡️': 'người đàn ông cầm gậy trắng hướng về phía bên phải', '👨🏿 \\u200d 🦯 \\u200d ➡️': 'người đàn ông cầm gậy trắng quay mặt về bên phải màu da tối', '👨🏻 \\u200d 🦯 \\u200d ➡️': 'người đàn ông cầm gậy trắng quay mặt về phía bên phải màu da sáng', '👨🏾 \\u200d 🦯 \\u200d ➡️': 'người đàn ông cầm gậy trắng quay mặt về bên phải màu da tối trung bình', '👨🏼 \\u200d 🦯 \\u200d ➡️': 'người đàn ông cầm gậy trắng hướng mặt về bên phải màu da sáng trung bình', '👨🏽 \\u200d 🦯 \\u200d ➡️': 'người đàn ông cầm gậy trắng quay mặt về bên phải màu da trung bình', '👨🏻 \\u200d 🦯': 'người đàn ông có màu da sáng như cây gậy trắng', '👨🏾 \\u200d 🦯': 'người đàn ông với cây gậy trắng màu da tối trung bình', '👨🏼 \\u200d 🦯': 'người đàn ông với cây gậy trắng màu da sáng trung bình', '👨🏽 \\u200d 🦯': 'người đàn ông với cây gậy trắng màu da trung bình', '🧟 \\u200d♂️': 'man zombie', '🥭': 'mango', '🕰️': 'đồng hồ bệ lò sưởi', '🦽': 'xe lăn tay', '👞': 'giày nam', '🗾': 'bản đồ Nhật Bản', '🍁': 'lá phong', '\\U0001fa87': 'maracas', '🥋': 'đồng phục võ thuật', '🧉': 'bạn', '🍖': 'thịt trên xương', '🧑 \\u200d 🔧': 'mechanic', '🧑🏿\\u200d 🔧': 'màu da tối của người máy', '🧑🏻 \\u200d 🔧': 'màu da sáng của thợ máy', '🧑🏾 \\u200d 🔧': 'màu da tối trung bình của thợ máy', '🧑🏼 \\u200d 🔧': 'màu da sáng trung bình của thợ máy', '🧑🏽 \\u200d 🔧': 'màu da trung bình của thợ máy', '🦾': 'cánh tay cơ khí', '🦿': 'chân cơ khí', '⚕️': 'biểu tượng y tế', '📣': 'cái loa', '🍈': 'dưa', '🫠': 'mặt tan chảy', '📝': 'memo', '👬': 'đàn ông nắm tay nhau', '👬🏿': 'đàn ông nắm tay màu da tối', '👨🏿 \\u200d 🤝 \\u200d 👨🏻': 'đàn ông nắm tay tông màu da tối tông màu da sáng', '👨🏿 \\u200d 🤝 \\u200d 👨🏾': 'đàn ông nắm tay màu da tối tông màu da tối trung bình', '👨🏿 \\u200d 🤝 \\u200d 👨🏼': 'đàn ông nắm tay màu da tối màu da sáng trung bình', '👨🏿 \\u200d 🤝 \\u200d 👨🏽': 'đàn ông nắm tay màu da tối tông màu da trung bình', '👬🏻': 'nam nắm tay màu da sáng', '👨🏻 \\u200d 🤝 \\u200d 👨🏿': 'đàn ông nắm tay màu da sáng tông màu da tối', '👨🏻 \\u200d 🤝 \\u200d 👨🏾': 'đàn ông nắm tay màu da sáng màu da tối trung bình', '👨🏻 \\u200d 🤝 \\u200d 👨🏼': 'đàn ông nắm tay màu da sáng màu da sáng trung bình', '👨🏻 \\u200d 🤝 \\u200d 👨🏽': 'đàn ông nắm tay màu da sáng tông màu da trung bình', '👬🏾': 'đàn ông nắm tay màu da tối trung bình', '👨🏾 \\u200d 🤝 \\u200d 👨🏿': 'đàn ông nắm tay màu da tối trung bình tông màu da tối', '👨🏾 \\u200d 🤝 \\u200d 👨🏻': 'đàn ông nắm tay màu da tối trung bình tông màu da sáng', '👨🏾 \\u200d 🤝 \\u200d 👨🏼': 'đàn ông nắm tay màu da tối trung bình màu da sáng trung bình', '👨🏾 \\u200d 🤝 \\u200d 👨🏽': 'đàn ông nắm tay màu da tối trung bình màu da trung bình', '👬🏼': 'đàn ông nắm tay màu da sáng trung bình', '👨🏼 \\u200d 🤝 \\u200d 👨🏿': 'đàn ông nắm tay màu da sáng trung bình tông màu da tối', '👨🏼 \\u200d 🤝 \\u200d 👨🏻': 'đàn ông nắm tay màu da sáng trung bình tông màu da sáng', '👨🏼 \\u200d 🤝 \\u200d 👨🏾': 'đàn ông nắm tay màu da sáng trung bình màu da tối trung bình', '👨🏼 \\u200d 🤝 \\u200d 👨🏽': 'đàn ông nắm tay màu da sáng trung bình màu da trung bình', '👬🏽': 'đàn ông nắm tay màu da trung bình', '👨🏽 \\u200d 🤝 \\u200d 👨🏿': 'đàn ông nắm tay màu da trung bình tông màu da tối', '👨🏽 \\u200d 🤝 \\u200d 👨🏻': 'đàn ông nắm tay màu da trung bình tông màu da sáng', '👨🏽 \\u200d 🤝 \\u200d 👨🏾': 'đàn ông nắm tay màu da trung bình màu da tối trung bình', '👨🏽 \\u200d 🤝 \\u200d 👨🏼': 'đàn ông nắm tay màu da trung bình màu da sáng trung bình', '👯 \\u200d♂️': 'đàn ông tai thỏ', '🤼 \\u200d♂️': 'đàn ông đấu vật', '❤️ \\u200d 🩹': 'vá trái tim', '🕎': 'menorah', '🚹': 'phòng nam', '🧜\\u200d♀️': 'niên cá', '🧜🏿 \\u200d♀️': 'màu da tối của nàng tiên cá', '🧜🏻 \\u200d♀️': 'màu da sáng nàng tiên cá', '🧜🏾 \\u200d♀️': 'màu da tối trung bình của nàng tiên cá', '🧜🏼 \\u200d♀️': 'màu da sáng trung bình của nàng tiên cá', '🧜🏽 \\u200d♀️': 'màu da trung bình của nàng tiên cá', '🧜\\u200d♂️': 'merman', '🧜🏿\\u200d♂️': 'màu da tối của người cá', '🧜🏻\\u200d♂️': 'màu da sáng của người cá', '🧜🏾 \\u200d♂️': 'màu da tối trung bình của người cá', '🧜🏼 \\u200d♂️': 'màu da sáng trung bình của người cá', '🧜🏽 \\u200d♂️': 'màu da trung bình của người cá', '🧜': 'merperson', '🧜🏿': 'merperson màu da tối', '🧜🏻': 'merperson màu da sáng', '🧜🏾': 'merperson màu da tối trung bình', '🧜🏼': 'merperson màu da sáng trung bình', '🧜🏽': 'merperson màu da trung bình', '🚇': 'metro', '🦠': 'microbe', '🎤': 'microphone', '🔬': 'kính hiển vi', '🖕': 'ngón giữa', '🖕🏿': 'màu da tối của ngón giữa', '🖕🏻': 'màu da sáng của ngón giữa', '🖕🏾': 'màu da tối trung bình của ngón giữa', '🖕🏼': 'màu da sáng trung bình của ngón giữa', '🖕🏽': 'màu da trung bình của ngón giữa', '🪖': 'mũ bảo hiểm quân đội', '🎖️': 'huy chương quân sự', '🌌': 'dòng sữa', '🚐': 'xe buýt nhỏ', '➖': 'trừ', '🪞': 'gương', '🪩': 'quả cầu gương', '🗿': 'moai', '📱': 'điện thoại di động', '📴': 'điện thoại di động tắt', '📲': 'điện thoại di động có mũi tên', '🤑': 'mặt hám tiền', '💰': 'túi tiền', '💸': 'tiền có cánh', '🐒': 'khỉ', '🐵': 'mặt khỉ', '🚝': 'monorail', '🥮': 'bánh trung thu', '🎑': 'lễ ngắm trăng', '\\U0001face': 'moose', '🕌': 'nhà thờ Hồi giáo', '🦟': 'muỗi', '🛥️': 'thuyền máy', '🛵': 'xe tay ga', '🏍️': 'xe máy', '🦼': 'xe lăn có động cơ', '🛣️': 'đường cao tốc', '🗻': 'mount fuji', '⛰️': 'núi', '🚠': 'cáp treo núi', '🚞': 'đường sắt leo núi', '🐁': 'mouse', '🐭': 'mặt chuột', '🪤': 'bẫy chuột', '👄': 'mouth', '🎥': 'máy quay phim', '✖️': 'nhân', '🍄': 'nấm', '🎹': 'bàn phím âm nhạc', '🎵': 'nốt nhạc', '🎶': 'nốt nhạc', '🎼': 'điểm âm nhạc', '🔇': 'người nói bị tắt tiếng', '🧑 \\u200d 🎄': 'mx claus', '🧑🏿\\u200d 🎄': 'mx claus màu da tối', '🧑🏻 \\u200d 🎄': 'mx claus màu da sáng', '🧑🏾 \\u200d 🎄': 'mx claus màu da tối trung bình', '🧑🏼 \\u200d 🎄': 'mx claus màu da sáng trung bình', '🧑🏽 \\u200d 🎄': 'mx claus màu da trung bình', '💅': 'sơn móng tay', '💅🏿': 'sơn móng tay tông màu da tối', '💅🏻': 'sơn móng tay màu da sáng', '💅🏾': 'sơn móng tay, tông màu da tối trung bình', '💅🏼': 'sơn móng tay, tông màu da sáng trung bình', '💅🏽': 'sơn móng tay, tông màu da trung bình', '📛': 'huy hiệu tên', '🏞️': 'vườn quốc gia', '🤢': 'mặt buồn nôn', '🧿': 'bùa hộ mệnh nazar', '👔': 'cà vạt', '🤓': 'mặt mọt sách', '🪺': 'tổ với trứng', '🪆': 'búp bê làm tổ', '😐': 'mặt trung lập', '🌑': 'trăng non', '🌚': 'mặt trăng non', '📰': 'báo', '⏭️': 'nút bài hát tiếp theo', '🌃': 'đêm có sao', '🕤': 'chín giờ ba mươi', '🕘': 'chín giờ', '🥷': 'ninja', '🥷 🏿': 'màu da tối của ninja', '🥷 🏻': 'màu da sáng của ninja', '🥷 🏾': 'màu da tối trung bình của ninja', '🥷 🏼': 'màu da sáng trung bình của ninja', '🥷 🏽': 'ninja màu da trung bình', '🚳': 'không có xe đạp', '⛔': 'không được vào', '🚯': 'không xả rác', '📵': 'không có điện thoại di động', '🔞': 'không có ai dưới 18 tuổi', '🚷': 'cấm người đi bộ', '🚭': 'không hút thuốc', '🚱': 'nước không uống được', '👃': 'mũi', '👃🏿': 'mũi màu da tối', '👃🏻': 'mũi màu da sáng', '👃🏾': 'mũi màu da tối trung bình', '👃🏼': 'mũi màu da sáng trung bình', '👃🏽': 'mũi màu da trung bình', '📓': 'notebook', '📔': 'sổ tay có bìa trang trí', '🔩': 'đai ốc và bu lông', '🐙': 'bạch tuộc', '🍢': 'oden', '🏢': 'tòa nhà văn phòng', '🧑 \\u200d 💼': 'nhân viên văn phòng', '🧑🏿\\u200d 💼': 'nhân viên văn phòng màu da tối', '🧑🏻 \\u200d 💼': 'nhân viên văn phòng màu da sáng', '🧑🏾 \\u200d 💼': 'nhân viên văn phòng màu da tối trung bình', '🧑🏼 \\u200d 💼': 'nhân viên văn phòng màu da sáng trung bình', '🧑🏽 \\u200d 💼': 'nhân viên văn phòng, màu da trung bình', '👹': 'ogre', '🛢️': 'thùng dầu', '🗝️': 'chìa khóa cũ', '👴': 'ông già', '👴🏿': 'ông già màu da tối', '👴🏻': 'màu da sáng của ông già', '👴🏾': 'ông già, màu da tối trung bình', '👴🏼': 'màu da sáng trung bình của ông già', '👴🏽': 'ông già màu da trung bình', '👵': 'bà già', '👵🏿': 'bà già màu da tối', '👵🏻': 'bà già màu da sáng', '👵🏾': 'bà già màu da tối trung bình', '👵🏼': 'bà già màu da sáng trung bình', '👵🏽': 'bà già màu da trung bình', '🧓': 'người lớn tuổi', '🧓🏿': 'người lớn tuổi màu da tối', '🧓🏻': 'người lớn tuổi màu da sáng', '🧓🏾': 'người lớn tuổi màu da tối trung bình', '🧓🏼': 'người lớn tuổi màu da sáng trung bình', '🧓🏽': 'người lớn tuổi màu da trung bình', '🫒': 'ô liu', '🕉️': 'om', '🚘': 'ô tô đang tới', '🚍': 'xe buýt đang tới', '👊': 'nắm tay sắp tới', '👊🏿': 'nắm tay sắp tới màu da tối', '👊🏻': 'màu da sáng của nắm đấm sắp tới', '👊🏾': 'nắm tay sắp tới màu da tối trung bình', '👊🏼': 'nắm tay sắp tới màu da sáng trung bình', '👊🏽': 'nắm đấm sắp tới màu da trung bình', '🚔': 'xe cảnh sát đang tới', '🚖': 'xe taxi đang tới', '🩱': 'đồ bơi một mảnh', '🕜': 'một giờ ba mươi', '🕐': 'một giờ', '🧅': 'củ hành', '📖': 'mở sách', '📂': 'mở thư mục tập tin', '👐': 'mở tay', '👐🏿': 'mở bàn tay màu da tối', '👐🏻': 'mở tay màu da sáng', '👐🏾': 'bàn tay mở màu da tối trung bình', '👐🏼': 'mở bàn tay màu da sáng trung bình', '👐🏽': 'tay mở màu da trung bình', '📭': 'mở hộp thư có cờ được hạ xuống', '📬': 'mở hộp thư có cờ giơ lên', '💿': 'đĩa quang', '📙': 'sách cam', '🟠': 'vòng tròn màu cam', '🧡': 'trái tim màu cam', '🟧': 'hình vuông màu cam', '🦧': 'đười ươi', '☦️': 'chữ thập chính thống', '🦦': 'rái cá', '📤': 'khay hộp thư đi', '🦉': 'cú', '🐂': 'ox', '🦪': 'oyster', '📦': 'gói', '📄': 'trang ngửa lên', '📃': 'trang có đường cong', '📟': 'pager', '🖌️': 'cọ sơn', '🫳': 'lòng bàn tay úp xuống', '🫳 🏿': 'lòng bàn tay hướng xuống màu da tối', '🫳 🏻': 'lòng bàn tay hướng xuống màu da sáng', '🫳 🏾': 'lòng bàn tay hướng xuống màu da tối trung bình', '🫳 🏼': 'lòng bàn tay hướng xuống màu da sáng trung bình', '🫳 🏽': 'lòng bàn tay hướng xuống màu da trung bình', '🌴': 'cây cọ', '🫴': 'lòng bàn tay giơ lên', '🫴 🏿': 'lòng bàn tay giơ lên màu da tối', '🫴 🏻': 'lòng bàn tay giơ lên màu da sáng', '🫴 🏾': 'lòng bàn tay giơ lên màu da tối trung bình', '🫴 🏼': 'lòng bàn tay giơ lên màu da sáng trung bình', '🫴 🏽': 'lòng bàn tay giơ lên màu da trung bình', '🤲': 'chắp tay lên', '🤲🏿': 'chắp tay vào nhau màu da tối', '🤲🏻': 'chắp tay lên màu da sáng', '🤲🏾': 'chắp tay lên màu da tối trung bình', '🤲🏼': 'chắp tay vào nhau màu da sáng trung bình', '🤲🏽': 'chắp tay vào nhau màu da trung bình', '🥞': 'bánh kếp', '🐼': 'gấu trúc', '📎': 'kẹp giấy', '🪂': 'dù', '🦜': 'vẹt', '〽️': 'dấu thay thế phần', '🎉': 'người tổ chức tiệc tùng', '🥳': 'khuôn mặt tiệc tùng', '🛳️': 'tàu khách', '🛂': 'kiểm soát hộ chiếu', '⏸️': 'nút tạm dừng', '🐾': 'dấu chân', '\\U0001fadb': 'vỏ đậu', '☮️': 'biểu tượng hòa bình', '🍑': 'đào', '🦚': 'peacock', '🥜': 'đậu phộng', '🍐': 'lê', '🖊️': 'pen', '✏️': 'bút chì', '🐧': 'chim cánh cụt', '😔': 'mặt trầm ngâm', '🧑 \\u200d 🤝 \\u200d 🧑': 'mọi người nắm tay nhau', '🧑🏿 \\u200d 🤝 \\u200d 🧑🏿': 'những người nắm tay nhau màu da tối', '🧑🏿 \\u200d 🤝 \\u200d 🧑🏻': 'những người nắm tay tông màu da tối tông màu da sáng', '🧑🏿 \\u200d 🤝 \\u200d 🧑🏾': 'những người nắm tay màu da tối tông màu da tối trung bình', '🧑🏿 \\u200d 🤝 \\u200d 🧑🏼': 'những người nắm tay màu da tối màu da sáng trung bình', '🧑🏿 \\u200d 🤝 \\u200d 🧑🏽': 'những người nắm tay màu da tối tông màu da trung bình', '🧑🏻 \\u200d 🤝 \\u200d 🧑🏻': 'những người nắm tay màu da sáng', '🧑🏻 \\u200d 🤝 \\u200d 🧑🏿': 'những người nắm tay màu da sáng tông màu da tối', '🧑🏻 \\u200d 🤝 \\u200d 🧑🏾': 'những người nắm tay màu da sáng màu da tối trung bình', '🧑🏻 \\u200d 🤝 \\u200d 🧑🏼': 'những người nắm tay màu da sáng màu da sáng trung bình', '🧑🏻 \\u200d 🤝 \\u200d 🧑🏽': 'những người nắm tay màu da sáng tông màu da trung bình', '🧑🏾 \\u200d 🤝 \\u200d 🧑🏾': 'những người nắm tay màu da tối trung bình', '🧑🏾 \\u200d 🤝 \\u200d 🧑🏿': 'những người nắm tay màu da tối trung bình tông màu da tối', '🧑🏾 \\u200d 🤝 \\u200d 🧑🏻': 'những người nắm tay màu da tối trung bình tông màu da sáng', '🧑🏾 \\u200d 🤝 \\u200d 🧑🏼': 'những người nắm tay màu da tối trung bình màu da sáng trung bình', '🧑🏾 \\u200d 🤝 \\u200d 🧑🏽': 'những người nắm tay màu da tối trung bình màu da trung bình', '🧑🏼 \\u200d 🤝 \\u200d 🧑🏼': 'những người nắm tay màu da sáng trung bình', '🧑🏼 \\u200d 🤝 \\u200d 🧑🏿': 'những người nắm tay màu da sáng trung bình tông màu da tối', '🧑🏼 \\u200d 🤝 \\u200d 🧑🏻': 'những người nắm tay màu da sáng trung bình tông màu da sáng', '🧑🏼 \\u200d 🤝 \\u200d 🧑🏾': 'những người nắm tay màu da sáng trung bình màu da tối trung bình', '🧑🏼 \\u200d 🤝 \\u200d 🧑🏽': 'những người nắm tay màu da sáng trung bình màu da trung bình', '🧑🏽 \\u200d 🤝 \\u200d 🧑🏽': 'những người nắm tay màu da trung bình', '🧑🏽 \\u200d 🤝 \\u200d 🧑🏿': 'những người nắm tay màu da trung bình tông màu da tối', '🧑🏽 \\u200d 🤝 \\u200d 🧑🏻': 'những người nắm tay màu da trung bình màu da sáng', '🧑🏽 \\u200d 🤝 \\u200d 🧑🏾': 'những người nắm tay màu da trung bình màu da tối trung bình', '🧑🏽 \\u200d 🤝 \\u200d 🧑🏼': 'những người nắm tay màu da trung bình màu da sáng trung bình', '🫂': 'mọi người ôm nhau', '👯': 'những người có tai thỏ', '🤼': 'mọi người đang đấu vật', '🎭': 'biểu diễn nghệ thuật', '😣': 'mặt kiên trì', '🧑': 'người', '🧑 \\u200d 🦲': 'người hói', '🧔': 'người có râu', '🚴': 'người đi xe đạp', '🚴🏿': 'người đi xe đạp màu da tối', '🚴🏻': 'người đi xe đạp màu da sáng', '🚴🏾': 'người đi xe đạp màu da tối trung bình', '🚴🏼': 'người đi xe đạp màu da sáng trung bình', '🚴🏽': 'người đi xe đạp màu da trung bình', '👱': 'người tóc vàng', '⛹️': 'người nảy bóng', '⛹ 🏿': 'người chơi bóng màu da tối', '⛹ 🏻': 'người chơi bóng màu da sáng', '⛹ 🏾': 'người chơi bóng màu da tối trung bình', '⛹ 🏼': 'người chơi bóng màu da sáng trung bình', '⛹ 🏽': 'người chơi bóng màu da trung bình', '🙇': 'người cúi đầu', '🙇🏿': 'người cúi đầu màu da tối', '🙇🏻': 'người cúi đầu màu da sáng', '🙇🏾': 'người cúi đầu màu da tối trung bình', '🙇🏼': 'người đang cúi đầu màu da sáng trung bình', '🙇🏽': 'người cúi đầu màu da trung bình', '🤸': 'người nhào lộn', '🤸🏿': 'người nhào lộn màu da tối', '🤸🏻': 'người nhào lộn màu da sáng', '🤸🏾': 'người nhào lộn màu da tối trung bình', '🤸🏼': 'người nhào lộn màu da sáng trung bình', '🤸🏽': 'người nhào lộn màu da trung bình', '🧗': 'người leo núi', '🧗🏿': 'người leo núimàu da tối', '🧗🏻': 'người leo núi màu da sáng', '🧗🏾': 'người leo núimàu da tối trung bình', '🧗🏼': 'người leo núi màu da sáng trung bình', '🧗🏽': 'người leo núi màu da trung bình', '🧑 \\u200d 🦱': 'người tóc xoăn', '🧑🏿': 'người màu da tối', '🧑🏿\\u200d 🦲': 'người màu da tối hói', '🧔🏿': 'người màu da tối râu', '👱🏿': 'người da tối tóc vàng', '🧑🏿\\u200d 🦱': 'người da tối tóc xoăn', '🧑🏿\\u200d 🦰': 'người da tối tóc đỏ', '🧑🏿\\u200d 🦳': 'người da tối tóc trắng', '🤦': 'người lấy tay che mặt', '🤦🏿': 'người lấy tay che mặt màu da tối', '🤦🏻': 'người lấy tay che mặt màu da sáng', '🤦🏾': 'người che mặt màu da tối trung bình', '🤦🏼': 'người che mặt màu da sáng trung bình', '🤦🏽': 'người lấy tay che mặt màu da trung bình', '🧑 \\u200d 🍼': 'người cho bé ăn', '🧑🏿\\u200d 🍼': 'người cho bé ăn màu da tối', '🧑🏻 \\u200d 🍼': 'người cho bé ăn màu da sáng', '🧑🏾 \\u200d 🍼': 'người cho bé ăn màu da tối trung bình', '🧑🏼 \\u200d 🍼': 'người cho bé ăn màu da sáng trung bình', '🧑🏽 \\u200d 🍼': 'người cho bé ăn màu da trung bình', '🤺': 'người đấu kiếm', '🙍': 'người cau mày', '🙍🏿': 'người cau mày màu da tối', '🙍🏻': 'người cau mày màu da sáng', '🙍🏾': 'người cau mày màu da tối trung bình', '🙍🏼': 'người cau mày màu da sáng trung bình', '🙍🏽': 'người cau mày màu da trung bình', '🙅': 'người ra hiệu KHÔNG', '🙅🏿': 'người ra hiệu KHÔNG màu da tối', '🙅🏻': 'người ra cử chỉ KHÔNG màu da sáng', '🙅🏾': 'người ra hiệu KHÔNG màu da tối trung bình', '🙅🏼': 'người ra hiệu KHÔNG màu da sáng trung bình', '🙅🏽': 'người ra hiệu KHÔNG màu da trung bình', '🙆': 'người ra hiệu đồng ý', '🙆🏿': 'người ra hiệu đồng ý màu da tối', '🙆🏻': 'người ra hiệu đồng ý màu da sáng', '🙆🏾': 'người ra hiệu đồng ý màu da tối trung bình', '🙆🏼': 'người ra hiệu đồng ý màu da sáng trung bình', '🙆🏽': 'người ra hiệu đồng ý màu da trung bình', '💇': 'người được cắt tóc', '💇🏿': 'người được cắt tóc tông màu da tối', '💇🏻': 'người được cắt tóc màu da sáng', '💇🏾': 'người được cắt tóc màu da tối trung bình', '💇🏼': 'người được cắt tóc màu da sáng trung bình', '💇🏽': 'người được cắt tóc màu da trung bình', '💆': 'người được mát-xa', '💆🏿': 'người được massage màu da tối', '💆🏻': 'người được mát-xa màu da sáng', '💆🏾': 'người được mát-xa màu da tối trung bình', '💆🏼': 'người được mát-xa màu da sáng trung bình', '💆🏽': 'người được mát-xa màu da trung bình', '🏌️': 'người chơi gôn', '🏌🏿': 'người chơi gôn màu da tối', '🏌🏻': 'người chơi gôn màu da sáng', '🏌🏾': 'người chơi gôn màu da tối trung bình', '🏌🏼': 'người chơi gôn màu da sáng trung bình', '🏌🏽': 'người chơi gôn màu da trung bình', '🛌': 'người trên giường', '🛌🏿': 'người trên giường màu da tối', '🛌🏻': 'người trên giường màu da sáng', '🛌🏾': 'người trên giường màu da tối trung bình', '🛌🏼': 'người trên giường màu da sáng trung bình', '🛌🏽': 'người trên giường màu da trung bình', '🧘': 'người ngồi kiết già', '🧘🏿': 'người ngồi kiết già màu da tối', '🧘🏻': 'người ngồi kiết già màu da sáng', '🧘🏾': 'người ngồi kiết già màu da tối trung bình', '🧘🏼': 'người ngồi kiết già màu da sáng trung bình', '🧘🏽': 'người ngồi kiết già màu da trung bình', '🧑 \\u200d 🦽': 'người ngồi xe lăn tay', '🧑🏿\\u200d 🦽': 'người ngồi trên xe lăn tay màu da tối', '🧑 \\u200d 🦽 \\u200d ➡️': 'người ngồi xe lăn tay quay mặt về phía bên phải', '🧑🏿 \\u200d 🦽 \\u200d ➡️': 'người ngồi xe lăn tay quay mặt về bên phải màu da tối', '🧑🏻 \\u200d 🦽 \\u200d ➡️': 'người ngồi trên xe lăn tay quay mặt về phía bên phải màu da sáng', '🧑🏾 \\u200d 🦽 \\u200d ➡️': 'người ngồi trên xe lăn tay quay mặt về bên phải màu da tối trung bình', '🧑🏼 \\u200d 🦽 \\u200d ➡️': 'người ngồi xe lăn quay mặt về phía bên phải màu da sáng trung bình', '🧑🏽 \\u200d 🦽 \\u200d ➡️': 'người ngồi xe lăn quay mặt về phía bên phải màu da trung bình', '🧑🏻 \\u200d 🦽': 'người ngồi xe lăn tay màu da sáng', '🧑🏾 \\u200d 🦽': 'người ngồi trên xe lăn tay màu da tối trung bình', '🧑🏼 \\u200d 🦽': 'người ngồi trên xe lăn tay màu da sáng trung bình', '🧑🏽 \\u200d 🦽': 'người ngồi trên xe lăn tay màu da trung bình', '🧑 \\u200d 🦼': 'người ngồi trên xe lăn có động cơ', '🧑🏿\\u200d 🦼': 'người ngồi trên xe lăn có động cơ màu da tối', '🧑 \\u200d 🦼 \\u200d ➡️': 'người ngồi trên xe lăn quay mặt về phía bên phải', '🧑🏿 \\u200d 🦼 \\u200d ➡️': 'người ngồi trên xe lăn có động cơ quay mặt về phía bên phải màu da tối', '🧑🏻 \\u200d 🦼 \\u200d ➡️': 'người ngồi trên xe lăn có động cơ quay mặt về phía bên phải màu da sáng', '🧑🏾 \\u200d 🦼 \\u200d ➡️': 'người ngồi trên xe lăn có động cơ quay mặt về bên phải màu da tối trung bình', '🧑🏼 \\u200d 🦼 \\u200d ➡️': 'người ngồi trên xe lăn có động cơ quay mặt về bên phải màu da sáng trung bình', '🧑🏽 \\u200d 🦼 \\u200d ➡️': 'người ngồi trên xe lăn có động cơ quay mặt về phía bên phải màu da trung bình', '🧑🏻 \\u200d 🦼': 'người ngồi trên xe lăn có động cơ màu da sáng', '🧑🏾 \\u200d 🦼': 'người ngồi trên xe lăn có động cơ màu da tối trung bình', '🧑🏼 \\u200d 🦼': 'người ngồi trên xe lăn có động cơ màu da sáng trung bình', '🧑🏽 \\u200d 🦼': 'người ngồi trên xe lăn có động cơ màu da trung bình', '🧖': 'người trong phòng ướt át', '🧖🏿': 'người trong phòng ướt át màu da tối', '🧖🏻': 'người ở trong phòng xông hơi màu da sáng', '🧖🏾': 'người trong phòng xông hơi màu da tối trung bình', '🧖🏼': 'người trong phòng xông hơi màu da sáng trung bình', '🧖🏽': 'người trong phòng ướt át màu da trung bình', '🕴️': 'người mặc vest đang bay lên', '🕴🏿': 'người mặc vest làm nổi bật tông màu da tối', '🕴🏻': 'người mặc vest có tông màu da sáng', '🕴🏾': 'người mặc vest có tông màu da tối trung bình', '🕴🏼': 'người mặc vest có màu da sáng trung bình', '🕴🏽': 'người mặc vest có màu da trung bình', '🤵': 'người mặc tuxedo', '🤵🏿': 'người mặc tuxedo màu da tối', '🤵🏻': 'người mặc tuxedo màu da sáng', '🤵🏾': 'người mặc tuxedo màu da tối trung bình', '🤵🏼': 'người mặc tuxedo màu da sáng trung bình', '🤵🏽': 'người mặc tuxedo màu da trung bình', '🤹': 'người tung hứng', '🤹🏿': 'người tung hứng màu da tối', '🤹🏻': 'người tung hứng màu da sáng', '🤹🏾': 'người tung hứng màu da tối trung bình', '🤹🏼': 'người tung hứng màu da sáng trung bình', '🤹🏽': 'người tung hứng màu da trung bình', '🧎': 'người quỳ', '🧎🏿': 'người quỳ màu da tối', '🧎 \\u200d ➡️': 'người quỳ hướng về bên phải', '🧎🏿\\u200d ➡️': 'người quỳ quay mặt về phía màu da tối bên phải', '🧎🏻 \\u200d ➡️': 'người quỳ quay mặt về màu da sáng bên phải', '🧎🏾 \\u200d ➡️': 'người quỳ quay mặt về phía bên phải màu da tối trung bình', '🧎🏼 \\u200d ➡️': 'người quỳ hướng mặt về màu da sáng trung bình bên phải', '🧎🏽 \\u200d ➡️': 'người quỳ quay mặt về phía bên phải màu da trung bình', '🧎🏻': 'người quỳ màu da sáng', '🧎🏾': 'người quỳ màu da tối trung bình', '🧎🏼': 'người đang quỳ màu da sáng trung bình', '🧎🏽': 'người quỳ màu da trung bình', '🏋️': 'người nâng tạ', '🏋🏿': 'người cử tạ màu da tối', '🏋🏻': 'người cử tạ màu da sáng', '🏋🏾': 'người cử tạ màu da tối trung bình', '🏋🏼': 'người cử tạ màu da sáng trung bình', '🏋🏽': 'người nâng tạ màu da trung bình', '🧑🏻': 'người màu da sáng', '🧑🏻 \\u200d 🦲': 'người màu da sáng hói', '🧔🏻': 'người màu da sáng râu', '👱🏻': 'người tông da sáng tóc vàng', '🧑🏻 \\u200d 🦱': 'người màu da sáng tóc xoăn', '🧑🏻 \\u200d 🦰': 'người màu da sáng tóc đỏ', '🧑🏻 \\u200d 🦳': 'người màu da sáng tóc trắng', '🧑🏾': 'người màu da tối trung bình', '🧑🏾 \\u200d 🦲': 'người màu da tối trung bình hói', '🧔🏾': 'người có râu màu da tối trung bình', '👱🏾': 'người màu da tối trung bình tóc vàng', '🧑🏾 \\u200d 🦱': 'người da tối trung bình tóc xoăn', '🧑🏾 \\u200d 🦰': 'người da tối trung bình tóc đỏ', '🧑🏾 \\u200d 🦳': 'người màu da tối trung bình tóc trắng', '🧑🏼': 'người màu da sáng trung bình', '🧑🏼 \\u200d 🦲': 'người màu da sáng trung bình hói', '🧔🏼': 'người màu da sáng trung bình có râu', '👱🏼': 'người màu da sáng trung bình tóc vàng', '🧑🏼 \\u200d 🦱': 'người tóc xoăn màu da sáng trung bình', '🧑🏼 \\u200d 🦰': 'người màu da sáng trung bình tóc đỏ', '🧑🏼 \\u200d 🦳': 'người màu da sáng trung bình tóc trắng', '🧑🏽': 'người màu da trung bình', '🧑🏽 \\u200d 🦲': 'người màu da trung bình hói', '🧔🏽': 'người màu da trung bình râu', '👱🏽': 'người màu da trung bình tóc vàng', '🧑🏽 \\u200d 🦱': 'người màu da trung bình tóc xoăn', '🧑🏽 \\u200d 🦰': 'người màu da trung bình tóc đỏ', '🧑🏽 \\u200d 🦳': 'người màu da trung bình tóc trắng', '🚵': 'người đi xe đạp leo núi', '🚵🏿': 'người đi xe đạp leo núi màu da tối', '🚵🏻': 'người đi xe đạp leo núi màu da sáng', '🚵🏾': 'người đi xe đạp leo núi màu da tối trung bình', '🚵🏼': 'người đi xe đạp leo núi màu da sáng trung bình', '🚵🏽': 'người đi xe đạp leo núi màu da trung bình', '🤾': 'người chơi bóng ném', '🤾🏿': 'người chơi bóng ném màu da tối', '🤾🏻': 'người chơi bóng ném màu da sáng', '🤾🏾': 'người chơi bóng ném màu da tối trung bình', '🤾🏼': 'người chơi bóng ném màu da sáng trung bình', '🤾🏽': 'người chơi bóng ném màu da trung bình', '🤽': 'người chơi bóng nước', '🤽🏿': 'người chơi bóng nước màu da tối', '🤽🏻': 'người chơi bóng nước màu da sáng', '🤽🏾': 'người chơi bóng nước màu da tối trung bình', '🤽🏼': 'người chơi bóng nước màu da sáng trung bình', '🤽🏽': 'người chơi bóng nước màu da trung bình', '🙎': 'người bĩu môi', '🙎🏿': 'người bĩu môi màu da tối', '🙎🏻': 'người bĩu môi màu da sáng', '🙎🏾': 'người bĩu môi màu da tối trung bình', '🙎🏼': 'người bĩu môi màu da sáng trung bình', '🙎🏽': 'người bĩu môi màu da trung bình', '🙋': 'người giơ tay', '🙋🏿': 'người giơ tay màu da tối', '🙋🏻': 'người giơ tay màu da sáng', '🙋🏾': 'người giơ tay màu da tối trung bình', '🙋🏼': 'người giơ tay màu da sáng trung bình', '🙋🏽': 'người giơ tay màu da trung bình', '🧑 \\u200d 🦰': 'người tóc đỏ', '🚣': 'người chèo thuyền', '🚣🏿': 'người chèo thuyền màu da tối', '🚣🏻': 'người chèo thuyền màu da sáng', '🚣🏾': 'người chèo thuyền màu da tối trung bình', '🚣🏼': 'người chèo thuyền màu da sáng trung bình', '🚣🏽': 'người chèo thuyền màu da trung bình', '🏃': 'người đang chạy', '🏃🏿': 'người đang chạy màu da tối', '🏃\\u200d ➡️': 'người chạy hướng về phía bên phải', '🏃🏿 \\u200d ➡️': 'người chạy đối diện với màu da tối bên phải', '🏃🏻\\u200d ➡️': 'người chạy đối diện với màu da sáng bên phải', '🏃🏾 \\u200d ➡️': 'người chạy quay mặt về phía bên phải màu da tối trung bình', '🏃🏼 \\u200d ➡️': 'người chạy đối diện với màu da sáng trung bình bên phải', '🏃🏽 \\u200d ➡️': 'người đang chạy quay mặt về phía màu da trung bình bên phải', '🏃🏻': 'người đang chạy màu da sáng', '🏃🏾': 'người chạy màu da tối trung bình', '🏃🏼': 'người đang chạy màu da sáng trung bình', '🏃🏽': 'người chạy màu da trung bình', '🤷': 'người nhún vai', '🤷🏿': 'người nhún vai màu da tối', '🤷🏻': 'người nhún vai màu da sáng', '🤷🏾': 'người nhún vai màu da tối trung bình', '🤷🏼': 'người nhún vai màu da sáng trung bình', '🤷🏽': 'người nhún vai màu da trung bình', '🧍': 'người đứng', '🧍🏿': 'người đứng màu da tối', '🧍🏻': 'người đứng màu da sáng', '🧍🏾': 'người đứng màu da tối trung bình', '🧍🏼': 'người đứng màu da sáng trung bình', '🧍🏽': 'người đứng màu da trung bình', '🏄': 'người lướt', '🏄🏿': 'người lướt sóng màu da tối', '🏄🏻': 'người lướt sóng màu da sáng', '🏄🏾': 'người lướt sóng màu da tối trung bình', '🏄🏼': 'người lướt sóng màu da sáng trung bình', '🏄🏽': 'người lướt sóng màu da trung bình', '🏊': 'người đang bơi', '🏊🏿': 'người bơi màu da tối', '🏊🏻': 'người đang bơi màu da sáng', '🏊🏾': 'người đang bơi màu da tối trung bình', '🏊🏼': 'người đang bơi màu da sáng trung bình', '🏊🏽': 'người đang bơi màu da trung bình', '🛀': 'người đang tắm', '🛀🏿': 'người đang tắm màu da tối', '🛀🏻': 'người đang tắm màu da sáng', '🛀🏾': 'người đang tắm màu da tối trung bình', '🛀🏼': 'người đang tắm màu da sáng trung bình', '🛀🏽': 'người đang tắm màu da trung bình', '💁': 'người chìa tay', '💁🏿': 'người ra tay màu da tối', '💁🏻': 'người ra tay màu da sáng', '💁🏾': 'người ra tay màu da tối trung bình', '💁🏼': 'người ra tay màu da sáng trung bình', '💁🏽': 'người ra tay màu da trung bình', '🚶': 'người đi bộ', '🚶🏿': 'người đi bộ màu da tối', '🚶 \\u200d ➡️': 'người đi quay mặt về phía bên phải', '🚶🏿 \\u200d ➡️': 'người đi quay mặt về phía bên phải màu da tối', '🚶🏻 \\u200d ➡️': 'người đi đối diện với màu da sáng bên phải', '🚶🏾 \\u200d ➡️': 'người đi quay mặt về phía bên phải màu da tối trung bình', '🚶🏼 \\u200d ➡️': 'người đi quay mặt về phía bên phải màu da sáng trung bình', '🚶🏽 \\u200d ➡️': 'người đi đối diện với màu da trung bình bên phải', '🚶🏻': 'người đi bộ màu da sáng', '🚶🏾': 'người đi bộ màu da tối trung bình', '🚶🏼': 'người đi bộ màu da sáng trung bình', '🚶🏽': 'người đi bộ màu da trung bình', '👳': 'người đội khăn xếp', '👳🏿': 'người đội khăn xếp tông màu da tối', '👳🏻': 'người đội khăn xếp màu da sáng', '👳🏾': 'người đội khăn xếp màu da tối trung bình', '👳🏼': 'người đội khăn xếp màu da sáng trung bình', '👳🏽': 'người đội khăn xếp màu da trung bình', '🧑 \\u200d 🦳': 'người tóc trắng', '🫅': 'người đội vương miện', '🫅 🏿': 'người có tông màu da tối', '🫅 🏻': 'người có màu da sáng như vương miện', '🫅 🏾': 'người có màu da tối trung bình', '🫅 🏼': 'người có màu da sáng trung bình', '🫅 🏽': 'người có màu da trung bình', '👲': 'người đội mũ sọ', '👲🏿': 'người có tông màu da tối', '👲🏻': 'người có màu da sáng hình mũ đầu lâu', '👲🏾': 'người có màu da tối trung bình', '👲🏼': 'người có màu da sáng trung bình', '👲🏽': 'người có màu da trung bình', '👰': 'người đeo mạng che mặt', '👰🏿': 'người đeo mạng che mặt màu da tối', '👰🏻': 'người đeo mạng che mặt màu da sáng', '👰🏾': 'người đeo mạng che mặt màu da tối trung bình', '👰🏼': 'người đeo mạng che mặt màu da sáng trung bình', '👰🏽': 'người đeo mạng che mặt màu da trung bình', '🧑 \\u200d 🦯': 'người cầm gậy trắng', '🧑🏿\\u200d 🦯': 'người có màu da tối màu trắng', '🧑 \\u200d 🦯 \\u200d ➡️': 'người cầm gậy trắng hướng về phía bên phải', '🧑🏿 \\u200d 🦯 \\u200d ➡️': 'người cầm gậy trắng quay mặt về bên phải tông màu da tối', '🧑🏻 \\u200d 🦯 \\u200d ➡️': 'người cầm gậy trắng quay mặt về bên phải màu da sáng', '🧑🏾 \\u200d 🦯 \\u200d ➡️': 'người cầm gậy trắng quay mặt về bên phải màu da tối trung bình', '🧑🏼 \\u200d 🦯 \\u200d ➡️': 'người cầm gậy trắng hướng về bên phải màu da sáng trung bình', '🧑🏽 \\u200d 🦯 \\u200d ➡️': 'người cầm gậy trắng quay mặt về bên phải màu da trung bình', '🧑🏻 \\u200d 🦯': 'người có tông da sáng màu trắng như mía', '🧑🏾 \\u200d 🦯': 'người có màu da tối trung bình', '🧑🏼 \\u200d 🦯': 'người có màu da sáng trung bình', '🧑🏽 \\u200d 🦯': 'người có màu da trắng trung bình', '🧫': 'đĩa petri', '🐦 \\u200d 🔥': 'phoenix', '⛏️': 'pick', '🛻': 'xe bán tải', '🥧': 'pie', '🐖': 'heo', '🐷': 'mặt lợn', '🐽': 'mũi lợn', '💩': 'đống phân', '💊': 'pill', '🧑 \\u200d ✈️': 'pilot', '🧑🏿\\u200d ✈️': 'màu da tối của phi công', '🧑🏻 \\u200d ✈️': 'màu da sáng của phi công', '🧑🏾 \\u200d ✈️': 'màu da tối trung bình của thí điểm', '🧑🏼 \\u200d ✈️': 'màu da sáng trung bình của thí điểm', '🧑🏽 \\u200d ✈️': 'màu da trung bình của phi công', '🤌': 'chắp ngón tay', '🤌 🏿': 'ngón tay bị chèn ép màu da tối', '🤌 🏻': 'ngón tay bị chèn ép màu da sáng', '🤌 🏾': 'ngón tay bị chèn ép màu da tối trung bình', '🤌 🏼': 'ngón tay nhéo màu da sáng trung bình', '🤌 🏽': 'ngón tay bị véo màu da trung bình', '🤏': 'véo tay', '🤏🏿': 'béo tay màu da tối', '🤏🏻': 'véo tay màu da sáng', '🤏🏾': 'bàn tay véo màu da tối trung bình', '🤏🏼': 'tay nhéo màu da sáng trung bình', '🤏🏽': 'tay nhéo màu da trung bình', '🎍': 'trang trí cây thông', '🍍': 'dứa', '🏓': 'bóng bàn', '\\U0001fa77': 'trái tim hồng', '🏴 \\u200d ☠️': 'cờ cướp biển', '🍕': 'pizza', '🪅': 'piñata', '🪧': 'báo hiệu', '🛐': 'nơi thờ cúng', '⏯️': 'nút phát hoặc tạm dừng', '🛝': 'cầu trượt sân chơi', '🥺': 'mặt cầu xin', '🪠': 'pít tông', '➕': 'cộng', '🐻 \\u200d ❄️': 'gấu bắc cực', '🚓': 'xe cảnh sát', '🚨': 'đèn xe cảnh sát', '👮': 'cảnh sát', '👮🏿': 'cảnh sát màu da tối', '👮🏻': 'cảnh sát màu da sáng', '👮🏾': 'cảnh sát màu da tối trung bình', '👮🏼': 'cảnh sát màu da sáng trung bình', '👮🏽': 'cảnh sát màu da trung bình', '🐩': 'poodle', '🎱': 'bi-a 8 bóng', '🍿': 'bắp ngô', '🏤': 'bưu điện', '📯': 'còi bưu điện', '📮': 'hộp thư', '🍲': 'nồi thức ăn', '🚰': 'nước uống', '🥔': 'potato', '🪴': 'cây trồng trong chậu', '🍗': 'chân gia cầm', '💷': 'tiền giấy bảng Anh', '🫗': 'đổ chất lỏng', '😾': 'mèo bĩu môi', '📿': 'hạt cầu nguyện', '🫃': 'người đàn ông mang thai', '🫃 🏿': 'người đàn ông mang thai màu da tối', '🫃 🏻': 'màu da sáng của người đàn ông mang thai', '🫃 🏾': 'đàn ông mang thai màu da tối trung bình', '🫃 🏼': 'màu da sáng trung bình của đàn ông mang thai', '🫃 🏽': 'người đàn ông mang thai màu da trung bình', '🫄': 'người mang thai', '🫄 🏿': 'người mang thai màu da tối', '🫄 🏻': 'người mang thai màu da sáng', '🫄 🏾': 'người mang thai màu da tối trung bình', '🫄 🏼': 'người mang thai màu da sáng trung bình', '🫄 🏽': 'người mang thai màu da trung bình', '🤰': 'phụ nữ mang thai', '🤰🏿': 'phụ nữ mang thai màu da tối', '🤰🏻': 'phụ nữ mang thai màu da sáng', '🤰🏾': 'phụ nữ mang thai màu da tối trung bình', '🤰🏼': 'phụ nữ mang thai màu da sáng trung bình', '🤰🏽': 'phụ nữ mang thai màu da trung bình', '🥨': 'bánh quy xoắn', '🤴': 'prince', '🤴🏿': 'màu da tối của hoàng tử', '🤴🏻': 'màu da sáng của hoàng tử', '🤴🏾': 'màu da tối trung bình của hoàng tử', '🤴🏼': 'màu da sáng trung bình của hoàng tử', '🤴🏽': 'màu da trung bình của hoàng tử', '👸': 'công chúa', '👸🏿': 'màu da tối của công chúa', '👸🏻': 'màu da sáng của công chúa', '👸🏾': 'màu da tối trung bình của công chúa', '👸🏼': 'màu da sáng trung bình của công chúa', '👸🏽': 'màu da trung bình của công chúa', '🖨️': 'máy in', '🚫': 'bị cấm', '🟣': 'vòng tròn màu tím', '💜': 'trái tim tím', '🟪': 'hình vuông màu tím', '👛': 'ví', '🧩': 'mảnh ghép', '🐇': 'rabbit', '🐰': 'mặt thỏ', '🦝': 'gấu trúc', '🏎️': 'xe đua', '📻': 'radio', '🔘': 'nút radio', '☢️': 'phóng xạ', '🚃': 'toa xe lửa', '🛤️': 'đường sắt', '🌈': 'cầu vồng', '🏳️ \\u200d 🌈': 'cờ cầu vồng', '🤚': 'giơ mu bàn tay', '🤚🏿': 'lưng bàn tay giơ lên màu da tối', '🤚🏻': 'lưng bàn tay giơ lên màu da sáng', '🤚🏾': 'lưng bàn tay giơ lên màu da tối trung bình', '🤚🏼': 'lưng bàn tay giơ lên màu da sáng trung bình', '🤚🏽': 'lưng bàn tay giơ lên màu da trung bình', '✊': 'giơ nắm đấm', '✊🏿': 'nắm tay giơ lên màu da tối', '✊🏻': 'nắm tay giơ lên màu da sáng', '✊🏾': 'nắm tay giơ lên màu da tối trung bình', '✊🏼': 'nắm tay giơ lên màu da sáng trung bình', '✊🏽': 'nắm tay giơ lên màu da trung bình', '✋': 'giơ tay', '✋🏿': 'bàn tay giơ lên màu da tối', '✋🏻': 'tay giơ lên màu da sáng', '✋🏾': 'bàn tay giơ lên màu da tối trung bình', '✋🏼': 'bàn tay giơ lên màu da sáng trung bình', '✋🏽': 'tay giơ lên màu da trung bình', '🙌': 'giơ tay', '🙌🏿': 'giơ tay màu da tối', '🙌🏻': 'giơ tay màu da sáng', '🙌🏾': 'giơ tay màu da tối trung bình', '🙌🏼': 'giơ tay màu da sáng trung bình', '🙌🏽': 'giơ tay màu da trung bình', '🐏': 'ram', '🐀': 'rat', '🪒': 'dao cạo', '🧾': 'biên nhận', '⏺️': 'nút ghi', '♻️': 'biểu tượng tái chế', '🍎': 'táo đỏ', '🔴': 'vòng tròn màu đỏ', '🧧': 'phong bì đỏ', '❗': 'dấu chấm than màu đỏ', '❤️': 'trái tim đỏ', '🏮': 'đèn lồng giấy đỏ', '❓': 'dấu chấm hỏi màu đỏ', '🟥': 'hình vuông màu đỏ', '🔻': 'hình tam giác màu đỏ chỉ xuống', '🔺': 'hình tam giác màu đỏ hướng lên', '®️': 'đã đăng ký', '😌': 'mặt nhẹ nhõm', '🎗️': 'ruy băng nhắc nhở', '🔁': 'nút lặp lại', '🔂': 'lặp lại nút duy nhất', '⛑️': 'mũ bảo hiểm của nhân viên cứu hộ', '🚻': 'nhà vệ sinh', '◀️': 'nút đảo ngược', '💞': 'trái tim quay vòng', '🦏': 'tê giác', '🎀': 'ribbon', '🍙': 'cơm nắm', '🍘': 'bánh gạo', '🤜': 'nắm đấm hướng sang phải', '🤜🏿': 'nắm đấm hướng về bên phải màu da tối', '🤜🏻': 'màu da sáng nắm đấm hướng về bên phải', '🤜🏾': 'nắm đấm hướng về bên phải màu da tối trung bình', '🤜🏼': 'nắm đấm hướng về bên phải màu da sáng trung bình', '🤜🏽': 'nắm đấm hướng về bên phải màu da trung bình', '🗯️': 'bong bóng giận dữ bên phải', '➡️': 'mũi tên phải', '⤵️': 'mũi tên phải cong xuống', '↩️': 'mũi tên phải cong sang trái', '⤴️': 'mũi tên phải cong lên', '🫱': 'tay phải', '🫱 🏿': 'tay phải màu da tối', '🫱 🏻': 'tay phải màu da sáng', '🫱 🏾': 'tay phải màu da tối trung bình', '🫱 🏼': 'tay phải màu da sáng trung bình', '🫱 🏽': 'tay phải màu da trung bình', '\\U0001faf8': 'đẩy tay sang phải', '\\U0001faf8 🏿': 'tay đẩy sang phải màu da tối', '\\U0001faf8 🏻': 'tay đẩy sang phải màu da sáng', '\\U0001faf8 🏾': 'tay đẩy sang phải màu da tối trung bình', '\\U0001faf8 🏼': 'tay đẩy sang phải màu da sáng trung bình', '\\U0001faf8 🏽': 'tay đẩy sang phải màu da trung bình', '💍': 'ring', '🛟': 'phao vòng', '🪐': 'hành tinh có vành đai', '🍠': 'khoai lang nướng', '🤖': 'robot', '🪨': 'rock', '🚀': 'tên lửa', '🧻': 'cuộn giấy', '🗞️': 'báo cuộn lại', '🎢': 'tàu lượn siêu tốc', '🛼': 'trượt patin', '🤣': 'lăn trên sàn cười', '🐓': 'dậu', '🙂': 'mặt hơi mỉm cười', '🏵️': 'rosette', '📍': 'kim bấm tròn', '🏉': 'bóng bầu dục', '🎽': 'áo chạy bộ', '👟': 'giày chạy bộ', '😥': 'mặt buồn nhưng nhẹ nhõm', '🧷': 'pin an toàn', '🦺': 'áo an toàn', '⛵': 'thuyền buồm', '🍶': 'sake', '🧂': 'muối', '🫡': 'mặt chào', '🥪': 'sandwich', '🥻': 'sari', '🛰️': 'satellite', '📡': 'ăng-ten vệ tinh', '🦕': 'sauropod', '🎷': 'saxophone', '🧣': 'khăn quàng cổ', '🏫': 'school', '🧑 \\u200d 🔬': 'nhà khoa học', '🧑🏿\\u200d 🔬': 'nhà khoa học, màu da tối', '🧑🏻 \\u200d 🔬': 'màu da sáng của nhà khoa học', '🧑🏾 \\u200d 🔬': 'màu da tối trung bình của nhà khoa học', '🧑🏼 \\u200d 🔬': 'màu da sáng trung bình của nhà khoa học', '🧑🏽 \\u200d 🔬': 'màu da trung bình của nhà khoa học', '✂️': 'kéo', '🦂': 'bọ cạp', '🪛': 'tuốc nơ vít', '📜': 'scroll', '🦭': 'con dấu', '💺': 'ghế', '🙈': 'khỉ không thấy ác', '🌱': 'cây giống', '🤳': 'tự sướng', '🤳🏿': 'ảnh tự sướng màu da tối', '🤳🏻': 'ảnh tự sướng màu da sáng', '🤳🏾': 'tự sướng màu da tối trung bình', '🤳🏼': 'ảnh tự sướng màu da sáng trung bình', '🤳🏽': 'ảnh tự sướng màu da trung bình', '🐕 \\u200d 🦺': 'chó phục vụ', '🕢': 'bảy giờ ba mươi', '🕖': 'bảy giờ', '🪡': 'kim khâu', '\\U0001fae8': 'lắc mặt', '🥘': 'đĩa nông thức ăn', '🦈': 'cá mập', '🍧': 'đá bào', '🌾': 'bó lúa', '🛡️': 'shield', '⛩️': 'đền thờ thần đạo', '🚢': 'ship', '🌠': 'ngôi sao băng', '🛍️': 'túi mua sắm', '🛒': 'giỏ hàng', '🍰': 'shortcake', '🩳': 'quần short', '🚿': 'tắm', '🦐': 'tôm', '🔀': 'nút phát ngẫu nhiên bài hát', '🤫': 'mặt im lặng', '🤘': 'dấu hiệu sừng', '🤘🏿': 'dấu hiệu sừng tông màu da tối', '🤘🏻': 'dấu hiệu sừng màu da sáng', '🤘🏾': 'dấu hiệu sừng màu da tối trung bình', '🤘🏼': 'dấu hiệu sừng màu da sáng trung bình', '🤘🏽': 'dấu hiệu sừng màu da trung bình', '🧑 \\u200d 🎤': 'ca sĩ', '🧑🏿\\u200d 🎤': 'ca sĩ màu da tối', '🧑🏻 \\u200d 🎤': 'ca sĩ màu da sáng', '🧑🏾 \\u200d 🎤': 'ca sĩ màu da tối trung bình', '🧑🏼 \\u200d 🎤': 'màu da sáng trung bình của ca sĩ', '🧑🏽 \\u200d 🎤': 'ca sĩ màu da trung bình', '🕡': 'sáu giờ ba mươi', '🕕': 'sáu giờ', '🛹': 'ván trượt', '⛷️': 'người trượt tuyết', '🎿': 'ván trượt', '💀': 'sọ', '☠️': 'đầu lâu và xương chéo', '🦨': 'skunk', '🛷': 'xe trượt tuyết', '😴': 'mặt ngủ', '😪': 'mặt ngái ngủ', '🙁': 'mặt hơi cau mày', '🎰': 'máy đánh bạc', '🦥': 'lười', '🛩️': 'máy bay nhỏ', '🔹': 'viên kim cương nhỏ màu xanh', '🔸': 'viên kim cương nhỏ màu cam', '😻': 'mèo cười mắt hình trái tim', '☺️': 'mặt cười', '😇': 'mặt cười có vầng hào quang', '😍': 'mặt cười mắt trái tim', '🥰': 'mặt cười kèm theo trái tim', '😈': 'mặt cười có sừng', '🤗': 'mặt cười dang rộng tay', '😊': 'mặt cười với đôi mắt biết cười', '😎': 'mặt cười đeo kính râm', '🥲': 'mặt cười rơi nước mắt', '😏': 'mặt cười', '🐌': 'snail', '🐍': 'rắn', '🤧': 'mặt hắt hơi', '🏔️': 'núi phủ tuyết', '🏂': 'vận động viên trượt tuyết', '🏂🏿': 'vận động viên trượt ván tuyết màu da tối', '🏂🏻': 'màu da sáng của người trượt tuyết', '🏂🏾': 'màu da tối trung bình của người trượt ván tuyết', '🏂🏼': 'màu da sáng trung bình của người trượt ván tuyết', '🏂🏽': 'vận động viên trượt ván tuyết màu da trung bình', '❄️': 'bông tuyết', '☃️': 'người tuyết', '⛄': 'người tuyết không có tuyết', '🧼': 'xà phòng', '⚽': 'bóng đá', '🧦': 'vớ', '🍦': 'kem mềm', '🥎': 'bóng mềm', '♠️': 'bộ đồ thuổng', '🍝': 'spaghetti', '❇️': 'lấp lánh', '🎇': 'sparkler', '💖': 'trái tim lấp lánh', '🙊': 'khỉ không nói lời ác', '🔊': 'âm lượng loa lớn', '🔈': 'loa âm lượng nhỏ', '🔉': 'âm lượng loa trung bình', '🗣️': 'người đứng đầu phát biểu', '💬': 'bong bóng lời nói', '🚤': 'tàu cao tốc', '🕷️': 'spider', '🕸️': 'mạng nhện', '🗓️': 'lịch xoắn ốc', '🗒️': 'sổ ghi chú xoắn ốc', '🐚': 'vỏ xoắn ốc', '🧽': 'sponge', '🥄': 'spoon', '🚙': 'xe thể thao đa dụng', '🏅': 'huy chương thể thao', '🐳': 'cá voi phun nước', '🦑': 'mực', '😝': 'liếc mặt lè lưỡi', '🏟️': 'sân vận động', '⭐': 'sao', '🤩': 'star-ấn tượng', '☪️': 'ngôi sao và lưỡi liềm', '✡️': 'ngôi sao của David', '🚉': 'station', '🍜': 'tô hấp', '🩺': 'ống nghe', '⏹️': 'nút dừng', '🛑': 'biển báo dừng', '⏱️': 'đồng hồ bấm giờ', '📏': 'thước thẳng', '🍓': 'dâu', '🧑 \\u200d 🎓': 'sinh viên', '🧑🏿\\u200d 🎓': 'màu da tối của học sinh', '🧑🏻 \\u200d 🎓': 'màu da sáng của học sinh', '🧑🏾 \\u200d 🎓': 'màu da tối trung bình của học sinh', '🧑🏼 \\u200d 🎓': 'màu da sáng trung bình của học sinh', '🧑🏽 \\u200d 🎓': 'màu da trung bình của học sinh', '🎙️': 'micro phòng thu', '🥙': 'bánh mì dẹt nhồi', '☀️': 'sun', '⛅': 'mặt trời sau mây', '🌥️': 'mặt trời đằng sau đám mây lớn', '🌦️': 'nắng sau mây mưa', '🌤️': 'mặt trời đằng sau đám mây nhỏ', '🌞': 'mặt trời với khuôn mặt', '🌻': 'hướng dương', '🕶️': 'kính râm', '🌅': 'mặt trời mọc', '🌄': 'bình minh trên núi', '🌇': 'sunset', '🦸': 'siêu anh hùng', '🦸🏿': 'màu da tối của siêu anh hùng', '🦸🏻': 'màu da sáng của siêu anh hùng', '🦸🏾': 'màu da tối trung bình của siêu anh hùng', '🦸🏼': 'màu da sáng trung bình của siêu anh hùng', '🦸🏽': 'màu da trung bình của siêu anh hùng', '🦹': 'supervillain', '🦹🏿': 'màu da tối của siêu phản diện', '🦹🏻': 'màu da sáng của siêu phản diện', '🦹🏾': 'màu da tối trung bình của siêu phản diện', '🦹🏼': 'màu da sáng trung bình của siêu phản diện', '🦹🏽': 'màu da trung bình của siêu phản diện', '🍣': 'sushi', '🚟': 'đường sắt treo', '🦢': 'swan', '💦': 'giọt mồ hôi', '🕍': 'giáo đường Do Thái', '💉': 'ống tiêm', '👕': 'áo thun', '🌮': 'taco', '🥡': 'hộp mang đi', '🫔': 'tamamale', '🎋': 'cây tanabata', '🍊': 'quýt', '🚕': 'taxi', '🧑\\u200d 🏫': 'giáo viên', '🧑🏿\\u200d 🏫': 'giáo viên màu da tối', '🧑🏻 \\u200d 🏫': 'giáo viên màu da sáng', '🧑🏾 \\u200d 🏫': 'giáo viên màu da tối trung bình', '🧑🏼 \\u200d 🏫': 'màu da sáng trung bình của giáo viên', '🧑🏽 \\u200d 🏫': 'giáo viên màu da trung bình', '🍵': 'tách trà không có tay cầm', '🫖': 'teapot', '📆': 'lịch xé', '🧑 \\u200d 💻': 'kỹ thuật viên', '🧑🏿\\u200d 💻': 'công nghệ viên màu da tối', '🧑🏻 \\u200d 💻': 'màu da sáng của kỹ thuật viên', '🧑🏾 \\u200d 💻': 'màu da tối trung bình của kỹ thuật viên', '🧑🏼 \\u200d 💻': 'màu da sáng trung bình của kỹ thuật viên', '🧑🏽 \\u200d 💻': 'màu da trung bình của kỹ thuật viên', '🧸': 'gấu bông', '☎️': 'điện thoại', '📞': 'người nhận điện thoại', '🔭': 'kính thiên văn', '📺': 'truyền hình', '🕥': 'mười-30', '🕙': 'mười giờ', '🎾': 'tennis', '⛺': 'tent', '🧪': 'ống nghiệm', '🌡️': 'nhiệt kế', '🤔': 'mặt suy nghĩ', '🩴': 'sandal thông', '💭': 'bong bóng suy nghĩ', '🧵': 'thread', '🕞': 'ba giờ ba mươi', '🕒': 'ba giờ', '👎': 'không thích', '👎🏿': 'không thích màu da tối', '👎🏻': 'không thích màu da sáng', '👎🏾': 'không thích màu da tối trung bình', '👎🏼': 'không thích màu da sáng trung bình', '👎🏽': 'không thích màu da trung bình', '👍': 'đồng ý', '👍🏿': 'không thích màu da tối', '👍🏻': 'không thích màu da sáng', '👍🏾': 'không thích màu da tối trung bình', '👍🏼': 'không thích màu da sáng trung bình', '👍🏽': 'không thích màu da trung bình', '🎫': 'ticket', '🐅': 'hổ', '🐯': 'mặt hổ', '⏲️': 'đồng hồ hẹn giờ', '😫': 'mặt mệt mỏi', '🚽': 'nhà vệ sinh', '🍅': 'cà chua', '👅': 'lưỡi', '🧰': 'hộp công cụ', '🦷': 'răng', '🪥': 'bàn chải đánh răng', '🎩': 'mũ chóp', '🌪️': 'cơn lốc', '🖲️': 'bóng ném', '🚜': 'máy kéo', '™️': 'nhãn hiệu', '🚆': 'train', '🚊': 'tram', '🚋': 'xe điện', '🏳️ \\u200d ⚧️': 'cờ chuyển giới', '⚧️': 'biểu tượng chuyển giới', '🚩': 'cờ tam giác', '📐': 'thước tam giác', '🔱': 'biểu tượng đinh ba', '🧌': 'troll', '🚎': 'xe đẩy', '🏆': 'cúp', '🍹': 'đồ uống nhiệt đới', '🐠': 'cá nhiệt đới', '🎺': 'trumpet', '🌷': 'tulip', '🥃': 'cốc cốc', '🦃': 'thổ Nhĩ Kỳ', '🐢': 'rùa', '🕧': 'mười hai giờ ba mươi', '🕛': 'mười hai giờ', '🐫': 'lạc đà hai bướu', '🕝': 'hai giờ ba mươi', '💕': 'hai trái tim', '🕑': 'hai giờ', '☂️': 'ô', '⛱️': 'ô trên mặt đất', '☔': 'ô có giọt mưa', '😒': 'mặt không vui', '🦄': 'unicorn', '🔓': 'mở khóa', '↕️': 'mũi tên lên xuống', '↖️': 'mũi tên lên bên trái', '↗️': 'mũi tên lên trên bên phải', '⬆️': 'mũi tên lên', '🙃': 'mặt lộn ngược', '🔼': 'nút đi lên', '🧛': 'ma cà rồng', '🧛🏿': 'màu da tối của ma cà rồng', '🧛🏻': 'màu da sáng của ma cà rồng', '🧛🏾': 'màu da tối trung bình của ma cà rồng', '🧛🏼': 'màu da sáng trung bình của ma cà rồng', '🧛🏽': 'màu da trung bình của ma cà rồng', '🚦': 'đèn giao thông dọc', '📳': 'chế độ rung', '✌️': 'bàn tay chiến thắng', '✌ 🏿': 'bàn tay chiến thắng màu da tối', '✌ 🏻': 'bàn tay chiến thắng màu da sáng', '✌ 🏾': 'bàn tay chiến thắng màu da tối trung bình', '✌ 🏼': 'bàn tay chiến thắng màu da sáng trung bình', '✌ 🏽': 'bàn tay chiến thắng màu da trung bình', '📹': 'máy quay video', '🎮': 'trò chơi điện tử', '📼': 'videocassette', '🎻': 'violin', '🌋': 'núi lửa', '🏐': 'bóng chuyền', '🖖': 'vulcan chào', '🖖🏿': 'vulcan chào màu da tối', '🖖🏻': 'vulcan salute màu da sáng', '🖖🏾': 'vulcan chào màu da tối trung bình', '🖖🏼': 'vulcan salute màu da sáng trung bình', '🖖🏽': 'vulcan chào màu da trung bình', '🧇': 'waffle', '🌘': 'trăng lưỡi liềm khuyết', '🌖': 'trăng khuyết', '⚠️': 'cảnh báo', '🗑️': 'thùng rác', '⌚': 'xem', '🐃': 'trâu nước', '🚾': 'tủ đựng nước', '🔫': 'súng nước', '🌊': 'sóng nước', '🍉': 'dưa hấu', '👋': 'vẫy tay', '👋🏿': 'vẫy tay màu da tối', '👋🏻': 'vẫy tay màu da sáng', '👋🏾': 'tay vẫy tay màu da tối trung bình', '👋🏼': 'tay vẫy tay màu da sáng trung bình', '👋🏽': 'tay vẫy tay màu da trung bình', '〰️': 'dấu gạch ngang', '🌒': 'trăng lưỡi liềm', '🌔': 'trăng khuyết đang mọc', '🙀': 'mèo mệt mỏi', '😩': 'mặt mệt mỏi', '💒': 'đám cưới', '🐋': 'cá voi', '🛞': 'wheel', '☸️': 'bánh xe pháp', '♿': 'biểu tượng xe lăn', '🦯': 'cây mía trắng', '⚪': 'vòng tròn màu trắng', '❕': 'dấu chấm than màu trắng', '🏳️': 'cờ trắng', '💮': 'hoa trắng', '🤍': 'trái tim trắng', '⬜': 'hình vuông lớn màu trắng', '◽': 'hình vuông vừa-nhỏ màu trắng', '◻️': 'hình vuông màu trắng vừa', '❔': 'dấu chấm hỏi màu trắng', '▫️': 'hình vuông nhỏ màu trắng', '🔳': 'nút vuông màu trắng', '🥀': 'hoa héo', '🎐': 'chuông gió', '🌬️': 'mặt gió', '🪟': 'window', '🍷': 'ly rượu', '\\U0001fabd': 'wing', '😉': 'mặt nháy mắt', '😜': 'mặt nháy mắt', '\\U0001f6dc': 'không dây', '🐺': 'sói', '👩': 'phụ nữ', '👫': 'người phụ nữ và người đàn ông nắm tay nhau', '👫🏿': 'người đàn ông và người phụ nữ nắm tay nhau màu da tối', '👩🏿 \\u200d 🤝 \\u200d 👨🏻': 'người phụ nữ và người đàn ông nắm tay nhau màu da tối tông màu da sáng', '👩🏿 \\u200d 🤝 \\u200d 👨🏾': 'người phụ nữ và người đàn ông nắm tay nhau màu da tối màu da tối trung bình', '👩🏿 \\u200d 🤝 \\u200d 👨🏼': 'người phụ nữ và người đàn ông nắm tay nhau màu da tối màu da sáng trung bình', '👩🏿 \\u200d 🤝 \\u200d 👨🏽': 'người phụ nữ và người đàn ông nắm tay nhau màu da tối màu da trung bình', '👫🏻': 'người đàn ông và người phụ nữ nắm tay nhau màu da sáng', '👩🏻 \\u200d 🤝 \\u200d 👨🏿': 'người phụ nữ và người đàn ông nắm tay nhau màu da sáng tông màu da tối', '👩🏻 \\u200d 🤝 \\u200d 👨🏾': 'người phụ nữ và người đàn ông nắm tay nhau màu da sáng màu da tối trung bình', '👩🏻 \\u200d 🤝 \\u200d 👨🏼': 'người phụ nữ và người đàn ông nắm tay nhau màu da sáng màu da sáng trung bình', '👩🏻 \\u200d 🤝 \\u200d 👨🏽': 'người phụ nữ và người đàn ông nắm tay nhau màu da sáng màu da trung bình', '👫🏾': 'người đàn ông và người phụ nữ nắm tay nhau màu da tối trung bình', '👩🏾 \\u200d 🤝 \\u200d 👨🏿': 'người phụ nữ và người đàn ông nắm tay nhau màu da tối trung bình tông màu da tối', '👩🏾 \\u200d 🤝 \\u200d 👨🏻': 'người đàn ông và phụ nữ nắm tay nhau màu da tối trung bình tông màu da sáng', '👩🏾 \\u200d 🤝 \\u200d 👨🏼': 'người phụ nữ và người đàn ông nắm tay nhau màu da tối trung bình màu da sáng trung bình', '👩🏾 \\u200d 🤝 \\u200d 👨🏽': 'người phụ nữ và người đàn ông nắm tay nhau màu da tối trung bình màu da trung bình', '👫🏼': 'người đàn ông và người phụ nữ nắm tay nhau màu da sáng trung bình', '👩🏼 \\u200d 🤝 \\u200d 👨🏿': 'người phụ nữ và người đàn ông nắm tay nhau màu da sáng trung bình tông màu da tối', '👩🏼 \\u200d 🤝 \\u200d 👨🏻': 'người phụ nữ và người đàn ông nắm tay nhau màu da sáng trung bình màu da sáng', '👩🏼 \\u200d 🤝 \\u200d 👨🏾': 'người phụ nữ và người đàn ông nắm tay nhau màu da sáng trung bình màu da tối trung bình', '👩🏼 \\u200d 🤝 \\u200d 👨🏽': 'người phụ nữ và người đàn ông nắm tay nhau màu da sáng trung bình màu da trung bình', '👫🏽': 'người đàn ông và người phụ nữ nắm tay nhau màu da trung bình', '👩🏽 \\u200d 🤝 \\u200d 👨🏿': 'người phụ nữ và người đàn ông nắm tay nhau màu da trung bình tông màu da tối', '👩🏽 \\u200d 🤝 \\u200d 👨🏻': 'người phụ nữ và người đàn ông nắm tay nhau màu da trung bình màu da sáng', '👩🏽 \\u200d 🤝 \\u200d 👨🏾': 'người phụ nữ và người đàn ông nắm tay nhau màu da trung bình màu da tối trung bình', '👩🏽 \\u200d 🤝 \\u200d 👨🏼': 'người phụ nữ và người đàn ông nắm tay nhau màu da trung bình màu da sáng trung bình', '👩 \\u200d 🎨': 'nữ nghệ sĩ', '👩🏿\\u200d 🎨': 'nữ nghệ sĩ màu da tối', '👩🏻 \\u200d 🎨': 'nữ nghệ sĩ màu da sáng', '👩🏾 \\u200d 🎨': 'nữ nghệ sĩ màu da tối trung bình', '👩🏼 \\u200d 🎨': 'nữ nghệ sĩ màu da sáng trung bình', '👩🏽 \\u200d 🎨': 'nữ nghệ sĩ màu da trung bình', '👩\\u200d 🚀': 'nữ phi hành gia', '👩🏿\\u200d 🚀': 'nữ phi hành gia màu da tối', '👩🏻 \\u200d 🚀': 'nữ phi hành gia màu da sáng', '👩🏾 \\u200d 🚀': 'nữ phi hành gia màu da tối trung bình', '👩🏼 \\u200d 🚀': 'màu da sáng trung bình của nữ phi hành gia', '👩🏽 \\u200d 🚀': 'nữ phi hành gia màu da trung bình', '👩 \\u200d 🦲': 'phụ nữ hói', '🧔 \\u200d♀️': 'râu phụ nữ', '🚴 \\u200d♀️': 'người phụ nữ đi xe đạp', '🚴🏿\\u200d♀️': 'người phụ nữ đi xe đạp màu da tối', '🚴🏻 \\u200d♀️': 'người phụ nữ đi xe đạp màu da sáng', '🚴🏾 \\u200d♀️': 'người phụ nữ đi xe đạp màu da tối trung bình', '🚴🏼 \\u200d♀️': 'người phụ nữ đi xe đạp màu da sáng trung bình', '🚴🏽 \\u200d♀️': 'người phụ nữ đi xe đạp màu da trung bình', '👱 \\u200d♀️': 'người phụ nữ tóc vàng', '⛹️ \\u200d♀️': 'người phụ nữ chơi bóng', '⛹ 🏿\\u200d♀️': 'người phụ nữ chơi bóng màu da tối', '⛹ 🏻 \\u200d♀️': 'người phụ nữ chơi bóng màu da sáng', '⛹ 🏾 \\u200d♀️': 'người phụ nữ chơi bóng màu da tối trung bình', '⛹ 🏼 \\u200d♀️': 'người phụ nữ chơi bóng màu da sáng trung bình', '⛹ 🏽 \\u200d♀️': 'người phụ nữ chơi bóng màu da trung bình', '🙇 \\u200d♀️': 'người phụ nữ cúi đầu', '🙇🏿 \\u200d♀️': 'người phụ nữ cúi đầu màu da tối', '🙇🏻 \\u200d♀️': 'người phụ nữ cúi đầu màu da sáng', '🙇🏾 \\u200d♀️': 'người phụ nữ cúi đầu màu da tối trung bình', '🙇🏼 \\u200d♀️': 'người phụ nữ cúi đầu màu da sáng trung bình', '🙇🏽 \\u200d♀️': 'người phụ nữ cúi đầu màu da trung bình', '🤸 \\u200d♀️': 'người phụ nữ nhào lộn', '🤸🏿 \\u200d♀️': 'người phụ nữ nhào lộn màu da tối', '🤸🏻 \\u200d♀️': 'người phụ nữ nhào lộn màu da sáng', '🤸🏾 \\u200d♀️': 'người phụ nữ nhào lộn màu da tối trung bình', '🤸🏼 \\u200d♀️': 'người phụ nữ nhào lộn màu da sáng trung bình', '🤸🏽 \\u200d♀️': 'người phụ nữ nhào lộn màu da trung bình', '🧗 \\u200d♀️': 'người phụ nữ leo núi', '🧗🏿\\u200d♀️': 'người phụ nữ leo núi màu da tối', '🧗🏻 \\u200d♀️': 'người phụ nữ leo núi màu da sáng', '🧗🏾 \\u200d♀️': 'người phụ nữ leo núi màu da tối trung bình', '🧗🏼 \\u200d♀️': 'người phụ nữ leo núi màu da sáng trung bình', '🧗🏽 \\u200d♀️': 'người phụ nữ leo núi màu da trung bình', '👷 \\u200d♀️': 'nữ công nhân xây dựng', '👷🏿\\u200d♀️': 'nữ công nhân xây dựng màu da tối', '👷🏻 \\u200d♀️': 'nữ công nhân xây dựng màu da sáng', '👷🏾 \\u200d♀️': 'nữ công nhân xây dựng màu da tối trung bình', '👷🏼 \\u200d♀️': 'nữ công nhân xây dựng màu da sáng trung bình', '👷🏽 \\u200d♀️': 'nữ công nhân xây dựng màu da trung bình', '👩\\u200d 🍳': 'nữ nấu ăn', '👩🏿\\u200d 🍳': 'người phụ nữ nấu ăn màu da tối', '👩🏻 \\u200d 🍳': 'nữ đầu bếp màu da sáng', '👩🏾 \\u200d 🍳': 'nữ đầu bếp màu da tối trung bình', '👩🏼 \\u200d 🍳': 'nữ đầu bếp màu da sáng trung bình', '👩🏽 \\u200d 🍳': 'nữ đầu bếp màu da trung bình', '👩 \\u200d 🦱': 'người phụ nữ tóc xoăn', '💃': 'người phụ nữ nhảy múa', '💃🏿': 'người phụ nữ khiêu vũ tông màu da tối', '💃🏻': 'người phụ nữ khiêu vũ màu da sáng', '💃🏾': 'người phụ nữ khiêu vũ màu da tối trung bình', '💃🏼': 'người phụ nữ khiêu vũ màu da sáng trung bình', '💃🏽': 'người phụ nữ khiêu vũ màu da trung bình', '👩🏿': 'màu da tối của phụ nữ', '👩🏿\\u200d 🦲': 'người phụ nữ da tối màu hói', '🧔🏿\\u200d♀️': 'người phụ nữ da tối có râu', '👱🏿 \\u200d♀️': 'người phụ nữ da tối tóc vàng', '👩🏿\\u200d 🦱': 'người phụ nữ da tối tóc xoăn', '👩🏿\\u200d 🦰': 'người phụ nữ da sẫm màu tóc đỏ', '👩🏿 \\u200d 🦳': 'người phụ nữ da tối tóc trắng', '🕵️ \\u200d♀️': 'nữ thám tử', '🕵🏿\\u200d♀️': 'nữ thám tử màu da tối', '🕵🏻 \\u200d♀️': 'nữ thám tử màu da sáng', '🕵🏾 \\u200d♀️': 'nữ thám tử màu da tối trung bình', '🕵🏼 \\u200d♀️': 'nữ thám tử màu da sáng trung bình', '🕵🏽 \\u200d♀️': 'nữ thám tử màu da trung bình', '🧝 \\u200d♀️': 'nữ yêu tinh', '🧝🏿 \\u200d♀️': 'nữ elf màu da tối', '🧝🏻 \\u200d♀️': 'màu da sáng của yêu tinh nữ', '🧝🏾 \\u200d♀️': 'màu da tối trung bình của nữ yêu tinh', '🧝🏼 \\u200d♀️': 'màu da sáng trung bình của nữ yêu tinh', '🧝🏽 \\u200d♀️': 'màu da trung bình của yêu tinh nữ', '🤦 \\u200d♀️': 'người phụ nữ lấy tay che mặt', '🤦🏿\\u200d♀️': 'người phụ nữ lấy tay che mặt màu da tối', '🤦🏻 \\u200d♀️': 'người phụ nữ lấy tay che mặt màu da sáng', '🤦🏾 \\u200d♀️': 'người phụ nữ lấy tay che mặt màu da tối trung bình', '🤦🏼 \\u200d♀️': 'người phụ nữ lấy tay che mặt màu da sáng trung bình', '🤦🏽 \\u200d♀️': 'người phụ nữ lấy tay che mặt màu da trung bình', '👩 \\u200d 🏭': 'nữ công nhân nhà máy', '👩🏿\\u200d 🏭': 'nữ công nhân nhà máy màu da tối', '👩🏻 \\u200d 🏭': 'nữ công nhân nhà máy màu da sáng', '👩🏾 \\u200d 🏭': 'nữ công nhân nhà máy màu da tối trung bình', '👩🏼 \\u200d 🏭': 'nữ công nhân nhà máy màu da sáng trung bình', '👩🏽 \\u200d 🏭': 'nữ công nhân nhà máy màu da trung bình', '🧚\\u200d♀️': 'nữ tiên', '🧚🏿\\u200d♀️': 'nữ tiên màu da tối', '🧚🏻 \\u200d♀️': 'nữ thần tiên màu da sáng', '🧚🏾 \\u200d♀️': 'nữ thần tiên màu da tối trung bình', '🧚🏼 \\u200d♀️': 'nữ thần tiên màu da sáng trung bình', '🧚🏽 \\u200d♀️': 'nữ thần tiên màu da trung bình', '👩\\u200d 🌾': 'nữ nông dân', '👩🏿\\u200d 🌾': 'nữ nông dân màu da tối', '👩🏻 \\u200d 🌾': 'nữ nông dân màu da sáng', '👩🏾 \\u200d 🌾': 'nữ nông dân màu da tối trung bình', '👩🏼 \\u200d 🌾': 'màu da sáng trung bình của nữ nông dân', '👩🏽 \\u200d 🌾': 'nữ nông dân màu da trung bình', '👩\\u200d 🍼': 'người phụ nữ cho em bé ăn', '👩🏿\\u200d 🍼': 'người phụ nữ đang cho con bú màu da tối', '👩🏻 \\u200d 🍼': 'người phụ nữ đang cho con bú màu da sáng', '👩🏾 \\u200d 🍼': 'người phụ nữ đang cho con bú màu da tối trung bình', '👩🏼 \\u200d 🍼': 'người phụ nữ đang cho con bú màu da sáng trung bình', '👩🏽 \\u200d 🍼': 'người phụ nữ cho bé ăn màu da trung bình', '👩\\u200d 🚒': 'nữ lính cứu hỏa', '👩🏿\\u200d 🚒': 'nữ lính cứu hỏa màu da tối', '👩🏻 \\u200d 🚒': 'nữ lính cứu hỏa màu da sáng', '👩🏾 \\u200d 🚒': 'nữ lính cứu hỏa màu da tối trung bình', '👩🏼 \\u200d 🚒': 'màu da sáng trung bình của nữ lính cứu hỏa', '👩🏽 \\u200d 🚒': 'nữ lính cứu hỏa màu da trung bình', '🙍 \\u200d♀️': 'người phụ nữ cau mày', '🙍🏿\\u200d♀️': 'người phụ nữ cau mày màu da tối', '🙍🏻 \\u200d♀️': 'người phụ nữ cau mày màu da sáng', '🙍🏾 \\u200d♀️': 'người phụ nữ cau mày màu da tối trung bình', '🙍🏼 \\u200d♀️': 'người phụ nữ cau mày màu da sáng trung bình', '🙍🏽 \\u200d♀️': 'người phụ nữ cau mày màu da trung bình', '🧞 \\u200d♀️': 'nữ thần', '🙅 \\u200d♀️': 'người phụ nữ ra hiệu KHÔNG', '🙅🏿 \\u200d♀️': 'người phụ nữ ra hiệu KHÔNG màu da tối', '🙅🏻 \\u200d♀️': 'người phụ nữ ra hiệu KHÔNG màu da sáng', '🙅🏾 \\u200d♀️': 'người phụ nữ ra hiệu KHÔNG màu da tối trung bình', '🙅🏼 \\u200d♀️': 'người phụ nữ ra hiệu KHÔNG màu da sáng trung bình', '🙅🏽 \\u200d♀️': 'người phụ nữ ra hiệu KHÔNG màu da trung bình', '🙆 \\u200d♀️': 'người phụ nữ ra hiệu đồng ý', '🙆🏿 \\u200d♀️': 'người phụ nữ ra hiệu đồng ý màu da tối', '🙆🏻 \\u200d♀️': 'người phụ nữ ra hiệu đồng ý màu da sáng', '🙆🏾 \\u200d♀️': 'người phụ nữ ra hiệu đồng ý màu da tối trung bình', '🙆🏼 \\u200d♀️': 'người phụ nữ ra hiệu đồng ý màu da sáng trung bình', '🙆🏽 \\u200d♀️': 'người phụ nữ ra hiệu đồng ý màu da trung bình', '💇 \\u200d♀️': 'người phụ nữ đang cắt tóc', '💇🏿 \\u200d♀️': 'người phụ nữ cắt tóc tông màu da tối', '💇🏻 \\u200d♀️': 'người phụ nữ được cắt tóc màu da sáng', '💇🏾 \\u200d♀️': 'người phụ nữ được cắt tóc màu da tối trung bình', '💇🏼 \\u200d♀️': 'người phụ nữ được cắt tóc màu da sáng trung bình', '💇🏽 \\u200d♀️': 'người phụ nữ được cắt tóc màu da trung bình', '💆 \\u200d♀️': 'người phụ nữ đang được mát-xa', '💆🏿\\u200d♀️': 'người phụ nữ được mát-xa màu da tối', '💆🏻 \\u200d♀️': 'người phụ nữ được mát-xa màu da sáng', '💆🏾 \\u200d♀️': 'người phụ nữ được mát-xa màu da tối trung bình', '💆🏼 \\u200d♀️': 'người phụ nữ được mát-xa màu da sáng trung bình', '💆🏽 \\u200d♀️': 'người phụ nữ được mát-xa màu da trung bình', '🏌️ \\u200d♀️': 'người phụ nữ chơi gôn', '🏌🏿 \\u200d♀️': 'người phụ nữ chơi gôn màu da tối', '🏌🏻 \\u200d♀️': 'người phụ nữ chơi gôn màu da sáng', '🏌🏾 \\u200d♀️': 'người phụ nữ chơi gôn màu da tối trung bình', '🏌🏼 \\u200d♀️': 'người phụ nữ chơi gôn màu da sáng trung bình', '🏌🏽 \\u200d♀️': 'người phụ nữ chơi gôn màu da trung bình', '💂 \\u200d♀️': 'nữ bảo vệ', '💂🏿\\u200d♀️': 'nữ bảo vệ màu da tối', '💂🏻 \\u200d♀️': 'nữ bảo vệ màu da sáng', '💂🏾 \\u200d♀️': 'nữ bảo vệ màu da tối trung bình', '💂🏼 \\u200d♀️': 'nữ bảo vệ màu da sáng trung bình', '💂🏽 \\u200d♀️': 'nữ bảo vệ màu da trung bình', '👩\\u200d ⚕️': 'nữ nhân viên y tế', '👩🏿\\u200d ⚕️': 'nữ nhân viên y tế màu da tối', '👩🏻 \\u200d ⚕️': 'nữ nhân viên y tế màu da sáng', '👩🏾 \\u200d ⚕️': 'màu da tối trung bình của nữ nhân viên y tế', '👩🏼 \\u200d ⚕️': 'màu da sáng trung bình của nữ nhân viên y tế', '👩🏽 \\u200d ⚕️': 'màu da trung bình của nữ nhân viên y tế', '🧘 \\u200d♀️': 'người phụ nữ ngồi kiết già', '🧘🏿\\u200d♀️': 'người phụ nữ ngồi kiết già màu da tối', '🧘🏻 \\u200d♀️': 'người phụ nữ ngồi kiết già màu da sáng', '🧘🏾 \\u200d♀️': 'người phụ nữ ngồi kiết già màu da tối trung bình', '🧘🏼 \\u200d♀️': 'người phụ nữ ngồi kiết già màu da sáng trung bình', '🧘🏽 \\u200d♀️': 'người phụ nữ ngồi kiết già màu da trung bình', '👩\\u200d 🦽': 'người phụ nữ ngồi trên xe lăn tay', '👩🏿\\u200d 🦽': 'người phụ nữ ngồi trên xe lăn tay màu da tối', '👩\\u200d 🦽 \\u200d ➡️': 'người phụ nữ ngồi trên xe lăn tay quay mặt về phía bên phải', '👩🏿 \\u200d 🦽 \\u200d ➡️': 'người phụ nữ ngồi trên xe lăn tay quay mặt về phía bên phải màu da tối', '👩🏻 \\u200d 🦽 \\u200d ➡️': 'người phụ nữ ngồi trên xe lăn tay quay mặt về phía bên phải màu da sáng', '👩🏾 \\u200d 🦽 \\u200d ➡️': 'người phụ nữ ngồi trên xe lăn tay quay mặt về bên phải màu da tối trung bình', '👩🏼 \\u200d 🦽 \\u200d ➡️': 'người phụ nữ ngồi trên xe lăn tay quay mặt về phía bên phải màu da sáng trung bình', '👩🏽 \\u200d 🦽 \\u200d ➡️': 'người phụ nữ ngồi trên xe lăn tay quay mặt về phía bên phải màu da trung bình', '👩🏻 \\u200d 🦽': 'người phụ nữ ngồi trên xe lăn tay màu da sáng', '👩🏾 \\u200d 🦽': 'người phụ nữ ngồi trên xe lăn tay màu da tối trung bình', '👩🏼 \\u200d 🦽': 'người phụ nữ ngồi trên xe lăn tay màu da sáng trung bình', '👩🏽 \\u200d 🦽': 'người phụ nữ ngồi trên xe lăn tay màu da trung bình', '👩 \\u200d 🦼': 'người phụ nữ ngồi trên xe lăn có động cơ', '👩🏿\\u200d 🦼': 'người phụ nữ ngồi trên xe lăn có động cơ màu da tối', '👩 \\u200d 🦼 \\u200d ➡️': 'người phụ nữ ngồi trên xe lăn có động cơ quay mặt về phía bên phải', '👩🏿 \\u200d 🦼 \\u200d ➡️': 'người phụ nữ ngồi trên xe lăn có động cơ quay mặt về phía bên phải màu da tối', '👩🏻 \\u200d 🦼 \\u200d ➡️': 'người phụ nữ ngồi trên xe lăn có động cơ quay mặt về phía bên phải màu da sáng', '👩🏾 \\u200d 🦼 \\u200d ➡️': 'người phụ nữ ngồi trên xe lăn có động cơ quay mặt về phía bên phải màu da tối trung bình', '👩🏼 \\u200d 🦼 \\u200d ➡️': 'người phụ nữ ngồi trên xe lăn có động cơ quay mặt về phía bên phải màu da sáng trung bình', '👩🏽 \\u200d 🦼 \\u200d ➡️': 'người phụ nữ ngồi trên xe lăn có động cơ quay mặt về phía bên phải màu da trung bình', '👩🏻 \\u200d 🦼': 'người phụ nữ ngồi trên xe lăn có động cơ màu da sáng', '👩🏾 \\u200d 🦼': 'người phụ nữ ngồi trên xe lăn có động cơ màu da tối trung bình', '👩🏼 \\u200d 🦼': 'người phụ nữ ngồi trên xe lăn có động cơ màu da sáng trung bình', '👩🏽 \\u200d 🦼': 'người phụ nữ ngồi trên xe lăn có động cơ màu da trung bình', '🧖 \\u200d♀️': 'người phụ nữ trong phòng ướt át', '🧖🏿\\u200d♀️': 'người phụ nữ trong phòng xông hơi màu da tối', '🧖🏻 \\u200d♀️': 'người phụ nữ trong phòng xông hơi màu da sáng', '🧖🏾 \\u200d♀️': 'người phụ nữ trong phòng xông hơi màu da tối trung bình', '🧖🏼 \\u200d♀️': 'người phụ nữ trong phòng xông hơi màu da sáng trung bình', '🧖🏽 \\u200d♀️': 'người phụ nữ trong phòng xông hơi màu da trung bình', '🤵 \\u200d♀️': 'người phụ nữ mặc tuxedo', '🤵🏿\\u200d♀️': 'người phụ nữ mặc tuxedo màu da tối', '🤵🏻 \\u200d♀️': 'người phụ nữ mặc tuxedo màu da sáng', '🤵🏾 \\u200d♀️': 'người phụ nữ mặc tuxedo màu da tối trung bình', '🤵🏼 \\u200d♀️': 'người phụ nữ mặc tuxedo màu da sáng trung bình', '🤵🏽 \\u200d♀️': 'người phụ nữ mặc tuxedo màu da trung bình', '👩\\u200d ⚖️': 'nữ giám khảo', '👩🏿\\u200d ⚖️': 'người phụ nữ đánh giá màu da tối', '👩🏻\\u200d ⚖️': 'nữ đánh giá màu da sáng', '👩🏾 \\u200d ⚖️': 'nữ đánh giá màu da tối trung bình', '👩🏼 \\u200d ⚖️': 'nữ đánh giá màu da sáng trung bình', '👩🏽 \\u200d ⚖️': 'nữ đánh giá màu da trung bình', '🤹 \\u200d♀️': 'người phụ nữ tung hứng', '🤹🏿\\u200d♀️': 'người phụ nữ tung hứng màu da tối', '🤹🏻 \\u200d♀️': 'người phụ nữ tung hứng màu da sáng', '🤹🏾 \\u200d♀️': 'người phụ nữ tung hứng màu da tối trung bình', '🤹🏼 \\u200d♀️': 'người phụ nữ tung hứng màu da sáng trung bình', '🤹🏽 \\u200d♀️': 'người phụ nữ tung hứng màu da trung bình', '🧎 \\u200d♀️': 'người phụ nữ quỳ', '🧎🏿\\u200d♀️': 'người phụ nữ quỳ màu da tối', '🧎 \\u200d♀️\\u200d ➡️': 'người phụ nữ quỳ hướng về phía bên phải', '🧎🏿 \\u200d♀️\\u200d ➡️': 'người phụ nữ quỳ quay mặt về phía bên phải màu da tối', '🧎🏻 \\u200d♀️\\u200d ➡️': 'người phụ nữ quỳ quay mặt về phía màu da sáng bên phải', '🧎🏾 \\u200d♀️\\u200d ➡️': 'người phụ nữ quỳ quay mặt về phía bên phải màu da tối trung bình', '🧎🏼 \\u200d♀️\\u200d ➡️': 'người phụ nữ quỳ quay mặt về phía màu da sáng trung bình bên phải', '🧎🏽 \\u200d♀️\\u200d ➡️': 'người phụ nữ quỳ hướng mặt về màu da trung bình bên phải', '🧎🏻 \\u200d♀️': 'người phụ nữ quỳ màu da sáng', '🧎🏾 \\u200d♀️': 'người phụ nữ quỳ màu da tối trung bình', '🧎🏼 \\u200d♀️': 'người phụ nữ quỳ màu da sáng trung bình', '🧎🏽 \\u200d♀️': 'người phụ nữ quỳ màu da trung bình', '🏋️ \\u200d♀️': 'người phụ nữ nâng tạ', '🏋🏿 \\u200d♀️': 'người phụ nữ cử tạ màu da tối', '🏋🏻 \\u200d♀️': 'người phụ nữ cử tạ màu da sáng', '🏋🏾 \\u200d♀️': 'người phụ nữ cử tạ màu da tối trung bình', '🏋🏼 \\u200d♀️': 'người phụ nữ cử tạ màu da sáng trung bình', '🏋🏽 \\u200d♀️': 'người phụ nữ nâng tạ màu da trung bình', '👩🏻': 'màu da sáng của phụ nữ', '👩🏻 \\u200d 🦲': 'phụ nữ màu da sáng hói', '🧔🏻 \\u200d♀️': 'phụ nữ màu da sáng có râu', '👱🏻 \\u200d♀️': 'phụ nữ da sáng tóc vàng', '👩🏻 \\u200d 🦱': 'phụ nữ da sáng tóc xoăn', '👩🏻 \\u200d 🦰': 'phụ nữ màu da sáng tóc đỏ', '👩🏻 \\u200d 🦳': 'phụ nữ màu da sáng tóc trắng', '🧙 \\u200d♀️': 'nữ pháp sư', '🧙🏿\\u200d♀️': 'pháp sư nữ màu da tối', '🧙🏻 \\u200d♀️': 'nữ pháp sư màu da sáng', '🧙🏾 \\u200d♀️': 'pháp sư nữ màu da tối trung bình', '🧙🏼 \\u200d♀️': 'màu da sáng trung bình của pháp sư nữ', '🧙🏽 \\u200d♀️': 'pháp sư nữ màu da trung bình', '👩\\u200d 🔧': 'nữ thợ cơ khí', '👩🏿\\u200d 🔧': 'nữ thợ cơ khí màu da tối', '👩🏻 \\u200d 🔧': 'nữ thợ cơ khí màu da sáng', '👩🏾 \\u200d 🔧': 'nữ thợ máy màu da tối trung bình', '👩🏼 \\u200d 🔧': 'màu da sáng trung bình của nữ thợ cơ khí', '👩🏽 \\u200d 🔧': 'màu da trung bình của nữ thợ cơ khí', '👩🏾': 'màu da tối trung bình của phụ nữ', '👩🏾 \\u200d 🦲': 'phụ nữ màu da tối trung bình hói', '🧔🏾 \\u200d♀️': 'phụ nữ có râu màu da tối trung bình', '👱🏾 \\u200d♀️': 'phụ nữ da tối trung bình tóc vàng', '👩🏾 \\u200d 🦱': 'phụ nữ tóc xoăn màu da tối trung bình', '👩🏾 \\u200d 🦰': 'phụ nữ da tối trung bình tóc đỏ', '👩🏾 \\u200d 🦳': 'phụ nữ da tối trung bình tóc trắng', '👩🏼': 'màu da sáng trung bình của phụ nữ', '👩🏼 \\u200d 🦲': 'phụ nữ hói màu da sáng trung bình', '🧔🏼 \\u200d♀️': 'phụ nữ có râu màu da sáng trung bình', '👱🏼 \\u200d♀️': 'phụ nữ da sáng trung bình tóc vàng', '👩🏼 \\u200d 🦱': 'phụ nữ tóc xoăn màu da sáng trung bình', '👩🏼 \\u200d 🦰': 'phụ nữ màu da sáng trung bình tóc đỏ', '👩🏼 \\u200d 🦳': 'phụ nữ màu da sáng trung bình tóc trắng', '👩🏽': 'phụ nữ màu da trung bình', '👩🏽 \\u200d 🦲': 'người phụ nữ màu da trung bình hói', '🧔🏽 \\u200d♀️': 'phụ nữ màu da trung bình có râu', '👱🏽 \\u200d♀️': 'phụ nữ da trung bình tóc vàng', '👩🏽 \\u200d 🦱': 'phụ nữ tóc xoăn màu da trung bình', '👩🏽 \\u200d 🦰': 'phụ nữ màu da trung bình tóc đỏ', '👩🏽 \\u200d 🦳': 'phụ nữ màu da trung bình tóc trắng', '🚵 \\u200d♀️': 'người phụ nữ đi xe đạp leo núi', '🚵🏿\\u200d♀️': 'người phụ nữ đi xe đạp leo núi màu da tối', '🚵🏻 \\u200d♀️': 'người phụ nữ đi xe đạp leo núi màu da sáng', '🚵🏾 \\u200d♀️': 'người phụ nữ đi xe đạp leo núi màu da tối trung bình', '🚵🏼 \\u200d♀️': 'màu da sáng trung bình của người phụ nữ đi xe đạp leo núi', '🚵🏽 \\u200d♀️': 'màu da trung bình của người phụ nữ đi xe đạp leo núi', '👩\\u200d 💼': 'nữ nhân viên văn phòng', '👩🏿\\u200d 💼': 'nữ nhân viên văn phòng màu da tối', '👩🏻 \\u200d 💼': 'nữ nhân viên văn phòng màu da sáng', '👩🏾 \\u200d 💼': 'nữ nhân viên văn phòng màu da tối trung bình', '👩🏼 \\u200d 💼': 'nữ nhân viên văn phòng màu da sáng trung bình', '👩🏽 \\u200d 💼': 'nữ nhân viên văn phòng màu da trung bình', '👩 \\u200d ✈️': 'nữ phi công', '👩🏿 \\u200d ✈️': 'nữ phi công màu da tối', '👩🏻 \\u200d ✈️': 'nữ phi công màu da sáng', '👩🏾 \\u200d ✈️': 'nữ phi công màu da tối trung bình', '👩🏼 \\u200d ✈️': 'nữ phi công màu da sáng trung bình', '👩🏽 \\u200d ✈️': 'nữ phi công màu da trung bình', '🤾 \\u200d♀️': 'người phụ nữ chơi bóng ném', '🤾🏿 \\u200d♀️': 'người phụ nữ chơi bóng ném màu da tối', '🤾🏻 \\u200d♀️': 'người phụ nữ chơi bóng ném màu da sáng', '🤾🏾 \\u200d♀️': 'người phụ nữ chơi bóng ném màu da tối trung bình', '🤾🏼 \\u200d♀️': 'người phụ nữ chơi bóng ném màu da sáng trung bình', '🤾🏽 \\u200d♀️': 'người phụ nữ chơi bóng ném màu da trung bình', '🤽 \\u200d♀️': 'người phụ nữ chơi bóng nước', '🤽🏿\\u200d♀️': 'người phụ nữ chơi bóng nước màu da tối', '🤽🏻 \\u200d♀️': 'người phụ nữ chơi bóng nước màu da sáng', '🤽🏾 \\u200d♀️': 'người phụ nữ chơi bóng nước màu da tối trung bình', '🤽🏼 \\u200d♀️': 'người phụ nữ chơi bóng nước màu da sáng trung bình', '🤽🏽 \\u200d♀️': 'người phụ nữ chơi bóng nước màu da trung bình', '👮 \\u200d♀️': 'nữ cảnh sát', '👮🏿 \\u200d♀️': 'nữ cảnh sát màu da tối', '👮🏻 \\u200d♀️': 'nữ cảnh sát màu da sáng', '👮🏾 \\u200d♀️': 'nữ cảnh sát màu da tối trung bình', '👮🏼 \\u200d♀️': 'nữ cảnh sát màu da sáng trung bình', '👮🏽 \\u200d♀️': 'nữ cảnh sát màu da trung bình', '🙎 \\u200d♀️': 'người phụ nữ bĩu môi', '🙎🏿 \\u200d♀️': 'người phụ nữ bĩu môi màu da tối', '🙎🏻 \\u200d♀️': 'người phụ nữ bĩu môi màu da sáng', '🙎🏾 \\u200d♀️': 'người phụ nữ bĩu môi màu da tối trung bình', '🙎🏼 \\u200d♀️': 'người phụ nữ bĩu môi màu da sáng trung bình', '🙎🏽 \\u200d♀️': 'người phụ nữ bĩu môi màu da trung bình', '🙋 \\u200d♀️': 'người phụ nữ giơ tay', '🙋🏿\\u200d♀️': 'người phụ nữ giơ tay màu da tối', '🙋🏻 \\u200d♀️': 'người phụ nữ giơ tay màu da sáng', '🙋🏾 \\u200d♀️': 'người phụ nữ giơ tay màu da tối trung bình', '🙋🏼 \\u200d♀️': 'người phụ nữ giơ tay màu da sáng trung bình', '🙋🏽 \\u200d♀️': 'người phụ nữ giơ tay màu da trung bình', '👩 \\u200d 🦰': 'người phụ nữ tóc đỏ', '🚣 \\u200d♀️': 'nữ chèo thuyền', '🚣🏿\\u200d♀️': 'người phụ nữ chèo thuyền màu da tối', '🚣🏻 \\u200d♀️': 'người phụ nữ chèo thuyền màu da sáng', '🚣🏾 \\u200d♀️': 'người phụ nữ chèo thuyền màu da tối trung bình', '🚣🏼 \\u200d♀️': 'người phụ nữ chèo thuyền màu da sáng trung bình', '🚣🏽 \\u200d♀️': 'người phụ nữ chèo thuyền màu da trung bình', '🏃 \\u200d♀️': 'người phụ nữ chạy', '🏃🏿\\u200d♀️': 'người phụ nữ chạy màu da tối', '🏃 \\u200d♀️\\u200d ➡️': 'người phụ nữ chạy hướng về phía bên phải', '🏃🏿 \\u200d♀️\\u200d ➡️': 'người phụ nữ đang chạy quay mặt về phía bên phải màu da tối', '🏃🏻 \\u200d♀️\\u200d ➡️': 'người phụ nữ đang chạy đối diện với màu da sáng bên phải', '🏃🏾 \\u200d♀️\\u200d ➡️': 'người phụ nữ đang chạy quay mặt về phía bên phải màu da tối trung bình', '🏃🏼 \\u200d♀️\\u200d ➡️': 'người phụ nữ đang chạy quay mặt về phía bên phải màu da sáng trung bình', '🏃🏽 \\u200d♀️\\u200d ➡️': 'người phụ nữ đang chạy quay mặt về phía màu da trung bình bên phải', '🏃🏻 \\u200d♀️': 'người phụ nữ đang chạy màu da sáng', '🏃🏾 \\u200d♀️': 'người phụ nữ đang chạy màu da tối trung bình', '🏃🏼 \\u200d♀️': 'người phụ nữ đang chạy màu da sáng trung bình', '🏃🏽 \\u200d♀️': 'người phụ nữ đang chạy màu da trung bình', '👩\\u200d 🔬': 'nữ nhà khoa học', '👩🏿\\u200d 🔬': 'nữ nhà khoa học màu da tối', '👩🏻 \\u200d 🔬': 'nữ nhà khoa học màu da sáng', '👩🏾 \\u200d 🔬': 'nữ nhà khoa học màu da tối trung bình', '👩🏼 \\u200d 🔬': 'nữ nhà khoa học màu da sáng trung bình', '👩🏽 \\u200d 🔬': 'nữ nhà khoa học màu da trung bình', '🤷 \\u200d♀️': 'người phụ nữ nhún vai', '🤷🏿\\u200d♀️': 'người phụ nữ nhún vai màu da tối', '🤷🏻\\u200d♀️': 'người phụ nữ nhún vai màu da sáng', '🤷🏾 \\u200d♀️': 'người phụ nữ nhún vai màu da tối trung bình', '🤷🏼 \\u200d♀️': 'người phụ nữ nhún vai màu da sáng trung bình', '🤷🏽 \\u200d♀️': 'người phụ nữ nhún vai màu da trung bình', '👩\\u200d 🎤': 'nữ ca sĩ', '👩🏿\\u200d 🎤': 'nữ ca sĩ màu da tối', '👩🏻 \\u200d 🎤': 'nữ ca sĩ màu da sáng', '👩🏾 \\u200d 🎤': 'nữ ca sĩ màu da tối trung bình', '👩🏼 \\u200d 🎤': 'nữ ca sĩ màu da sáng trung bình', '👩🏽 \\u200d 🎤': 'nữ ca sĩ màu da trung bình', '🧍 \\u200d♀️': 'người phụ nữ đứng', '🧍🏿\\u200d♀️': 'người phụ nữ đứng màu da tối', '🧍🏻 \\u200d♀️': 'người phụ nữ đứng màu da sáng', '🧍🏾 \\u200d♀️': 'người phụ nữ đứng màu da tối trung bình', '🧍🏼 \\u200d♀️': 'người phụ nữ đứng màu da sáng trung bình', '🧍🏽 \\u200d♀️': 'người phụ nữ đứng màu da trung bình', '👩 \\u200d 🎓': 'nữ sinh viên', '👩🏿\\u200d 🎓': 'nữ sinh viên màu da tối', '👩🏻 \\u200d 🎓': 'nữ sinh viên màu da sáng', '👩🏾 \\u200d 🎓': 'nữ sinh viên màu da tối trung bình', '👩🏼 \\u200d 🎓': 'màu da sáng trung bình của nữ sinh viên', '👩🏽 \\u200d 🎓': 'nữ sinh viên màu da trung bình', '🦸 \\u200d♀️': 'nữ siêu anh hùng', '🦸🏿\\u200d♀️': 'nữ siêu anh hùng màu da tối', '🦸🏻 \\u200d♀️': 'nữ siêu anh hùng màu da sáng', '🦸🏾 \\u200d♀️': 'nữ siêu anh hùng màu da tối trung bình', '🦸🏼 \\u200d♀️': 'nữ siêu anh hùng màu da sáng trung bình', '🦸🏽 \\u200d♀️': 'nữ siêu anh hùng màu da trung bình', '🦹 \\u200d♀️': 'nữ giám sát viên', '🦹🏿\\u200d♀️': 'nữ phản diện nữ màu da tối', '🦹🏻 \\u200d♀️': 'nữ siêu phản diện màu da sáng', '🦹🏾 \\u200d♀️': 'nữ siêu phản diện màu da tối trung bình', '🦹🏼 \\u200d♀️': 'nữ siêu phản diện màu da sáng trung bình', '🦹🏽 \\u200d♀️': 'nữ phản diện nữ màu da trung bình', '🏄 \\u200d♀️': 'người phụ nữ lướt sóng', '🏄🏿 \\u200d♀️': 'người phụ nữ lướt sóng màu da tối', '🏄🏻 \\u200d♀️': 'người phụ nữ lướt sóng màu da sáng', '🏄🏾 \\u200d♀️': 'người phụ nữ lướt sóng màu da tối trung bình', '🏄🏼 \\u200d♀️': 'người phụ nữ lướt sóng màu da sáng trung bình', '🏄🏽 \\u200d♀️': 'người phụ nữ lướt sóng màu da trung bình', '🏊 \\u200d♀️': 'người phụ nữ đang bơi', '🏊🏿\\u200d♀️': 'người phụ nữ đang bơi màu da tối', '🏊🏻 \\u200d♀️': 'người phụ nữ đang bơi màu da sáng', '🏊🏾 \\u200d♀️': 'người phụ nữ đang bơi màu da tối trung bình', '🏊🏼 \\u200d♀️': 'người phụ nữ đang bơi màu da sáng trung bình', '🏊🏽 \\u200d♀️': 'người phụ nữ đang bơi màu da trung bình', '👩\\u200d 🏫': 'nữ giáo viên', '👩🏿\\u200d 🏫': 'nữ giáo viên màu da tối', '👩🏻 \\u200d 🏫': 'nữ giáo viên màu da sáng', '👩🏾 \\u200d 🏫': 'nữ giáo viên màu da tối trung bình', '👩🏼 \\u200d 🏫': 'nữ giáo viên màu da sáng trung bình', '👩🏽 \\u200d 🏫': 'nữ giáo viên màu da trung bình', '👩\\u200d 💻': 'nữ kỹ thuật viên', '👩🏿\\u200d 💻': 'nữ kỹ thuật viên công nghệ màu da tối', '👩🏻 \\u200d 💻': 'nữ kỹ thuật viên màu da sáng', '👩🏾 \\u200d 💻': 'nữ kỹ thuật viên công nghệ màu da tối trung bình', '👩🏼 \\u200d 💻': 'nữ công nghệ viên màu da sáng trung bình', '👩🏽 \\u200d 💻': 'nữ kỹ thuật viên màu da trung bình', '💁 \\u200d♀️': 'người phụ nữ chìa tay', '💁🏿 \\u200d♀️': 'người phụ nữ giơ tay màu da tối', '💁🏻 \\u200d♀️': 'người phụ nữ ra tay màu da sáng', '💁🏾 \\u200d♀️': 'người phụ nữ ra tay màu da tối trung bình', '💁🏼 \\u200d♀️': 'người phụ nữ ra tay màu da sáng trung bình', '💁🏽 \\u200d♀️': 'người phụ nữ ra tay màu da trung bình', '🧛 \\u200d♀️': 'ma cà rồng nữ', '🧛🏿\\u200d♀️': 'màu da tối của nữ ma cà rồng', '🧛🏻 \\u200d♀️': 'màu da sáng của nữ ma cà rồng', '🧛🏾 \\u200d♀️': 'màu da tối trung bình của nữ ma cà rồng', '🧛🏼 \\u200d♀️': 'màu da sáng trung bình của nữ ma cà rồng', '🧛🏽 \\u200d♀️': 'màu da trung bình của nữ ma cà rồng', '🚶 \\u200d♀️': 'người phụ nữ đi bộ', '🚶🏿\\u200d♀️': 'người phụ nữ đi bộ màu da tối', '🚶 \\u200d♀️\\u200d ➡️': 'người phụ nữ đi quay mặt về phía bên phải', '🚶🏿\\u200d♀️\\u200d ➡️': 'người phụ nữ đi bộ quay mặt về phía bên phải màu da tối', '🚶🏻 \\u200d♀️\\u200d ➡️': 'người phụ nữ đi bộ quay mặt về phía màu da sáng bên phải', '🚶🏾 \\u200d♀️\\u200d ➡️': 'người phụ nữ đi bộ quay mặt về phía bên phải màu da tối trung bình', '🚶🏼 \\u200d♀️\\u200d ➡️': 'người phụ nữ đi bộ quay mặt về phía bên phải màu da sáng trung bình', '🚶🏽 \\u200d♀️\\u200d ➡️': 'người phụ nữ đi bộ quay mặt về phía bên phải màu da trung bình', '🚶🏻 \\u200d♀️': 'người phụ nữ đi bộ màu da sáng', '🚶🏾 \\u200d♀️': 'người phụ nữ đi bộ màu da tối trung bình', '🚶🏼 \\u200d♀️': 'người phụ nữ đi bộ màu da sáng trung bình', '🚶🏽 \\u200d♀️': 'người phụ nữ đi bộ màu da trung bình', '👳 \\u200d♀️': 'người phụ nữ đội khăn xếp', '👳🏿 \\u200d♀️': 'người phụ nữ đội khăn xếp tông màu da tối', '👳🏻 \\u200d♀️': 'người phụ nữ đội khăn xếp màu da sáng', '👳🏾 \\u200d♀️': 'người phụ nữ đội khăn xếp màu da tối trung bình', '👳🏼 \\u200d♀️': 'người phụ nữ đội khăn xếp màu da sáng trung bình', '👳🏽 \\u200d♀️': 'người phụ nữ đội khăn xếp màu da trung bình', '👩 \\u200d 🦳': 'người phụ nữ tóc trắng', '🧕': 'người phụ nữ đội khăn trùm đầu', '🧕🏿': 'người phụ nữ đội khăn trùm đầu màu da tối', '🧕🏻': 'người phụ nữ đội khăn trùm đầu màu da sáng', '🧕🏾': 'người phụ nữ đội khăn trùm đầu màu da tối trung bình', '🧕🏼': 'người phụ nữ đội khăn trùm đầu màu da sáng trung bình', '🧕🏽': 'người phụ nữ đội khăn trùm đầu màu da trung bình', '👰 \\u200d♀️': 'người phụ nữ đeo mạng che mặt', '👰🏿 \\u200d♀️': 'người phụ nữ đeo mạng che mặt màu da tối', '👰🏻 \\u200d♀️': 'người phụ nữ đeo mạng che mặt màu da sáng', '👰🏾 \\u200d♀️': 'người phụ nữ đeo mạng che mặt màu da tối trung bình', '👰🏼 \\u200d♀️': 'người phụ nữ đeo mạng che mặt màu da sáng trung bình', '👰🏽 \\u200d♀️': 'người phụ nữ đeo mạng che mặt màu da trung bình', '👩 \\u200d 🦯': 'người phụ nữ với cây gậy trắng', '👩🏿\\u200d 🦯': 'người phụ nữ với cây gậy trắng màu da tối', '👩\\u200d 🦯 \\u200d ➡️': 'người phụ nữ cầm gậy trắng hướng về phía bên phải', '👩🏿 \\u200d 🦯 \\u200d ➡️': 'người phụ nữ cầm gậy trắng quay mặt về bên phải màu da tối', '👩🏻 \\u200d 🦯 \\u200d ➡️': 'người phụ nữ cầm gậy trắng quay mặt về bên phải màu da sáng', '👩🏾 \\u200d 🦯 \\u200d ➡️': 'người phụ nữ cầm gậy trắng quay mặt về bên phải màu da tối trung bình', '👩🏼 \\u200d 🦯 \\u200d ➡️': 'người phụ nữ cầm gậy trắng quay mặt về bên phải màu da sáng trung bình', '👩🏽 \\u200d 🦯 \\u200d ➡️': 'người phụ nữ cầm gậy trắng quay mặt về bên phải màu da trung bình', '👩🏻 \\u200d 🦯': 'người phụ nữ có màu da sáng như cây gậy trắng', '👩🏾 \\u200d 🦯': 'người phụ nữ với cây gậy trắng màu da tối trung bình', '👩🏼 \\u200d 🦯': 'người phụ nữ với cây gậy trắng màu da sáng trung bình', '👩🏽 \\u200d 🦯': 'người phụ nữ với cây gậy trắng màu da trung bình', '🧟 \\u200d♀️': 'nữ zombie', '👢': 'giày bốt nữ', '👚': 'quần áo phụ nữ', '👒': 'mũ phụ nữ', '👡': 'dép nữ', '👭': 'phụ nữ nắm tay', '👭🏿': 'phụ nữ nắm tay màu da tối', '👩🏿 \\u200d 🤝 \\u200d 👩🏻': 'phụ nữ nắm tay tông màu da tối tông màu da sáng', '👩🏿 \\u200d 🤝 \\u200d 👩🏾': 'phụ nữ nắm tay màu da tối tông màu da tối trung bình', '👩🏿 \\u200d 🤝 \\u200d 👩🏼': 'phụ nữ nắm tay màu da tối màu da sáng trung bình', '👩🏿 \\u200d 🤝 \\u200d 👩🏽': 'phụ nữ nắm tay màu da tối tông màu da trung bình', '👭🏻': 'phụ nữ nắm tay màu da sáng', '👩🏻 \\u200d 🤝 \\u200d 👩🏿': 'phụ nữ nắm tay màu da sáng tông màu da tối', '👩🏻 \\u200d 🤝 \\u200d 👩🏾': 'phụ nữ nắm tay màu da sáng màu da tối trung bình', '👩🏻 \\u200d 🤝 \\u200d 👩🏼': 'phụ nữ nắm tay màu da sáng màu da sáng trung bình', '👩🏻 \\u200d 🤝 \\u200d 👩🏽': 'phụ nữ nắm tay màu da sáng tông màu da trung bình', '👭🏾': 'phụ nữ nắm tay màu da tối trung bình', '👩🏾 \\u200d 🤝 \\u200d 👩🏿': 'phụ nữ nắm tay màu da tối trung bình tông màu da tối', '👩🏾 \\u200d 🤝 \\u200d 👩🏻': 'phụ nữ nắm tay màu da tối trung bình tông màu da sáng', '👩🏾 \\u200d 🤝 \\u200d 👩🏼': 'phụ nữ nắm tay màu da tối trung bình màu da sáng trung bình', '👩🏾 \\u200d 🤝 \\u200d 👩🏽': 'phụ nữ nắm tay màu da tối trung bình màu da trung bình', '👭🏼': 'phụ nữ nắm tay màu da sáng trung bình', '👩🏼 \\u200d 🤝 \\u200d 👩🏿': 'phụ nữ nắm tay màu da sáng trung bình tông màu da tối', '👩🏼 \\u200d 🤝 \\u200d 👩🏻': 'phụ nữ nắm tay màu da sáng trung bình tông màu da sáng', '👩🏼 \\u200d 🤝 \\u200d 👩🏾': 'phụ nữ nắm tay màu da sáng trung bình màu da tối trung bình', '👩🏼 \\u200d 🤝 \\u200d 👩🏽': 'phụ nữ nắm tay màu da sáng trung bình màu da trung bình', '👭🏽': 'phụ nữ nắm tay màu da trung bình', '👩🏽 \\u200d 🤝 \\u200d 👩🏿': 'phụ nữ nắm tay màu da trung bình tông màu da tối', '👩🏽 \\u200d 🤝 \\u200d 👩🏻': 'phụ nữ nắm tay màu da trung bình tông màu da sáng', '👩🏽 \\u200d 🤝 \\u200d 👩🏾': 'phụ nữ nắm tay màu da trung bình màu da tối trung bình', '👩🏽 \\u200d 🤝 \\u200d 👩🏼': 'phụ nữ nắm tay màu da trung bình màu da sáng trung bình', '👯 \\u200d♀️': 'người phụ nữ có tai thỏ', '🤼 \\u200d♀️': 'đấu vật nữ', '🚺': 'phòng nữ', '🪵': 'gỗ', '🥴': 'mặt ngơ ngác', '🗺️': 'bản đồ thế giới', '🪱': 'worm', '😟': 'mặt lo lắng', '🎁': 'gói quà', '🔧': 'cờ lê', '✍️': 'tay viết', '✍ 🏿': 'bàn tay viết màu da tối', '✍ 🏻': 'tay viết màu da sáng', '✍ 🏾': 'tay viết màu da tối trung bình', '✍ 🏼': 'tay viết màu da sáng trung bình', '✍ 🏽': 'tay viết màu da trung bình', '🩻': 'x-quang', '🧶': 'sợi', '🥱': 'mặt ngáp', '🟡': 'vòng tròn màu vàng', '💛': 'trái tim màu vàng', '🟨': 'hình vuông màu vàng', '💴': 'tiền giấy yên', '☯️': 'âm dương', '🪀': 'yo-yo', '🤪': 'mặt ngơ ngác', '🦓': 'zebra', '🤐': 'mặt miệng kéo khóa', '🧟': 'zombie', '🇦🇽': 'Quần đảo Åland'}\n"
     ]
    }
   ],
   "execution_count": 6
  },
  {
   "metadata": {
    "ExecuteTime": {
     "end_time": "2024-06-07T12:05:19.435805Z",
     "start_time": "2024-06-07T12:03:36.520416Z"
    }
   },
   "cell_type": "code",
   "source": [
    "df = data_preprocessing.data_preparation()\n",
    "df"
   ],
   "id": "647961e9f99a5090",
   "outputs": [
    {
     "name": "stdout",
     "output_type": "stream",
     "text": [
      "Replacing English words in the 'Comment' column...\n"
     ]
    },
    {
     "name": "stderr",
     "output_type": "stream",
     "text": [
      "100%|██████████| 29540/29540 [00:00<00:00, 98562.87it/s]\n"
     ]
    },
    {
     "name": "stdout",
     "output_type": "stream",
     "text": [
      "Replacing emojis in the 'Comment' column...\n"
     ]
    },
    {
     "name": "stderr",
     "output_type": "stream",
     "text": [
      "100%|██████████| 29540/29540 [00:17<00:00, 1669.92it/s]\n"
     ]
    },
    {
     "name": "stdout",
     "output_type": "stream",
     "text": [
      "Replacing teencode in the 'Comment' column...\n"
     ]
    },
    {
     "name": "stderr",
     "output_type": "stream",
     "text": [
      "100%|██████████| 29540/29540 [00:00<00:00, 105187.42it/s]\n"
     ]
    },
    {
     "name": "stdout",
     "output_type": "stream",
     "text": [
      "Removing weird characters from the 'Comment' column...\n"
     ]
    },
    {
     "name": "stderr",
     "output_type": "stream",
     "text": [
      "100%|██████████| 29540/29540 [00:00<00:00, 220606.63it/s]\n"
     ]
    },
    {
     "name": "stdout",
     "output_type": "stream",
     "text": [
      "Tokenizing the 'Comment' column...\n"
     ]
    },
    {
     "name": "stderr",
     "output_type": "stream",
     "text": [
      "100%|██████████| 29540/29540 [01:10<00:00, 421.38it/s]\n"
     ]
    },
    {
     "name": "stdout",
     "output_type": "stream",
     "text": [
      "Removing stopwords from the 'Comment' column...\n"
     ]
    },
    {
     "name": "stderr",
     "output_type": "stream",
     "text": [
      "100%|██████████| 29540/29540 [00:13<00:00, 2167.82it/s]\n"
     ]
    },
    {
     "name": "stdout",
     "output_type": "stream",
     "text": [
      "Removing punctuation from the 'Comment' column...\n"
     ]
    },
    {
     "name": "stderr",
     "output_type": "stream",
     "text": [
      "100%|██████████| 29540/29540 [00:00<00:00, 546907.65it/s]\n"
     ]
    },
    {
     "data": {
      "text/plain": [
       "          ID           User           ReviewTime  Rating  \\\n",
       "0          1        PHAN LE  2023-12-20 21:13:00     5.2   \n",
       "1          2           Thúy  2023-09-25 15:43:00     5.0   \n",
       "2          3    Quyên Quyên  2023-06-24 11:11:00     5.0   \n",
       "3          4    Phương Thảo  2022-12-22 14:58:00     1.0   \n",
       "4          5   Quỳnh Nguyễn  2022-09-23 22:40:00     4.2   \n",
       "...      ...            ...                  ...     ...   \n",
       "29535  29955     Trannuhamy  2020-10-26 12:16:00     7.0   \n",
       "29536  29956         Phương  2021-06-01 15:34:00    10.0   \n",
       "29537  29957             Tú  2021-01-31 14:29:00     3.4   \n",
       "29538  29958  Hoàng Hậu Mai  2020-10-27 18:06:00     7.6   \n",
       "29539  29959      ThoA Thai  2021-10-19 16:27:00    10.0   \n",
       "\n",
       "                                                 Comment  IDRestaurant  \\\n",
       "0                              gà chiên sống khủng khiép             1   \n",
       "1                                                   đồng             1   \n",
       "2                                               thư ngon             1   \n",
       "3      tệ mua 1 gói tương ớt không tương free mua mua...             1   \n",
       "4      21 h302 đứa kêu đói 1 hồi bình loạn chốt mcdon...             1   \n",
       "...                                                  ...           ...   \n",
       "29535  quán bún thái chương trình coca ổn đi kèm 1 gh...          1595   \n",
       "29536                bánh ngon nóng giao hàng giá cảm ơn          1609   \n",
       "29537  phục vụ tệ pizza xúc xích gấp đôi phô mai khôn...          1609   \n",
       "29538  thèm gà rán lướt trúng kết hợp gà rán khoai tâ...          1609   \n",
       "29539  quán bún chả ngon sài gòn mắm ngon chả thịt ch...          1612   \n",
       "\n",
       "                                              Restaurant  \\\n",
       "0                      Gà Rán & Burger McDonald's Đa Kao   \n",
       "1                      Gà Rán & Burger McDonald's Đa Kao   \n",
       "2                      Gà Rán & Burger McDonald's Đa Kao   \n",
       "3                      Gà Rán & Burger McDonald's Đa Kao   \n",
       "4                      Gà Rán & Burger McDonald's Đa Kao   \n",
       "...                                                  ...   \n",
       "29535       Tiên Tiên - Bún Thái Cay - Tân Chánh Hiệp 16   \n",
       "29536  3 Râu - Gà Rán, Pizza & Trà Sữa - 107 Nguyễn V...   \n",
       "29537  3 Râu - Gà Rán, Pizza & Trà Sữa - 107 Nguyễn V...   \n",
       "29538  3 Râu - Gà Rán, Pizza & Trà Sữa - 107 Nguyễn V...   \n",
       "29539            Đàm Trang - Bún Chả - Tân Chánh Hiệp 10   \n",
       "\n",
       "                                                 Address OpeningTime District  \\\n",
       "0               2 - 6 Bis Điện Biên Phủ, Quận 1, TP. HCM       00:00   Quận 1   \n",
       "1               2 - 6 Bis Điện Biên Phủ, Quận 1, TP. HCM       00:00   Quận 1   \n",
       "2               2 - 6 Bis Điện Biên Phủ, Quận 1, TP. HCM       00:00   Quận 1   \n",
       "3               2 - 6 Bis Điện Biên Phủ, Quận 1, TP. HCM       00:00   Quận 1   \n",
       "4               2 - 6 Bis Điện Biên Phủ, Quận 1, TP. HCM       00:00   Quận 1   \n",
       "...                                                  ...         ...      ...   \n",
       "29535  52/4A Tân Chánh Hiệp 16, P. Tân Chánh Hiệp (Đầ...       06:00  Quận 12   \n",
       "29536  107 Nguyễn Văn Quá, P. Đông Hưng Thuận, Quận 1...       09:00  Quận 12   \n",
       "29537  107 Nguyễn Văn Quá, P. Đông Hưng Thuận, Quận 1...       09:00  Quận 12   \n",
       "29538  107 Nguyễn Văn Quá, P. Đông Hưng Thuận, Quận 1...       09:00  Quận 12   \n",
       "29539  27 Tân Chánh Hiệp 10, P. Tân Chánh Hiệp, Quận ...         NaN  Quận 12   \n",
       "\n",
       "       ReviewCount ClosingTime  MaxPrice  MinPrice  PositiveCount  \\\n",
       "0              100       23:59  200000.0   50000.0              0   \n",
       "1              100       23:59  200000.0   50000.0              0   \n",
       "2              100       23:59  200000.0   50000.0              0   \n",
       "3              100       23:59  200000.0   50000.0              0   \n",
       "4              100       23:59  200000.0   50000.0              0   \n",
       "...            ...         ...       ...       ...            ...   \n",
       "29535            1       23:30  200000.0   25000.0              0   \n",
       "29536            3       23:59  120000.0   12000.0              0   \n",
       "29537            3       23:59  120000.0   12000.0              0   \n",
       "29538            3       23:59  120000.0   12000.0              0   \n",
       "29539            1         NaN       0.0       0.0              0   \n",
       "\n",
       "       NegativeCount LabelSentiment  \n",
       "0                  0                 \n",
       "1                  0                 \n",
       "2                  0                 \n",
       "3                  0                 \n",
       "4                  0                 \n",
       "...              ...            ...  \n",
       "29535              0                 \n",
       "29536              0                 \n",
       "29537              0                 \n",
       "29538              0                 \n",
       "29539              0                 \n",
       "\n",
       "[29540 rows x 17 columns]"
      ],
      "text/html": [
       "<div>\n",
       "<style scoped>\n",
       "    .dataframe tbody tr th:only-of-type {\n",
       "        vertical-align: middle;\n",
       "    }\n",
       "\n",
       "    .dataframe tbody tr th {\n",
       "        vertical-align: top;\n",
       "    }\n",
       "\n",
       "    .dataframe thead th {\n",
       "        text-align: right;\n",
       "    }\n",
       "</style>\n",
       "<table border=\"1\" class=\"dataframe\">\n",
       "  <thead>\n",
       "    <tr style=\"text-align: right;\">\n",
       "      <th></th>\n",
       "      <th>ID</th>\n",
       "      <th>User</th>\n",
       "      <th>ReviewTime</th>\n",
       "      <th>Rating</th>\n",
       "      <th>Comment</th>\n",
       "      <th>IDRestaurant</th>\n",
       "      <th>Restaurant</th>\n",
       "      <th>Address</th>\n",
       "      <th>OpeningTime</th>\n",
       "      <th>District</th>\n",
       "      <th>ReviewCount</th>\n",
       "      <th>ClosingTime</th>\n",
       "      <th>MaxPrice</th>\n",
       "      <th>MinPrice</th>\n",
       "      <th>PositiveCount</th>\n",
       "      <th>NegativeCount</th>\n",
       "      <th>LabelSentiment</th>\n",
       "    </tr>\n",
       "  </thead>\n",
       "  <tbody>\n",
       "    <tr>\n",
       "      <th>0</th>\n",
       "      <td>1</td>\n",
       "      <td>PHAN LE</td>\n",
       "      <td>2023-12-20 21:13:00</td>\n",
       "      <td>5.2</td>\n",
       "      <td>gà chiên sống khủng khiép</td>\n",
       "      <td>1</td>\n",
       "      <td>Gà Rán &amp; Burger McDonald's Đa Kao</td>\n",
       "      <td>2 - 6 Bis Điện Biên Phủ, Quận 1, TP. HCM</td>\n",
       "      <td>00:00</td>\n",
       "      <td>Quận 1</td>\n",
       "      <td>100</td>\n",
       "      <td>23:59</td>\n",
       "      <td>200000.0</td>\n",
       "      <td>50000.0</td>\n",
       "      <td>0</td>\n",
       "      <td>0</td>\n",
       "      <td></td>\n",
       "    </tr>\n",
       "    <tr>\n",
       "      <th>1</th>\n",
       "      <td>2</td>\n",
       "      <td>Thúy</td>\n",
       "      <td>2023-09-25 15:43:00</td>\n",
       "      <td>5.0</td>\n",
       "      <td>đồng</td>\n",
       "      <td>1</td>\n",
       "      <td>Gà Rán &amp; Burger McDonald's Đa Kao</td>\n",
       "      <td>2 - 6 Bis Điện Biên Phủ, Quận 1, TP. HCM</td>\n",
       "      <td>00:00</td>\n",
       "      <td>Quận 1</td>\n",
       "      <td>100</td>\n",
       "      <td>23:59</td>\n",
       "      <td>200000.0</td>\n",
       "      <td>50000.0</td>\n",
       "      <td>0</td>\n",
       "      <td>0</td>\n",
       "      <td></td>\n",
       "    </tr>\n",
       "    <tr>\n",
       "      <th>2</th>\n",
       "      <td>3</td>\n",
       "      <td>Quyên Quyên</td>\n",
       "      <td>2023-06-24 11:11:00</td>\n",
       "      <td>5.0</td>\n",
       "      <td>thư ngon</td>\n",
       "      <td>1</td>\n",
       "      <td>Gà Rán &amp; Burger McDonald's Đa Kao</td>\n",
       "      <td>2 - 6 Bis Điện Biên Phủ, Quận 1, TP. HCM</td>\n",
       "      <td>00:00</td>\n",
       "      <td>Quận 1</td>\n",
       "      <td>100</td>\n",
       "      <td>23:59</td>\n",
       "      <td>200000.0</td>\n",
       "      <td>50000.0</td>\n",
       "      <td>0</td>\n",
       "      <td>0</td>\n",
       "      <td></td>\n",
       "    </tr>\n",
       "    <tr>\n",
       "      <th>3</th>\n",
       "      <td>4</td>\n",
       "      <td>Phương Thảo</td>\n",
       "      <td>2022-12-22 14:58:00</td>\n",
       "      <td>1.0</td>\n",
       "      <td>tệ mua 1 gói tương ớt không tương free mua mua...</td>\n",
       "      <td>1</td>\n",
       "      <td>Gà Rán &amp; Burger McDonald's Đa Kao</td>\n",
       "      <td>2 - 6 Bis Điện Biên Phủ, Quận 1, TP. HCM</td>\n",
       "      <td>00:00</td>\n",
       "      <td>Quận 1</td>\n",
       "      <td>100</td>\n",
       "      <td>23:59</td>\n",
       "      <td>200000.0</td>\n",
       "      <td>50000.0</td>\n",
       "      <td>0</td>\n",
       "      <td>0</td>\n",
       "      <td></td>\n",
       "    </tr>\n",
       "    <tr>\n",
       "      <th>4</th>\n",
       "      <td>5</td>\n",
       "      <td>Quỳnh Nguyễn</td>\n",
       "      <td>2022-09-23 22:40:00</td>\n",
       "      <td>4.2</td>\n",
       "      <td>21 h302 đứa kêu đói 1 hồi bình loạn chốt mcdon...</td>\n",
       "      <td>1</td>\n",
       "      <td>Gà Rán &amp; Burger McDonald's Đa Kao</td>\n",
       "      <td>2 - 6 Bis Điện Biên Phủ, Quận 1, TP. HCM</td>\n",
       "      <td>00:00</td>\n",
       "      <td>Quận 1</td>\n",
       "      <td>100</td>\n",
       "      <td>23:59</td>\n",
       "      <td>200000.0</td>\n",
       "      <td>50000.0</td>\n",
       "      <td>0</td>\n",
       "      <td>0</td>\n",
       "      <td></td>\n",
       "    </tr>\n",
       "    <tr>\n",
       "      <th>...</th>\n",
       "      <td>...</td>\n",
       "      <td>...</td>\n",
       "      <td>...</td>\n",
       "      <td>...</td>\n",
       "      <td>...</td>\n",
       "      <td>...</td>\n",
       "      <td>...</td>\n",
       "      <td>...</td>\n",
       "      <td>...</td>\n",
       "      <td>...</td>\n",
       "      <td>...</td>\n",
       "      <td>...</td>\n",
       "      <td>...</td>\n",
       "      <td>...</td>\n",
       "      <td>...</td>\n",
       "      <td>...</td>\n",
       "      <td>...</td>\n",
       "    </tr>\n",
       "    <tr>\n",
       "      <th>29535</th>\n",
       "      <td>29955</td>\n",
       "      <td>Trannuhamy</td>\n",
       "      <td>2020-10-26 12:16:00</td>\n",
       "      <td>7.0</td>\n",
       "      <td>quán bún thái chương trình coca ổn đi kèm 1 gh...</td>\n",
       "      <td>1595</td>\n",
       "      <td>Tiên Tiên - Bún Thái Cay - Tân Chánh Hiệp 16</td>\n",
       "      <td>52/4A Tân Chánh Hiệp 16, P. Tân Chánh Hiệp (Đầ...</td>\n",
       "      <td>06:00</td>\n",
       "      <td>Quận 12</td>\n",
       "      <td>1</td>\n",
       "      <td>23:30</td>\n",
       "      <td>200000.0</td>\n",
       "      <td>25000.0</td>\n",
       "      <td>0</td>\n",
       "      <td>0</td>\n",
       "      <td></td>\n",
       "    </tr>\n",
       "    <tr>\n",
       "      <th>29536</th>\n",
       "      <td>29956</td>\n",
       "      <td>Phương</td>\n",
       "      <td>2021-06-01 15:34:00</td>\n",
       "      <td>10.0</td>\n",
       "      <td>bánh ngon nóng giao hàng giá cảm ơn</td>\n",
       "      <td>1609</td>\n",
       "      <td>3 Râu - Gà Rán, Pizza &amp; Trà Sữa - 107 Nguyễn V...</td>\n",
       "      <td>107 Nguyễn Văn Quá, P. Đông Hưng Thuận, Quận 1...</td>\n",
       "      <td>09:00</td>\n",
       "      <td>Quận 12</td>\n",
       "      <td>3</td>\n",
       "      <td>23:59</td>\n",
       "      <td>120000.0</td>\n",
       "      <td>12000.0</td>\n",
       "      <td>0</td>\n",
       "      <td>0</td>\n",
       "      <td></td>\n",
       "    </tr>\n",
       "    <tr>\n",
       "      <th>29537</th>\n",
       "      <td>29957</td>\n",
       "      <td>Tú</td>\n",
       "      <td>2021-01-31 14:29:00</td>\n",
       "      <td>3.4</td>\n",
       "      <td>phục vụ tệ pizza xúc xích gấp đôi phô mai khôn...</td>\n",
       "      <td>1609</td>\n",
       "      <td>3 Râu - Gà Rán, Pizza &amp; Trà Sữa - 107 Nguyễn V...</td>\n",
       "      <td>107 Nguyễn Văn Quá, P. Đông Hưng Thuận, Quận 1...</td>\n",
       "      <td>09:00</td>\n",
       "      <td>Quận 12</td>\n",
       "      <td>3</td>\n",
       "      <td>23:59</td>\n",
       "      <td>120000.0</td>\n",
       "      <td>12000.0</td>\n",
       "      <td>0</td>\n",
       "      <td>0</td>\n",
       "      <td></td>\n",
       "    </tr>\n",
       "    <tr>\n",
       "      <th>29538</th>\n",
       "      <td>29958</td>\n",
       "      <td>Hoàng Hậu Mai</td>\n",
       "      <td>2020-10-27 18:06:00</td>\n",
       "      <td>7.6</td>\n",
       "      <td>thèm gà rán lướt trúng kết hợp gà rán khoai tâ...</td>\n",
       "      <td>1609</td>\n",
       "      <td>3 Râu - Gà Rán, Pizza &amp; Trà Sữa - 107 Nguyễn V...</td>\n",
       "      <td>107 Nguyễn Văn Quá, P. Đông Hưng Thuận, Quận 1...</td>\n",
       "      <td>09:00</td>\n",
       "      <td>Quận 12</td>\n",
       "      <td>3</td>\n",
       "      <td>23:59</td>\n",
       "      <td>120000.0</td>\n",
       "      <td>12000.0</td>\n",
       "      <td>0</td>\n",
       "      <td>0</td>\n",
       "      <td></td>\n",
       "    </tr>\n",
       "    <tr>\n",
       "      <th>29539</th>\n",
       "      <td>29959</td>\n",
       "      <td>ThoA Thai</td>\n",
       "      <td>2021-10-19 16:27:00</td>\n",
       "      <td>10.0</td>\n",
       "      <td>quán bún chả ngon sài gòn mắm ngon chả thịt ch...</td>\n",
       "      <td>1612</td>\n",
       "      <td>Đàm Trang - Bún Chả - Tân Chánh Hiệp 10</td>\n",
       "      <td>27 Tân Chánh Hiệp 10, P. Tân Chánh Hiệp, Quận ...</td>\n",
       "      <td>NaN</td>\n",
       "      <td>Quận 12</td>\n",
       "      <td>1</td>\n",
       "      <td>NaN</td>\n",
       "      <td>0.0</td>\n",
       "      <td>0.0</td>\n",
       "      <td>0</td>\n",
       "      <td>0</td>\n",
       "      <td></td>\n",
       "    </tr>\n",
       "  </tbody>\n",
       "</table>\n",
       "<p>29540 rows × 17 columns</p>\n",
       "</div>"
      ]
     },
     "execution_count": 7,
     "metadata": {},
     "output_type": "execute_result"
    }
   ],
   "execution_count": 7
  },
  {
   "metadata": {
    "ExecuteTime": {
     "end_time": "2024-06-08T11:01:50.797744Z",
     "start_time": "2024-06-08T11:01:49.627278Z"
    }
   },
   "cell_type": "code",
   "source": [
    "from underthesea import word_tokenize\n",
    "sentence = \"Bác sĩ bây giờ có thể thản nhiên báo tin bệnh nhân bị ung thư\""
   ],
   "id": "b150a7a1f64b22de",
   "outputs": [],
   "execution_count": 1
  },
  {
   "metadata": {
    "ExecuteTime": {
     "end_time": "2024-06-08T11:01:50.880389Z",
     "start_time": "2024-06-08T11:01:50.799478Z"
    }
   },
   "cell_type": "code",
   "source": [
    "test = word_tokenize(sentence)\n",
    "print(test)"
   ],
   "id": "ab7e12e60b967fc1",
   "outputs": [
    {
     "name": "stdout",
     "output_type": "stream",
     "text": [
      "['Bác sĩ', 'bây giờ', 'có thể', 'thản nhiên', 'báo', 'tin', 'bệnh nhân', 'bị', 'ung thư']\n"
     ]
    }
   ],
   "execution_count": 2
  },
  {
   "metadata": {
    "ExecuteTime": {
     "end_time": "2024-06-08T11:02:04.243453Z",
     "start_time": "2024-06-08T11:02:04.239428Z"
    }
   },
   "cell_type": "code",
   "source": [
    "test = word_tokenize(word_tokenize(sentence, format=\"text\"))\n",
    "print(test)"
   ],
   "id": "ba21d96abf75c951",
   "outputs": [
    {
     "name": "stdout",
     "output_type": "stream",
     "text": [
      "['Bác_sĩ', 'bây_giờ', 'có_thể', 'thản_nhiên', 'báo', 'tin', 'bệnh_nhân', 'bị', 'ung_thư']\n"
     ]
    }
   ],
   "execution_count": 5
  },
  {
   "metadata": {
    "ExecuteTime": {
     "end_time": "2024-06-08T11:02:53.838817Z",
     "start_time": "2024-06-08T11:02:53.834899Z"
    }
   },
   "cell_type": "code",
   "source": "type(test)",
   "id": "16c3262c2e8db3de",
   "outputs": [
    {
     "data": {
      "text/plain": [
       "list"
      ]
     },
     "execution_count": 6,
     "metadata": {},
     "output_type": "execute_result"
    }
   ],
   "execution_count": 6
  },
  {
   "metadata": {},
   "cell_type": "code",
   "outputs": [],
   "execution_count": null,
   "source": "",
   "id": "cbb0a4285683cb10"
  }
 ],
 "metadata": {
  "kernelspec": {
   "display_name": "Python 3",
   "language": "python",
   "name": "python3"
  },
  "language_info": {
   "codemirror_mode": {
    "name": "ipython",
    "version": 2
   },
   "file_extension": ".py",
   "mimetype": "text/x-python",
   "name": "python",
   "nbconvert_exporter": "python",
   "pygments_lexer": "ipython2",
   "version": "2.7.6"
  }
 },
 "nbformat": 4,
 "nbformat_minor": 5
}
