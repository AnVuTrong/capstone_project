{
 "cells": [
  {
   "cell_type": "code",
   "id": "initial_id",
   "metadata": {
    "collapsed": true,
    "ExecuteTime": {
     "end_time": "2024-05-24T05:43:45.132047Z",
     "start_time": "2024-05-24T05:43:44.174251Z"
    }
   },
   "source": [
    "from modules.data_preprocessing import PandasDataPreprocessing\n",
    "from modules.exploratory_data_analyst import PandasEDA\n",
    "from modules.data_analysis import PandasCustomerSegmentation as PandasCS\n",
    "from modules.feature_engineering import PandasFeatureEngineering as PandasFE"
   ],
   "execution_count": 1,
   "outputs": []
  },
  {
   "metadata": {},
   "cell_type": "markdown",
   "source": [
    "# Data Preprocessing\n",
    "\n",
    "---\n",
    "## Business Context\n",
    "Due to the small scale of the dataset, we use Pandas for data preprocessing. This process includes:\n",
    "\n",
    "- Loading the data\n",
    "- Checking for missing values\n",
    "- Verifying and converting data types as necessary, particularly converting date columns to datetime type\n",
    "- Assigning ProductID to transaction data\n",
    "- Using UUID (Universally Unique Identifier) to uniquely identify each transaction\n",
    "- Calculating RFM (Recency, Frequency, Monetary) values\n",
    "\n",
    "All data preprocessing is handled by the `PandasDataPreprocessing` class in the `modules/data_preprocessing.py` file. This class includes the following methods:\n",
    "`__init__(self, product_file, transaction_file)`\n",
    "The output of the class consists of the preprocessed transaction data and the calculated RFM data."
   ],
   "id": "345c0acbd8f0f750"
  },
  {
   "metadata": {
    "ExecuteTime": {
     "end_time": "2024-05-24T05:43:45.474765Z",
     "start_time": "2024-05-24T05:43:45.133873Z"
    }
   },
   "cell_type": "code",
   "source": [
    "preprocessor = PandasDataPreprocessing(\n",
    "    'data/Products_with_Prices.csv',\n",
    "    'data/Transactions.csv',\n",
    ")\n",
    "df_transaction, df_rfm = preprocessor.run()"
   ],
   "id": "edf95b9c4e777174",
   "execution_count": 2,
   "outputs": []
  },
  {
   "metadata": {
    "ExecuteTime": {
     "end_time": "2024-05-24T05:43:45.484782Z",
     "start_time": "2024-05-24T05:43:45.475684Z"
    }
   },
   "cell_type": "code",
   "source": "df_transaction",
   "id": "6d59aef3ebe3c097",
   "execution_count": 3,
   "outputs": []
  },
  {
   "metadata": {
    "ExecuteTime": {
     "end_time": "2024-05-24T05:43:45.492148Z",
     "start_time": "2024-05-24T05:43:45.486101Z"
    }
   },
   "cell_type": "code",
   "source": "df_rfm",
   "id": "e69c0fa42e924ac0",
   "execution_count": 4,
   "outputs": []
  },
  {
   "metadata": {},
   "cell_type": "markdown",
   "source": [
    "# Exploratory Data Analyst\n",
    "\n",
    "---\n",
    "## EDA\n",
    "The purpose of exploratory data analysis (EDA) is to gain a comprehensive understanding of the dataset. The EDA process includes:\n",
    "\n",
    "- Describing and summarizing the data\n",
    "- Examining the distribution of data\n",
    "- Analyzing correlations between variables\n",
    "\n",
    "## Method\n",
    "The EDA is performed using the PandasEDA class in the modules/exploratory_data_analyst.py file. The class is initialized with a dataframe and includes methods to:\n",
    "\n",
    "- Plot data distributions\n",
    "- Analyze correlations\n",
    "- Give detailed data descriptions\n",
    "\n",
    "## Analysis Insights\n",
    "- Customer Activity: Most customers exhibit low recency values, indicating high activity levels and strong customer retention. This suggests the company has a robust retention strategy, reducing churn among high-value customers.\n",
    "- Purchase Frequency: Customer purchase frequency is relatively low, implying long intervals between purchases. To boost revenue, the company should focus on enhancing the customer experience to encourage more frequent purchases. This strategy leverages existing customer relationships, which is more cost-effective and less risky than acquiring new customers or increasing prices.\n",
    "- Monetary Value: The monetary value distribution follows a normal bell curve with a slight left skew, indicating that most customers spend around $50 during the research period.\n",
    "- Data Correlation: The variables exhibit low correlation, indicating data independence. This is advantageous for regression modeling as it ensures the model can more accurately capture relationships between variables. However, for customer segmentation, a simple rule-based approach will be used instead of a regression model."
   ],
   "id": "da7caeab39ba4b92"
  },
  {
   "metadata": {
    "ExecuteTime": {
     "end_time": "2024-05-24T05:43:46.338302Z",
     "start_time": "2024-05-24T05:43:45.493856Z"
    }
   },
   "cell_type": "code",
   "source": [
    "# EDA for RFM\n",
    "eda_rfm = PandasEDA(df_rfm)\n",
    "eda_rfm.run_all()"
   ],
   "id": "24fa4735b68baa3d",
   "execution_count": 5,
   "outputs": []
  },
  {
   "metadata": {
    "ExecuteTime": {
     "end_time": "2024-05-24T05:43:47.599965Z",
     "start_time": "2024-05-24T05:43:46.339572Z"
    }
   },
   "cell_type": "code",
   "source": [
    "# EDA for transaction\n",
    "eda_trans = PandasEDA(df_transaction)\n",
    "eda_trans.plot_distributions()"
   ],
   "id": "50c4a9189b57c3fb",
   "execution_count": 6,
   "outputs": []
  },
  {
   "metadata": {},
   "cell_type": "markdown",
   "source": [
    "# Data Analysis\n",
    "\n",
    "---\n",
    "## Customer Segmentation\n",
    "The data analysis focuses on segmenting customers based on their RFM (Recency, Frequency, Monetary) scores. This segmentation helps in understanding customer behaviors and focusing on them. The customer segments include:\n",
    "\n",
    "- VIP: Customers with high recent activity, high purchase frequency, and high spending.\n",
    "- Loyalist: Customers with frequent purchases and moderate to high spending.\n",
    "- Big Spender: Customers with high spending.\n",
    "- Potential Loyalist: Customers with recent activity, occasional purchases, and moderate spending.\n",
    "- New Customer: Customers with recent activity but low purchase frequency.\n",
    "- At Risk: Customers with low recent activity, moderate to high purchase frequency, and spending.\n",
    "- Hibernating: Customers with low recent activity and occasional purchases.\n",
    "- Lost: Customers with low recent activity and infrequent purchases.\n",
    "\n",
    "The segmentation is implemented in the segment_customers method of the `PandasCustomerSegmentation` class. The method follows these steps:\n",
    "`\n",
    "('VIP',\n",
    "(self.df_rfm['Recency_Quintile'] == 1) &\n",
    "(self.df_rfm['Frequency_Quintile'] == 5) &\n",
    "(self.df_rfm['Monetary_Quintile'] == 5)),\n",
    "`\n",
    "\n",
    "`\n",
    "('Loyalist',\n",
    "(self.df_rfm['Recency_Quintile'] <= 2) &\n",
    "(self.df_rfm['Frequency_Quintile'] == 5) &\n",
    "(self.df_rfm['Monetary_Quintile'] >= 3)),\n",
    "`\n",
    "\n",
    "`\n",
    "('Big Spender',\n",
    "(self.df_rfm['Monetary_Quintile'] == 5)),\n",
    "`\n",
    "\n",
    "`\n",
    "('New Customer',\n",
    "(self.df_rfm['Recency_Quintile'] == 1) &\n",
    "(self.df_rfm['Frequency_Quintile'] <= 2)),\n",
    "`\n",
    "\n",
    "`\n",
    "('At Risk',\n",
    "(self.df_rfm['Recency_Quintile'] == 5) &\n",
    "(self.df_rfm['Frequency_Quintile'] >= 3) &\n",
    "(self.df_rfm['Monetary_Quintile'] >= 3)),\n",
    "`\n",
    "\n",
    "`\n",
    "('Hibernating',\n",
    "(self.df_rfm['Recency_Quintile'] == 4) &\n",
    "(self.df_rfm['Frequency_Quintile'] >= 2)),\n",
    "`\n",
    "\n",
    "`\n",
    "('Lost',\n",
    "(self.df_rfm['Recency_Quintile'] == 5) &\n",
    "(self.df_rfm['Frequency_Quintile'] <= 2))\n",
    "`\n",
    "\n",
    "## Analysis Insights\n",
    "### Customers\n",
    "- VIP Customers: These highly valuable customers exhibit high activity, purchase frequency, and spending. This segment comprises 179 customers (4.6% of the total 3,898 customers) and contributes 10% of the total spending. The company should focus on retaining these customers through personalized services and offers. While offering more personalized services is manageable given their small number, it is crucial to avoid over-servicing, which could reduce profitability. Since 10% is not a considerable part of the customer base, providing more personalized services is reasonable, but excessive exclusive privileges should be avoided.\n",
    "\n",
    "- Main Customer Segments: Big spenders and average customers form the core of the company’s revenue, contributing 32.2% and 22.2% respectively. The company should focus on retaining these customers through excellent customer service and sales events. Implementing a loyalty program could encourage repeat purchases. Personalized services should be avoided due to the large number of customers in these segments, as such campaigns could become prohibitively expensive.\n",
    "\n",
    "- At Risk, Hibernating, and Lost Customers: These segments, accounting for 20.48% of the customer base, are at risk of churning. The company should focus on re-engaging these customers with personalized offers and incentives, as well as implementing a win-back campaign to encourage their return. Also, a customer feedback system could help understand the reasons behind their potential departure and identify retention strategies. Although these customers are not significant spenders, a win-back campaign could still prove beneficial in retaining some of them.\n",
    "\n",
    "- New Customers: Comprising only 2.8% of the customer base, the number of new customers is relatively low. The company faces a choice between focusing on retaining and enhancing the efficiency of existing customers or developing new ones. This decision should be based on the financial situation. If revenue is declining, a win-back strategy is advisable, as get new customers is costlier and less likely to result in long-term retention. If revenue is growing, the company might consider focusing on get new customers.\n",
    "\n",
    "## Product Insights\n",
    "- Most Popular Products: The top-selling products are beef, tropical fruit, and napkins, with tropical fruit being the most trending, contributing 5.25% of sales in the last month. The company should focus on promoting these products to boost sales. Consider bundling these products to encourage customers to purchase more items together. Implementing a loyalty program could further incentivize repeat purchases of these popular products. Additionally, a customer feedback system could provide insights into the reasons behind the popularity of these products and help identify further promotional opportunities."
   ],
   "id": "96756ba172b5e24b"
  },
  {
   "metadata": {
    "ExecuteTime": {
     "end_time": "2024-05-24T05:43:48.111991Z",
     "start_time": "2024-05-24T05:43:47.601774Z"
    }
   },
   "cell_type": "code",
   "source": [
    "segmentation = PandasCS(df_rfm, df_transaction)\n",
    "segmentation.run_all()"
   ],
   "id": "3b02e37bcc51a1ec",
   "execution_count": 7,
   "outputs": []
  },
  {
   "metadata": {
    "ExecuteTime": {
     "end_time": "2024-05-24T05:43:48.122917Z",
     "start_time": "2024-05-24T05:43:48.113230Z"
    }
   },
   "cell_type": "code",
   "source": "df_rfm",
   "id": "334e58041293379b",
   "execution_count": 8,
   "outputs": []
  },
  {
   "metadata": {},
   "cell_type": "markdown",
   "source": [
    "# Feature Engineering\n",
    "\n",
    "---\n",
    "Label:\n",
    "- 0: Lost\n",
    "- 1: Hibernating\n",
    "- 2: At Risk\n",
    "- 3: New Customer\n",
    "- 4: Average Customer\n",
    "- 5: Loyalist\n",
    "- 6: Big Spender\n",
    "- 7: VIP\n",
    "\t\t          "
   ],
   "id": "fb47c6dc029d7099"
  },
  {
   "metadata": {
    "ExecuteTime": {
     "end_time": "2024-05-24T05:43:48.144471Z",
     "start_time": "2024-05-24T05:43:48.125037Z"
    }
   },
   "cell_type": "code",
   "source": [
    "feature_engineering = PandasFE(df_rfm)\n",
    "feature_engineering.run()\n",
    "df_ml = df_rfm[['Recency', 'Frequency', 'Monetary', 'RFM_Score', 'Segment_Encoded']]"
   ],
   "id": "dcf3775b1b86703a",
   "execution_count": 9,
   "outputs": []
  },
  {
   "metadata": {
    "ExecuteTime": {
     "end_time": "2024-05-24T05:43:48.161701Z",
     "start_time": "2024-05-24T05:43:48.146815Z"
    }
   },
   "cell_type": "code",
   "source": "df_ml",
   "id": "172405c43a758e74",
   "execution_count": 10,
   "outputs": []
  },
  {
   "metadata": {},
   "cell_type": "markdown",
   "source": [
    "# Machine Learning\n",
    "\n",
    "---\n",
    "## Model Evaluation and Selection\n",
    "The machine learning process involves evaluating multiple models to determine the best-performing one.\n",
    "The evaluation process includes:\n",
    "- Silhouette score evaluation\n",
    "- Calinski-Harabasz score evaluation\n",
    "\n",
    "We only use KMeans, Birch, and Agglomerative Clustering.\n",
    "Due to time constraint, I was unable to implement other heavier clustering algorithms like DBSCAN and Gaussian Mixture Model.\n",
    "\n",
    "Result: All 3 clustering models performed similarly well,\n",
    "with KMeans being the best-performing model based on the Calinski-Harabasz score and second-best based on the Silhouette.\n",
    "This is what we should be using."
   ],
   "id": "27ee0523579fe615"
  },
  {
   "metadata": {
    "ExecuteTime": {
     "end_time": "2024-05-24T05:43:48.369662Z",
     "start_time": "2024-05-24T05:43:48.165578Z"
    }
   },
   "cell_type": "code",
   "source": "from modules.machine_learning import PandasML",
   "id": "597e422fa47f5e8a",
   "execution_count": 11,
   "outputs": []
  },
  {
   "metadata": {
    "ExecuteTime": {
     "end_time": "2024-05-24T05:43:49.515526Z",
     "start_time": "2024-05-24T05:43:48.370961Z"
    }
   },
   "cell_type": "code",
   "source": [
    "pandas_ml = PandasML(df_ml, number_of_clusters=3)\n",
    "results_df = pandas_ml.evaluate_models()"
   ],
   "id": "d24c47470d47916d",
   "execution_count": 12,
   "outputs": []
  },
  {
   "metadata": {
    "ExecuteTime": {
     "end_time": "2024-05-24T05:43:49.522482Z",
     "start_time": "2024-05-24T05:43:49.517271Z"
    }
   },
   "cell_type": "code",
   "source": "results_df",
   "id": "77214e408b991058",
   "execution_count": 13,
   "outputs": []
  },
  {
   "metadata": {
    "ExecuteTime": {
     "end_time": "2024-05-24T05:43:49.678839Z",
     "start_time": "2024-05-24T05:43:49.523670Z"
    }
   },
   "cell_type": "code",
   "source": "pandas_ml.visualize_model_evaluation(results_df)",
   "id": "10d5e3e895e14211",
   "execution_count": 14,
   "outputs": []
  },
  {
   "metadata": {},
   "cell_type": "markdown",
   "source": "",
   "id": "829ad9d179690216"
  },
  {
   "metadata": {
    "ExecuteTime": {
     "end_time": "2024-05-24T05:43:52.060367Z",
     "start_time": "2024-05-24T05:43:49.679986Z"
    }
   },
   "cell_type": "code",
   "source": "kmeans_models, silhouette_scores = pandas_ml.elbow_method_kmeans()",
   "id": "1b1d62538fd1a407",
   "execution_count": 15,
   "outputs": []
  },
  {
   "metadata": {},
   "cell_type": "markdown",
   "source": "The optimal k value is 5",
   "id": "1b76b905a619aa6f"
  },
  {
   "metadata": {
    "ExecuteTime": {
     "end_time": "2024-05-24T05:43:52.065474Z",
     "start_time": "2024-05-24T05:43:52.061319Z"
    }
   },
   "cell_type": "code",
   "source": [
    "kmeans_model = kmeans_models[5]\n",
    "kmeans_model"
   ],
   "id": "508b202fc70f93e6",
   "execution_count": 16,
   "outputs": []
  },
  {
   "metadata": {
    "ExecuteTime": {
     "end_time": "2024-05-24T05:43:52.069257Z",
     "start_time": "2024-05-24T05:43:52.066359Z"
    }
   },
   "cell_type": "code",
   "source": [
    "# cluster the data\n",
    "df_ml['Cluster'] = kmeans_model.labels_"
   ],
   "id": "d49d2bfe72794f91",
   "execution_count": 17,
   "outputs": []
  },
  {
   "metadata": {
    "ExecuteTime": {
     "end_time": "2024-05-24T05:43:52.076520Z",
     "start_time": "2024-05-24T05:43:52.070203Z"
    }
   },
   "cell_type": "code",
   "source": "df_ml",
   "id": "6ad40763ce765638",
   "execution_count": 18,
   "outputs": []
  },
  {
   "metadata": {
    "ExecuteTime": {
     "end_time": "2024-05-24T05:43:52.101070Z",
     "start_time": "2024-05-24T05:43:52.077409Z"
    }
   },
   "cell_type": "code",
   "source": [
    "# visualize the clusters\n",
    "pandas_ml.visualize_kmeans_clusters(5)"
   ],
   "id": "9341c1e78d20461a",
   "execution_count": 19,
   "outputs": []
  },
  {
   "metadata": {
    "ExecuteTime": {
     "end_time": "2024-05-24T05:44:04.043140Z",
     "start_time": "2024-05-24T05:43:52.101984Z"
    }
   },
   "cell_type": "code",
   "source": "pandas_ml.visualize_hierarchical_clusters()",
   "id": "3f6e5c299a248bff",
   "execution_count": 20,
   "outputs": []
  },
  {
   "metadata": {},
   "cell_type": "markdown",
   "source": [
    "# Conclusion\n",
    "- Data Analysis: The customer segmentation analysis identified key customer segments, including VIP customers, loyalists, big spenders, and at-risk customers. These insights can tell targeted marketing strategies to keep high-value customers and re-engage at-risk customers. The analysis highlight that the company should focus on retaining and enhancing the efficiency of existing customers.\n",
    "\n",
    "\n",
    "- Machine learning: The KMeans clustering and hierarchical clustering models were evaluated to segment customers based on RFM scores. The KMeans clustering model with k=5 was selected as the best-performing model. The clustering results provide actionable insights for customer retention strategies. Both models suggest that the most recent customers, who visit the shop from the nearest 100 days, are the most valuable, consistent with the analysis from the customer segmentation."
   ],
   "id": "7a7f2ec9b84b6692"
  }
 ],
 "metadata": {
  "kernelspec": {
   "display_name": "Python 3",
   "language": "python",
   "name": "python3"
  },
  "language_info": {
   "codemirror_mode": {
    "name": "ipython",
    "version": 2
   },
   "file_extension": ".py",
   "mimetype": "text/x-python",
   "name": "python",
   "nbconvert_exporter": "python",
   "pygments_lexer": "ipython2",
   "version": "2.7.6"
  }
 },
 "nbformat": 4,
 "nbformat_minor": 5
}
