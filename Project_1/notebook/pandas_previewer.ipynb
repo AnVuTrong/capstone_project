{
 "cells": [
  {
   "cell_type": "code",
   "id": "initial_id",
   "metadata": {
    "collapsed": true,
    "ExecuteTime": {
     "end_time": "2024-05-23T05:58:18.601248Z",
     "start_time": "2024-05-23T05:58:18.597996Z"
    }
   },
   "source": [
    "import pandas as pd\n",
    "import uuid"
   ],
   "outputs": [],
   "execution_count": 20
  },
  {
   "metadata": {
    "ExecuteTime": {
     "end_time": "2024-05-23T05:58:18.638252Z",
     "start_time": "2024-05-23T05:58:18.617152Z"
    }
   },
   "cell_type": "code",
   "source": [
    "df_product = pd.read_csv('../data/Products_with_Prices.csv')\n",
    "df_transaction = pd.read_csv('../data/Transactions.csv')"
   ],
   "id": "17fd55caa7fa2736",
   "outputs": [],
   "execution_count": 21
  },
  {
   "metadata": {
    "ExecuteTime": {
     "end_time": "2024-05-23T05:58:18.663997Z",
     "start_time": "2024-05-23T05:58:18.658372Z"
    }
   },
   "cell_type": "code",
   "source": "df_product",
   "id": "f79efe0205975ad3",
   "outputs": [
    {
     "data": {
      "text/plain": [
       "     productId            productName     price\n",
       "0            1         tropical fruit  7.803532\n",
       "1            2             whole milk  1.800000\n",
       "2            3              pip fruit  3.000000\n",
       "3            4       other vegetables  0.800000\n",
       "4            5             rolls/buns  1.200000\n",
       "..         ...                    ...       ...\n",
       "162        163         pudding powder  4.900000\n",
       "163        164            ready soups  3.900000\n",
       "164        165        make up remover  3.400000\n",
       "165        166         toilet cleaner  4.900000\n",
       "166        167  preservation products  6.750000\n",
       "\n",
       "[167 rows x 3 columns]"
      ],
      "text/html": [
       "<div>\n",
       "<style scoped>\n",
       "    .dataframe tbody tr th:only-of-type {\n",
       "        vertical-align: middle;\n",
       "    }\n",
       "\n",
       "    .dataframe tbody tr th {\n",
       "        vertical-align: top;\n",
       "    }\n",
       "\n",
       "    .dataframe thead th {\n",
       "        text-align: right;\n",
       "    }\n",
       "</style>\n",
       "<table border=\"1\" class=\"dataframe\">\n",
       "  <thead>\n",
       "    <tr style=\"text-align: right;\">\n",
       "      <th></th>\n",
       "      <th>productId</th>\n",
       "      <th>productName</th>\n",
       "      <th>price</th>\n",
       "    </tr>\n",
       "  </thead>\n",
       "  <tbody>\n",
       "    <tr>\n",
       "      <th>0</th>\n",
       "      <td>1</td>\n",
       "      <td>tropical fruit</td>\n",
       "      <td>7.803532</td>\n",
       "    </tr>\n",
       "    <tr>\n",
       "      <th>1</th>\n",
       "      <td>2</td>\n",
       "      <td>whole milk</td>\n",
       "      <td>1.800000</td>\n",
       "    </tr>\n",
       "    <tr>\n",
       "      <th>2</th>\n",
       "      <td>3</td>\n",
       "      <td>pip fruit</td>\n",
       "      <td>3.000000</td>\n",
       "    </tr>\n",
       "    <tr>\n",
       "      <th>3</th>\n",
       "      <td>4</td>\n",
       "      <td>other vegetables</td>\n",
       "      <td>0.800000</td>\n",
       "    </tr>\n",
       "    <tr>\n",
       "      <th>4</th>\n",
       "      <td>5</td>\n",
       "      <td>rolls/buns</td>\n",
       "      <td>1.200000</td>\n",
       "    </tr>\n",
       "    <tr>\n",
       "      <th>...</th>\n",
       "      <td>...</td>\n",
       "      <td>...</td>\n",
       "      <td>...</td>\n",
       "    </tr>\n",
       "    <tr>\n",
       "      <th>162</th>\n",
       "      <td>163</td>\n",
       "      <td>pudding powder</td>\n",
       "      <td>4.900000</td>\n",
       "    </tr>\n",
       "    <tr>\n",
       "      <th>163</th>\n",
       "      <td>164</td>\n",
       "      <td>ready soups</td>\n",
       "      <td>3.900000</td>\n",
       "    </tr>\n",
       "    <tr>\n",
       "      <th>164</th>\n",
       "      <td>165</td>\n",
       "      <td>make up remover</td>\n",
       "      <td>3.400000</td>\n",
       "    </tr>\n",
       "    <tr>\n",
       "      <th>165</th>\n",
       "      <td>166</td>\n",
       "      <td>toilet cleaner</td>\n",
       "      <td>4.900000</td>\n",
       "    </tr>\n",
       "    <tr>\n",
       "      <th>166</th>\n",
       "      <td>167</td>\n",
       "      <td>preservation products</td>\n",
       "      <td>6.750000</td>\n",
       "    </tr>\n",
       "  </tbody>\n",
       "</table>\n",
       "<p>167 rows × 3 columns</p>\n",
       "</div>"
      ]
     },
     "execution_count": 22,
     "metadata": {},
     "output_type": "execute_result"
    }
   ],
   "execution_count": 22
  },
  {
   "metadata": {
    "ExecuteTime": {
     "end_time": "2024-05-23T05:58:18.670369Z",
     "start_time": "2024-05-23T05:58:18.665145Z"
    }
   },
   "cell_type": "code",
   "source": "df_transaction",
   "id": "339d26a138f6059c",
   "outputs": [
    {
     "data": {
      "text/plain": [
       "       Member_number        Date  productId  items\n",
       "0               1808  21-07-2015          1      3\n",
       "1               2552  05-01-2015          2      1\n",
       "2               2300  19-09-2015          3      3\n",
       "3               1187  12-12-2015          4      3\n",
       "4               3037  01-02-2015          2      1\n",
       "...              ...         ...        ...    ...\n",
       "38760           4471  08-10-2014         76      2\n",
       "38761           2022  23-02-2014         65      3\n",
       "38762           1097  16-04-2014        154      2\n",
       "38763           1510  03-12-2014         12      3\n",
       "38764           1521  26-12-2014        104      3\n",
       "\n",
       "[38765 rows x 4 columns]"
      ],
      "text/html": [
       "<div>\n",
       "<style scoped>\n",
       "    .dataframe tbody tr th:only-of-type {\n",
       "        vertical-align: middle;\n",
       "    }\n",
       "\n",
       "    .dataframe tbody tr th {\n",
       "        vertical-align: top;\n",
       "    }\n",
       "\n",
       "    .dataframe thead th {\n",
       "        text-align: right;\n",
       "    }\n",
       "</style>\n",
       "<table border=\"1\" class=\"dataframe\">\n",
       "  <thead>\n",
       "    <tr style=\"text-align: right;\">\n",
       "      <th></th>\n",
       "      <th>Member_number</th>\n",
       "      <th>Date</th>\n",
       "      <th>productId</th>\n",
       "      <th>items</th>\n",
       "    </tr>\n",
       "  </thead>\n",
       "  <tbody>\n",
       "    <tr>\n",
       "      <th>0</th>\n",
       "      <td>1808</td>\n",
       "      <td>21-07-2015</td>\n",
       "      <td>1</td>\n",
       "      <td>3</td>\n",
       "    </tr>\n",
       "    <tr>\n",
       "      <th>1</th>\n",
       "      <td>2552</td>\n",
       "      <td>05-01-2015</td>\n",
       "      <td>2</td>\n",
       "      <td>1</td>\n",
       "    </tr>\n",
       "    <tr>\n",
       "      <th>2</th>\n",
       "      <td>2300</td>\n",
       "      <td>19-09-2015</td>\n",
       "      <td>3</td>\n",
       "      <td>3</td>\n",
       "    </tr>\n",
       "    <tr>\n",
       "      <th>3</th>\n",
       "      <td>1187</td>\n",
       "      <td>12-12-2015</td>\n",
       "      <td>4</td>\n",
       "      <td>3</td>\n",
       "    </tr>\n",
       "    <tr>\n",
       "      <th>4</th>\n",
       "      <td>3037</td>\n",
       "      <td>01-02-2015</td>\n",
       "      <td>2</td>\n",
       "      <td>1</td>\n",
       "    </tr>\n",
       "    <tr>\n",
       "      <th>...</th>\n",
       "      <td>...</td>\n",
       "      <td>...</td>\n",
       "      <td>...</td>\n",
       "      <td>...</td>\n",
       "    </tr>\n",
       "    <tr>\n",
       "      <th>38760</th>\n",
       "      <td>4471</td>\n",
       "      <td>08-10-2014</td>\n",
       "      <td>76</td>\n",
       "      <td>2</td>\n",
       "    </tr>\n",
       "    <tr>\n",
       "      <th>38761</th>\n",
       "      <td>2022</td>\n",
       "      <td>23-02-2014</td>\n",
       "      <td>65</td>\n",
       "      <td>3</td>\n",
       "    </tr>\n",
       "    <tr>\n",
       "      <th>38762</th>\n",
       "      <td>1097</td>\n",
       "      <td>16-04-2014</td>\n",
       "      <td>154</td>\n",
       "      <td>2</td>\n",
       "    </tr>\n",
       "    <tr>\n",
       "      <th>38763</th>\n",
       "      <td>1510</td>\n",
       "      <td>03-12-2014</td>\n",
       "      <td>12</td>\n",
       "      <td>3</td>\n",
       "    </tr>\n",
       "    <tr>\n",
       "      <th>38764</th>\n",
       "      <td>1521</td>\n",
       "      <td>26-12-2014</td>\n",
       "      <td>104</td>\n",
       "      <td>3</td>\n",
       "    </tr>\n",
       "  </tbody>\n",
       "</table>\n",
       "<p>38765 rows × 4 columns</p>\n",
       "</div>"
      ]
     },
     "execution_count": 23,
     "metadata": {},
     "output_type": "execute_result"
    }
   ],
   "execution_count": 23
  },
  {
   "metadata": {
    "ExecuteTime": {
     "end_time": "2024-05-23T05:58:18.678237Z",
     "start_time": "2024-05-23T05:58:18.671213Z"
    }
   },
   "cell_type": "code",
   "source": "df_transaction.info()",
   "id": "ff12d1ec9e65f4d2",
   "outputs": [
    {
     "name": "stdout",
     "output_type": "stream",
     "text": [
      "<class 'pandas.core.frame.DataFrame'>\n",
      "RangeIndex: 38765 entries, 0 to 38764\n",
      "Data columns (total 4 columns):\n",
      " #   Column         Non-Null Count  Dtype \n",
      "---  ------         --------------  ----- \n",
      " 0   Member_number  38765 non-null  int64 \n",
      " 1   Date           38765 non-null  object\n",
      " 2   productId      38765 non-null  int64 \n",
      " 3   items          38765 non-null  int64 \n",
      "dtypes: int64(3), object(1)\n",
      "memory usage: 1.2+ MB\n"
     ]
    }
   ],
   "execution_count": 24
  },
  {
   "metadata": {
    "ExecuteTime": {
     "end_time": "2024-05-23T05:58:18.683426Z",
     "start_time": "2024-05-23T05:58:18.679507Z"
    }
   },
   "cell_type": "code",
   "source": [
    "# Check for product null values\n",
    "df_product.isnull().sum()"
   ],
   "id": "a7d96f2b3e407d76",
   "outputs": [
    {
     "data": {
      "text/plain": [
       "productId      0\n",
       "productName    0\n",
       "price          0\n",
       "dtype: int64"
      ]
     },
     "execution_count": 25,
     "metadata": {},
     "output_type": "execute_result"
    }
   ],
   "execution_count": 25
  },
  {
   "metadata": {
    "ExecuteTime": {
     "end_time": "2024-05-23T05:58:18.689918Z",
     "start_time": "2024-05-23T05:58:18.684272Z"
    }
   },
   "cell_type": "code",
   "source": [
    "# Check for transaction null values\n",
    "df_transaction.isnull().sum()"
   ],
   "id": "def61fa651da31da",
   "outputs": [
    {
     "data": {
      "text/plain": [
       "Member_number    0\n",
       "Date             0\n",
       "productId        0\n",
       "items            0\n",
       "dtype: int64"
      ]
     },
     "execution_count": 26,
     "metadata": {},
     "output_type": "execute_result"
    }
   ],
   "execution_count": 26
  },
  {
   "metadata": {
    "ExecuteTime": {
     "end_time": "2024-05-23T05:58:18.694869Z",
     "start_time": "2024-05-23T05:58:18.690849Z"
    }
   },
   "cell_type": "code",
   "source": [
    "# Check for unique values in product\n",
    "df_product.nunique()"
   ],
   "id": "4e58c9e1b31c1c53",
   "outputs": [
    {
     "data": {
      "text/plain": [
       "productId      167\n",
       "productName    167\n",
       "price           91\n",
       "dtype: int64"
      ]
     },
     "execution_count": 27,
     "metadata": {},
     "output_type": "execute_result"
    }
   ],
   "execution_count": 27
  },
  {
   "metadata": {
    "ExecuteTime": {
     "end_time": "2024-05-23T05:58:18.708827Z",
     "start_time": "2024-05-23T05:58:18.704024Z"
    }
   },
   "cell_type": "code",
   "source": [
    "# Check for unique values in transaction\n",
    "df_transaction.nunique()"
   ],
   "id": "356937f43a3bcff8",
   "outputs": [
    {
     "data": {
      "text/plain": [
       "Member_number    3898\n",
       "Date              728\n",
       "productId         167\n",
       "items               3\n",
       "dtype: int64"
      ]
     },
     "execution_count": 28,
     "metadata": {},
     "output_type": "execute_result"
    }
   ],
   "execution_count": 28
  },
  {
   "metadata": {
    "ExecuteTime": {
     "end_time": "2024-05-23T05:58:18.715255Z",
     "start_time": "2024-05-23T05:58:18.709942Z"
    }
   },
   "cell_type": "code",
   "source": [
    "# A vertical lookup for the product and add its price, name to the transaction.\n",
    "df_transaction = df_transaction.merge(df_product[['productId', 'productName', 'price']], on='productId', how='left')"
   ],
   "id": "e06580b10cb0fa09",
   "outputs": [],
   "execution_count": 29
  },
  {
   "metadata": {
    "ExecuteTime": {
     "end_time": "2024-05-23T05:58:18.787626Z",
     "start_time": "2024-05-23T05:58:18.721684Z"
    }
   },
   "cell_type": "code",
   "source": [
    "# Add uuid to ID the transaction\n",
    "df_transaction['TransactionID'] = [str(uuid.uuid4()) for _ in range(len(df_transaction))]"
   ],
   "id": "b4e293c964cc98d0",
   "outputs": [],
   "execution_count": 30
  },
  {
   "metadata": {
    "ExecuteTime": {
     "end_time": "2024-05-23T05:58:18.794092Z",
     "start_time": "2024-05-23T05:58:18.788842Z"
    }
   },
   "cell_type": "code",
   "source": "df_transaction.head()",
   "id": "c9f28094d3983d78",
   "outputs": [
    {
     "data": {
      "text/plain": [
       "   Member_number        Date  productId  items       productName     price  \\\n",
       "0           1808  21-07-2015          1      3    tropical fruit  7.803532   \n",
       "1           2552  05-01-2015          2      1        whole milk  1.800000   \n",
       "2           2300  19-09-2015          3      3         pip fruit  3.000000   \n",
       "3           1187  12-12-2015          4      3  other vegetables  0.800000   \n",
       "4           3037  01-02-2015          2      1        whole milk  1.800000   \n",
       "\n",
       "                          TransactionID  \n",
       "0  9b492ede-146e-461e-8fe3-85fb13ad28c3  \n",
       "1  0e3b83a1-0b57-417a-854c-ae542d1d2ea5  \n",
       "2  9fc5bb3c-28c2-4fe3-b1c0-5e4965eb1a3e  \n",
       "3  1df0af3c-111b-4b45-b308-303b1d6f71d6  \n",
       "4  dbe3239f-5028-4b03-8088-0ee7c0e7a833  "
      ],
      "text/html": [
       "<div>\n",
       "<style scoped>\n",
       "    .dataframe tbody tr th:only-of-type {\n",
       "        vertical-align: middle;\n",
       "    }\n",
       "\n",
       "    .dataframe tbody tr th {\n",
       "        vertical-align: top;\n",
       "    }\n",
       "\n",
       "    .dataframe thead th {\n",
       "        text-align: right;\n",
       "    }\n",
       "</style>\n",
       "<table border=\"1\" class=\"dataframe\">\n",
       "  <thead>\n",
       "    <tr style=\"text-align: right;\">\n",
       "      <th></th>\n",
       "      <th>Member_number</th>\n",
       "      <th>Date</th>\n",
       "      <th>productId</th>\n",
       "      <th>items</th>\n",
       "      <th>productName</th>\n",
       "      <th>price</th>\n",
       "      <th>TransactionID</th>\n",
       "    </tr>\n",
       "  </thead>\n",
       "  <tbody>\n",
       "    <tr>\n",
       "      <th>0</th>\n",
       "      <td>1808</td>\n",
       "      <td>21-07-2015</td>\n",
       "      <td>1</td>\n",
       "      <td>3</td>\n",
       "      <td>tropical fruit</td>\n",
       "      <td>7.803532</td>\n",
       "      <td>9b492ede-146e-461e-8fe3-85fb13ad28c3</td>\n",
       "    </tr>\n",
       "    <tr>\n",
       "      <th>1</th>\n",
       "      <td>2552</td>\n",
       "      <td>05-01-2015</td>\n",
       "      <td>2</td>\n",
       "      <td>1</td>\n",
       "      <td>whole milk</td>\n",
       "      <td>1.800000</td>\n",
       "      <td>0e3b83a1-0b57-417a-854c-ae542d1d2ea5</td>\n",
       "    </tr>\n",
       "    <tr>\n",
       "      <th>2</th>\n",
       "      <td>2300</td>\n",
       "      <td>19-09-2015</td>\n",
       "      <td>3</td>\n",
       "      <td>3</td>\n",
       "      <td>pip fruit</td>\n",
       "      <td>3.000000</td>\n",
       "      <td>9fc5bb3c-28c2-4fe3-b1c0-5e4965eb1a3e</td>\n",
       "    </tr>\n",
       "    <tr>\n",
       "      <th>3</th>\n",
       "      <td>1187</td>\n",
       "      <td>12-12-2015</td>\n",
       "      <td>4</td>\n",
       "      <td>3</td>\n",
       "      <td>other vegetables</td>\n",
       "      <td>0.800000</td>\n",
       "      <td>1df0af3c-111b-4b45-b308-303b1d6f71d6</td>\n",
       "    </tr>\n",
       "    <tr>\n",
       "      <th>4</th>\n",
       "      <td>3037</td>\n",
       "      <td>01-02-2015</td>\n",
       "      <td>2</td>\n",
       "      <td>1</td>\n",
       "      <td>whole milk</td>\n",
       "      <td>1.800000</td>\n",
       "      <td>dbe3239f-5028-4b03-8088-0ee7c0e7a833</td>\n",
       "    </tr>\n",
       "  </tbody>\n",
       "</table>\n",
       "</div>"
      ]
     },
     "execution_count": 31,
     "metadata": {},
     "output_type": "execute_result"
    }
   ],
   "execution_count": 31
  },
  {
   "metadata": {
    "ExecuteTime": {
     "end_time": "2024-05-23T05:58:18.802101Z",
     "start_time": "2024-05-23T05:58:18.795145Z"
    }
   },
   "cell_type": "code",
   "source": [
    "# Convert the date columns to datetime\n",
    "if 'Date' in df_transaction.columns:\n",
    "    df_transaction['TransactionDate'] = pd.to_datetime(df_transaction['Date'], dayfirst=True)\n",
    "    df_transaction.drop('Date', axis=1, inplace=True)"
   ],
   "id": "31cda6f9e979804e",
   "outputs": [],
   "execution_count": 32
  },
  {
   "metadata": {
    "ExecuteTime": {
     "end_time": "2024-05-23T05:58:18.810047Z",
     "start_time": "2024-05-23T05:58:18.807555Z"
    }
   },
   "cell_type": "code",
   "source": [
    "# Calculate the total payment of the transaction\n",
    "df_transaction['TotalPayment'] = df_transaction['price'] * df_transaction['items']"
   ],
   "id": "a4ac1bcf9a689136",
   "outputs": [],
   "execution_count": 33
  },
  {
   "metadata": {
    "ExecuteTime": {
     "end_time": "2024-05-23T05:58:18.879113Z",
     "start_time": "2024-05-23T05:58:18.873131Z"
    }
   },
   "cell_type": "code",
   "source": "df_transaction.head()",
   "id": "bbe06377490ccf31",
   "outputs": [
    {
     "data": {
      "text/plain": [
       "   Member_number  productId  items       productName     price  \\\n",
       "0           1808          1      3    tropical fruit  7.803532   \n",
       "1           2552          2      1        whole milk  1.800000   \n",
       "2           2300          3      3         pip fruit  3.000000   \n",
       "3           1187          4      3  other vegetables  0.800000   \n",
       "4           3037          2      1        whole milk  1.800000   \n",
       "\n",
       "                          TransactionID TransactionDate  TotalPayment  \n",
       "0  9b492ede-146e-461e-8fe3-85fb13ad28c3      2015-07-21     23.410597  \n",
       "1  0e3b83a1-0b57-417a-854c-ae542d1d2ea5      2015-01-05      1.800000  \n",
       "2  9fc5bb3c-28c2-4fe3-b1c0-5e4965eb1a3e      2015-09-19      9.000000  \n",
       "3  1df0af3c-111b-4b45-b308-303b1d6f71d6      2015-12-12      2.400000  \n",
       "4  dbe3239f-5028-4b03-8088-0ee7c0e7a833      2015-02-01      1.800000  "
      ],
      "text/html": [
       "<div>\n",
       "<style scoped>\n",
       "    .dataframe tbody tr th:only-of-type {\n",
       "        vertical-align: middle;\n",
       "    }\n",
       "\n",
       "    .dataframe tbody tr th {\n",
       "        vertical-align: top;\n",
       "    }\n",
       "\n",
       "    .dataframe thead th {\n",
       "        text-align: right;\n",
       "    }\n",
       "</style>\n",
       "<table border=\"1\" class=\"dataframe\">\n",
       "  <thead>\n",
       "    <tr style=\"text-align: right;\">\n",
       "      <th></th>\n",
       "      <th>Member_number</th>\n",
       "      <th>productId</th>\n",
       "      <th>items</th>\n",
       "      <th>productName</th>\n",
       "      <th>price</th>\n",
       "      <th>TransactionID</th>\n",
       "      <th>TransactionDate</th>\n",
       "      <th>TotalPayment</th>\n",
       "    </tr>\n",
       "  </thead>\n",
       "  <tbody>\n",
       "    <tr>\n",
       "      <th>0</th>\n",
       "      <td>1808</td>\n",
       "      <td>1</td>\n",
       "      <td>3</td>\n",
       "      <td>tropical fruit</td>\n",
       "      <td>7.803532</td>\n",
       "      <td>9b492ede-146e-461e-8fe3-85fb13ad28c3</td>\n",
       "      <td>2015-07-21</td>\n",
       "      <td>23.410597</td>\n",
       "    </tr>\n",
       "    <tr>\n",
       "      <th>1</th>\n",
       "      <td>2552</td>\n",
       "      <td>2</td>\n",
       "      <td>1</td>\n",
       "      <td>whole milk</td>\n",
       "      <td>1.800000</td>\n",
       "      <td>0e3b83a1-0b57-417a-854c-ae542d1d2ea5</td>\n",
       "      <td>2015-01-05</td>\n",
       "      <td>1.800000</td>\n",
       "    </tr>\n",
       "    <tr>\n",
       "      <th>2</th>\n",
       "      <td>2300</td>\n",
       "      <td>3</td>\n",
       "      <td>3</td>\n",
       "      <td>pip fruit</td>\n",
       "      <td>3.000000</td>\n",
       "      <td>9fc5bb3c-28c2-4fe3-b1c0-5e4965eb1a3e</td>\n",
       "      <td>2015-09-19</td>\n",
       "      <td>9.000000</td>\n",
       "    </tr>\n",
       "    <tr>\n",
       "      <th>3</th>\n",
       "      <td>1187</td>\n",
       "      <td>4</td>\n",
       "      <td>3</td>\n",
       "      <td>other vegetables</td>\n",
       "      <td>0.800000</td>\n",
       "      <td>1df0af3c-111b-4b45-b308-303b1d6f71d6</td>\n",
       "      <td>2015-12-12</td>\n",
       "      <td>2.400000</td>\n",
       "    </tr>\n",
       "    <tr>\n",
       "      <th>4</th>\n",
       "      <td>3037</td>\n",
       "      <td>2</td>\n",
       "      <td>1</td>\n",
       "      <td>whole milk</td>\n",
       "      <td>1.800000</td>\n",
       "      <td>dbe3239f-5028-4b03-8088-0ee7c0e7a833</td>\n",
       "      <td>2015-02-01</td>\n",
       "      <td>1.800000</td>\n",
       "    </tr>\n",
       "  </tbody>\n",
       "</table>\n",
       "</div>"
      ]
     },
     "execution_count": 34,
     "metadata": {},
     "output_type": "execute_result"
    }
   ],
   "execution_count": 34
  },
  {
   "metadata": {
    "ExecuteTime": {
     "end_time": "2024-05-23T05:58:19.024913Z",
     "start_time": "2024-05-23T05:58:19.021044Z"
    }
   },
   "cell_type": "code",
   "source": [
    "latest_date = df_transaction['TransactionDate'].max()\n",
    "latest_date"
   ],
   "id": "1f5abf3c218c9069",
   "outputs": [
    {
     "data": {
      "text/plain": [
       "Timestamp('2015-12-30 00:00:00')"
      ]
     },
     "execution_count": 35,
     "metadata": {},
     "output_type": "execute_result"
    }
   ],
   "execution_count": 35
  },
  {
   "metadata": {
    "ExecuteTime": {
     "end_time": "2024-05-23T05:58:19.175733Z",
     "start_time": "2024-05-23T05:58:19.172657Z"
    }
   },
   "cell_type": "code",
   "source": [
    "# All the column so far\n",
    "df_transaction.columns.to_list()"
   ],
   "id": "4a65e9e8461c902b",
   "outputs": [
    {
     "data": {
      "text/plain": [
       "['Member_number',\n",
       " 'productId',\n",
       " 'items',\n",
       " 'productName',\n",
       " 'price',\n",
       " 'TransactionID',\n",
       " 'TransactionDate',\n",
       " 'TotalPayment']"
      ]
     },
     "execution_count": 36,
     "metadata": {},
     "output_type": "execute_result"
    }
   ],
   "execution_count": 36
  },
  {
   "metadata": {
    "ExecuteTime": {
     "end_time": "2024-05-23T05:58:32.983554Z",
     "start_time": "2024-05-23T05:58:32.742468Z"
    }
   },
   "cell_type": "code",
   "source": [
    "recency = lambda x: (latest_date - x.max()).days\n",
    "frequency = lambda x: len(x.unique())\n",
    "monetary = lambda x: round(x.sum(), 2)\n",
    "\n",
    "df_rfm = df_transaction.groupby('Member_number').agg(\n",
    "    Recency=('TransactionDate', recency),\n",
    "    Frequency=('TransactionID', frequency),\n",
    "    Monetary=('TotalPayment', monetary)\n",
    ")"
   ],
   "id": "e3f49dac387eefec",
   "outputs": [],
   "execution_count": 40
  },
  {
   "metadata": {
    "ExecuteTime": {
     "end_time": "2024-05-23T05:58:33.101829Z",
     "start_time": "2024-05-23T05:58:33.097943Z"
    }
   },
   "cell_type": "code",
   "source": [
    "df_rfm.columns = ['Recency', 'Frequency', 'Monetary']\n",
    "df_rfm.sort_values('Monetary', ascending=False, inplace=True)"
   ],
   "id": "9c5e360efb15a0a1",
   "outputs": [],
   "execution_count": 41
  },
  {
   "metadata": {
    "ExecuteTime": {
     "end_time": "2024-05-23T05:58:33.676284Z",
     "start_time": "2024-05-23T05:58:33.670180Z"
    }
   },
   "cell_type": "code",
   "source": "df_rfm",
   "id": "1ee5c6d757995e7c",
   "outputs": [
    {
     "data": {
      "text/plain": [
       "               Recency  Frequency  Monetary\n",
       "Member_number                              \n",
       "2433                 3         31    375.31\n",
       "2193                91         27    361.45\n",
       "1793                26         25    345.10\n",
       "3289                 4         29    334.17\n",
       "2743               142         17    312.47\n",
       "...                ...        ...       ...\n",
       "4565                 0          2      2.20\n",
       "3949               273          2      2.10\n",
       "1560               593          2      1.90\n",
       "1221               410          2      1.70\n",
       "1250               448          2      1.30\n",
       "\n",
       "[3898 rows x 3 columns]"
      ],
      "text/html": [
       "<div>\n",
       "<style scoped>\n",
       "    .dataframe tbody tr th:only-of-type {\n",
       "        vertical-align: middle;\n",
       "    }\n",
       "\n",
       "    .dataframe tbody tr th {\n",
       "        vertical-align: top;\n",
       "    }\n",
       "\n",
       "    .dataframe thead th {\n",
       "        text-align: right;\n",
       "    }\n",
       "</style>\n",
       "<table border=\"1\" class=\"dataframe\">\n",
       "  <thead>\n",
       "    <tr style=\"text-align: right;\">\n",
       "      <th></th>\n",
       "      <th>Recency</th>\n",
       "      <th>Frequency</th>\n",
       "      <th>Monetary</th>\n",
       "    </tr>\n",
       "    <tr>\n",
       "      <th>Member_number</th>\n",
       "      <th></th>\n",
       "      <th></th>\n",
       "      <th></th>\n",
       "    </tr>\n",
       "  </thead>\n",
       "  <tbody>\n",
       "    <tr>\n",
       "      <th>2433</th>\n",
       "      <td>3</td>\n",
       "      <td>31</td>\n",
       "      <td>375.31</td>\n",
       "    </tr>\n",
       "    <tr>\n",
       "      <th>2193</th>\n",
       "      <td>91</td>\n",
       "      <td>27</td>\n",
       "      <td>361.45</td>\n",
       "    </tr>\n",
       "    <tr>\n",
       "      <th>1793</th>\n",
       "      <td>26</td>\n",
       "      <td>25</td>\n",
       "      <td>345.10</td>\n",
       "    </tr>\n",
       "    <tr>\n",
       "      <th>3289</th>\n",
       "      <td>4</td>\n",
       "      <td>29</td>\n",
       "      <td>334.17</td>\n",
       "    </tr>\n",
       "    <tr>\n",
       "      <th>2743</th>\n",
       "      <td>142</td>\n",
       "      <td>17</td>\n",
       "      <td>312.47</td>\n",
       "    </tr>\n",
       "    <tr>\n",
       "      <th>...</th>\n",
       "      <td>...</td>\n",
       "      <td>...</td>\n",
       "      <td>...</td>\n",
       "    </tr>\n",
       "    <tr>\n",
       "      <th>4565</th>\n",
       "      <td>0</td>\n",
       "      <td>2</td>\n",
       "      <td>2.20</td>\n",
       "    </tr>\n",
       "    <tr>\n",
       "      <th>3949</th>\n",
       "      <td>273</td>\n",
       "      <td>2</td>\n",
       "      <td>2.10</td>\n",
       "    </tr>\n",
       "    <tr>\n",
       "      <th>1560</th>\n",
       "      <td>593</td>\n",
       "      <td>2</td>\n",
       "      <td>1.90</td>\n",
       "    </tr>\n",
       "    <tr>\n",
       "      <th>1221</th>\n",
       "      <td>410</td>\n",
       "      <td>2</td>\n",
       "      <td>1.70</td>\n",
       "    </tr>\n",
       "    <tr>\n",
       "      <th>1250</th>\n",
       "      <td>448</td>\n",
       "      <td>2</td>\n",
       "      <td>1.30</td>\n",
       "    </tr>\n",
       "  </tbody>\n",
       "</table>\n",
       "<p>3898 rows × 3 columns</p>\n",
       "</div>"
      ]
     },
     "execution_count": 42,
     "metadata": {},
     "output_type": "execute_result"
    }
   ],
   "execution_count": 42
  },
  {
   "metadata": {
    "ExecuteTime": {
     "end_time": "2024-05-23T05:58:39.469793Z",
     "start_time": "2024-05-23T05:58:39.459362Z"
    }
   },
   "cell_type": "code",
   "source": "df_rfm.describe()",
   "id": "eab5d7cb352d5195",
   "outputs": [
    {
     "data": {
      "text/plain": [
       "           Recency    Frequency     Monetary\n",
       "count  3898.000000  3898.000000  3898.000000\n",
       "mean    187.701385     9.944844    85.214623\n",
       "std     159.912688     5.310796    55.621118\n",
       "min       0.000000     2.000000     1.300000\n",
       "25%      57.000000     6.000000    43.810000\n",
       "50%     141.000000     9.000000    74.900000\n",
       "75%     280.000000    13.000000   115.295000\n",
       "max     727.000000    36.000000   375.310000"
      ],
      "text/html": [
       "<div>\n",
       "<style scoped>\n",
       "    .dataframe tbody tr th:only-of-type {\n",
       "        vertical-align: middle;\n",
       "    }\n",
       "\n",
       "    .dataframe tbody tr th {\n",
       "        vertical-align: top;\n",
       "    }\n",
       "\n",
       "    .dataframe thead th {\n",
       "        text-align: right;\n",
       "    }\n",
       "</style>\n",
       "<table border=\"1\" class=\"dataframe\">\n",
       "  <thead>\n",
       "    <tr style=\"text-align: right;\">\n",
       "      <th></th>\n",
       "      <th>Recency</th>\n",
       "      <th>Frequency</th>\n",
       "      <th>Monetary</th>\n",
       "    </tr>\n",
       "  </thead>\n",
       "  <tbody>\n",
       "    <tr>\n",
       "      <th>count</th>\n",
       "      <td>3898.000000</td>\n",
       "      <td>3898.000000</td>\n",
       "      <td>3898.000000</td>\n",
       "    </tr>\n",
       "    <tr>\n",
       "      <th>mean</th>\n",
       "      <td>187.701385</td>\n",
       "      <td>9.944844</td>\n",
       "      <td>85.214623</td>\n",
       "    </tr>\n",
       "    <tr>\n",
       "      <th>std</th>\n",
       "      <td>159.912688</td>\n",
       "      <td>5.310796</td>\n",
       "      <td>55.621118</td>\n",
       "    </tr>\n",
       "    <tr>\n",
       "      <th>min</th>\n",
       "      <td>0.000000</td>\n",
       "      <td>2.000000</td>\n",
       "      <td>1.300000</td>\n",
       "    </tr>\n",
       "    <tr>\n",
       "      <th>25%</th>\n",
       "      <td>57.000000</td>\n",
       "      <td>6.000000</td>\n",
       "      <td>43.810000</td>\n",
       "    </tr>\n",
       "    <tr>\n",
       "      <th>50%</th>\n",
       "      <td>141.000000</td>\n",
       "      <td>9.000000</td>\n",
       "      <td>74.900000</td>\n",
       "    </tr>\n",
       "    <tr>\n",
       "      <th>75%</th>\n",
       "      <td>280.000000</td>\n",
       "      <td>13.000000</td>\n",
       "      <td>115.295000</td>\n",
       "    </tr>\n",
       "    <tr>\n",
       "      <th>max</th>\n",
       "      <td>727.000000</td>\n",
       "      <td>36.000000</td>\n",
       "      <td>375.310000</td>\n",
       "    </tr>\n",
       "  </tbody>\n",
       "</table>\n",
       "</div>"
      ]
     },
     "execution_count": 43,
     "metadata": {},
     "output_type": "execute_result"
    }
   ],
   "execution_count": 43
  }
 ],
 "metadata": {
  "kernelspec": {
   "display_name": "Python 3",
   "language": "python",
   "name": "python3"
  },
  "language_info": {
   "codemirror_mode": {
    "name": "ipython",
    "version": 2
   },
   "file_extension": ".py",
   "mimetype": "text/x-python",
   "name": "python",
   "nbconvert_exporter": "python",
   "pygments_lexer": "ipython2",
   "version": "2.7.6"
  }
 },
 "nbformat": 4,
 "nbformat_minor": 5
}
